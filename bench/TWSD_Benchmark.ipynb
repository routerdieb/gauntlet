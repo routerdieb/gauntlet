{
 "cells": [
  {
   "cell_type": "code",
   "execution_count": null,
   "id": "789a7c7e",
   "metadata": {},
   "outputs": [],
   "source": [
    "import os\n",
    "os.environ['TF_CPP_MIN_LOG_LEVEL'] = '0'\n",
    "os.environ[\"CUDA_VISIBLE_DEVICES\"] = \"-1\"\n",
    "import numpy as np\n",
    "import tensorflow as tf\n",
    "id_dict = {}\n",
    "word_dict = {}"
   ]
  },
  {
   "cell_type": "code",
   "execution_count": null,
   "id": "7a57cc2b",
   "metadata": {},
   "outputs": [],
   "source": [
    "path = \".//cleanDeleteDynDict_150w\"\n",
    "#AutoDetect dims\n",
    "#test with base2021_300\n",
    "with open(path, 'r' , encoding=\"utf-8\")  as file:\n",
    "    line0 = file.readline()\n",
    "    dimensions = len(line0.split())-1\n",
    "print(\"dimensions \"+str(dimensions))\n",
    "\n",
    "matrix = []\n",
    "with open(path, 'r' , encoding=\"utf-8\")  as f:\n",
    "    lines = f.readlines()\n",
    "    vocab_size = len(lines)\n",
    "    \n",
    "    matrix = np.zeros((vocab_size,dimensions),dtype=float)\n",
    "    for line in lines:\n",
    "        entry = line.split()\n",
    "        word = entry[0].strip()\n",
    "        values = entry[1:]\n",
    "        id = len(id_dict)\n",
    "        id_dict[word]=id\n",
    "        word_dict[id] = word\n",
    "        vector = np.asarray(values, \"double\")\n",
    "        matrix[id_dict[word],:] = vector\n",
    "print(len(id_dict))\n",
    "matrix_normalized = tf.nn.l2_normalize(matrix,axis = 1)# only use normalised version !!!\n",
    "matrix = []"
   ]
  },
  {
   "cell_type": "code",
   "execution_count": null,
   "id": "d27fc2e0",
   "metadata": {},
   "outputs": [],
   "source": [
    "def sim_words(word1,word2):\n",
    "    vector1 = matrix_normalized[id_dict[word1],:]\n",
    "    vector2 = matrix_normalized[id_dict[word2],:]\n",
    "    return tf.tensordot(vector1,vector2,axes=1).numpy()#nicer output"
   ]
  },
  {
   "cell_type": "markdown",
   "id": "32168293",
   "metadata": {},
   "source": [
    "# More candidates and choose in the end, for best light on things.\n",
    "---------------------\n",
    "crouch <= duck => lake"
   ]
  },
  {
   "cell_type": "code",
   "execution_count": null,
   "id": "b1c56ec6",
   "metadata": {},
   "outputs": [],
   "source": [
    "sim_words(\"crouching\",\"lake\")"
   ]
  },
  {
   "cell_type": "markdown",
   "id": "1b75e49e",
   "metadata": {},
   "source": [
    "camel <= desert => coffee"
   ]
  },
  {
   "cell_type": "code",
   "execution_count": null,
   "id": "30806bb7",
   "metadata": {},
   "outputs": [],
   "source": [
    "sim_words(\"camel\",\"coffee\")"
   ]
  },
  {
   "cell_type": "markdown",
   "id": "390f3e89",
   "metadata": {},
   "source": [
    "smartphone <= apple => eating"
   ]
  },
  {
   "cell_type": "code",
   "execution_count": null,
   "id": "02b83431",
   "metadata": {},
   "outputs": [],
   "source": [
    "sim_words(\"smartphone\",\"eating\")"
   ]
  },
  {
   "cell_type": "markdown",
   "id": "f6ef6667",
   "metadata": {},
   "source": [
    "invest <= bank => river"
   ]
  },
  {
   "cell_type": "code",
   "execution_count": null,
   "id": "01abc100",
   "metadata": {},
   "outputs": [],
   "source": [
    "sim_words(\"invest\",\"river\")"
   ]
  },
  {
   "cell_type": "code",
   "execution_count": null,
   "id": "8ccb1a2a",
   "metadata": {},
   "outputs": [],
   "source": []
  },
  {
   "cell_type": "markdown",
   "id": "14ac3541",
   "metadata": {},
   "source": [
    "# End of Benchmark"
   ]
  }
 ],
 "metadata": {
  "kernelspec": {
   "display_name": "Python 3 (ipykernel)",
   "language": "python",
   "name": "python3"
  },
  "language_info": {
   "codemirror_mode": {
    "name": "ipython",
    "version": 3
   },
   "file_extension": ".py",
   "mimetype": "text/x-python",
   "name": "python",
   "nbconvert_exporter": "python",
   "pygments_lexer": "ipython3",
   "version": "3.8.11"
  }
 },
 "nbformat": 4,
 "nbformat_minor": 5
}
