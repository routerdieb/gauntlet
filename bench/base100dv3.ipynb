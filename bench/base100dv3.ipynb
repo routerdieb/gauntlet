{
 "cells": [
  {
   "cell_type": "code",
   "execution_count": 1,
   "id": "2873f882",
   "metadata": {},
   "outputs": [],
   "source": [
    "import os\n",
    "os.environ['TF_CPP_MIN_LOG_LEVEL'] = '0'\n",
    "os.environ[\"CUDA_VISIBLE_DEVICES\"] = \"-1\""
   ]
  },
  {
   "cell_type": "code",
   "execution_count": 2,
   "id": "04c2c2ad",
   "metadata": {},
   "outputs": [
    {
     "name": "stdout",
     "output_type": "stream",
     "text": [
      "261068\n"
     ]
    }
   ],
   "source": [
    "import numpy as np\n",
    "import tensorflow as tf\n",
    "path = r'..\\\\embeddings\\\\'\n",
    "id_dict = {}\n",
    "word_dict = {}\n",
    "\n",
    "matrix = []\n",
    "dimensions = 100\n",
    "with open(path + \"base2021_100v3\", 'r' , encoding=\"utf-8\")  as f:\n",
    "    lines = f.readlines()\n",
    "    vocab_size = len(lines)\n",
    "    \n",
    "    matrix = np.zeros((vocab_size,dimensions),dtype=float)\n",
    "    for line in lines:\n",
    "        values = line.split()\n",
    "        word = values[0].strip()\n",
    "        id = len(id_dict)\n",
    "        id_dict[word]=id\n",
    "        word_dict[id] = word\n",
    "        vector = np.asarray(values[1:], \"double\")\n",
    "        matrix[id_dict[word],:] = vector\n",
    "print(len(id_dict))"
   ]
  },
  {
   "cell_type": "code",
   "execution_count": 3,
   "id": "a21edb3f",
   "metadata": {},
   "outputs": [
    {
     "name": "stdout",
     "output_type": "stream",
     "text": [
      "<class 'dict'>\n"
     ]
    }
   ],
   "source": [
    "print(type(word_dict))"
   ]
  },
  {
   "cell_type": "code",
   "execution_count": 4,
   "id": "37a44f52",
   "metadata": {},
   "outputs": [],
   "source": [
    "def find_candidate(sim,id_a,id_a_star,id_b):\n",
    "    myList = [id_a, id_b, id_a_star];\n",
    "    myList.sort();\n",
    "    \n",
    "    if(myList[0] != 0):\n",
    "        index1 = np.argmax(sim[:myList[0]])\n",
    "    else:\n",
    "        index1 = None\n",
    "    sim2 = sim[myList[0]+1:myList[1]]\n",
    "    if len(sim2) > 0:\n",
    "        index2 = np.argmax(sim2)\n",
    "        index2 +=  myList[0]+1\n",
    "    else:\n",
    "        index2 = None\n",
    "    sim3 = sim[myList[1]+1:myList[2]]\n",
    "    if len(sim3) > 0:\n",
    "        index3 = np.argmax(sim3)\n",
    "        index3 +=  myList[1]+1\n",
    "    else:\n",
    "        index3 = None\n",
    "    if(myList[2]+1 < len(sim)):\n",
    "        index4 = np.argmax(sim[myList[2]+1:])\n",
    "        index4 +=  myList[2]+1\n",
    "    else:\n",
    "        index4 = None\n",
    "    myList = [index1, index2, index3,index4];\n",
    "    values = []\n",
    "    myList2 = []\n",
    "    for index in myList:\n",
    "        if index != None:\n",
    "            values.append(sim[index])\n",
    "            myList2.append(index)\n",
    "    index = myList2[np.argmax(values)]\n",
    "    return index"
   ]
  },
  {
   "cell_type": "code",
   "execution_count": 5,
   "id": "6c61e83e",
   "metadata": {},
   "outputs": [],
   "source": [
    "matrix_normalized = tf.nn.l2_normalize(matrix,axis = 1)"
   ]
  },
  {
   "cell_type": "code",
   "execution_count": null,
   "id": "81bc818b",
   "metadata": {},
   "outputs": [],
   "source": [
    "def find_nearest_k(searched_word,k):\n",
    "    list = []\n",
    "    id = id_dict[searched_word]\n",
    "    searched_vector = matrix_normalized[id,:] \n",
    "    \n",
    "    for word in id_dict:\n",
    "        word_weights = matrix_normalized[id_dict[word]]\n",
    "        loss = tf.tensordot(word_weights,searched_vector,axes = 1).numpy()\n",
    "        list = insert(list,(word,loss))\n",
    "        if len(list) > k:\n",
    "            list = list[0:k+1]\n",
    "    return list[0:k]\n",
    "\n",
    "# Function to insert element\n",
    "def insert(list, tuple):\n",
    "    (word,n) = tuple\n",
    "    if(len(list) == 0):\n",
    "        list = [(word,n)]\n",
    "    # Searching for the position\n",
    "    for i in range(len(list)):\n",
    "        (word_i,n_i) = list[i]\n",
    "        if n_i < n:\n",
    "            index = i\n",
    "            break\n",
    "      \n",
    "    # Inserting n in the list\n",
    "    list = list[:i] + [(word,n)] + list[i:]\n",
    "    return list\n",
    "\n",
    "\n",
    "print(find_nearest_k('smaller',7))#this should produce one, for the same vectors\n",
    "print(find_nearest_k('computer',7))"
   ]
  },
  {
   "cell_type": "markdown",
   "id": "0d6e185c",
   "metadata": {},
   "source": [
    "## 3cosAdd "
   ]
  },
  {
   "cell_type": "code",
   "execution_count": 6,
   "id": "d75b0f7b",
   "metadata": {},
   "outputs": [],
   "source": [
    "\n",
    "def three_cos_predict_np(a,a_star,b,b_star):\n",
    "    if( a in id_dict and b in id_dict and a_star in id_dict and b_star in id_dict):\n",
    "        pass\n",
    "    else:\n",
    "        return None\n",
    "    id_a = id_dict[a]\n",
    "    id_b = id_dict[b]\n",
    "    id_a_star = id_dict[a_star]\n",
    "    id_b_star = id_dict[b_star]#remove this after testing\n",
    "    weight_a = matrix[id_a,:]\n",
    "    weight_b = matrix[id_b,:]\n",
    "    weight_a_star = matrix[id_a_star,:]\n",
    "    direction = weight_b + ( weight_a_star - weight_a)\n",
    "    direction /= np.linalg.norm(direction)\n",
    "    \n",
    "    sim = tf.tensordot(tf.convert_to_tensor(matrix_normalized),tf.convert_to_tensor(direction),axes = 1)\n",
    "    index = find_candidate(sim,id_a,id_a_star,id_b)\n",
    "    return word_dict[index]"
   ]
  },
  {
   "cell_type": "markdown",
   "id": "a646d761",
   "metadata": {},
   "source": [
    "# 3cosAdd normalised befor arithmetic"
   ]
  },
  {
   "cell_type": "code",
   "execution_count": 7,
   "id": "383f8d9c",
   "metadata": {},
   "outputs": [],
   "source": [
    "def three_cos_predict_np_norm(a,a_star,b,b_star):\n",
    "    if( a in id_dict and b in id_dict and a_star in id_dict and b_star in id_dict):\n",
    "        pass\n",
    "    else:\n",
    "        return None\n",
    "    id_a = id_dict[a]\n",
    "    id_b = id_dict[b]\n",
    "    id_a_star = id_dict[a_star]\n",
    "    id_b_star = id_dict[b_star]#remove this after testing\n",
    "    weight_a = matrix_normalized[id_a,:]\n",
    "    weight_b = matrix_normalized[id_b,:]\n",
    "    weight_a_star = matrix_normalized[id_a_star,:]\n",
    "    direction = weight_b + ( weight_a_star - weight_a)\n",
    "    direction /= np.linalg.norm(direction)\n",
    "    \n",
    "    sim = tf.tensordot(tf.convert_to_tensor(matrix_normalized),tf.convert_to_tensor(direction),axes = 1)\n",
    "    index = find_candidate(sim,id_a,id_a_star,id_b)\n",
    "    return word_dict[index]"
   ]
  },
  {
   "cell_type": "markdown",
   "id": "4042c364",
   "metadata": {},
   "source": [
    "## 3cos Mult"
   ]
  },
  {
   "cell_type": "code",
   "execution_count": 8,
   "id": "9ac07eb6",
   "metadata": {},
   "outputs": [],
   "source": [
    "def sim_01(matrix,weight):\n",
    "    tmp = tf.tensordot(matrix,weight,axes=1)\n",
    "    tmp = (tmp+1.0)/2.0\n",
    "    return tmp\n",
    "\n",
    "def predict_three_cos_mult(a,a_star,b,b_star):\n",
    "    if( a in id_dict and b in id_dict and a_star in id_dict and b_star in id_dict):\n",
    "        pass\n",
    "    else:\n",
    "        print(a in id_dict)\n",
    "        print(a_star in id_dict)\n",
    "        print(b in id_dict)\n",
    "        print(b_star in id_dict)\n",
    "        return None\n",
    "    \n",
    "    id_a = id_dict[a]\n",
    "    id_b = id_dict[b]\n",
    "    id_a_star = id_dict[a_star]\n",
    "    \n",
    "    weight_a = matrix_normalized[id_a,:]\n",
    "    weight_b = matrix_normalized[id_b,:]\n",
    "    weight_a_star = matrix_normalized[id_a_star,:]\n",
    "    \n",
    "    nominator = sim_01(matrix_normalized,weight_a_star) * sim_01(matrix_normalized,weight_b) \n",
    "    denominator = sim_01(matrix_normalized,weight_a) + 0.0001\n",
    "    sim = nominator / denominator\n",
    "    index = find_candidate(sim,id_a,id_a_star,id_b)\n",
    "    return word_dict[index]"
   ]
  },
  {
   "cell_type": "markdown",
   "id": "e4c53d10",
   "metadata": {},
   "source": [
    "# Test all"
   ]
  },
  {
   "cell_type": "code",
   "execution_count": 12,
   "id": "eecd5ce6",
   "metadata": {},
   "outputs": [
    {
     "name": "stdout",
     "output_type": "stream",
     "text": [
      "capital-common-countries.txt\n",
      "0\n",
      "100\n",
      "200\n",
      "300\n",
      "400\n",
      "500\n",
      "capital-world.txt\n",
      "0\n",
      "100\n",
      "200\n",
      "300\n",
      "400\n",
      "500\n",
      "600\n",
      "700\n",
      "800\n",
      "900\n",
      "1000\n",
      "1100\n",
      "1200\n",
      "1300\n",
      "1400\n",
      "1500\n",
      "1600\n",
      "1700\n",
      "1800\n",
      "1900\n",
      "2000\n",
      "2100\n",
      "2200\n",
      "2300\n",
      "2400\n",
      "2500\n",
      "2600\n",
      "2700\n",
      "2800\n",
      "2900\n",
      "3000\n",
      "3100\n",
      "3200\n",
      "3300\n",
      "3400\n",
      "3500\n",
      "3600\n",
      "3700\n",
      "3800\n",
      "3900\n",
      "4000\n",
      "4100\n",
      "4200\n",
      "4300\n",
      "4400\n",
      "4500\n",
      "city-in-state.txt\n",
      "0\n",
      "100\n",
      "200\n",
      "300\n",
      "400\n",
      "500\n",
      "600\n",
      "700\n",
      "800\n",
      "900\n",
      "1000\n",
      "1100\n",
      "1200\n",
      "1300\n",
      "1400\n",
      "1500\n",
      "1600\n",
      "1700\n",
      "1800\n",
      "1900\n",
      "2000\n",
      "2100\n",
      "2200\n",
      "2300\n",
      "2400\n",
      "currency.txt\n",
      "0\n",
      "100\n",
      "200\n",
      "300\n",
      "400\n",
      "500\n",
      "600\n",
      "700\n",
      "800\n",
      "family.txt\n",
      "0\n",
      "100\n",
      "200\n",
      "300\n",
      "400\n",
      "500\n",
      "gram1-adjective-to-adverb.txt\n",
      "0\n",
      "100\n",
      "200\n",
      "300\n",
      "400\n",
      "500\n",
      "600\n",
      "700\n",
      "800\n",
      "900\n",
      "gram2-opposite.txt\n",
      "0\n",
      "100\n",
      "200\n",
      "300\n",
      "400\n",
      "500\n",
      "600\n",
      "700\n",
      "800\n",
      "gram3-comparative.txt\n",
      "0\n",
      "100\n",
      "200\n",
      "300\n",
      "400\n",
      "500\n",
      "600\n",
      "700\n",
      "800\n",
      "900\n",
      "1000\n",
      "1100\n",
      "1200\n",
      "1300\n",
      "gram4-superlative.txt\n",
      "0\n",
      "100\n",
      "200\n",
      "300\n",
      "400\n",
      "500\n",
      "600\n",
      "700\n",
      "800\n",
      "900\n",
      "1000\n",
      "1100\n",
      "gram5-present-participle.txt\n",
      "0\n",
      "100\n",
      "200\n",
      "300\n",
      "400\n",
      "500\n",
      "600\n",
      "700\n",
      "800\n",
      "900\n",
      "1000\n",
      "gram6-nationality-adjective.txt\n",
      "0\n",
      "100\n",
      "200\n",
      "300\n",
      "400\n",
      "500\n",
      "600\n",
      "700\n",
      "800\n",
      "900\n",
      "1000\n",
      "1100\n",
      "1200\n",
      "1300\n",
      "1400\n",
      "1500\n",
      "gram7-past-tense.txt\n",
      "0\n",
      "100\n",
      "200\n",
      "300\n",
      "400\n",
      "500\n",
      "600\n",
      "700\n",
      "800\n",
      "900\n",
      "1000\n",
      "1100\n",
      "1200\n",
      "1300\n",
      "1400\n",
      "1500\n",
      "gram8-plural.txt\n",
      "0\n",
      "100\n",
      "200\n",
      "300\n",
      "400\n",
      "500\n",
      "600\n",
      "700\n",
      "800\n",
      "900\n",
      "1000\n",
      "1100\n",
      "1200\n",
      "1300\n",
      "gram9-plural-verbs.txt\n",
      "0\n",
      "100\n",
      "200\n",
      "300\n",
      "400\n",
      "500\n",
      "600\n",
      "700\n",
      "800\n",
      "8869\n",
      "10675\n",
      "[0, 4686, 0]\n",
      "[0, 5445, 0]\n",
      "['syria', 'tunisia', 'zealand', 'cambodia', 'europe', 'ukraine', 'finland', 'turkey', 'indonesia', 'arabia', 'zealand', 'cambodia', 'argentina', 'ussr', 'finland', 'japan', 'arabia', 'latvia', 'australia', 'turkey', 'yemen', 'canton', 'cambodia', 'argentina', 'syria', 'indonesia', 'cambodia', 'rawalpindi', 'finland', 'syria', 'cambodia', 'uk', 'syria', 'laos', 'britain', 'syria', 'china', 'india', 'britain', 'turkey', 'egypt', 'russia', 'whilst', 'israel', 'pakistan', 'japan', 'lithuania', 'zealand', 'finland', 'syria', 'britain', 'portugal', 'syria', 'austria', 'cambodia', 'british', 'ontario', 'finland', 'turkey', 'syria', 'zealand', 'europe', 'ussr', 'helsinki', 'valencia', 'ussr', 'huron', 'roman', 'syria', 'neuchâtel', 'queensland', 'haiphong', 'rawalpindi', 'turkey', 'syria', 'zealand', 'cambodia', 'britain', 'syria', 'arabia', 'sweden', 'uk', 'syria', 'laos', 'brunei', 'britain', 'portugal', 'arabia', 'arabia', 'korea', 'uk', 'turkey', 'neuchâtel', 'arabia', 'zealand', 'laos', 'rawalpindi', 'ukraine', 'turkey', 'kuwait', 'thailand', 'morocco', 'zealand', 'haiphong', 'rawalpindi', 'uk', 'valencia', 'winnipeg', 'syria', 'japan', 'laos', 'britain', 'indonesia', 'cambodia', 'britain', 'roman', 'syria', 'laos', 'britain', 'sri', 'fiji', 'mongolia', 'syria', 'lebanese', 'zagreb', 'czech', 'ekaterinoslav', 'uzbekistan', 'kovil', 'fiji', 'korea', 'tunisia', 'netherlands', 'germany', 'netherlands', 'uzbekistan', 'maldives', 'nepal', 'fiji', 'syria', 'zibo', 'sweden', 'batanes', 'mcneil', 'represented', 'argentinian', 'team', 'adrian', 'kong', 'met', 'adams', 'yugoslavia', 'mitch', 'canton', 'signed', 'czech', 'france', 'met', 'chad', 'met', 'murray', 'of', 'met', 'marc', 'carter', 'pakistan', 'murphy', 'valdosta', 'keeling', 'davis', 'davis', 'syria', 'austria', 'westfjords', 'islands', 'namibia', 'canada', 'laos', 'fiji', 'africa', 'yugoslavia', 'france', 'gabon', 'uzbekistan', 'guinea', 'uae', 'italy', 'haiti', 'malaysia', 'yugoslavia', 'romania', 'switzerland', 'romania', 'zealand', 'westfjords', 'norway', 'tokelau', 'francistown', 'michigan', 'haiphong', 'tajikistan', 'bulgaria', 'syria', 'malaysia', 'tajikistan', 'switzerland', 'romania', 'syria', 'tajikistan', 'sweden', 'tanzania', 'tajikistan', 'alabama', 'tajikistan', 'belarus', 'syria', 'delegation', 'somalia', 'netherlands', 'zealand', 'somalia', 'netherlands', 'somalia', 'islands', 'sudan', 'syria', 'netherlands', 'queensland', 'ukraine', 'andaman', 'georgia', 'nigeria', 'syria', 'zibo', 'netherlands', 'austria', 'tunisia', 'zealand', 'dithmarschen', 'lofoten', 'namibia', 'cambodia', 'indonesia', 'czechoslovakia', 'arabia', 'zealand', 'davis', 'cambodia', 'canton', 'arabia', 'wales', 'osona', 'bissau', 'sweden', 'chuuk', 'georgia', 'cambodia', 'syria', 'semirechye', 'sweden', 'guinea', 'hoyas', 'laos', 'kenya', 'japan', 'yugoslavia', 'latvia', 'arabia', 'tzaneen', 'uzbekistan', 'lofoten', 'namibia', 'carolina', 'latvia', 'sudan', 'prague', 'ghana', 'uzbekistan', 'guinea', 'georgia', 'myanmar', 'galveston', 'canton', 'france', 'austria', 'kwangtung', 'keeling', 'michigan', 'cambodia', 'rus', 'england', 'gaborone', 'neuchâtel', 'switzerland', 'austria', 'queensland', 'tajikistan', 'norway', 'francistown', 'michigan', 'laos', 'armenia', 'milford', 'togo', 'wales', 'laos', 'wales', 'burundi', 'lesotho', 'france', 'switzerland', 'ecuador', 'tobago', 'guatemala', 'islands', 'namibia', 'canada', 'chile', 'canada', 'trinidad', 'dithmarschen', \"n'djamena\", 'batanes', 'cambodia', 'rawalpindi', 'england', \"n'djamena\", 'nadroga', 'ulaanbaatar', 'westfjords', 'sweden', 'chișinău', 'falkland', 'francistown', 'canada', 'cambodia', 'nairobi', 'russia', 'canada', 'morocco', 'karlstad', 'argentina', 'zagreb', 'switzerland', 'tajikistan', 'nauru', 'michigan', 'myanmar', 'fraser', 'uzbekistan', 'lesotho', 'australia', 'austria', 'morocco', 'westfjords', 'scotland', 'møn', 'namibia', 'laos', 'bulgaria', 'scotland', 'suriname', 'lesotho', 'dithmarschen', \"n'djamena\", 'tarawa', 'georgia', 'haiphong', 'bulawayo', 'rawalpindi', 'hungary', 'wales', \"n'djamena\", 'kristianstad', 'uk', 'bulawayo', 'dithmarschen', 'islands', 'namibia', 'georgia', 'laos', 'russia', 'wales', 'mpumalanga', 'britain', 'wales', 'dithmarschen', 'hatay', 'grenada', 'bungoma', 'georgia', 'rhodesia', 'sweden', 'lithuania', 'wales', \"n'djamena\", 'lesotho', 'croatia', 'ireland', 'sudan', 'lesotho', 'guinea', 'namibia', 'stanford', 'laos', 'moscow', 'england', 'zagreb', 'rwanda', 'barcelona', 'westfjords', 'faroe', 'hoyas', 'laos', 'bulgaria', 'england', 'britain', 'visegrád', 'asia', 'mongolia', 'islands', 'namibia', 'virginia', 'china', 'india', 'russia', 'england', 'trinidad', 'austria', 'britain', 'visegrád', 'westfjords', 'namibia', 'stanford', 'laos', 'russia', 'australia', 'australia', 'argentina', 'sweden', 'romania', 'nation', 'romania', 'uzbekistan', 'romania', 'england', 'montenegro', 'romania', 'romania', 'montenegro', 'romania', 'montenegro', 'england', 'islands', 'michigan', 'laos', 'england', 'cameroon', 'sudan', 'grenada', 'georgia', 'cambodia', 'scotland', 'bujumbura', 'mpumalanga', 'croatia', 'britain', 'dhara', 'belize', 'hoyas', 'laos', 'zambia', 'wales', 'valencia', 'yemen', 'gambia', 'hoyas', 'laos', 'canada', 'britain', 'portugal', 'somalia', 'michigan', 'laos', 'canada', 'belize', 'australia', 'batanes', 'stanford', 'cambodia', 'england', 'bujumbura', 'zambia', 'croatia', 'argentina', 'ussr', 'uganda', 'holland', 'uzbekistan', 'tokelau', 'namibia', 'nation', 'laos', 'wales', 'lesotho', 'uk', 'uganda', 'denmark', 'sturgeon', 'michigan', 'laos', 'afghanistan', 'canada', 'turkmenistan', 'turkmenistan', 'afghanistan', 'lebanon', 'burgundy', 'francistown', 'rutgers', 'malaysia', 'ukrainian', 'commonwealth', 'tobago', 'lesotho', 'slovenian', 'uk', 'futsal', 'uefa', 'tonga', 'russian', 'weilburg', 'vanuatu', 'university', 'minh', 'czech', 'wales', 'olimpija', 'melbourne', 'burundi', 'barcelona', 'uganda', 'uganda', 'ussr', 'senegal', 'uganda', 'siegen', 'greenlandic', 'ecuador', 'suriname', 'maldives', 'sumatra', 'somalia', 'trinidad', 'bujumbura', 'conakry', 'guayaquil', 'africa', 'burundi', 'ecuador', 'suriname', 'dhara', 'belize', 'suriname', 'ukraine', 'uganda', 'netherlands', 'esmeraldas', 'limassol', 'bujumbura', 'netherlands', 'russia', 'russia', 'united', 'uganda', 'brazil', 'republic', 'whilst', 'sudan', 'kuwait', 'sudan', 'morocco', 'uganda', 'ii', 'israel', 'australia', 'suriname', 'slovenian', 'australia', 'argentina', 'ussr', 'holland', 'finland', 'england', 'bujumbura', 'monrovia', 'holland', 'finland', 'bujumbura', 'lithuania', 'scotland', 'cantabria', 'britain', 'portugal', 'penghu', 'azzopardi', 'holstein', 'bío', 'gelderland', 'wales', 'tunisia', 'czech', 'british', 'sudan', 'nigeria', 'holland', 'ontario', 'turkey', 'spain', 'ussr', 'canada', 'cantabria', 'britain', 'namibia', 'belize', 'ussr', 'holland', 'finland', 'england', 'tunisia', 'croatia', 'europe', 'sudan', 'ussr', 'holland', 'helsinki', 'ldu', 'wales', 'republic', 'australia', 'argentina', 'somalia', 'malawi', 'ussr', 'holland', 'finland', 'congo', 'zealand', 'republic', 'uk', 'uganda', 'argentina', 'kuwait', 'nigeria', 'holland', 'netherlands', 'angola', 'wales', 'zambia', 'africa', 'somalia', 'nigeria', 'ukraine', 'weilburg', 'mali', 'colombia', 'wales', 'belize', 'uk', 'argentina', 'belize', 'denmark', 'belize', 'belize', 'wales', 'burundi', 'ussr', 'holland', 'tanzania', 'aroostook', 'conakry', 'conakry', 'colombia', 'guayaquil', 'africa', 'monrovia', 'venezuela', 'monrovia', 'luanda', 'freetown', 'ussr', 'dillenburg', 'bamako', 'conakry', 'helsinki', 'montreal', 'kyrgyzstan', 'guayaquil', 'cidra', 'colombia', 'irina', 'helsinki', 'zambia', 'olimpija', 'africa', 'argentina', 'sudan', 'ethiopia', 'ussr', 'senegal', 'frederick', 'ethiopia', 'ethiopia', 'nordic', 'cameroon', 'cameroon', 'niger', 'peru', 'tanzania', 'africa', 'argentina', 'sudan', 'ussr', 'holland', 'mauritania', 'israel', 'tanzania', 'union', 'entered', 'niger', 'colombia', 'finland', 'britain', 'belize', 'dillenburg', 'koyukuk', 'rica', 'britain', 'dhara', 'uganda', 'burgundy', 'bungoma', 'argentina', 'scotland', 'belize', 'portugal', 'algarve', 'belize', 'weilburg', 'algeria', 'guatemala', 'aroostook', 'belarus', 'namibia', 'valencia', 'vlorë', 'belize', 'ussr', 'weilburg', 'vlorë', 'larnaca', 'huron', 'copperbelt', 'nikšić', 'ldu', 'algeria', 'roman', 'aroostook', 'plovdiv', 'baku', 'uganda', 'argentina', 'yemen', 'uganda', 'holland', 'congo', 'guatemala', 'mali', 'belarus', 'cairo', 'argentina', 'mozambique', 'malawi', 'ussr', 'orange', 'tanzania', 'niger', 'peru', 'finland', 'baku', 'hagåtña', 'freetown', 'azzopardi', 'uganda', 'dillenburg', 'middelburg', 'aroostook', 'peru', 'belarus', 'turkey', 'timor', 'freetown', 'dillenburg', 'helsinki', 'paraná', 'baku', 'yemen', 'lebanon', 'ussr', 'grand', 'qatar', 'switzerland', 'emirates', 'romania', 'nation', 'argentina', 'baku', 'lebanon', 'nigeria', 'holland', 'finland', 'sumatra', 'kenai', 'peru', 'finland', 'tajikistan', 'uganda', 'mauritania', 'uganda', 'holland', 'greenlandic', 'tanzania', 'nikšić', 'egypt', 'tanzania', 'peru', 'zambia', 'uganda', 'zambia', 'midtjylland', 'freetown', 'uganda', 'weilburg', 'burkina', 'chuvashia', 'guatemala', 'chuvashia', 'armenia', 'turkey', 'andorra', 'freetown', 'uganda', 'holland', 'helsinki', 'congo', 'owyhee', 'peru', 'czech', 'china', 'kazakhstan', 'turkey', 'andorra', 'senegal', 'burgundy', 'patagonian', 'lithuania', 'senegal', 'armenia', 'morocco', 'midtjylland', 'burgundy', 'sanpete', 'peru', 'armenia', 'morocco', 'midtjylland', 'prabang', 'weilburg', 'gelderland', 'aroostook', 'sweden', 'belarus', 'morocco', 'midtjylland', 'denmark', 'nanjing', 'ulaanbaatar', 'helsinki', 'vancouver', 'dushanbe', 'world', 'guatemala', 'kenai', 'rica', 'helsinki', 'baku', 'saudi', 'kuwait', 'kuwait', 'fc', 'budapest', 'nigeria', 'burgundy', 'lithuania', 'niger', 'peru', 'finland', 'armenia', 'morocco', 'faroe', 'belize', 'maldives', 'vestmannaeyjar', 'iceland', 'belize', 'belize', 'tobago', 'belize', 'tobago', 'tobago', 'honduras', 'belize', 'honduras', 'belize', 'belize', 'iceland', 'vanuatu', 'tobago', 'tobago', 'belize', 'kavajë', 'mauritania', 'tobago', 'tobago', 'tobago', 'prabang', 'kaunas', 'estonia', 'tobago', 'belize', 'belize', 'patagonian', 'israel', 'tanzania', 'lithuania', 'owyhee', 'peru', 'kenya', 'china', 'sudan', 'sudan', 'bolivia', 'sudan', 'kairat', 'germany', 'sudan', 'congo', 'iasi', 'finland', 'china', 'armenia', 'morocco', 'greenlandic', '1948', 'senegal', 'peru', 'czech', 'china', 'baku', 'fc', 'prague', 'serbia', 'quebec', 'cape', 'chile', 'baltic', 'alaska', 'finland', 'finland', 'baku', 'lebanon', 'france', 'midtjylland', 'antarctica', 'north', 'lagos', 'scotia', 'sailed', 'india', 'maluku', 'lithuania', 'penghu', 'romania', 'morocco', 'midtjylland', 'prabang', 'bulgaria', 'papua', 'myanmar', 'tervuren', 'niğde', 'turkmenistan', 'morocco', 'germany', 'nigeria', 'morocco', 'arabia', 'algeria', 'argentina', 'finland', 'rica', 'colombia', 'baku', 'guatemala', 'paraguay', 'andorra', 'tobago', 'tobago', 'nicaragua', 'india', 'tonga', 'aroostook', 'baku', 'turkey', 'midtjylland', 'prabang', 'syria', 'tonga', 'isparta', 'latvia', 'armenia', 'armenia', 'russia', 'syria', 'yugoslavia', 'syria', 'bulgaria', 'denmark', 'ukraine', 'aroostook', 'rica', 'finland', 'turkmenistan', 'lebanon', 'morocco', 'myanmar', 'fiji', 'lithuania', 'capital', 'mexico', 'russia', 'china', 'baku', 'syria', 'fc', 'berlin', 'sudan', 'yugoslavia', 'egypt', 'syria', 'fiji', 'egypt', 'bungoma', 'slovakia', 'finland', 'belarus', 'turkey', 'midtjylland', 'prabang', 'bhutan', 'fiji', 'isparta', 'yalova', 'czech', 'lautoka', 'baku', 'turkey', 'morocco', 'midtjylland', 'bulawayo', 'morocco', 'kuwait', 'seychelles', 'fiji', 'isparta', 'kuwait', 'dominican', 'tobago', 'tobago', 'helsinki', 'tobago', 'federation', 'martinique', 'federation', 'tobago', 'federation', 'phf', 'martinique', 'algiers', 'barbuda', 'barbuda', 'hague', 'prabang', 'tobago', 'yugoslavia', 'tobago', 'jamaica', 'nephthys', 'istanbul', 'barbados', 'tobago', 'tobago', 'isl', 'olympics', 'egypt', 'federation', 'martinique', 'baku', 'saudi', 'admira', 'uganda', 'morocco', 'kuwait', 'fiji', 'barys', 'kuwait', 'baku', 'turkey', 'syria', 'morocco', 'midtjylland', 'sudan', 'palestine', 'syria', 'peru', 'fiji', 'syria', 'finland', 'tajikistan', 'armenia', 'algeria', 'fct', 'syria', 'syria', 'armenia', 'laos', 'armenia', 'morocco', 'midtjylland', 'morocco', 'syria', 'syria', 'armenia', 'japan', 'syria', 'china', 'baku', 'nigeria', 'india', 'mongolia', 'malaysia', 'morocco', 'nigeria', 'kovil', 'fiji', 'philippines', 'barys', 'syria', 'tbilisi', 'yugoslavia', 'belarus', 'turkey', 'syria', 'guatemala', 'syria', 'bulgaria', 'korea', 'syria', 'turkmenistan', 'midtjylland', 'nigeria', 'kovil', 'fiji', 'yemen', 'yalova', 'texas', 'counties', 'carolina', 'carolina', 'texas', 'livingston', 'bermuda', 'missouri', 'champasak', 'carolina', 'texas', 'texas', 'texas', 'texas', 'texas', 'carolina', 'tallahassee', 'texas', 'texas', 'arizona', 'franklin', 'texas', 'u.s.', 'carolina', 'texas', 'u.s.', 'texas', 'kansas', 'tallahassee', 'washington', 'missouri', 'tallahassee', 'morocco', 'egypt', 'fiji', 'syria', 'czech', 'algeria', 'midtjylland', 'macedonia', 'serbia', 'namibia', 'meenakshi', 'tonga', 'indonesia', 'netherlands', 'andorra', 'nigeria', 'morocco', 'sri', 'fiji', 'mongolia', 'egypt', 'baghdad', 'mongolia', 'czech', 'france', 'prabang', 'eritrea', 'libya', 'syria', 'greece', 'syria', 'eritrea', 'morocco', 'midtjylland', 'myanmar', 'fiji', 'syria', 'kairat', 'germany', 'nigeria', 'yugoslavia', 'sudan', 'fiji', 'sudan', 'bujumbura', 'dushanbe', 'midtjylland', 'nepal', 'fiji', 'syria', 'zibo', 'finland', 'yugoslavia', 'indonesia', 'kenya', 'palestine', 'lebanon', 'istanbul', 'comoros', 'leichhardt', 'naypyidaw', 'syria', 'singapore', 'naypyidaw', 'switzerland', 'austria', 'palestine', 'nigeria', 'morocco', 'egypt', 'istanbul', 'fiji', 'syria', 'armenia', 'japan', 'cairo', 'yugoslavia', 'uzbekistan', 'hungary', 'wales', 'berdychiv', 'prabang', 'namibia', 'syria', 'isparta', 'syria', 'romania', 'thailand', 'bujumbura', 'korsør', 'malabo', 'harare', 'kovil', 'istanbul', 'fiji', 'beijing', 'syria', 'cairo', 'zagreb', 'geneva', 'kazakhstan', 'warsaw', 'mongolia', 'singapore', 'morocco', 'arabia', 'fiji', 'yemen', 'dithmarschen', 'arabia', 'fiji', 'syria', 'dithmarschen', 'romania', 'malawi', 'nepal', 'papua', 'peru', 'mozambique', 'olympics', 'austria', 'pcrm', 'sweden', 'syria', 'tonga', 'syria', 'syria', 'westfjords', 'pakistan', 'syria', 'belize', 'fiji', 'belize', 'syria', 'canton', 'eritrea', 'netherlands', 'wales', 'dithmarschen', 'ohio', 'ohio', 'ohio', 'ohio', 'alabama', 'ohio', 'ohio', 'ohio', 'nebraska', 'ohio', 'indiana', 'ohio', 'wyoming', 'kwara', 'ohio', 'allegheny', 'ohio', 'ohio', 'indiana', 'arkansas', 'indiana', 'dakota', 'arkansas', 'chillicothe', 'alabama', 'fresno', 'ohio', 'ohio', 'tennessee', 'california', 'kansas', 'kansas', 'oregon', 'utah', 'kansas', 'kansas', 'utah', 'sonora', 'colorado', 'canyon', 'arizona', 'california', 'kansas', 'kansas', 'missouri', 'wyoming', 'wyoming', 'fresno', 'kansas', 'ashland', 'middletown', 'kansas', 'colorado', 'colorado', 'carolina', 'wisconsin', 'warren', 'wisconsin', 'illinois', 'colorado', 'carolina', 'clarksville', 'illinois', 'district', 'mechanicsburg', 'madera', 'colorado', 'otay', 'colorado', 'williamsville', 'carolina', 'johnstown', 'colorado', 'colorado', 'wisconsin', 'dakota', 'glenwood', 'brookville', 'carolina', 'mechanicsburg', 'oahu', 'lewistown', 'lewistown', 'kansas', 'lewistown', 'murrysville', 'aliquippa', 'kansas', 'carolina', 'kansas', 'kansas', 'michigan', 'oregon', 'kansas', 'knoxville', 'nebraska', 'colorado', 'idaho', 'colorado', 'colorado', 'carolina', 'akron', 'kansas', 'kansas', 'kansas', 'wyoming', 'fayetteville', 'wyoming', 'kansas', 'colorado', 'tallahassee', 'kansas', 'fayetteville', 'prescott', 'kansas', 'colorado', 'corsicana', 'warren', 'carolina', 'kansas', 'florida', 'carolina', 'carolina', 'florida', 'bakersfield', 'colorado', 'canyon', 'carolina', 'missouri', 'carolina', 'florida', 'kansas', 'missouri', 'lamesa', 'wyoming', 'sacramento', 'kansas', 'carolina', 'burlington', 'kansas', 'colorado', 'warren', 'kansas', 'adams', 'chicago', 'illinois', 'york', 'angeles', 'california', 'chicago', 'columbia', 'illinois', 'chicago', 'washington', 'colorado', 'california', 'chicago', 'california', 'texas', 'texas', 'chicago', 'california', 'texas', 'washington', 'chicago', 'ashland', 'warren', 'chicago', 'francisco', 'adams', 'nuevo', 'perry', 'illinois', 'illinois', 'connecticut', 'nebraska', 'massachusetts', 'illinois', 'illinois', 'massachusetts', 'wyoming', 'bakersfield', 'delaware', 'allegheny', 'ohio', 'connecticut', 'ohio', 'illinois', 'texas', 'illinois', 'illinois', 'dakota', 'illinois', 'connecticut', 'fresno', 'ohio', 'connecticut', 'wabash', 'illinois', 'bexar', 'warren', 'nuevo', 'allen', 'kansas', 'philadelphia', 'miami', 'arizona', 'kansas', 'kansas', 'sacramento', 'bakersfield', 'arizona', 'otay', 'arizona', 'oklahoma', 'arizona', 'kansas', 'oklahoma', 'fresno', 'jacksonville', 'fresno', 'kansas', 'fayetteville', 'sacramento', 'kansas', 'colorado', 'carolina', 'arizona', 'arkansas', 'arkansas', 'virginia', 'oregon', 'nebraska', 'virginia', 'wyoming', 'hillsdale', 'delaware', 'allegheny', 'ohio', 'alabama', 'alabama', 'alabama', 'nebraska', 'oklahoma', 'virginia', 'fullerton', 'clearwater', 'nebraska', 'virginia', 'delaware', 'alabama', 'bexar', 'mitchell', 'nuevo', 'allen', 'iowa', 'weatherford', 'washington', 'utah', 'washington', 'kansas', 'washington', 'wyoming', 'colorado', 'canyon', 'carolina', 'carolina', 'texas', 'kansas', 'texas', 'carolina', 'wyoming', 'colorado', 'kansas', 'carolina', 'prescott', 'kansas', 'colorado', 'bastrop', 'adams', 'allen', 'missouri', 'bastrop', 'crawford', 'connecticut', 'illinois', 'maine', 'kwara', 'carolina', 'oroville', 'carolina', 'connecticut', 'connecticut', 'fayetteville', 'texas', 'illinois', 'illinois', 'wyoming', 'fayetteville', 'connecticut', 'fresno', 'illinois', 'ashland', 'duxbury', 'illinois', 'illinois', 'bastrop', 'warren', 'nuevo', 'caldwell', 'vermont', 'bastrop', 'trumbull', 'farmington', 'kansas', 'd.c.', 'texas', 'kansas', 'madison', 'texas', 'texas', 'texas', 'salinas', 'd.c.', 'missouri', 'texas', 'kansas', 'texas', 'kansas', 'madison', 'texas', 'lexington', 'arkansas', 'madison', 'kansas', 'madison', 'lincoln', 'kansas', 'texas', 'bexar', 'adams', 'texas', 'bexar', 'allen', 'missouri', 'nacogdoches', 'crawford', 'arlington', 'palatka', 'carolina', 'columbia', 'maine', 'sonora', 'arizona', 'canyon', 'arizona', 'indiana', 'california', 'kalamazoo', 'arizona', 'arizona', 'wisconsin', 'arizona', 'glenwood', 'sonora', 'ducks', 'oahu', 'arizona', 'farmington', 'farmington', 'kansas', 'córdoba', 'rincon', 'warren', 'arizona', 'nuevo', 'pierce', 'nacogdoches', 'laurel', 'glenwood', 'rockledge', 'illinois', 'rhode', 'nevada', 'bakersfield', 'delaware', 'california', 'tennessee', 'connecticut', 'virginia', 'illinois', 'florida', 'tennessee', 'rhode', 'wyoming', 'virginia', 'fullerton', 'rhode', 'rhode', 'michigan', 'delaware', 'tennessee', 'illinois', 'bexar', 'mitchell', 'nuevo', 'allen', 'virginia', 'chicot', 'trumbull', 'inglewood', 'apopka', 'tahoe', 'chula', 'minnesota', 'utah', 'utah', 'boise', 'arkansas', 'nevada', 'alabama', 'alabama', 'arkansas', 'kansas', 'oklahoma', 'arkansas', 'wyoming', 'jacksonville', 'jacksonville', 'michigan', 'delaware', 'alabama', 'harbor', 'bastrop', 'campbell', 'chicot', 'allen', 'iowa', 'arkansas', 'montana', 'lakeview', 'palatka', 'utah', 'morris', 'maine', 'wyoming', 'colorado', 'canyon', 'carolina', 'carolina', 'texas', 'kansas', 'texas', 'virginia', 'rhode', 'florida', 'michigan', 'maine', 'alabama', 'governor', 'bexar', 'campbell', 'nuevo', 'carter', 'virginia', 'arkansas', 'peck', 'arlington', 'pinecrest', 'richardson', 'arkansas', 'maine', 'nevada', 'montana', 'colorado', 'verde', 'carolina', 'michigan', 'iowa', 'texas', 'kansas', 'dakota', 'carolina', 'wyoming', 'minnesota', 'michigan', 'ashland', 'marshfield', 'iowa', 'colorado', 'bexar', 'warren', 'nuevo', 'allen', 'chicot', 'peck', 'glenwood', 'rockledge', 'summerlin', 'allen', 'elkhorn', 'palmer', 'idaho', 'colorado', 'nevada', 'arizona', 'idaho', 'idaho', 'arizona', 'nebraska', 'idaho', 'idaho', 'kentucky', 'idaho', 'ducks', 'michigan', 'prescott', 'nebraska', 'colorado', 'wyoming', 'davis', 'arizona', 'tamaulipas', 'sawyer', 'illinois', 'idaho', 'montana', 'altadena', 'tahoe', 'o.', 'wyoming', 'davidson', 'idaho', 'idaho', 'colorado', 'carolina', 'michigan', 'michigan', 'houston', 'michigan', 'carolina', 'montana', 'ducks', 'michigan', 'carolina', 'michigan', 'michigan', 'colorado', 'harris', 'michigan', 'jackson', 'allen', 'missouri', 'palmer', 'colorado', 'perris', 'canyon', 'd.c.', 'york', 'houston', 'chicago', 'york', 'texas', 'cemetery', 'chicago', 'arlington', 'philadelphia', 'harbor', 'francisco', 'scott', 'austin', 'allen', 'washington', 'baker', 'arlington', 'allen', 'florida', 'verde', 'angeles', 'york', 'york', 'texas', 'memorial', 'york', 'virginia', 'york', 'harbor', 'mexico', 'wilson', 'nuevo', 'allen', 'virginia', 'moore', 'pasadena', 'gardena', 'allen', 'oregon', 'york', 'kansas', 'kansas', 'atlanta', 'kansas', 'kansas', 'kansas', 'kansas', 'kansas', 'kansas', 'kansas', 'atlanta', 'd.c.', 'cleveland', 'knoxville', 'kansas', 'cleveland', 'kansas', 'warren', 'cleveland', 'kansas', 'kansas', 'tennessee', 'tallahassee', 'kansas', 'allen', 'kansas', 'kansas', 'kansas', 'kansas', 'kansas', 'baltimore', 'kansas', 'alabama', 'florida', 'kansas', 'valdosta', 'arkansas', 'bauchi', 'escambia', 'michigan', 'ashland', 'cumberland', 'alabama', 'province', 'upshur', 'campbell', 'zemplén', 'carter', 'calhoun', 'valdosta', 'morrow', 'grandview', 'escambia', 'stockbridge', 'calhoun', 'calhoun', 'seton', 'valdosta', 'escambia', 'valdosta', 'valdosta', 'americus', 'michigan', 'kansas', 'kansas', 'kansas', 'washington', 'wyoming', 'oakland', 'minnesota', 'michigan', 'prescott', 'michigan', 'kansas', 'bexar', 'harris', 'houston', 'bexar', 'carter', 'michigan', 'nacogdoches', 'mitchell', 'richardson', 'wyoming', 'michigan', 'kansas', 'pomona', 'missouri', 'kansas', 'perris', 'childress', 'kansas', 'texas', 'texas', 'kansas', 'texas', 'lexington', 'escambia', 'ducks', 'kansas', 'ashland', 'cumberland', 'kansas', 'texas', 'nacogdoches', 'campbell', 'nacogdoches', 'hutchinson', 'missouri', 'nacogdoches', 'crawford', 'elmwood', 'ocala', 'chapman', 'sweetwater', 'hutchinson', 'burlington', 'escambia', 'fayetteville', 'tallahassee', 'ocala', 'lucio', 'abilene', 'ocala', 'kansas', 'wyoming', 'arkansas', 'montana', 'michigan', 'tennessee', 'delaware', 'minnesota', 'mexico', 'bexar', 'wilson', 'nuevo', 'carter', 'virginia', 'weatherford', 'montana', 'nevada', 'palatka', 'tahoe', 'nevada', 'russell', 'nevada', 'palmer', 'montana', 'perris', 'utah', 'perris', 'lucio', 'nebraska', 'laredo', 'nevada', 'oregon', 'illinois', 'wyoming', 'maryland', 'oregon', 'massachusetts', 'oregon', 'mexico', 'bexar', 'davis', 'nuevo', 'palmer', 'virginia', 'lufkin', 'montana', 'inglewood', 'gardena', 'sunnyvale', 'a.', 'oregon', 'oregon', 'illinois', 'chihuahua', 'illinois', 'dakota', 'illinois', 'delaware', 'delaware', 'illinois', 'delaware', 'harbor', 'bexar', 'virginia', 'nuevo', 'virginia', 'illinois', 'weatherford', 'monroe', 'belvidere', 'monticello', 'tahoe', 'belvidere', 'putnam', 'missouri', 'seekonk', 'illinois', 'perris', 'illinois', 'perrysburg', 'martino', 'cruces', 'belvidere', 'clarksville', 'illinois', 'carolina', 'wyoming', 'ducks', 'kansas', 'carolina', 'hampshire', 'kansas', 'colorado', 'nacogdoches', 'harris', 'nuevo', 'allen', 'iowa', 'weatherford', 'crawford', 'rockledge', 'richardson', 'arkansas', 'palmer', 'kansas', 'moorhead', 'arkansas', 'carolina', 'gardena', 'lorenzo', 'kansas', 'texarkana', 'arizona', 'carolina', 'hampshire', 'd.c.', 'tennessee', 'oakland', 'los', 'charleston', 'baltimore', 'newport', 'philadelphia', 'harbor', 'francisco', 'adams', 'houston', 'nuevo', 'allen', 'virginia', 'jackson', 'arlington', 'ohio', 'allen', 'missouri', 'palmer', 'baltimore', 'amador', 'orleans', 'baltimore', 'virginia', 'lucas', 'cleveland', 'arlington', 'carolina', 'atlanta', 'richmond', 'baltimore', 'fresno', 'fresno', 'kansas', 'missouri', 'kansas', 'kansas', 'mexico', 'harris', 'tampa', 'allen', 'missouri', 'pflugerville', 'nevada', 'palmer', 'kansas', 'fresno', 'kansas', 'chino', 'toro', 'kansas', 'pflugerville', 'kansas', 'lancaster', 'detroit', 'chicago', 'arlington', 'chicago', 'francisco', 'walker', 'francisco', 'baker', 'baker', 'moore', 'arlington', 'vegas', 'allen', 'baltimore', 'florida', 'baltimore', 'cleveland', 'd.c.', 'washington', 'washington', 'chicago', 'texas', 'virginia', 'carolina', 'texas', 'colorado', 'warren', 'nuevo', 'allen', 'missouri', 'jackson', 'pasadena', 'nevada', 'allen', 'nevada', 'colorado', 'carolina', 'sebastopol', 'lucio', 'illinois', 'california', 'pasadena', 'carolina', 'california', 'york', 'california', 'washington', 'virginia', 'missouri', 'texas', 'warren', 'baker', 'missouri', 'clark', 'texas', 'baker', 'oregon', 'missouri', 'oregon', 'illinois', 'carolina', 'illinois', 'washington', 'york', 'texas', 'cleveland', 'carolina', 'erie', 'cleveland', 'colorado', 'harris', 'allen', 'missouri', 'berry', 'texas', 'richardson', 'nevada', 'palmer', 'colorado', 'mateo', 'detroit', 'victorville', 'lucio', 'kansas', 'texas', 'carolina', 'vermont', 'washington', 'washington', 'california', 'ashland', 'cumberland', 'missouri', 'province', 'uniontown', 'warren', 'nevada', 'uniontown', 'baker', 'vermont', 'uniontown', 'trumbull', 'glenwood', 'rockledge', 'cambria', 'uniontown', 'thayer', 'uniontown', 'caswell', 'farmington', 'connellsville', 'elizabethtown', 'brookville', 'calabasas', 'lucio', 'farmington', 'uniontown', 'glenwood', 'farmington', 'mechanicsburg', 'huntingdon', 'california', 'virginia', 'rhode', 'ohio', 'oklahoma', 'león', 'davis', 'dallas', 'nuevo', 'carter', 'indiana', 'oklahoma', 'reeves', 'oklahoma', 'nebraska', 'roberts', 'montana', 'palmer', 'oregon', 'fresno', 'oregon', 'gardena', 'toro', 'nebraska', 'oklahoma', 'oklahoma', 'nebraska', 'indiana', 'michigan', 'dallas', 'michigan', 'dallas', 'oklahoma', 'alabama', 'smith', 'angeles', 'mexico', 'davis', 'angeles', 'nuevo', 'carter', 'florida', 'laurel', 'inglewood', 'chula', 'allen', 'oregon', 'angeles', 'texas', 'yreka', 'texas', 'angeles', 'angeles', 'angeles', 'angeles', 'angeles', 'texas', 'angeles', 'westmoreland', 'warren', 'nevada', 'tamaulipas', 'parker', 'illinois', 'wyoming', 'monroe', 'glenwood', 'seekonk', 'belvidere', 'harrison', 'kanawha', 'davidson', 'farmington', 'chillicothe', 'chillicothe', 'farmington', 'perrysburg', 'croce', 'tarrant', 'glenwood', 'clarksville', 'wisconsin', 'illinois', 'illinois', 'california', 'virginia', 'virginia', 'warren', 'illinois', 'illinois', 'colorado', 'harris', 'houston', 'dorado', 'carter', 'iowa', 'oklahoma', 'jackson', 'pasadena', 'allen', 'wyoming', 'palmer', 'colorado', 'montana', 'milwaukee', 'siskiyou', 'lucio', 'kansas', 'dorado', 'pasadena', 'carolina', 'tulsa', 'connecticut', 'detroit', 'kansas', 'california', 'oklahoma', 'alabama', 'kansas', 'kansas', 'philadelphia', 'missouri', 'mitchell', 'nebraska', 'allen', 'iowa', 'tennessee', 'jackson', 'grove', 'alabama', 'illinois', 'stockbridge', 'harrison', 'missouri', 'virginia', 'illinois', 'centerville', 'mississippi', 'oregon', 'hillsville', 'putnam', 'oklahoma', 'grove', 'alabama', 'connecticut', 'alabama', 'tennessee', 'virginia', 'virginia', 'alabama', 'virginia', 'connecticut', 'connecticut', 'harris', 'houston', 'harris', 'virginia', 'ohio', 'mississippi', 'kansas', 'minnesota', 'detroit', 'virginia', 'kansas', 'arizona', 'kansas', 'detroit', 'chicago', 'california', 'kansas', 'chicago', 'york', 'miami', 'kansas', 'tucson', 'chihuahua', 'utah', 'wyoming', 'wyoming', 'montana', 'inglewood', 'altadena', 'huachuca', 'utah', 'wyoming', 'sonoma', 'colorado', 'chula', 'altadena', 'sacramento', 'escondido', 'elko', 'colorado', 'chihuahua', 'inglewood', 'wyoming', 'wyoming', 'vermont', 'colorado', 'arizona', 'utah', 'tucson', 'utah', 'utah', 'arizona', 'utah', 'colorado', 'idaho', 'california', 'utah', 'utah', 'arizona', 'brownsville', 'virginia', 'iowa', 'nacogdoches', 'virginia', 'pasadena', 'mississippi', 'mississippi', 'carolina', 'brownsville', 'carolina', 'moorpark', 'iowa', 'louisiana', 'pasadena', 'michigan', 'maryland', 'california', 'alabama', 'michigan', 'maryland', 'oregon', 'michigan', 'harris', 'missouri', 'arlington', 'ohio', 'missouri', 'palmer', 'kansas', 'oakland', 'kansas', 'milwaukee', 'virginia', 'brooks', 'kansas', 'arlington', 'carolina', 'kansas', 'cleveland', 'washington', 'houston', 'atlanta', 'cleveland', 'chicago', 'houston', 'houston', 'cleveland', 'atlanta', 'kansas', 'colorado', 'tucson', 'colorado', 'tallahassee', 'colorado', 'colorado', 'colorado', 'colorado', 'colorado', 'sacramento', 'sacramento', 'spokane', 'nogales', 'colorado', 'spokane', 'flagstaff', 'tucson', 'fayetteville', 'spokane', 'colorado', 'colorado', 'colorado', 'pittsburgh', 'colorado', 'sacramento', 'atlanta', 'colorado', 'pittsburgh', 'nashville', 'colorado', 'atlanta', 'pittsburgh', 'atlanta', 'sacramento', 'colorado', 'weatherford', 'idaho', 'lakewood', 'vassalboro', 'bighorns', 'cohen', 'colorado', 'colorado', 'evansville', 'lakewood', 'crookston', 'spokane', 'nogales', 'toro', 'evansville', 'corsicana', 'lakewood', 'elyria', 'evansville', 'durham', 'milwaukee', 'milwaukee', 'milwaukee', 'arizona', 'jaguars', 'milwaukee', 'kansas', 'milwaukee', 'illinois', 'milwaukee', 'milwaukee', 'milwaukee', 'atlanta', 'evansville', 'milwaukee', 'arlington', 'missouri', 'florida', 'colorado', 'san', 'florida', 'baltimore', 'del', 'kansas', 'arlington', 'carolina', 'detroit', 'chicago', 'california', 'atlanta', 'chicago', 'chicago', 'chicago', 'chicago', 'chicago', 'atlanta', 'chicago', 'chicago', 'washington', 'tucson', 'tucson', 'sacramento', 'florida', 'sacramento', 'sacramento', 'sacramento', 'tulsa', 'florida', 'sacramento', 'tulsa', 'tucson', 'fayetteville', 'tulsa', 'northampton', 'detroit', 'baltimore', 'sacramento', 'kansas', 'pittsburgh', 'kansas', 'baltimore', 'baltimore', 'kansas', 'pittsburgh', 'atlanta', 'kansas', 'detroit', 'sacramento', 'sacramento', 'sacramento', 'russell', 'colorado', 'palmer', 'colorado', 'fresno', 'milwaukee', 'rubio', 'kansas', 'carolina', 'carolina', 'cleveland', 'boston', 'denver', 'jaguars', 'atlanta', 'anderson', 'cleveland', 'philadelphia', 'miami', 'utah', 'cleveland', 'ohio', 'cleveland', 'denver', 'montana', 'colorado', 'phillips', 'texas', 'palmer', 'colorado', 'sacramento', 'texas', 'baltimore', 'adams', 'kansas', 'texas', 'colorado', 'cleveland', 'boston', 'dallas', 'houston', 'cleveland', 'smith', 'chicago', 'philadelphia', 'houston', 'houston', 'chicago', 'chicago', 'ohio', 'chicago', 'philadelphia', 'colorado', 'california', 'richardson', 'wyoming', 'florida', 'colorado', 'mateo', 'portland', 'lucio', 'kansas', 'pasadena', 'fayetteville', 'vermont', 'washington', 'washington', 'california', 'kansas', 'texas', 'washington', 'portland', 'utah', 'texas', 'texas', 'texas', 'kansas', 'utah', 'wyoming', 'colorado', 'california', 'texas', 'allen', 'texas', 'lawrence', 'cleveland', 'sacramento', 'milwaukee', 'mississippi', 'davis', 'cleveland', 'arlington', 'carolina', 'tulsa', 'michigan', 'cleveland', 'cleveland', 'cleveland', 'houston', 'cleveland', 'anderson', 'cleveland', 'chicago', 'houston', 'cleveland', 'cleveland', 'atlanta', 'ohio', 'cleveland', 'cleveland', 'oregon', 'colorado', 'houston', 'indiana', 'arizona', 'carolina', 'arizona', 'sacramento', 'fayetteville', 'spokane', 'tustin', 'arizona', 'kansas', 'tucson', 'fayetteville', 'fayetteville', 'maryland', 'kansas', 'kansas', 'kansas', 'kansas', 'kansas', 'arizona', 'arizona', 'kansas', 'arizona', 'kansas', 'kansas', 'arizona', 'arizona', 'arizona', 'arizona', 'atlanta', 'florida', 'atlanta', 'detroit', 'angeles', 'tulsa', 'angeles', 'angeles', 'boston', 'angeles', 'angeles', 'atlanta', '1986', 'chicago', 'angeles', 'angeles', 'angeles', 'angeles', 'chicago', 'atlanta', 'angeles', 'chicago', 'angeles', 'los', 'angeles', 'miami', 'angeles', 'atlanta', 'sacramento', 'baltimore', 'kansas', 'dorado', 'd.c.', 'maryland', 'd.c.', 'chicago', 'york', 'angeles', 'angeles', 'd.c.', 'chicago', 'philadelphia', 'angeles', 'angeles', 'chicago', 'capitol', 'memphis', 'chicago', 'philadelphia', 'nevada', 'd.c.', 'indiana', 'angeles', 'd.c.', 'tyler', 'rossi', 'kansas', 'texas', 'madison', 'york', 'york', 'harris', 'york', 'york', 'allen', 'york', 'taylor', 'york', 'jackson', 'york', 'york', 'york', 'york', 'york', 'chicago', 'york', 'texas', 'california', 'york', 'york', 'houston', 'houston', 'wilson', 'florida', 'd.c.', 'texas', 'carolina', 'washington', 'york', 'angeles', 'd.c.', 'chicago', 'maryland', 'york', 'angeles', 'texas', 'washington', 'texas', 'chicago', 'washington', 'd.c.', 'connecticut', 'texas', 'chicago', 'york', 'portland', 'toro', 'michigan', 'oklahoma', 'york', 'york', 'california', 'michigan', 'alabama', 'michigan', 'taylor', 'york', 'miami', 'michigan', 'philadelphia', 'michigan', 'york', 'california', 'california', 'michigan', 'oklahoma', 'michigan', 'houston', 'michigan', 'oklahoma', 'lorenzo', 'kansas', 'texas', 'madison', 'lincoln', 'york', 'york', 'york', 'allen', 'kansas', 'allen', 'chicago', 'york', 'dallas', 'york', 'jackson', 'kansas', 'york', 'texas', 'texas', 'california', 'houston', 'california', 'texas', 'texas', 'kansas', 'texas', 'memorial', 'detroit', 'tulsa', 'detroit', 'chicago', '2003', 'houston', 'atlanta', 'chicago', 'nashville', 'york', 'angeles', 'houston', 'chicago', 'atlanta', 'chicago', 'chicago', 'chicago', 'colorado', 'chicago', 'texas', 'houston', 'chicago', 'chicago', 'texas', 'd.c.', 'kansas', 'illinois', 'washington', 'boston', 'denver', 'denver', 'michigan', 'kansas', 'maryland', 'michigan', 'denver', 'kansas', 'texas', 'illinois', 'kansas', 'washington', 'houston', 'texas', 'kansas', 'texas', 'maryland', 'delaware', 'virginia', 'virginia', 'illinois', 'york', 'virginia', 'virginia', 'california', 'virginia', 'virginia', 'kentucky', 'morgan', 'virginia', 'california', 'virginia', 'illinois', 'massachusetts', 'california', 'delaware', 'delaware', 'california', 'virginia', 'virginia', 'virginia', 'indiana', 'virginia', 'illinois', 'missouri', 'virginia', 'connecticut', 'kansas', 'carolina', 'wisconsin', 'washington', 'washington', 'houston', 'kansas', 'kansas', 'washington', 'houston', 'kansas', 'washington', 'kansas', 'ohio', 'kansas', 'washington', 'kansas', 'oregon', 'kansas', 'california', 'houston', 'indiana', 'kansas', 'houston', 'kansas', 'kansas', 'houston', 'michigan', 'york', 'florida', 'boston', 'angeles', 'miami', 'michigan', 'taylor', 'boston', 'york', 'miami', 'angeles', 'boston', 'ohio', 'boston', 'boston', 'san', 'verde', 'miami', 'rhode', 'michigan', 'michigan', 'boston', 'florida', 'maryland', 'michigan', 'minnesota', 'england', 'york', 'oakland', 'boston', 'california', 'angeles', 'detroit', 'taylor', 'chicago', 'york', 'angeles', 'california', 'philadelphia', 'california', 'philadelphia', 'detroit', 'philadelphia', 'california', 'california', 'houston', 'california', 'houston', 'houston', 'philadelphia', 'texas', 'washington', 'phoenix', 'philadelphia', 'virginia', 'maryland', 'michigan', 'florida', 'tennessee', 'california', 'oklahoma', 'michigan', 'jones', 'york', 'miami', 'oklahoma', 'michigan', 'florida', 'texas', 'louisiana', 'florida', 'california', 'tennessee', 'florida', 'michigan', 'louisiana', 'oklahoma', 'tennessee', 'louisiana', 'miami', 'michigan', 'tennessee', 'delaware', 'washington', 'washington', 'california', 'virginia', 'chicago', 'illinois', 'oregon', 'oregon', 'washington', 'd.c.', 'oregon', 'oregon', 'oregon', 'california', 'd.c.', 'indiana', 'indiana', 'florida', 'oregon', 'illinois', 'texas', 'd.c.', 'washington', 'virginia', 'carolina', 'oregon', 'ridgeback', 'ruble', 'banknotes', 'ruble', 'rupee', 'litas', 'gustaf', '1990s', 'yoshiaki', 'dinars', 'technos', 'yen', '13.56', None, 'rupee', 'litas', 'ruble', 'swedish', 'yen', 'litas', 'sterling', 'yuan', 'espírito', 'urartu', 'espírito', 'reutte', 'ako', 'singleton', 'rijeka', 'holbæk', 'barlow', 'coloman', 'goi', 'grigore', 'toyama', 'tomy', 'daugavpils', 'reutte', None, 'kuan', 'quincy', 'kano', 'carinthia', 'tulcea', 'loewenstein', 'galuh', 'kuan', 'waipa', 'trey', 'kuan', 'cuanza', 'ruble', 'peseta', 'ruble', 'rupee', 'litas', 'pengő', 'forint', 'dirham', 'rupee', 'rupee', 'ruble', 'forint', None, 'rupee', 'ruble', 'ruble', 'pengő', 'rupee', 'ruble', 'rupee', 'rupee', 'rupee', 'peseta', 'cassette', 'chips', 'mion', 'chip', 'thackley', 'mutter', 'chips', 'chips', 'ram', 'chip', 'chips', 'chips', 'ddr', 'thara', None, 'wah', 'chips', 'monrovia', 'mb', 'chip', 'chip', 'chip', 'chip', 'chip', 'chip', 'chip', 'megabyte', 'kinshasa', 'banfield', 'sort', 'asset', 'set', 'identity', 'see', 'way', 'see', 'set', 'iranian', 'own', 'based', 'entity', 'vilnius', None, 'deals', 'what', 'ways', 'see', 'own', 'fact', 'see', 'hong', 'sort', 'based', 'action', 'identity', 'sort', 'having', 'conflict', 'shastri', 'allan', 'leviev', 'leviev', 'leviev', 'tibor', 'ashok', 'mahmoud', 'leviev', 'shin', 'leviev', 'leviev', None, 'razak', 'francisco', 'dayananda', 'leviev', 'nikolai', 'mikhail', 'nils', 'leviev', 'leviev', 'schwartz', 'boyarsky', 'kerim', 'moçâmedes', 'roberto', 'leviev', 'roberto', 'louis', 'pauwels', 'collett', 'gogh', 'leopold', '1839', 'julani', 'gogh', 'franz', 'thun', 'casimir', None, 'van', 'louis', 'hattem', 'franz', 'franz', 'anton', 'van', 'pauwels', 'duzer', 'pauwels', 'zukofsky', 'gogh', 'kempen', 'achille', 'pauwels', 'achille', 'franz', 'walger', 'multimillion', 'currency', 'walger', 'rupees', 'multimillion', 'yen', 'walger', 'walger', None, 'multibillion', 'dollars', 'multibillion', 'currency', 'yen', 'rubles', 'multimillion', 'yen', 'rubles', 'multibillion', 'lira', 'rupiah', 'pesos', 'yen', 'currency', 'lira', 'multibillion', 'kroner', 'pesetas', 'lats', 'rupees', 'rials', 'naira', None, 'pesos', 'złoty', 'pesos', 'rials', 'kronor', 'nis', 'pesos', 'pesos', 'rupiah', 'pesos', 'lats', 'pesos', 'lats', 'rupiah', 'sacagawea', 'circus', 'rupees', 'liras', 'heigh', 'kroner', None, 'pesos', 'kyrgyz', 'złoty', 'grosz', 'rubles', 'nok', 'nok', 'tribune', 'baht', 'mohamed', 'malagasy', 'pesos', 'liras', 'pesos', 'kroner', 'liras', 'nok', 'lats', 'austria', 'malaysia', 'azerbaijan', 'indonesia', 'estonia', 'estonia', None, 'brunei', 'rica', 'ghana', 'estonia', 'moldova', 'denmark', 'malaysia', 'moldova', 'qualifier', 'cambodia', 'rabat', 'bissau', 'rica', 'azerbaijan', 'uruguay', 'albania', 'laos', 'alberta', 'albania', 'sweden', 'rials', 'rupiah', 'hryvnia', 'hryvnia', None, 'rupiah', 'złoty', 'hryvnia', 'hryvnia', 'kroner', 'at&t', 'rupiah', 'rupiah', 'rupiah', 'hryvnia', 'peso', 'hryvnia', 'rupiah', 'litas', 'kroner', 'pacific', 'dinar', 'ruble', 'rupiah', 'ruble', 'ruble', None, 'rupiah', 'ruble', 'ruble', 'ruble', 'rupiah', 'ruble', 'peso', 'franc', 'rupiah', 'ruble', 'peso', 'ruble', 'rupiah', 'ruble', 'ruble', 'guilder', 'ruble', 'ruble', 'yen', 'tarmo', 'thaler', None, 'acosta', 'bahamian', 'thaler', 'thaler', 'vanden', 'yen', 'kroon', 'monica', 'yen', 'szabo', 'axia', 'torres', 'ruble', 'marcelo', 'tarmo', 'rupiah', 'sacagawea', 'vanden', 'léopard', 'thaler', 'naira', 'rubles', 'rubles', None, 'lei', 'pesos', 'lublin', 'lei', 'rubles', 'euros', 'rubles', 'pesos', 'baht', 'lira', 'rupiah', 'pesos', 'rubles', 'pesos', 'lira', 'lei', 'dollars', 'lira', 'kroner', 'francs', 'rubles', 'rupees', 'winning', 'winning', None, 'beating', 'winning', 'winning', 'winning', 'winning', 'winning', 'winning', 'winning', 'winning', 'winning', 'winning', 'winning', 'winning', 'winning', 'winning', 'win', 'winning', 'winning', 'winning', 'winning', 'winning', 'winning', 'winning', 'winning', 'winning', 'winning', None, 'idr', 'pesos', 'złoty', 'zlotys', 'roubles', 'zlotys', 'litas', 'espn', 'pesos', 'dirham', 'peseta', 'pesos', 'manat', 'pesos', 'zlotys', 'kyat', 'c$', 'kroner', 'million', 'rupees', 'zlotys', 'zlotys', None, 'pesos', 'kwacha', 'złoty', 'lats', 'hryvnia', 'lats', 'zł', 'espn', 'baht', 'algerian', 'peseta', 'pesetas', 'lats', 'peseta', 'lats', 'rupiah', 'cent', '50p', 'zł', 'lats', 'lakh', 'rials', 'lats', None, None, None, None, None, None, None, None, None, None, None, None, None, None, None, None, None, None, None, None, None, None, None, None, None, None, None, None, None, 'mexican', 'hryvnia', 'rubles', 'kroner', 'zloty', 'vietnamese', 'peseta', 'peseta', 'peseta', 'zloty', 'peseta', 'koruna', 'cambodian', 'canadian', 'litas', 'kroner', 'million', 'koruna', 'rupees', 'rials', 'dollar', 'rials', 'koruna', None, 'rupee', 'ruble', 'ruble', 'riksdaler', 'pengő', 'rupee', 'dirham', 'escudo', 'ruble', 'escudos', 'ruble', 'rupee', 'rupee', 'litas', 'guilder', 'forint', 'dirham', 'pengő', 'rupee', 'ruble', None, 'rupee', 'kroner', 'lire', 'rubles', 'kronor', 'rubles', 'kroner', 'rials', 'rials', 'pesos', 'lire', 'rials', 'lire', 'kroner', 'rials', 'kroner', 'kroner', 'kroner', 'lire', 'kroner', 'roubles', 'rials', 'yen', 'kroner', 'kroner', None, 'rials', 'pesos', 'hryvnia', 'forints', 'kronor', '4.25', 'baht', 'liras', 'nicaraguan', 'pesetas', 'zlotys', 'pesetas', 'lats', 'baht', 'canadian', 'litas', 'kroner', 'zlotys', 'forints', 'rupees', 'rials', 'baht', 'naira', None, 'pesos', 'arg', 'vix', 'trung', 'arg', 'arg', 'trung', 'omer', 'grenada', 'mer', 'glu', 'moraes', 'omer', 'trung', 'quebec', 'dunstan', 'bonaventure', 'vix', 'vix', 'tilak', 'arg', 'vix', 'arg', 'kitts', 'arg', None, 'tanjung', 'ucsd', 'grenadines', 'arg', 'guilder', 'rupee', 'didio', 'rupee', 'franc', 'rupiah', 'manat', 'peso', 'reichsmark', 'rupee', 'reichsmark', 'botevgrad', 'guilder', 'currency', 'pengő', 'manat', 'rupiah', 'rupee', 'hryvnia', None, 'rupee', 'rupiah', 'złoty', 'hryvnia', 'lei', 'litas', 'manat', 'yuan', 'algerian', 'mauritanian', 'pesos', 'manat', 'manat', 'lira', 'lei', 'libra', 'litas', 'kroner', 'terran', 'yuan', 'manat', 'yen', 'litas', None, 'pesos', 'złoty', 'manat', 'rubles', 'rubles', 'euros', 'rubles', 'francs', 'pesos', 'pesos', 'rubles', 'pesos', 'rubles', 'rials', 'c$', 'rubles', 'kroner', 'rubles', 'rubles', 'rupees', 'rubles', 'rubles', 'rubles', 'rubles', 'rubles', None, 'pesos', 'krw', 'rubles', 'rubles', 'rubles', 'rubles', 'inc.', 'kyat', 'kyat', 'rupiah', 'kyat', 'peso', 'kroner', 'kyat', 'billon', 'litas', 'kroner', 'forint', 'kyat', 'kyat', 'kyat', None, 'kyat', 'rupiah', 'złoty', 'kyat', 'kroner', 'vietnamese', 'currency', 'multibillion', 'pesos', 'baht', 'multibillion', 'multibillion', 'multibillion', 'multibillion', 'multibillion', 'currency', 'coins', 'rupees', 'baht', 'multibillion', 'multibillion', 'multibillion', 'multibillion', None, 'dollars', 'multibillion', 'currency', 'currency', 'multibillion', 'dollars', 'baht', 'petra', 'asunción', 'este', 'kyiv', 'da', 'ding', 'ji', 'darling', 'zagreb', 'oldenburg', 'georg', 'oldenburg', 'ji', 'ri', 'tokyo', 'jung', 'tarnovo', 'vilnius', None, 'kang', 'baca', 'suk', 'kraków', 'ding', 'oldenburg', 'berg', 'gu', 'lviv', 'hof', 'daughter', 'mum', 'granddaughter', 'bridegroom', 'brother', 'police', 'mother', 'cousin', 'bridegroom', 'mother', 'police', 'mother', 'mother', 'mother', 'prostitute', 'widowed', 'mother', 'father', 'eldest', 'brother', 'police', 'father', 'mother', 'cousin', 'son', 'police', 'grandmother', 'daughter', 'mother', 'girl', 'prostitute', 'mother', 'aunt', 'mother', 'mum', 'bridegroom', 'he', 'grandson', 'woman', 'father', 'grandmother', 'wife', 'wife', 'bridegroom', 'grandmother', 'daughter', 'mum', 'he', 'prince', 'girl', 'brother', 'police', 'father', 'elder', 'mother', 'cousin', 'son', 'uncle', 'uncle', 'mother', 'girlfriend', 'mother', 'daughter', 'mother', 'girlfriend', 'mother', 'daughter', 'prince', 'another', 'brother', 'police', 'grandson', 'elder', 'aunt', 'nephew', 'cousin', 'nephew', 'sons', 'uncle', 'grandson', 'cousin', 'his', 'he', 'cousin', 'widowed', 'wife', 'granddaughter', 'bridegroom', 'prostitute', 'widowed', 'cousin', 'daughter', 'bridegroom', 'mother', 'stepdaughter', 'daughter', 'mum', 'bridegroom', 'mother', 'niece', 'nursemaid', 'granddaughter', 'tomboy', 'niece', 'babysitter', 'niece', 'granddaughter', 'esme', 'bridegroom', 'doreen', 'a', 'aunt', 'daughter', 'prostitute', 'aunt', 'niece', 'mum', 'granddaughter', 'police', 'grandmother', 'daughter', 'bridegroom', 'mother', 'father', 'mum', 'mother', 'brother', 'police', 'father', 'sons', 'granddaughter', 'him', 'evil', 'prince', 'cops', 'prince', 'father', 'bridegroom', 'policemen', 'mother', 'mother', 'mum', 'bridegroom', 'mother', 'mother', 'grandmother', 'unaffected', 'uncharacteristically', 'talkative', 'incomplete', 'inefficient', 'insufficiently', 'lanced', 'uncharacteristically', 'surprisingly', 'ineffectual', 'uncontroversial', 'unlucky', 'insufficiently', 'admittedly', 'infrequent', 'sufficiently', 'accurate', 'amateur', 'uncharacteristically', 'uncharacteristically', 'slow', 'exceedingly', 'unwilling', 'reasonably', 'ineffective', 'uncharacteristically', 'uncharacteristically', 'uncharacteristically', 'unusually', 'predictably', 'manner', 'quietly', 'charming', 'rest', 'evidently', 'once', 'angry', 'loved', 'gone', 'being', 'could', 'difficult', 'ready', 'slow', 'found', 'unwilling', 'fast', 'hunt', 'mostly', 'supposedly', 'instead', 'fantastic', 'supposes', 'eliminates', 'quipped', 'walked', 'angrily', 'replies', 'telegraphed', 'stoically', 'replies', 'that', 'noticing', 'quotes', 'that', 'dictating', 'boxing', 'pulls', 'cheerfully', 'industrialisation', 'rarest', 'pretended', 'walked', 'mistake', 'slows', 'hastened', 'excitedly', 'imitates', 'remark', 'instead', 'quipped', 'noticing', 'completed', 'anyhow', 'anyway', 'further', 'anyway', 'that', 'acknowledge', 'sporadically', 'not', 'push', 'slowed', 'found', 'unwilling', 'mistake', 'slowed', 'hastened', 'roper', 'that', 'misfortunes', 'that', 'unbelievable', 'duplicity', 'inefficient', 'accustomed', 'partially', 'angry', 'totally', 'consequence', 'unaffected', 'scared', 'being', 'totally', 'because', 'somewhat', 'too', 'calm', 'uncommon', 'unwilling', 'totally', 'somewhat', 'unintentionally', 'somewhat', 'awesome', 'obscured', 'quiet', 'timid', 'surely', 'enraged', 'remember', 'goldstar', 'many', 'ignore', 'can', 'accurately', 'able', 'calm', 'unwilling', 'suffer', 'causing', 'drown', 'misfortunes', 'whenever', 'incredible', 'disappear', 'relax', 'cheery', 'able', 'however', 'confronts', 'unfortunately', 'prompting', 'interruptions', 'only', 'flaws', 'frequent', 'however', 'exact', 'amateur', 'throws', 'calm', 'caused', 'uncommon', 'refuses', 'shelter', 'caused', 'fast', 'caused', 'dixon', 'similar', 'however', 'incredible', 'confusion', 'composure', 'cheery', 'survives', 'supply', 'enraged', 'accept', 'goldstar', 'seldom', 'seem', 'might', 'accurately', 'easier', 'calm', 'faster', 'uncommon', 'unwilling', 'slower', 'gulliver', 'vary', 'unintentionally', 'depending', 'fantastic', 'extent', 'demeanor', 'playful', 'fully', 'loath', 'reinstatement', 'goldstar', 'many', 'clearly', 'frequent', 'these', 'characterize', 'uruguayan', 'push', 'calm', 'gradual', 'uncommon', 'insist', 'healthful', 'treating', 'slowing', 'abrupt', 'boldly', 'contrasted', 'deplored', 'contrasted', 'marvellous', 'attributing', 'demeanour', 'cheery', 'work', 'earnestly', 'accepting', 'loser', 'other', 'seeming', 'frequent', 'possibility', 'exact', 'amateur', 'moves', 'accelerated', 'uncommon', 'prevented', 'untimely', 'gulliver', 'predicament', 'moves', 'incredible', 'seeming', 'peacefully', 'cheery', 'completes', 'unwillingly', 'enraged', 'gets', 'being', 'clearly', 'actually', 'down', 'slowly', 'convinced', 'down', 'usually', 'happened', 'instead', 'fantastic', 'quietly', 'smitten', 'then', 'somehow', 'then', 'enraged', 'gone', \"n't\", 'been', 'clearly', 'might', 'put', 'hesitant', 'properly', 'never', 'fast', 'hunt', 'mistake', 'same', 'fantastic', 'actually', 'constantly', 'cheery', 'never', 'surely', 'they', 'loved', 'because', 'fortunately', 'fortunately', 'interruptions', 'fortunately', 'careful', 'he', 'fortunately', 'fortunately', 'continual', 'uncommon', 'hesitated', 'fortunately', 'fortunately', 'fortunately', 'fortunately', 'persevered', 'uncommon', 'fortunately', 'fortunately', 'fortunately', 'fortunately', 'fortunately', 'unfailingly', 'fortunately', 'inefficient', 'fortunately', 'enraged', 'fortunately', 'fortunately', 'interruptions', 'evident', 'either', 'exact', 'amateur', 'slow', 'calm', 'slow', 'mainly', 'unwilling', 'shelter', 'problems', 'fast', 'caused', 'stream', 'mainly', 'tragic', 'typical', 'fantastic', 'owing', 'quiet', 'carefree', 'entire', 'inefficient', 'quite', 'exclusively', 'angry', 'love', 'continuing', 'occasional', 'girl', 'so', 'fast', 'happy', 'slow', 'uncommon', 'unwilling', 'sure', 'fast', 'fearless', 'fortunate', 'fit', 'awesome', 'actually', 'quiet', 'talkative', 'so', 'thankful', 'angry', 'loved', 'so', 'scared', 'being', 'might', 'better', 'always', 'unwilling', 'should', 'fast', 'they', 'similar', 'obviously', 'instead', 'really', 'actually', 'too', 'timid', 'only', 'better', 'obviously', 'either', 'angry', 'loved', 'might', 'get', 'have', 'clearly', 'exact', 'nicknamed', 'slow', 'calm', 'decline', 'uncommon', 'unwilling', 'presumably', 'suffering', 'fast', 'caused', 'lady', 'resembles', 'tragic', 'typical', 'wonderful', 'presumably', 'quiet', 'cheery', 'probably', 'inefficient', 'evidently', 'mostly', 'enraged', 'loved', 'latter', 'boy', 'probably', 'perhaps', 'so', 'happy', 'rise', 'uncommon', 'unwilling', 'if', 'suffer', 'so', 'i', 'similarly', 'obviously', 'every', 'awesome', 'implying', 'feeling', 'cheery', 'every', 'surely', 'every', 'angry', 'everybody', 'if', 'loser', 'being', 'if', 'slow', 'happy', 'slow', 'uncommon', 'hesitant', 'safer', 'fast', 'aaliyah', 'resembles', 'terribly', 'except', 'wonderful', 'seems', 'quiet', 'cheery', 'done', 'thankful', 'angry', 'loved', 'goldstar', 'been', 'actually', 'recently', 'convinced', 'once', 'eventually', 'rapidly', 'eventually', 'gradually', 'disappeared', 'gradually', 'fantastic', 'disappeared', 'slowly', 'smitten', 'eventually', 'rapidly', 'accustomed', 'eventually', 'promptly', 'gone', 'eventually', 'gone', 'already', 'evident', 'already', 'exact', 'recently', 'halted', 'been', 'unwilling', 'slowed', 'abruptly', 'promptly', 'similar', 'regretted', 'instead', 'fantastic', 'promptly', 'removed', 'pretended', 'then', 'promptly', 'anyway', 'withdraw', 'goldstar', 'been', 'doubt', 'could', 'correct', 'joining', 'convinced', 'quickly', 'situation', 'gradually', 'incredible', 'quickly', 'quietly', 'cheery', 'eventually', 'accustomed', 'quickly', 'enraged', 'loved', 'quickly', 'goldstar', 'many', 'evident', 'consequently', 'moved', 'unwilling', 'get', 'fast', 'repeatedly', 'invariably', 'really', 'implying', 'constantly', 'demeanor', 'take', 'hardly', 'allowed', 'angry', 'want', 'get', 'even', 'might', 'correct', 'push', 'calm', 'slowed', 'stays', 'suffering', 'fast', 'cole', 'usual', 'blames', 'gives', 'incredible', 'gives', 'demeanor', 'cheery', 'entire', 'efficiency', 'luckily', 'gives', 'confronts', 'following', 'interruptions', 'loser', 'one', 'gives', 'frequent', 'gives', 'exact', 'team', 'throws', 'calm', 'accelerated', 'uncommon', 'injuries', 'slower', 'misfortune', 'back', 'incredible', 'approaching', 'swiftly', 'cheery', 'proceeded', 'speedily', 'enraged', 'loved', 'goldstar', 'few', 'doubt', 'could', 'measurements', 'pull', 'calm', 'slowed', 'uncommon', 'unwilling', 'fast', 'surprised', 'resembles', 'embarrassed', 'so', 'awesome', 'believing', 'quietly', 'cheery', 'entire', 'inefficient', 'thankful', 'allowed', 'enraged', 'loved', 'abandon', 'goldstar', 'still', 'clearly', 'could', 'accurate', 'retired', 'fast', 'slowed', 'still', 'hesitant', 'quickly', 'gradually', 'mysteriously', 'gradually', 'incredible', 'gradually', 'gradually', 'smitten', 'finally', 'rapidly', 'gotten', 'eventually', 'confronts', 'forever', 'eventually', 'gets', 'once', 'evident', 'eventually', 'exact', 'joining', 'elsewhere', 'convinced', 'find', 'eventually', 'herself', 'looks', 'unaware', 'instead', 'fantastic', 'quietly', 'charming', 'entire', 'scared', 'gets', 'everybody', 'gets', 'still', 'actually', 'get', 'slowly', 'still', 'convinced', 'too', 'progressively', 'ignominiously', 'progressively', 'fantastic', 'consequently', 'calmed', 'morose', 'effectively', 'speedily', 'effectively', 'enraged', 'quietly', 'consequently', 'progressively', 'lured', 'being', 'progressively', 'intermittently', 'consequently', 'recruited', 'readily', 'unwilling', 'rapidly', 'circumstances', 'incredible', 'cause', 'quiet', 'talkative', 'required', 'enough', 'allowed', 'angry', 'get', 'result', 'get', 'have', 'reason', 'must', 'correct', 'amateur', 'able', 'calm', 'accelerated', 'unwilling', 'must', 'cause', 'fast', 'causing', 'through', 'although', 'incredible', 'however', 'keep', 'surprisingly', 'completed', 'needed', 'luckily', 'only', 'meanwhile', \"n't\", 'despite', 'got', 'still', 'nevertheless', 'however', 'needed', 'amateur', 'able', 'still', 'however', 'still', 'convinced', 'keep', 'despite', 'fast', 'however', 'but', 'unlike', 'incredible', 'cause', 'warm', 'talkative', 'can', 'justifiably', 'can', 'angry', 'come', 'cause', 'goldstar', 'are', 'sometimes', 'frequent', 'can', 'accurate', 'professionals', 'very', 'very', 'growth', 'uncommon', 'unwilling', 'normally', 'cause', 'fast', 'triggered', 'stream', 'invariably', 'worried', 'actions', 'danger', 'competition', 'utterly', 'unhelpful', 'resign', 'dilemmas', 'terribly', 'ignorant', 'stunning', 'enlightening', 'warned', 'as', 'possibly', 'fallacies', 'consequence', 'presumably', 'unsustainable', 'justified', 'involved', 'afraid', 'disgraceful', 'some', 'apparently', 'stays', 'competition', 'lodgings', 'finally', 'dilemmas', 'sadly', 'truthful', 'magnificent', 'amusing', 'told', 'named', 'presumably', 'connectives', 'lakeside', 'unknown', 'presumably', 'undisturbed', 'certainty', 'involved', 'anyway', 'languid', 'remarkably', 'unlikely', 'unclear', 'proves', 'plausible', 'convinced', 'reliable', 'epistemological', 'evidently', 'truthful', 'remarkably', 'insightful', 'unclear', 'name', 'unclear', 'contradiction', 'optimistic', 'unclear', 'unclear', 'fruitful', 'plausible', 'certainty', 'unclear', 'startlingly', 'doubtful', 'unhappy', 'competing', 'uncertain', 'plausible', 'preferable', 'suggested', 'questionable', 'truthful', 'remarkable', 'instructive', 'questioned', 'uncertain', 'imply', 'birthplace', 'uncertain', 'unknown', 'beneficial', 'uncertain', 'implicated', 'know', 'coincidental', 'uncertain', 'related', 'events', 'proves', 'confusing', 'convinced', 'dilemmas', 'terribly', 'ignorant', 'surprising', 'instructive', 'aware', 'as', 'confused', 'fallacies', 'might', 'confused', 'problematic', 'warranted', 'investigating', 'afraid', 'disconcerting', 'worried', 'merely', 'aware', 'convinced', 'dilemmas', 'terribly', 'unflinchingly', 'inconvenient', 'unaware', 'as', 'presumed', 'positivists', 'inconvenient', 'problematic', 'presumed', 'agriculturally', 'irrationality', 'inconvenient', 'complicit', 'terribly', 'understated', 'problematic', 'obvious', 'cramped', 'refused', 'ethics', 'terribly', 'ignorant', 'instructive', 'questioned', 'as', 'unclear', 'fallacies', 'afton', 'however', 'presumably', 'agriculturally', 'justified', 'overseeing', 'wrong', 'understated', 'these', 'vague', 'competitions', 'imprecise', 'would', 'dilemmas', 'singularly', 'banal', 'enlightening', 'unhelpful', 'as', 'found', 'fallacies', 'delightfully', 'be', 'found', 'agriculturally', 'illogical', 'unjustified', 'overseeing', 'okay', 'unimaginative', 'unhelpful', 'such', 'inconsistent', 'uninteresting', 'convinced', 'dilemmas', 'terribly', 'truthful', 'remarkable', 'revelatory', 'questioned', 'as', 'presumed', 'falsehood', 'skulduggery', 'truth', 'presumed', 'impactful', 'rationality', 'justified', 'investigating', 'afraid', 'beguiling', 'circumstances', 'truth', 'competition', 'epistemological', 'unlucky', 'truthful', 'uninformed', 'debatable', 'insignificant', 'positivists', 'pessimistic', 'statistically', 'presumed', 'agriculturally', 'priori', 'debatable', 'unaccounted', 'beguiling', 'equivocal', 'unsure', 'debatable', 'uninformed', 'spoilt', 'noncompetitive', 'statistically', 'unimportant', 'questionable', 'understandably', 'ignorant', 'instructive', 'ignored', 'as', 'unclear', 'fallacies', 'glenwood', 'because', 'presumably', 'unsustainable', 'reasonably', 'overseeing', 'afraid', 'bombastic', 'worried', 'otherwise', 'too', 'impractical', 'retire', 'gratifying', 'excruciatingly', 'contacted', 'as', 'possibly', 'positivists', 'downright', 'unlikely', 'presumably', 'profitable', 'dishonest', 'unconscionable', 'involved', 'anyway', 'understated', 'suspicious', 'illegal', 'because', 'shabby', 'statistically', 'impractical', 'persuaded', 'tragic', 'remarkable', 'summaries', 'regarding', 'refers', 'unclear', 'contradiction', 'actual', 'presumably', 'conflicts', 'relation', 'circumstances', 'involved', 'wrong', 'languid', 'situation', 'regarding', 'regarding', 'awkward', 'events', 'unexpected', 'explanation', 'prompted', 'mechanism', 'concerning', 'spectacular', 'reprehensible', 'advised', 'as', 'possibly', 'positivists', 'glenwood', 'any', 'likely', 'economically', 'generalised', 'warranted', 'overseeing', 'bothered', 'disconcerting', 'discouraged', 'such', 'deliberately', 'disreputable', 'competitively', 'impractical', 'would', 'desirous', 'inoffensive', 'uncooperative', 'as', 'presumed', 'positivists', 'inoffensive', 'imprecise', 'presumed', 'uncontroversial', 'uncontroversial', 'administering', 'inoffensive', 'uncontroversial', 'uninterested', 'imprecise', 'indifferent', 'cramped', 'imprecise', 'hesitant', 'ethics', 'uninterested', 'unsophisticated', 'contacted', 'term', 'possibly', 'positivists', 'limerence', 'possibility', 'unknown', 'dormant', 'fideism', 'foreseeability', 'contracting', 'anyway', 'artless', 'reasonable', 'unspecified', 'confusion', 'expiring', 'retire', 'assuming', 'dismisses', 'haratin', 'opted', 'intuitionism', 'misnomer', 'unflinchingly', 'surpassing', 'ahistorical', 'inconsequential', 'fallacies', 'inoffensive', 'inconsequential', 'inconsequential', 'agriculturally', 'irrationality', 'insubstantial', 'unprincipled', 'ignorant', 'artless', 'uncontroversial', 'ignorant', 'exaggerations', 'inconsequential', 'unsophisticated', 'imprecise', 'inconsequential', 'unimportant', 'eschew', 'presuppositions', 'gullible', 'unsophisticated', 'astonishingly', 'enlightening', 'unclear', 'contradiction', 'possibility', 'presumably', 'undisturbed', 'certainty', 'responsibility', 'know', 'understated', 'correct', 'circumstances', 'neither', 'seemed', 'competitors', 'correct', 'surprising', 'impossible', 'unable', 'reliable', 'moral', 'seemed', 'truthful', 'remarkable', 'fascinating', 'unaware', 'contradiction', 'delightful', 'prove', 'seems', 'fruitful', 'reasonably', 'involved', 'really', 'understated', 'satisfactory', 'seemed', 'possible', 'seemed', 'surprisingly', 'competition', 'proves', 'feasible', 'hoped', 'moral', 'genuinely', 'sincere', 'superb', 'entertaining', 'convinced', 'considered', 'delightfully', 'that', 'presumably', 'conducive', 'irrationality', 'unjustified', 'okay', 'understated', 'unhelpful', 'other', 'too', 'competitively', 'unrealistic', 'unhelpful', 'pressured', 'unrealistic', 'desirous', 'unbelievably', 'impressively', 'enlightening', 'reminded', 'as', 'because', 'possibility', 'likely', 'beneficial', 'apprehension', 'investigating', 'anything', 'irritating', 'undesirable', 'worried', 'avoid', 'avoid', 'detrimental', 'embarrassing', 'helpful', 'convinced', 'dilemmas', 'embarrassing', 'remarkable', 'distressing', 'aware', 'like', 'cause', 'implication', 'apparently', 'profitable', 'rationality', 'reasonably', 'incapable', 'n’t', 'understated', 'technically', 'obviously', 'otherwise', 'seemed', 'comfortably', 'technically', 'perfectly', 'utterly', 'impractical', 'convinced', 'moral', 'terribly', 'confident', 'superb', 'entertaining', 'convinced', 'is', 'seems', 'logically', 'charming', 'astonishingly', 'absurdly', 'astonishingly', 'astonishingly', 'ridiculously', 'ridiculously', 'unacceptably', 'astonishingly', 'absurdly', 'astonishingly', 'astonishingly', 'astonishingly', 'astonishingly', 'astonishingly', 'astonishingly', 'absurdly', 'astonishingly', 'probity', 'ridiculously', 'unbelievably', 'astonishingly', 'astonishingly', 'astonishingly', 'astonishingly', 'unacceptably', 'absurdly', 'ridiculously', 'astonishingly', 'generalizes', 'unwarranted', 'overseen', 'anybody', 'kitschy', 'any', 'ledge', 'comfortably', 'rowing', 'accommodations', 'refused', 'ethics', 'foolish', 'stupid', 'magnificent', 'oversimplified', 'instructed', 'beach', 'presumably', 'connectives', 'hypersaline', 'any', 'presumably', 'unjustified', 'involved', 'afraid', 'bombastic', 'worried', 'such', 'because', 'competing', 'embarrassing', 'impractical', 'retire', 'dilemmas', 'thankful', 'ignorant', 'spectacular', 'distressing', 'complained', 'as', 'possibly', 'fallacies', 'glenwood', 'because', 'presumably', 'ephemeral', 'overseeing', 'afraid', 'languid', 'fearful', 'such', 'down', 'comfortably', 'competition', 'unhelpful', 'forced', 'dilemmas', 'disobedient', 'obnoxious', 'stunning', 'enlightening', 'warned', 'as', 'possibly', 'positivists', 'foggy', 'prevent', 'presumably', 'agriculturally', 'stupid', 'pretentious', 'ignorant', 'outrageous', 'indifferent', 'indifferent', 'unhelpful', 'abandon', 'hypocritical', 'foolish', 'arrogant', 'stunning', 'insightful', 'disrespectful', 'arrogant', 'disrespectful', 'carefree', 'unacceptable', 'disrespectful', 'industrious', 'excuse', 'disconcerting', 'unclear', 'uncertain', 'competing', 'preferable', 'chose', 'dilemmas', 'understandably', 'unconcerned', 'unenthusiastic', 'questioned', 'as', 'unclear', 'contradiction', 'glenwood', 'uncertain', 'unclear', 'agriculturally', 'certainty', 'involved', 'might', 'might', 'unable', 'competing', 'likely', 'believing', 'preferable', 'tried', 'potentially', 'moral', 'afraid', 'aware', 'surprising', 'unpalatable', 'aware', 'may', 'might', 'fallacies', 'might', 'likely', 'exploited', 'whether', 'implicated', 'afraid', 'temperatures', 'much', 'temperatures', 'higher', 'however', 'blunt', 'larger', 'much', 'cooler', 'shorter', 'significantly', 'larger', 'slightly', 'larger', 'devices', 'hotter', 'rodders', 'shorter', 'higher', 'newest', 'cooler', 'much', 'cooler', 'smaller', 'shorter', 'higher', 'replace', 'faster', 'slightly', 'faster', 'technologies', 'warmer', 'much', 'cooler', 'smaller', 'shorter', 'higher', 'accommodate', 'weaker', 'narrower', 'much', 'warmer', 'smaller', 'shorter', 'noises', 'higher', 'expanded', 'downward', 'devices', 'height', 'larger', 'much', 'rodders', 'higher', 'introduce', 'easier', 'harder', 'larger', 'easier', 'harder', 'colder', 'much', 'cold', 'noises', 'higher', 'expanded', 'downward', 'long', 'faster', 'technology', 'much', 'cooler', 'shorter', 'higher', 'expanded', 'easier', 'slight', 'larger', 'devices', 'much', 'cold', 'shorter', 'sounds', 'higher', 'introduced', 'easier', 'blunt', 'long', 'faster', 'technologies', 'hard', 'cool', 'color', 'temperatures', 'winters', 'temperature', 'shorter', 'noise', 'higher', 'increase', 'easier', 'broad', 'enables', 'height', 'harder', 'adult', 'larger', 'temperatures', 'temperatures', 'rodders', 'shorter', 'noises', 'higher', 'to', 'aleck', 'colder', 'much', 'lighter', 'shorter', 'higher', 'introduce', 'larger', 'aleck', 'narrower', 'hotter', 'much', 'cold', 'sounds', 'increases', 'same', 'slow', 'ensure', 'slight', 'longer', 'rather', 'devices', 'height', 'hard', 'come', 'colour', 'temperatures', 'warm', 'moreover', 'correspondingly', 'shorter', 'correspondingly', 'bolder', 'olaf', 'correspondingly', 'aleck', 'weaker', 'tolerances', 'narrower', 'colder', 'pleased', 'undoubtedly', 'correspondingly', 'shorter', 'sounds', 'higher', 'changed', 'faster', 'slightly', 'devices', 'harder', 'cooler', 'cool', 'hear', 'higher', 'would', 'still', 'easier', 'ensure', 'quite', 'though', 'devices', 'fit', 'too', 'cool', 'larger', 'become', \"n't\", 'inexpensive', 'cool', 'warm', 'nor', 'certainly', 'cool', 'higher', 'expanded', 'grew', 'hotter', 'much', 'peaking', 'shorter', 'now', 'now', 'push', 'ensure', 'upper', 'long', 'rather', 'fast', 'upper', 'connect', 'right', 'height', 'backs', 'hard', 'upper', 'wrong', 'one', 'orange', 'winter', 'warm', 'upper', 'slow', 'what', 'part', 'upper', 'upper', 'upper', 'top', 'upper', 'upper', 'hear', 'faster', 'slightly', 'devices', 'harder', 'smaller', 'older', 'inexpensive', 'cooler', 'ones', 'especially', 'low', 'rodders', 'smaller', 'shorter', 'sounds', 'higher', 'faster', 'blunt', 'devices', 'receiver', 'harder', 'much', 'rodders', 'smaller', 'shorter', 'sounds', 'higher', 'introduced', 'narrower', 'colder', 'slower', 'much', 'colder', 'shorter', 'marginally', 'expanded', 'aleck', 'much', 'rodding', 'shorter', 'higher', 'quicker', 'narrower', 'talented', 'hotter', 'clearer', 'livelier', 'correspondingly', 'shorter', 'marginally', 'refreshed', 'wiser', 'devices', 'narrower', 'cooler', 'significantly', 'slightly', 'cheaper', 'narrower', 'much', 'rodding', 'shorter', 'significantly', 'modernized', 'aleck', 'narrower', 'much', 'rodders', 'shorter', 'higher', 'expanded', 'slightly', 'devices', 'temperatures', 'rodders', 'shorter', 'sounds', 'higher', 'expanded', 'faster', 'slightly', 'colder', 'narrower', 'fabians', 'maumelle', 'funnier', 'colder', 'harder', 'slower', 'funnier', 'undoubtedly', 'correspondingly', 'rodders', 'proportionately', 'shorter', 'marginally', 'much', 'wiser', 'much', 'cold', 'higher', 'changed', 'easier', 'slightly', 'faster', 'devices', 'much', 'rodders', 'significantly', 'larger', 'safer', 'children', 'colder', 'importantly', 'extent', 'rodding', 'shorter', 'significantly', 'expanded', 'changed', 'larger', 'narrower', 'harsher', 'colder', 'much', 'rodders', 'shorter', 'significantly', 'expanded', 'aleck', 'colder', 'much', 'cooler', 'smaller', 'shorter', 'higher', 'expanded', 'faster', 'downward', 'technology', 'much', 'much', 'rodders', 'shorter', 'higher', 'expanded', 'faster', 'slightly', 'aleck', 'cool', 'warm', 'slow', 'importance', 'rodding', 'hear', 'increasing', 'changed', 'changed', 'push', 'slight', 'meant', 'sort', 'larger', 'aleck', 'worse', 'cool', 'stronger', 'little', 'winters', 'grandson', 'cold', 'smaller', 'short', 'noises', 'higher', 'later', 'advantage', 'blunt', 'long', 'aleck', 'receiver', 'hard', 'ever', 'drought', 'climates', 'shining', 'possible', 'slow', 'ever', 'topping', 'unlucky', 'last', 'unprecedented', 'blunt', 'perfect', 'longest', 'fast', 'large', 'grids', 'occurrences', 'best', 'height', None, 'temperate', 'strongest', 'strangest', 'height', 'ever', 'hot', 'warm', 'darker', 'convenient', 'slow', 'important', 'higher', 'peaking', 'lasting', 'increasing', 'unlucky', 'decisive', 'significant', 'examples', 'long', 'slower', 'largest', 'devices', 'mysterious', 'taste', 'height', None, 'humid', 'strongest', 'strangest', 'largest', 'attracted', 'chillin', 'hottest', 'galaxy', 'greatest', 'rodders', 'loser', 'turnarounds', 'longest', 'largest', 'fintech', 'happenings', None, 'hottest', 'strongest', 'strangest', 'aspiring', 'warmest', 'warmest', 'warmest', 'coolest', 'warmest', 'warmest', 'lowest', 'smallest', 'warmest', 'coolest', 'strikeout', 'octave', 'corresponds', 'warmest', 'warmest', 'coolest', 'coolest', 'warmest', 'warmest', \"5'6\", None, 'warmest', 'coolest', 'millimeters', 'coolest', 'coolest', 'coolest', 'warmest', 'haunter', 'dullest', 'one', '20–25', 'rate', 'unlucky', 'dullest', 'forty', 'fast', 'largest', 'aleck', 'candy', 'thorkell', None, 'dullest', 'strangest', 'spanning', 'happiest', 'happiest', 'triumphs', 'happiest', 'bleakest', 'latency', 'saddest', 'glories', 'pause', 'bleakest', 'hour', 'hectic', 'happiest', 'happiest', 'happenings', 'saddest', 'centimetres', None, 'happiest', 'strongest', 'saddest', 'happiest', 'saddest', 'saddest', 'happiest', 'frigid', 'happiest', 'quickest', 'wise', 'grandnephew', 'lanier', 'rodders', 'shortest', 'higher', 'loser', 'ridgeway', 'quicker', 'slowing', 'are', 'aleck', 'mysterious', 'afton', None, 'humid', 'weaker', 'strangest', 'aspiring', 'salzuflen', 'clarks', 'chillin', 'humid', 'mofo', 'fifth', 'peaked', 'fifth', 'loser', 'fifth', 'fifth', 'fifth', 'third', 'fifth', 'largest', 'ranked', 'mysterious', 'tenth', None, 'qualifying', 'strongest', 'craziest', 'fourth', 'tenth', 'fifth', 'tenth', 'hottest', 'pale', 'billboard', 'short', 'high', 'loser', 'originally', 'successful', 'short', 'feature', 'feature', 'fast', 'large', 'aleck', 'fantastic', 'strawberry', 'height', None, 'hot', 'strongest', 'fiction', 'top', 'fellow', 'top', 'pink', 'hot', 'hot', 'pink', 'feature', 'billboard', 'higher', 'loser', 'best', 'hit', 'blunt', 'perfect', 'best', 'fast', 'tiny', 'devices', 'fantastic', 'song', 'height', None, 'cool', 'strongest', 'stuff', 'top', 'best', 'pink', 'hot', 'hot', 'darker', 'best', 'slow', 'chart', 'loser', 'last', 'decisive', 'marks', 'perfect', 'longest', 'fast', 'largest', 'best', 'mysterious', 'topping', 'height', None, 'temperate', 'strongest', 'strangest', 'top', 'best', 'thing', 'spots', 'hot', 'warm', 'spots', 'best', 'timeframe', 'rate', 'unlucky', 'years', 'pause', 'becky', 'exactly', 'timeframe', 'pace', 'aleck', 'mysterious', 'poppy', \"5'6\", None, 'predictor', 'scary', 'breadth', 'younger', 'coolest', 'escoria', 'coolest', 'coolest', 'ercall', 'higher', 'goldstar', 'fast', 'marks', 'perfect', 'longest', 'fast', 'located', 'aleck', 'mysterious', 'soy', None, 'cool', 'strongest', 'strangest', '50', 'thing', 'hot', 'hot', 'pale', 'best', 'peaked', 'loser', 'scoring', 'hitting', 'perfect', 'consecutive', 'fast', 'largest', 'aleck', 'mysterious', None, 'cool', 'strongest', 'strangest', 'spanning', 'hot', 'hot', 'shining', 'ever', 'topping', 'loser', 'scoring', 'highest', 'perfect', 'fourth', 'fastest', 'ranked', 'stranger', None, 'strongest', 'strangest', 'highest', 'thing', 'hot', 'hottest', 'pale', 'highest', 'topping', 'smallest', 'fourth', 'locomotion', 'inhumanity', 'longest', 'locomotion', 'largest', 'aleck', 'mysterious', 'proponent', 'fragrance', 'thorkell', None, 'unseasonably', 'integumentary', 'handsomest', 'spreading', 'impressionable', 'handsomest', 'handsomest', 'manpads', 'warm', 'haunter', 'empowering', 'locomotion', 'embodies', 'godly', 'idaho', 'oppressively', 'protective', 'fast', 'blunt', 'examples', 'longest', 'fast', 'largest', 'technology', 'mysterious', 'flavor', None, 'temperate', 'strongest', 'strangest', 'largest', 'biggest', 'hot', 'warm', 'pale', 'accessible', 'excellent', 'important', 'largest', 'eurochart', 'higher', 'goldstar', 'jimmie', 'fastest', 'fastest', 'jarno', 'jimmie', None, 'leatherette', 'lags', 'strangest', 'totality', 'jimmie', 'jimmie', 'jimmie', 'chillin', 'foggy', 'darker', 'fastest', 'jimmie', 'fastest', 'rodding', 'shortest', 'fastest', 'loser', 'jimmie', 'uniqueness', 'actuality', 'boldest', 'centerpieces', 'cognizant', 'doings', 'particularity', None, 'prevails', 'craziest', 'cannibals', 'doberan', 'storages', '2018/2019', 'liveliest', 'boldest', 'greatness', 'greatness', 'olathe', 'onsen', 'dwarfed', 'outset', 'decreasing', 'goldstar', 'supplanting', 'boldest', 'longest', 'slower', 'cheapest', 'bedfellows', 'afton', None, 'climates', 'weaker', 'strangest', 'reichenhall', 'clifty', 'chillin', 'climates', 'shades', 'faster', 'prove', 'higher', 'rodders', 'shortest', 'higher', 'goldstar', 'easiest', 'easiest', 'attractors', \"5'6\", None, 'predictor', 'strangest', 'width', 'thing', 'brighter', 'coldest', 'shining', 'slowest', 'easiest', 'greatness', 'lowest', 'rodding', 'smallest', 'unlucky', 'inhabitant', 'easiest', 'curve', 'dumbest', None, 'climates', 'strongest', 'strangest', 'nicest', 'finisher', 'hottest', 'spots', 'youngest', 'youngest', 'lowest', 'rodders', 'shortest', 'loser', 'youngest', 'fastest', 'placings', 'runner', 'intelligent', 'thing', 'weighs', None, 'cool', 'strongest', 'strangest', 'thing', 'brighter', 'temperature', 'coldest', 'darker', 'perfect', 'perfect', 'lowest', 'billboard', 'length', 'loser', 'accurate', 'difference', 'length', 'slower', 'nastiest', None, 'gentlest', 'strongest', 'strangest', 'ablest', 'ischl', 'stupidest', 'hardiest', 'hardiest', 'laziest', 'hardest', 'cleverest', 'wisest', 'ablest', 'funniest', 'highest', 'fattest', 'cleverest', 'laziest', 'longest', 'cleverest', None, 'smoothest', 'strongest', 'craziest', 'cleverest', 'hardest', 'smoothest', 'chillin', 'smoothest', 'smoothest', 'smoothest', 'arguably', 'liveliest', 'topping', 'liveliest', 'smoothest', 'smoothest', 'smoothest', 'longest', 'smoothest', 'largest', 'smoothest', None, 'cool', 'weaker', 'strangest', 'top', 'hot', 'hot', 'darker', 'ever', 'peaking', 'loser', 'hardest', 'hardest', 'longest', 'slower', 'smaller', 'mysterious', None, 'happiest', 'isospin', 'strangest', 'totality', 'mightiest', 'horrible', 'strangest', 'strangest', 'strangest', 'shadows', 'smoothest', 'smoothest', 'truly', 'turnouts', 'strangest', 'gigantic', 'turnouts', 'nicest', 'wonders', 'cleverest', 'longest', 'smoothest', 'nicest', None, 'cool', 'strongest', 'strangest', 'within', 'become', 'hot', 'hot', 'spot', 'ever', 'rodders', 'goldstar', 'rapid', 'rapid', 'last', 'rapid', 'largest', 'automation', 'haunted', None, None, None, None, None, None, None, None, None, None, None, None, None, None, None, None, None, None, None, None, None, None, None, None, None, None, None, None, None, None, None, None, None, 'magnitude', 'coolest', 'aussee', 'coolest', 'coldest', 'coolest', 'coolest', 'coolest', 'coolest', 'lowest', 'shortest', 'coolest', 'years', 'strikeout', 'dohme', 'permutations', 'coolest', 'coolest', 'coolest', 'unprecedented', 'strawberry', 'height', None, 'strangest', 'entertainers', 'thing', 'hot', 'hottest', 'slowest', 'highlight', 'vh1', 'one', 'goldstar', 'comeback', 'sorts', 'specials', 'largest', 'favorites', None, 'favorites', 'largest', 'freezing', 'underside', 'smoothest', 'slowest', 'arguably', 'topping', 'gentlest', 'smoothest', 'striking', 'longest', 'largest', 'samsung', None, 'gentlest', 'strongest', 'delight', 'doberan', 'faint', 'chillin', 'refreshing', 'mofo', 'exhilarating', 'greatness', 'greatness', 'highpoint', 'rodding', 'length', 'relative', 'goldstar', 'birthplace', 'surprising', 'length', 'slower', 'cheapest', 'terrifying', \"5'6\", None, 'baranof', 'strangest', 'kissingen', 'brighter', 'hot', 'hot', 'grey', 'ever', 'grandson', 'topping', 'loser', 'consecutive', 'blunt', 'longest', 'slower', 'largest', 'aleck', 'mysterious', 'osmanthus', None, 'humid', 'strongest', 'strangest', 'longest', 'sequencer', 'decreased', 'perception', 'enhances', 'flocks', 'generates', 'chance', 'strategies', 'decrease', 'conceptualize', 'jumpers', 'listened', 'transcript', 'big', 'n’t', 'laughter', 'shown', 'fast', 'loons', 'really', 'decompose', 'compose', 'decreased', 'explain', 'discovers', 'improve', 'generated', 'decrease', 'conceive', 'myself', 'why', 'crying', 'seen', 'fast', 'really', 'vanishes', 'read', 'codes', 'decreased', 'context', 'generated', 'implementation', 'increased', 'looks', 'know', 'cry', 'what', 'fast', 'really', 'vanishes', 'codes', 'particular', 'flies', 'jumps', 'listened', 'looks', 'printed', 'we', 'shout', 'here', 'shuffled', 'sang', 'fast', 'swims', 'we', 'vanishes', 'codes', 'generated', 'implementation', 'increased', 'imagining', 'jumps', 'commenting', 'looks', 'calling', 'wrote', 'ran', 'soundtrack', 'saying', 'fader', 'sang', 'fast', 'swims', 'saying', 'vanishes', 'page', 'music', 'increase', 'increased', 'jumps', 'looks', 'writing', 'nothing', 'soundtrack', 'this', 'vamp', 'fast', 'really', 'vanishes', 'codes', 'music', 'decreased', 'flies', 'increased', 'looks', 'writing', 'rage', 'while', 'galadima', 'fast', 'really', 'vanishes', 'codes', 'decreased', 'generated', 'seeing', 'implementation', 'increased', 'jumps', 'ran', 'nothing', 'cry', 'childers', 'sat', 'fast', 'really', 'vanishes', 'codes', 'decreased', 'examples', 'implementation', 'increased', 'metres', 'looks', 'played', 'wrote', 'ran', 'know', 'shrek', 'here', 'drees', 'sang', 'fast', 'thing', 'vanishes', 'codes', 'implementation', 'increased', 'conceptualize', 'throw', 'sure', 'we', 'cry', 'what', 'fast', 'really', 'vanishes', 'codes', 'decreased', 'improve', 'generated', 'jumps', 'know', 'romancing', 'seen', 'swims', 'talked', 'vanishes', 'codes', 'throw', 'reader', 'we', 'cry', 'here', 'fast', 'really', 'vanishes', 'codes', 'context', 'improve', 'flies', 'generated', 'implementation', 'runner', 'looks', 'plays', 'quoted', 'runs', 'quoted', 'mad', 'latter', 'fast', 'remembered', 'vanishes', 'codes', 'music', 'refers', 'starts', 'learned', 'why', 'seen', 'riffle', 'fast', 'something', 'vanishes', 'codes', 'decreased', 'behavior', 'flies', 'generates', 'them', 'increased', 'mimic', 'fact', 'disco', 'seen', 'drees', 'fast', 'vanishes', 'codes', 'decreased', 'context', 'whilst', 'implementation', 'increased', 'know', 'shout', 'here', 'fast', 'know', 'vanishes', 'codes', 'decreased', 'example', 'find', 'improve', 'flies', 'increased', 'jumps', 'we', 'screams', 'here', 'fast', 'really', 'vanishes', 'codes', 'decreased', 'generated', 'increased', 'jumps', 'know', 'here', 'fast', 'really', 'vanishes', 'codes', 'decreased', 'example', 'increased', 'throw', 'wrote', 'ran', 'roar', 'this', 'fast', 'swims', 'saying', 'vanishes', 'codes', 'decreased', 'increased', 'jumps', 'listened', 'played', 'runs', 'know', 'seen', 'rapid', 'vanishes', 'codes', 'decreased', 'example', 'improve', 'increased', 'popularize', 'know', 'cry', 'seen', 'ipod', 'fast', 'really', 'vanishes', 'codes', 'decreased', 'context', 'flies', 'generated', 'implementation', 'increased', 'throw', 'reader', 'soundtrack', 'stating', 'reshuffle', 'fast', 'stating', 'vanishes', 'codes', 'increase', 'discovers', 'generated', 'implementation', 'increased', 'emulate', 'commenting', 'looks', 'immediately', 'writing', 'what', 'pace', 'swam', 'really', 'vanishes', 'walked', 'codes', 'decreased', 'often', 'discovers', 'improve', 'flies', 'generated', 'increased', 'imitate', 'back', 'accurately', 'know', 'picking', 'fast', 'swims', 'really', 'vanishes', 'telling', 'codes', 'decreased', 'how', 'discovers', 'increased', 'imagining', 'jumps', 'telling', 'turned', 'telling', 'knew', 'screams', 'memorizing', 'silently', 'faster', 'swims', 'why', 'instantaneously', 'read', 'codes', 'increases', 'explain', 'enhances', 'flies', 'generates', 'them', 'enable', 'increased', 'jumps', 'listens', 'them', 'runs', 'know', 'teleporting', 'fact', 'fast', 'really', 'vanishes', 'codes', 'decreased', 'describes', 'generated', 'seeing', 'implementation', 'jumps', 'looks', 'writing', 'ran', 'says', 'rage', 'seen', 'craze', 'fast', 'thing', 'vanishes', 'writes', 'codes', 'decreased', 'relates', 'enhances', 'flies', 'increased', 'looks', 'again', 'played', 'book', 'ran', 'says', 'screams', 'appears', 'sings', 'swims', 'ourselves', 'vanishes', 'perp', 'read', 'codes', 'decreased', 'explain', 'tsetse', 'generates', 'realizing', 'decrease', 'reshape', 'jumped', 'remind', 'pushing', 'player', 'reread', 'ran', 'why', 'shout', 'what', 'sang', 'silently', 'really', 'vanishes', 'codes', 'decreased', 'examples', 'taking', 'implementation', 'increased', 'indoor', 'nothing', 'blacula', 'there', 'riffle', 'fast', 'vanishes', 'codes', 'decreases', 'concepts', 'enhances', 'flies', 'take', 'jumps', 'reason', 'shrek', 'way', 'rapid', 'wrote', 'codes', 'folk', 'decreased', 'describes', 'flies', 'point', 'implementation', 'increased', 'runner', 'inspired', 'point', 'played', 'prediction', 'wrote', 'said', 'soundtrack', 'describes', \"d'amore\", 'fast', 'commented', 'codes', 'decreased', 'flies', 'generated', 'talking', 'increased', 'why', 'talking', 'seen', 'fast', 'really', 'vanishes', 'codes', 'decreased', 'generated', 'increased', 'looks', 'awe', 'seen', 'fast', 'really', 'vanishes', 'argentine', 'ukrainian', 'swedish', 'croatian', 'portuguese', 'ukrainian', 'slovak', 'klagenfurt', 'korey', 'argentinian', 'argentinian', 'edomite', 'agriculturalist', 'alpinist', 'austrian', 'vardan', 'anil', 'corrado', 'keisuke', 'vardan', 'valletta', 'argentinian', 'tamás', 'zambian', 'leszek', 'argentinian', 'ilya', 'slovak', 'argentinian', 'cambodian', 'vardan', 'belarusian', 'scottish', 'bulgarian', 'slovak', 'ukrainian', 'swedish', 'scottish', 'bulgarian', 'danish', 'bulgarian', 'danish', 'ukrainian', 'bolivian', 'slovak', 'bulgarian', 'argentine', 'samokov', 'laos', 'salinas', 'burma', 'peru', 'dalmatia', 'berchtesgaden', 'mesopotamia', 'kent', 'dragoon', 'wehrmacht', 'crete', 'breezes', 'bengal', 'lieutenant', 'burma', 'thrace', 'otranto', 'california', 'chişinău', 'italian', 'berchtesgaden', 'callao', 'silesia', 'carlos', 'soviet', 'piešťany', 'berchtesgaden', 'nang', 'kalinin', 'enver', 'carlos', 'scottish', 'norwegian', 'slovak', 'argentine', 'swedish', 'croatian', 'serbian', 'danish', 'estonian', 'slovak', 'argentine', 'ukrainian', 'swedish', 'scottish', 'croatian', 'croatian', 'gibraltar', 'croatian', 'slovak', 'argentine', 'ukrainian', 'peruvian', 'scottish', 'croatian', 'slovak', 'argentine', 'belarusian', 'bulgarian', 'ukrainian', 'danish', 'slovak', 'chilean', 'belarusian', 'swedish', 'irish', 'croatian', 'croatian', 'gibraltar', 'croatian', 'slovak', 'croatian', 'argentinian', 'belarusian', 'swedish', 'bulgarian', 'romanian', 'slovak', 'argentine', 'ukrainian', 'norwegian', 'slovak', 'bulgarian', 'argentine', 'belarusian', 'venezuelan', 'irish', 'croatian', 'croatian', 'gibraltar', 'kazakh', 'slovak', 'portuguese', 'kazakh', 'peruvian', 'belarusian', 'peruvian', 'hindi', 'bulgarian', 'spanish', 'romanian', 'slovak', 'german', 'spanish', 'belarusian', 'lao', 'swedish', 'danish', 'chilean', 'slovak', 'argentine', 'belarusian', 'burmese', 'peru', 'persian', 'danish', 'bulgarian', 'danish', 'ukrainian', 'slovak', 'bulgarian', 'argentine', 'ukrainian', 'english', 'jewish', 'chinese', 'english', 'dominican', 'polish', 'english', 'english', 'brazilian', 'belarusian', 'burmese', 'dominican', 'dominican', 'serbian', 'persian', 'croatian', 'kazakh', 'slovak', 'kazakh', 'argentine', 'hungarian', 'belarusian', 'peruvian', 'swedish', 'welsh', 'gibraltar', 'kazakh', 'slovak', 'argentine', 'belarusian', 'irish', 'azerbaijani', 'slovak', 'argentine', 'belarusian', 'swedish', 'armenian', 'bulgarian', 'gibraltar', 'bolivian', 'slovak', 'bulgarian', 'argentine', 'belarusian', 'scottish', 'bulgarian', 'bulgarian', 'slovak', 'argentine', 'belarusian', 'azerbaijani', 'bolivian', 'slovak', 'german', 'vietnamese', 'spanish', 'belarusian', 'vietnamese', 'danish', 'bulgarian', 'gibraltar', 'estonian', 'slovak', 'argentine', 'belarusian', 'swedish', 'irish', 'bulgarian', 'bolivian', 'slovak', 'argentine', 'belarusian', 'scottish', 'norwegian', 'czech', 'bolivian', 'slovak', 'basque', 'slovak', 'argentine', 'slovak', 'belarusian', 'slovak', 'taiwanese', 'scottish', 'slovak', 'slovak', 'chinese', 'slovak', 'argentine', 'ukrainian', 'swedish', 'irish', 'bulgarian', 'bulgarian', 'belgian', 'bolivian', 'slovak', 'cypriot', 'chilean', 'belarusian', 'scottish', 'cypriot', 'lankan', 'slovak', 'spanish', 'belarusian', 'gibraltar', 'slovak', 'argentine', 'belarusian', 'swedish', 'finnish', 'bulgarian', 'danish', 'slovak', 'swedish', 'croatian', 'argentinian', 'belarusian', 'swedish', 'irish', 'croatian', 'croatian', 'gibraltar', 'croatian', 'slovak', 'argentine', 'belarusian', 'swedish', 'norwegian', 'italian', 'romanian', 'slovak', 'armenian', 'spanish', 'lithuanian', 'spanish', 'peruvian', 'dutch', 'bulgarian', 'gibraltar', 'kazakh', 'slovak', 'argentine', 'belarusian', 'norwegian', 'belgian', 'andorran', 'argentinian', 'belarusian', 'argentinian', 'moroccan', 'scottish', 'austrian', 'volos', 'toppserien', 'bengal', 'serbian', 'gibraltar', 'andorran', 'belgian', 'bolivian', 'argentine', 'belarusian', 'vietnamese', 'swedish', 'bulgarian', 'gibraltar', 'romanian', 'argentine', 'belarusian', 'bulgarian', 'bulgarian', 'danish', 'estonian', 'slovak', 'argentine', 'belarusian', 'swedish', 'scottish', 'bulgarian', 'slovak', 'bulgarian', 'argentine', 'belarusian', 'bulgarian', 'bolivian', 'slovak', 'argentine', 'belarusian', 'burmese', 'dominican', 'danish', 'bulgarian', 'belarusian', 'chilean', 'slovak', 'decreases', 'quoted', 'facilitating', 'feed', 'generates', 'just', 'murdered', 'batted', 'formulating', 'jumps', 'knows', 'predict', 'replied', 'knew', 'exponentially', 'breaststroke', 'then', 'ideas', 'tangent', 'walk', 'noted', 'enhance', 'feed', 'flight', 'got', 'escaped', 'implementation', 'dressage', 'predict', 'crying', 'told', 'sales', 'sleep', 'tennis', 'mind', 'point', 'walk', 'dance', 'enhance', 'feed', 'fly', 'mw', 'escaped', 'flies', 'thinks', 'look', 'bicsák', 'screams', 'man', 'asleep', 'tennis', 'cone', 'walk', 'dance', 'decreases', 'feed', 'aircraft', 'go', 'escape', 'jump', 'actually', 'heard', 'look', 'move', 'pay', 'prediction', 'run', 'stating', 'screams', 'appears', 'copies', 'rapidly', 'voice', 'waiting', 'budget', 'contrast', 'pool', 'taken', 'mind', 'dimension', 'ride', 'written', 'dance', 'reduced', 'description', 'feed', 'mw', 'escaped', 'implementation', 'horse', 'predict', 'shouting', 'soon', 'stood', 'golf', 'idea', 'point', 'walk', 'dance', 'increasing', 'wrote', 'improving', 'jet', 'got', 'knocked', 'jump', 'knows', 'turned', 'never', 'shrunk', 'tennis', 'then', 'think', 'arguello', 'bike', 'dance', 'decreases', 'wrote', 'improving', 'mw', 'next', 'implementation', 'jumps', 'predict', 'told', 'sales', 'seated', 'ideas', 'arguello', 'decreases', 'discussed', 'improving', 'feed', 'go', 'hide', 'jumps', 'nothing', 'look', 'move', 'pay', 'predict', 'stating', 'screams', 'seen', 'copies', 'asleep', 'money', 'showing', 'tennis', 'taken', 'mind', 'vanishes', 'walk', 'dance', 'increases', 'describes', 'feed', 'pilots', 'implementation', 'competed', 'realizing', 'later', 'prediction', 'screams', 'soon', 'room', 'tennis', 'ideas', 'woodman', 'walk', 'dance', 'wrote', 'enhance', 'feed', 'batting', 'implementation', 'jumps', 'realizing', 'look', 'predict', 'stating', 'him', 'seated', 'indoor', 'ideas', 'zabriskie', 'walk', 'dancers', 'decreases', 'describes', 'enhances', 'feed', 'generators', 'just', 'implementation', 'jump', 'know', 'listen', 'come', 'move', 'predict', 'stating', 'crying', 'come', 'sales', 'stand', 'baby', 'budget', 'pool', 'followed', 'idea', 'formula_42', 'walk', 'dance', 'decrease', 'wrote', 'enhance', 'feed', 'airplane', 'gone', 'escape', 'jump', 'actually', 'look', 'move', 'run', 'shouting', 'actually', 'rapidly', 'performed', 'bed', 'months', 'pool', 'point', 'walk', 'write', 'dance', 'similarly', 'feed', 'flown', 'go', 'jumps', 'nothing', 'look', 'predict', 'stating', 'crying', 'actually', 'pool', 'mind', 'tipping', 'walk', 'dance', 'enhance', 'feed', 'generate', 'go', 'implementation', 'went', 'responded', 'screams', 'got', 'sales', 'pool', 'went', 'think', 'arguello', 'got', 'wrote', 'improving', 'feed', 'mw', 'got', 'reform', 'told', 'sales', 'tennis', 'think', 'scotch', 'walk', 'dancers', 'wrote', 'improving', 'feed', 'got', 'murdered', 'jump', 'predict', 'replied', 'knew', 'swim', 'think', 'vanish', 'decreases', 'wrote', 'improving', 'feed', 'pilots', 'mw', 'go', 'braves', 'jumps', 'stating', 'yelling', 'realized', 'sales', 'tennis', 'ideas', 'arguello', 'walk', 'dance', 'noting', 'improving', 'feed', 'got', 'batting', 'jump', 'predict', 'school', 'stated', 'yelling', 'soon', 'tennis', 'ideas', 'woodman', 'walk', 'dance', 'wrote', 'enhance', 'feed', 'mw', 'murdered', 'jump', 'wanted', 'prediction', 'screams', 'actually', 'pool', 'idea', 'point', 'walk', 'dance', 'decreases', 'describes', 'enhance', 'feed', 'next', 'implementation', 'jump', 'knows', 'look', 'predict', 'screams', 'when', 'indoor', 'how', 'vanishes', 'walk', 'dance', 'decreases', 'describes', 'improving', 'feed', 'generates', 'murdered', 'implementation', 'jumps', 'knows', 'run', 'stating', 'screams', 'actually', 'sales', 'sing', 'sit', 'bed', 'pool', 'take', 'point', 'walk', 'dance', 'decreases', 'similarly', 'feed', 'fly', 'go', 'trapped', 'jump', 'else', 'look', 'move', 'pay', 'stating', 'yelling', 'why', 'exponentially', 'sings', 'sit', 'swim', 'take', 'think', 'vanish', 'walk', 'dance', 'decreases', 'writes', 'enhance', 'feed', 'pilots', 'generate', \"n't\", 'implement', 'jumps', 'anything', 'look', 'move', 'predict', 'screams', 'soon', 'pool', 'ideas', 'arguello', 'walk', 'dance', 'wrote', 'improving', 'feed', 'escaped', 'implementation', 'realizing', 'predictions', 'screams', 'when', 'performing', 'indoor', 'mind', 'woodman', 'walk', 'dance', 'decreases', 'describes', 'enhance', 'feed', 'flight', 'generate', 'jumps', 'realizing', 'look', 'predict', 'knew', 'sales', 'tennis', 'how', 'zabriskie', 'decreases', 'noting', 'enhances', 'forage', 'planes', 'generates', 'we', 'prioritized', 'jumps', 'knows', 'then', 'predict', 'sales', 'performed', 'stood', 'quarters', 'year', 'strike', 'indoor', 'ideas', 'tipping', 'walk', 'dance', 'increasing', 'introduction', 'improving', 'feed', 'escaped', 'jump', 'put', '90s', 'end', 'onwards', 'stated', 'roaring', 'years', 'pool', 'point', 'park', 'dance', 'enhance', 'feed', 'aircraft', 'mw', 'struck', 'implementation', 'crane', 'actually', 'look', 'prediction', 'screams', 'when', 'swim', 'ideas', 'diverges', 'walk', 'dance', 'noting', 'enhances', 'feed', 'generates', 'got', 'implementation', 'jumps', 'wanting', 'predict', 'stating', 'afterwards', 'sales', 'seated', 'expenditure', 'indoor', 'think', 'arguello', 'walk', 'decreases', 'quoted', 'improving', 'feed', 'generators', 'go', 'murdered', 'jump', 'knows', 'predict', 'stating', 'told', 'sales', 'golf', 'ideas', 'tangent', 'walk', 'dance', 'increasing', 'wrote', 'enhance', 'feed', 'pilots', 'escaped', 'implementation', 'jumps', 'prediction', 'run', 'stating', 'yelling', 'soon', 'music', 'pitched', 'he', 'think', 'glimpsed', 'talked', 'exponentially', 'writes', 'fostering', 'forage', 'generates', 'talked', 'batted', 'jumps', 'predict', 'run', 'talked', 'yelling', 'knew', 'copies', 'exponentially', 'indoor', 'idea', 'point', 'walk', 'dance', 'significantly', 'noting', 'improving', 'feed', 'got', 'escaped', 'jump', 'predict', 'writing', 'stating', 'screams', 'never', 'sales', 'tennis', 'learned', 'tangent', 'walk', 'dance', 'decreases', 'describes', 'improving', 'feed', 'generators', 'implementation', 'continued', 'jump', 'find', 'predict', 'told', 'yelling', 'knew', 'rapidly', 'pool', 'think', 'vanishes', 'walk', 'dance', 'describes', 'improving', 'feed', 'crashed', 'electricity', 'got', 'realizing', 'get', 'crying', 'suddenly', 'asleep', 'before', 'understand', 'arguello', 'write', 'decreases', 'quoting', 'improving', 'feed', 'generates', 'jumped', 'formulating', 'replies', 'back', 'estimating', 'replied', 'telling', 'copies', 'sings', 'ideas', 'arguello', 'walk', 'dance', 'wrote', 'enhance', 'feed', 'mw', 'implementation', 'jump', 'predict', 'yelling', 'soon', 'indoor', 'cone', 'seen', 'noted', 'dance', 'noted', 'enhance', 'feed', 'pilots', 'though', 'presumed', 'implementation', 'found', 'indeed', 'though', 'although', 'heard', 'believed', 'stood', 'dead', 'years', 'pool', 'although', 'disappeared', 'disappeared', 'disappeared', 'apparently', 'improving', 'disappeared', 'feed', 'disappeared', 'nearly', 'gone', 'disappeared', 'barely', 'rebuilding', 'disappeared', 'unaware', 'barely', 'disappeared', 'disappeared', 'handful', 'disappeared', 'disappeared', 'nothing', 'crying', 'disappeared', 'nearly', 'sing', 'disappeared', 'disappeared', 'spend', 'disappeared', 'disappeared', 'soon', 'nothing', 'write', 'risen', 'wrote', 'improving', 'jumped', 'feed', 'got', 'threw', 'replied', 'got', 'sales', 'salary', 'went', 'think', 'arguello', 'dance', 'decreases', 'enhances', 'feed', 'generates', 'go', 'implementation', 'jumps', 'knows', 'look', 'move', 'predicts', 'screams', 'says', 'waiting', 'tennis', 'what', 'tipping', 'walk', 'dogs', 'konga', 'owls', 'wolf', 'looking', 'apples', 'mother', 'colour', 'konga', 'hawk', 'elephants', 'pineapple', 'watermelon', 'garlic', 'prickly', 'coconuts', 'dogs', 'konga', 'hawk', 'cows', 'elephants', 'pineapple', 'watermelon', 'garlic', 'prickly', 'mango', 'pineapple', 'colour', 'konga', 'hawk', 'sheep', 'bear', 'guava', 'dead', 'watermelon', 'garlic', 'prickly', 'mango', 'girl', 'pineapple', 'konga', 'hawk', 'sheep', 'eagle', 'pineapple', 'only', 'watermelon', 'garlic', 'prickly', 'banana', 'pineapple', 'konga', 'citrus', 'watermelon', 'celery', 'prickly', 'citrus', 'crops', 'konga', 'hawk', 'sheep', 'eagle', 'pineapple', 'who', 'watermelon', 'garlic', 'prickly', 'mango', 'route', 'lives', 'pineapple', 'rabbit', 'colour', 'physics', 'denominated', 'ox', 'lion', 'cow', 'beasts', 'guns', 'pineapple', 'stranger', 'watermelon', 'garlic', 'prickly', 'watermelon', 'lane', 'girl', 'pineapple', 'rabbit', 'goat', 'multibillion', 'konga', 'lion', 'cow', 'eagle', 'pineapple', 'supposedly', 'watermelon', 'rat', 'garlic', 'prickly', 'goat', 'mango', 'route', 'girl', 'pineapple', 'dog', 'konga', 'hawk', 'sheep', 'eagle', 'guava', 'alive', 'watermelon', 'garlic', 'prickly', 'mango', 'route', 'mother', 'colour', 'konga', 'hawk', 'elephants', 'citrus', 'cantaloupe', 'prickly', 'citrus', 'konga', 'guava', 'watermelon', 'garlic', 'prickly', 'mango', 'colour', 'konga', 'hawk', 'sheep', 'whelp', 'guava', 'him', 'watermelon', 'prickly', 'mango', 'person', 'dogs', 'colour', 'harpy', 'mules', 'camels', 'guns', 'citrus', 'yaks', 'garlic', 'prickly', 'sugarcane', 'camels', 'sugarcane', 'communication', 'hawk', 'cow', 'bear', 'guava', 'life', 'watermelon', 'garlic', 'prickly', 'goat', 'guava', 'lane', 'mother', 'pineapple', 'dog', 'colour', 'konga', 'lions', 'injury', 'backs', 'colts', 'cowboys', 'citrus', 'play', 'watermelon', 'garlic', 'prickly', 'mango', 'parramatta', 'coconuts', 'abuse', 'broncos', 'panthers', 'cats', 'panthers', 'konga', 'cows', 'citrus', 'watermelon', 'garlic', 'prickly', 'citrus', 'harpy', 'cow', 'bear', 'pineapple', 'woman', 'watermelon', 'rat', 'garlic', 'prickly', 'cow', 'banana', 'lane', 'girl', 'pineapple', 'constructed', 'dog', 'colour', 'goat', 'cat', 'konga', 'lion', 'cow', 'eagle', 'guava', 'woman', 'watermelon', 'rabbit', 'garlic', 'prickly', 'goat', 'mango', 'lane', 'girl', 'pineapple', 'dog', 'colour', 'goat', 'konga', 'lion', 'elephants', 'citrus', 'life', 'watermelon', 'celery', 'prickly', 'citrus', 'citrus', 'konga', 'eagle', 'guava', 'woman', 'watermelon', 'rat', 'garlic', 'prickly', 'mango', 'lane', 'mother', 'pineapple', 'dog', 'colour', 'goat', 'konga', 'lion', 'cow', 'elephants', 'guava', 'watermelon', 'garlic', 'prickly', 'bananas', 'colour', 'bald', 'citrus', 'going', 'watermelon', 'peppers', 'prickly', 'citrus', 'route', 'dolphins', 'citrus', 'chargers', 'nfl', 'cowboys', 'packers', 'opener', 'cowboys', 'starting', 'colts', 'guava', 'even', 'watermelon', 'garlic', 'prickly', 'mango', 'lane', 'pineapple', 'colour', 'konga', 'hawk', 'sheep', 'whelp', 'seeing', 'pineapples', 'highway', 'child', 'dogs', 'konga', 'harpy', 'whelp', 'watermelon', 'prickly', 'citrus', 'route', 'pineapple', 'women', 'chest', 'pineapple', 'rabbits', 'watermelons', 'watermelons', 'dogs', 'watermelons', 'flags', 'signs', 'keep', 'statues', 'him', 'prickly', 'coconuts', 'route', 'crops', 'colour', 'citrus', 'watermelon', 'garlic', 'prickly', 'citrus', 'crops', 'colour', 'konga', 'harpy', 'patients', 'cows', 'citrus', 'watermelon', 'peppa', 'bananas', 'lane', 'child', 'dog', 'colour', 'konga', 'hawk', 'sheep', 'bull', 'guava', 'himself', 'watermelon', 'rabbit', 'rabbit', 'suckling', 'peaches', 'lane', 'helen', 'deeley', 'colour', 'konga', 'wolf', 'naked', 'lamb', 'wolf', 'peaches', 'whom', 'peaches', 'rabbit', 'mango', 'elephants', 'citrus', 'watermelon', 'celery', 'prickly', 'child', 'dogs', 'colour', 'konga', 'verreaux', 'whelp', 'seeing', 'artichokes', 'lane', 'pineapple', 'colour', 'konga', 'lion', 'cows', 'pineapple', 'cantaloupe', 'garlic', 'prickly', 'mango', 'person', 'pineapple', 'dog', 'colour', 'systems', 'konga', 'verreaux', 'whelp', 'guava', 'so', 'cantaloupe', 'prickly', 'guava', 'konga', 'hawk', 'cats', 'guava', 'they', 'watermelon', 'prickly', 'mango', 'sugarcane', 'computing', 'konga', 'world', 'and/or', 'these', 'pineapple', 'watermelon', 'prickly', 'banana', 'relates', 'calculated', 'get', 'implementation', 'listened', 'playing', 'calculate', 'providing', 'know', 'searching', 'so', 'shuffling', 'singing', 'sitting', 'fast', 'radio', 'really', 'walking', 'read', 'implementation', 'increased', 'you', 'played', 'predicting', 'soundtrack', 'searching', 'says', 'barnaby', 'sat', 'fast', 'swimming', 'morning', 'says', 'walking', 'wrote', 'wrote', 'increases', 'discovers', 'implementing', 'increasing', 'playing', 'predicting', 'providing', 'knows', 'unleashes', 'searching', 'appears', 'shuffling', 'sat', 'fast', 'news', 'knows', 'walking', 'writing', 'increases', 'implementation', 'playing', 'providing', 'this', 'shuffling', 'sitting', 'telling', 'walking', 'characterizes', 'writing', 'relates', 'help', 'generated', 'come', 'implemented', 'increased', 'listened', 'playing', 'predicting', 'providing', 'why', 'shout', 'searching', 'although', 'drees', 'sang', 'sitting', 'fast', 'speaking', 'swimming', 'news', 'why', 'walking', 'read', 'decreased', 'context', 'ate', 'improve', 'implementation', 'increased', 'telling', 'played', 'searching', 'appears', 'drees', 'sitting', 'fast', 'calls', 'says', 'walking', 'written', 'decreased', 'implementation', 'played', 'searching', 'comes', 'shuffling', 'sitting', 'fast', 'podcast', 'thing', 'walking', 'writing', 'refers', 'implementation', 'telling', 'searching', 'comes', 'shuffling', 'sitting', 'fast', 'calls', 'walking', 'relates', 'increased', 'playing', 'predicting', 'provided', 'here', 'scarecrow', 'searching', 'here', 'shuffling', 'singing', 'sitting', 'fast', 'swimming', 'show', 'really', 'walking', 'writing', 'decreased', 'examples', 'ate', 'finds', 'know', 'playing', 'predicting', 'providing', 'know', 'cry', 'searching', 'does', 'shuffling', 'sang', 'sitting', 'fast', 'speaking', 'show', 'really', 'walking', 'read', 'example', 'eaten', 'get', 'implementation', 'played', 'predicting', 'replies', 'romancing', 'appears', 'shuffling', 'silently', 'slowed', 'calls', 'jumps', 'written', 'relates', 'estimating', 'implementing', 'predicting', 'providing', 'know', 'cry', 'searching', 'example', 'funky', 'sang', 'sitting', 'fast', 'radio', 'really', 'walking', 'writing', 'decreased', 'refers', 'enhancing', 'come', 'implementing', 'increased', 'listening', 'provided', 'wrath', 'searching', 'says', 'raff', 'sat', 'fast', 'says', 'says', 'walking', 'written', 'increases', 'explains', 'implementation', 'increased', 'replies', 'played', 'shout', 'searching', 'does', 'shuffling', 'singing', 'sat', 'fast', 'swimming', 'news', 'thing', 'walking', 'written', 'increases', 'implementation', 'increased', 'you', 'played', 'scarecrow', 'searching', 'describes', 'drees', 'singing', 'sitting', 'fast', 'calls', 'believes', 'walking', 'increases', 'implementation', 'increased', 'telling', 'playing', 'searching', 'shouts', 'sitting', 'fast', 'telling', 'working', 'telling', 'decreased', 'explain', 'ate', 'improve', 'implementing', 'increasing', 'telling', 'playing', 'analyze', 'providing', 'know', 'does', 'shuffling', 'sang', 'idly', 'slower', 'speaking', 'show', 'n’t', 'walking', 'written', 'decreased', 'instances', 'ate', 'get', 'implemented', 'decrease', 'playing', 'quantify', 'require', 'know', 'shout', 'shuffling', 'sitting', 'fast', 'telling', 'her', 'telling', 'explains', 'discovers', 'implementing', 'telling', 'playing', 'predicting', 'providing', 'thinks', 'searching', 'learn', 'wishing', 'travel', 'news', 'willing', 'redeem', 'trips', 'publish', 'descriptions', 'consume', 'enrich', 'discover', 'money', 'implementing', 'willing', 'player', 'quantify', 'providing', 'knowing', 'devour', 'searching', 'knowing', 'sitting', 'fast', 'calls', 'says', 'walking', 'increases', 'implementation', 'cry', 'searching', 'describes', 'purdie', 'reaches', 'radio', 'looks', 'stands', 'relates', 'implementing', 'increasing', 'reminds', 'predicting', 'mermaid', 'searching', 'lies', 'leatherwood', 'tonight', 'everybody', 'perp', 'furthered', 'instructs', 'alters', 'ate', 'calculated', 'instructs', 'letting', 'implementing', 'lowers', 'remind', 'emrick', 'ensures', 'exclaimed', 'shout', 'locates', 'explains', 'creeps', 'alongs', 'kneel', 'radio', 'says', 'walking', 'enhancing', 'implementation', 'increased', 'played', 'predicting', 'raging', 'searching', 'describes', 'drees', 'sat', 'fast', 'sees', 'characterizes', 'implementing', 'increasing', 'predicting', 'providing', 'unleashes', 'searching', 'creeps', 'silently', 'fast', 'negotiations', 'walking', 'negotiations', 'increase', 'context', 'ate', 'facilitate', 'take', 'generating', 'take', 'implementation', 'increased', 'arrange', 'negotiations', 'predicting', 'facilitate', 'agree', 'blacula', 'negotiation', 'negotiations', 'reshuffling', 'sang', 'negotiations', 'rapid', 'speaking', 'dives', 'finds', 'tells', 'explains', 'discovers', 'tells', 'implementing', 'playing', 'knows', 'searching', 'benjy', 'sitting', 'fast', 'tells', 'walking', 'written', 'decreased', 'implementation', 'increased', 'listening', 'played', 'predicting', 'providing', 'searching', 'comes', 'drees', 'sitting', 'fast', 'swimming', 'calls', 'really', 'writing', 'decreased', 'describing', 'implementing', 'increasing', 'listening', 'played', 'predicting', 'providing', 'searching', 'drees', 'singing', 'sitting', 'quick', 'calls', 'written', 'decreased', 'examples', 'eaten', 'improve', 'discover', 'generating', 'come', 'implementation', 'increased', 'hear', 'predicting', 'providing', 'know', 'shout', 'searching', 'actually', 'ipod', 'sang', 'stand', 'fast', 'speaking', 'swimming', 'radio', 'really', 'walking', 'decreased', 'sees', 'policy', 'increasing', 'reminds', 'providing', 'beast', 'searching', 'describes', 'bassline', 'sitting', 'fast', 'swimming', 'news', 'believes', 'walking', 'describes']\n"
     ]
    }
   ],
   "source": [
    "count_sem_questions =  0\n",
    "count_syn_questions =  0\n",
    "\n",
    "count_sem_sucess      = [0,0,0]\n",
    "count_syn_sucess      = [0,0,0]\n",
    "\n",
    "errors = []\n",
    "\n",
    "\n",
    "files = os.listdir('.\\\\datasets\\\\question-data')\n",
    "for idx,file_name in enumerate(files):\n",
    "    print(file_name)\n",
    "    with open('.\\\\datasets\\\\question-data\\\\'+file_name,'r') as file:\n",
    "        lines = file.readlines()\n",
    "        for line_id,line in enumerate(lines):\n",
    "            if (line_id % 100 == 0):\n",
    "                print(line_id)\n",
    "            a,a_star,b,b_star = line.split(\" \")\n",
    "            b_star = b_star.strip()\n",
    "            #predicted_3cos_add      = three_cos_predict_np(a,a_star,b,b_star)\n",
    "            predicted_3cos_add_norm = three_cos_predict_np_norm(a,a_star,b,b_star)\n",
    "            #predicted_3cos_mult     = predict_three_cos_mult(a,a_star,b,b_star)\n",
    "            #print(a,a_star,b,b_star)\n",
    "            #print(predicted_3cos_add,predicted_3cos_add_norm,predicted_3cos_mult)\n",
    "            if(idx < 5):#first 5 are sem\n",
    "                count_sem_questions += 1\n",
    "                \n",
    "                #if predicted_3cos_add      == b_star:\n",
    "                #    count_sem_sucess[0] += 1\n",
    "                if predicted_3cos_add_norm == b_star:\n",
    "                    count_sem_sucess[1] += 1\n",
    "                else:\n",
    "                    errors.append(predicted_3cos_add_norm)\n",
    "                #if  predicted_3cos_mult    == b_star:\n",
    "                #    count_sem_sucess[2] += 1\n",
    "            else:\n",
    "                count_syn_questions += 1\n",
    "                \n",
    "                #if predicted_3cos_add      == b_star:\n",
    "                #    count_syn_sucess[0] += 1\n",
    "                if predicted_3cos_add_norm == b_star:\n",
    "                    count_syn_sucess[1] += 1\n",
    "                else:\n",
    "                    errors.append(predicted_3cos_add_norm)\n",
    "                #if  predicted_3cos_mult    == b_star:\n",
    "                #    count_syn_sucess[2] += 1\n",
    "    \n",
    "print(count_sem_questions)\n",
    "print(count_syn_questions)\n",
    "print(count_sem_sucess)\n",
    "print(count_syn_sucess)\n",
    "print(errors)"
   ]
  },
  {
   "cell_type": "code",
   "execution_count": 13,
   "id": "1c15546d",
   "metadata": {},
   "outputs": [],
   "source": [
    "import winsound\n",
    "winsound.Beep(440, 500)"
   ]
  },
  {
   "cell_type": "code",
   "execution_count": 18,
   "id": "bfdcefd4",
   "metadata": {},
   "outputs": [
    {
     "name": "stdout",
     "output_type": "stream",
     "text": [
      "[('kansas', 145), (None, 124), ('texas', 76), ('fast', 76), ('colorado', 67), ('syria', 56), ('carolina', 56), ('michigan', 54), ('chicago', 51), ('illinois', 50), ('virginia', 48), ('york', 46), ('california', 44), ('implementation', 44), ('slovak', 42), ('feed', 37), ('angeles', 36), ('increased', 36), ('washington', 34), ('decreased', 34), ('arizona', 33), ('vanishes', 33), ('wyoming', 31), ('houston', 31), ('higher', 31), ('codes', 31), ('belarusian', 31), ('prickly', 31), ('allen', 29), ('rubles', 29), ('pesos', 29), ('watermelon', 29), ('ruble', 28), ('walk', 28), ('dance', 28), ('konga', 28), ('missouri', 27), ('ohio', 27), ('cleveland', 27), ('mother', 27), ('jumps', 27), ('argentine', 27), ('bulgarian', 27), ('winning', 26), ('really', 26), ('shorter', 26), ('strangest', 26), ('morocco', 25), ('oregon', 25), ('searching', 25)]\n"
     ]
    }
   ],
   "source": [
    "import operator\n",
    "dict = {}\n",
    "for error in errors:\n",
    "    if error in dict:\n",
    "        dict[error]+=1\n",
    "    else:\n",
    "        dict[error]= 1\n",
    "sorted_d = sorted(dict.items(), key=operator.itemgetter(1),reverse=True)\n",
    "print(sorted_d[0:50])"
   ]
  },
  {
   "cell_type": "code",
   "execution_count": 3,
   "id": "f30854e9",
   "metadata": {},
   "outputs": [
    {
     "data": {
      "text/plain": [
       "0.3836471551371265"
      ]
     },
     "execution_count": 3,
     "metadata": {},
     "output_type": "execute_result"
    }
   ],
   "source": [
    "(4537 + 2961) / (8869 + 10675)"
   ]
  },
  {
   "cell_type": "code",
   "execution_count": 4,
   "id": "a19487b0",
   "metadata": {},
   "outputs": [
    {
     "data": {
      "text/plain": [
       "0.39592713876381497"
      ]
     },
     "execution_count": 4,
     "metadata": {},
     "output_type": "execute_result"
    }
   ],
   "source": [
    "(4594 + 3144) / (8869 + 10675)"
   ]
  },
  {
   "cell_type": "code",
   "execution_count": 12,
   "id": "ec295e89",
   "metadata": {},
   "outputs": [
    {
     "data": {
      "text/plain": [
       "0.5003069995906673"
      ]
     },
     "execution_count": 12,
     "metadata": {},
     "output_type": "execute_result"
    }
   ],
   "source": [
    "(4526 + 5252) / (8869 + 10675)"
   ]
  },
  {
   "cell_type": "code",
   "execution_count": 11,
   "id": "4c13a56e",
   "metadata": {},
   "outputs": [
    {
     "data": {
      "text/plain": [
       "0.46873720835038885"
      ]
     },
     "execution_count": 11,
     "metadata": {},
     "output_type": "execute_result"
    }
   ],
   "source": [
    "(3943 + 5218) / (8869 + 10675)"
   ]
  },
  {
   "cell_type": "code",
   "execution_count": 13,
   "id": "89ee26fb",
   "metadata": {},
   "outputs": [
    {
     "data": {
      "text/plain": [
       "0.5183688088415882"
      ]
     },
     "execution_count": 13,
     "metadata": {},
     "output_type": "execute_result"
    }
   ],
   "source": [
    "(4686 + 5445) / (8869 + 10675)"
   ]
  },
  {
   "cell_type": "code",
   "execution_count": null,
   "id": "84129e62",
   "metadata": {},
   "outputs": [],
   "source": []
  }
 ],
 "metadata": {
  "kernelspec": {
   "display_name": "Python 3 (ipykernel)",
   "language": "python",
   "name": "python3"
  },
  "language_info": {
   "codemirror_mode": {
    "name": "ipython",
    "version": 3
   },
   "file_extension": ".py",
   "mimetype": "text/x-python",
   "name": "python",
   "nbconvert_exporter": "python",
   "pygments_lexer": "ipython3",
   "version": "3.8.11"
  }
 },
 "nbformat": 4,
 "nbformat_minor": 5
}
