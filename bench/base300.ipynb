{
 "cells": [
  {
   "cell_type": "markdown",
   "id": "9a52c083",
   "metadata": {},
   "source": [
    "#300 was trained on 100 epochs"
   ]
  },
  {
   "cell_type": "code",
   "execution_count": 1,
   "id": "2873f882",
   "metadata": {},
   "outputs": [],
   "source": [
    "import os\n",
    "os.environ['TF_CPP_MIN_LOG_LEVEL'] = '0'\n",
    "os.environ[\"CUDA_VISIBLE_DEVICES\"] = \"-1\""
   ]
  },
  {
   "cell_type": "code",
   "execution_count": 3,
   "id": "04c2c2ad",
   "metadata": {},
   "outputs": [
    {
     "name": "stdout",
     "output_type": "stream",
     "text": [
      "261068\n"
     ]
    }
   ],
   "source": [
    "import numpy as np\n",
    "import tensorflow as tf\n",
    "path = r'..\\\\embeddings\\\\'\n",
    "id_dict = {}\n",
    "word_dict = {}\n",
    "\n",
    "matrix = []\n",
    "dimensions = 300\n",
    "with open(path + \"base2021_300\", 'r' , encoding=\"utf-8\")  as f:\n",
    "    lines = f.readlines()\n",
    "    vocab_size = len(lines)\n",
    "    \n",
    "    matrix = np.zeros((vocab_size,dimensions),dtype=float)\n",
    "    for line in lines:\n",
    "        values = line.split()\n",
    "        word = values[0].strip()\n",
    "        id = len(id_dict)\n",
    "        id_dict[word]=id\n",
    "        word_dict[id] = word\n",
    "        vector = np.asarray(values[1:], \"double\")\n",
    "        matrix[id_dict[word],:] = vector\n",
    "print(len(id_dict))"
   ]
  },
  {
   "cell_type": "code",
   "execution_count": 4,
   "id": "a21edb3f",
   "metadata": {},
   "outputs": [
    {
     "name": "stdout",
     "output_type": "stream",
     "text": [
      "<class 'dict'>\n"
     ]
    }
   ],
   "source": [
    "print(type(word_dict))"
   ]
  },
  {
   "cell_type": "code",
   "execution_count": 5,
   "id": "37a44f52",
   "metadata": {},
   "outputs": [],
   "source": [
    "def find_candidate(sim,id_a,id_a_star,id_b):\n",
    "    myList = [id_a, id_b, id_a_star];\n",
    "    myList.sort();\n",
    "    \n",
    "    if(myList[0] != 0):\n",
    "        index1 = np.argmax(sim[:myList[0]])\n",
    "    else:\n",
    "        index1 = None\n",
    "    sim2 = sim[myList[0]+1:myList[1]]\n",
    "    if len(sim2) > 0:\n",
    "        index2 = np.argmax(sim2)\n",
    "        index2 +=  myList[0]+1\n",
    "    else:\n",
    "        index2 = None\n",
    "    sim3 = sim[myList[1]+1:myList[2]]\n",
    "    if len(sim3) > 0:\n",
    "        index3 = np.argmax(sim3)\n",
    "        index3 +=  myList[1]+1\n",
    "    else:\n",
    "        index3 = None\n",
    "    if(myList[2]+1 < len(sim)):\n",
    "        index4 = np.argmax(sim[myList[2]+1:])\n",
    "        index4 +=  myList[2]+1\n",
    "    else:\n",
    "        index4 = None\n",
    "    myList = [index1, index2, index3,index4];\n",
    "    values = []\n",
    "    myList2 = []\n",
    "    for index in myList:\n",
    "        if index != None:\n",
    "            values.append(sim[index])\n",
    "            myList2.append(index)\n",
    "    index = myList2[np.argmax(values)]\n",
    "    return index"
   ]
  },
  {
   "cell_type": "code",
   "execution_count": 6,
   "id": "6c61e83e",
   "metadata": {},
   "outputs": [],
   "source": [
    "matrix_normalized = tf.nn.l2_normalize(matrix,axis = 1)"
   ]
  },
  {
   "cell_type": "code",
   "execution_count": null,
   "id": "81bc818b",
   "metadata": {},
   "outputs": [],
   "source": [
    "def find_nearest_k(searched_word,k):\n",
    "    list = []\n",
    "    id = id_dict[searched_word]\n",
    "    searched_vector = matrix_normalized[id,:] \n",
    "    \n",
    "    for word in id_dict:\n",
    "        word_weights = matrix_normalized[id_dict[word]]\n",
    "        loss = tf.tensordot(word_weights,searched_vector,axes = 1).numpy()\n",
    "        list = insert(list,(word,loss))\n",
    "        if len(list) > k:\n",
    "            list = list[0:k+1]\n",
    "    return list[0:k]\n",
    "\n",
    "# Function to insert element\n",
    "def insert(list, tuple):\n",
    "    (word,n) = tuple\n",
    "    if(len(list) == 0):\n",
    "        list = [(word,n)]\n",
    "    # Searching for the position\n",
    "    for i in range(len(list)):\n",
    "        (word_i,n_i) = list[i]\n",
    "        if n_i < n:\n",
    "            index = i\n",
    "            break\n",
    "      \n",
    "    # Inserting n in the list\n",
    "    list = list[:i] + [(word,n)] + list[i:]\n",
    "    return list\n",
    "\n",
    "\n",
    "print(find_nearest_k('smaller',7))#this should produce one, for the same vectors\n",
    "print(find_nearest_k('computer',7))"
   ]
  },
  {
   "cell_type": "markdown",
   "id": "0d6e185c",
   "metadata": {},
   "source": [
    "## 3cosAdd "
   ]
  },
  {
   "cell_type": "code",
   "execution_count": 7,
   "id": "d75b0f7b",
   "metadata": {},
   "outputs": [],
   "source": [
    "\n",
    "def three_cos_predict_np(a,a_star,b,b_star):\n",
    "    if( a in id_dict and b in id_dict and a_star in id_dict and b_star in id_dict):\n",
    "        pass\n",
    "    else:\n",
    "        return None\n",
    "    id_a = id_dict[a]\n",
    "    id_b = id_dict[b]\n",
    "    id_a_star = id_dict[a_star]\n",
    "    id_b_star = id_dict[b_star]#remove this after testing\n",
    "    weight_a = matrix[id_a,:]\n",
    "    weight_b = matrix[id_b,:]\n",
    "    weight_a_star = matrix[id_a_star,:]\n",
    "    direction = weight_b + ( weight_a_star - weight_a)\n",
    "    direction /= np.linalg.norm(direction)\n",
    "    \n",
    "    sim = tf.tensordot(tf.convert_to_tensor(matrix_normalized),tf.convert_to_tensor(direction),axes = 1)\n",
    "    index = find_candidate(sim,id_a,id_a_star,id_b)\n",
    "    return word_dict[index]"
   ]
  },
  {
   "cell_type": "markdown",
   "id": "a646d761",
   "metadata": {},
   "source": [
    "# 3cosAdd normalised befor arithmetic"
   ]
  },
  {
   "cell_type": "code",
   "execution_count": 8,
   "id": "383f8d9c",
   "metadata": {},
   "outputs": [],
   "source": [
    "def three_cos_predict_np_norm(a,a_star,b,b_star):\n",
    "    if( a in id_dict and b in id_dict and a_star in id_dict and b_star in id_dict):\n",
    "        pass\n",
    "    else:\n",
    "        return None\n",
    "    id_a = id_dict[a]\n",
    "    id_b = id_dict[b]\n",
    "    id_a_star = id_dict[a_star]\n",
    "    id_b_star = id_dict[b_star]#remove this after testing\n",
    "    weight_a = matrix_normalized[id_a,:]\n",
    "    weight_b = matrix_normalized[id_b,:]\n",
    "    weight_a_star = matrix_normalized[id_a_star,:]\n",
    "    direction = weight_b + ( weight_a_star - weight_a)\n",
    "    direction /= np.linalg.norm(direction)\n",
    "    \n",
    "    sim = tf.tensordot(tf.convert_to_tensor(matrix_normalized),tf.convert_to_tensor(direction),axes = 1)\n",
    "    index = find_candidate(sim,id_a,id_a_star,id_b)\n",
    "    return word_dict[index]"
   ]
  },
  {
   "cell_type": "markdown",
   "id": "4042c364",
   "metadata": {},
   "source": [
    "## 3cos Mult"
   ]
  },
  {
   "cell_type": "code",
   "execution_count": 9,
   "id": "9ac07eb6",
   "metadata": {},
   "outputs": [],
   "source": [
    "def sim_01(matrix,weight):\n",
    "    tmp = tf.tensordot(matrix,weight,axes=1)\n",
    "    tmp = (tmp+1.0)/2.0\n",
    "    return tmp\n",
    "\n",
    "def predict_three_cos_mult(a,a_star,b,b_star):\n",
    "    if( a in id_dict and b in id_dict and a_star in id_dict and b_star in id_dict):\n",
    "        pass\n",
    "    else:\n",
    "        print(a in id_dict)\n",
    "        print(a_star in id_dict)\n",
    "        print(b in id_dict)\n",
    "        print(b_star in id_dict)\n",
    "        return None\n",
    "    \n",
    "    id_a = id_dict[a]\n",
    "    id_b = id_dict[b]\n",
    "    id_a_star = id_dict[a_star]\n",
    "    \n",
    "    weight_a = matrix_normalized[id_a,:]\n",
    "    weight_b = matrix_normalized[id_b,:]\n",
    "    weight_a_star = matrix_normalized[id_a_star,:]\n",
    "    \n",
    "    nominator = sim_01(matrix_normalized,weight_a_star) * sim_01(matrix_normalized,weight_b) \n",
    "    denominator = sim_01(matrix_normalized,weight_a) + 0.0001\n",
    "    sim = nominator / denominator\n",
    "    index = find_candidate(sim,id_a,id_a_star,id_b)\n",
    "    return word_dict[index]"
   ]
  },
  {
   "cell_type": "markdown",
   "id": "e4c53d10",
   "metadata": {},
   "source": [
    "# Test all"
   ]
  },
  {
   "cell_type": "code",
   "execution_count": 10,
   "id": "eecd5ce6",
   "metadata": {
    "scrolled": true
   },
   "outputs": [
    {
     "name": "stdout",
     "output_type": "stream",
     "text": [
      "capital-common-countries.txt\n",
      "0\n",
      "100\n",
      "200\n",
      "300\n",
      "400\n",
      "500\n",
      "capital-world.txt\n",
      "0\n",
      "100\n",
      "200\n",
      "300\n",
      "400\n",
      "500\n",
      "600\n",
      "700\n",
      "800\n",
      "900\n",
      "1000\n",
      "1100\n",
      "1200\n",
      "1300\n",
      "1400\n",
      "1500\n",
      "1600\n",
      "1700\n",
      "1800\n",
      "1900\n",
      "2000\n",
      "2100\n",
      "2200\n",
      "2300\n",
      "2400\n",
      "2500\n",
      "2600\n",
      "2700\n",
      "2800\n",
      "2900\n",
      "3000\n",
      "3100\n",
      "3200\n",
      "3300\n",
      "3400\n",
      "3500\n",
      "3600\n",
      "3700\n",
      "3800\n",
      "3900\n",
      "4000\n",
      "4100\n",
      "4200\n",
      "4300\n",
      "4400\n",
      "4500\n",
      "city-in-state.txt\n",
      "0\n",
      "100\n",
      "200\n",
      "300\n",
      "400\n",
      "500\n",
      "600\n",
      "700\n",
      "800\n",
      "900\n",
      "1000\n",
      "1100\n",
      "1200\n",
      "1300\n",
      "1400\n",
      "1500\n",
      "1600\n",
      "1700\n",
      "1800\n",
      "1900\n",
      "2000\n",
      "2100\n",
      "2200\n",
      "2300\n",
      "2400\n",
      "currency.txt\n",
      "0\n",
      "100\n",
      "200\n",
      "300\n",
      "400\n",
      "500\n",
      "600\n",
      "700\n",
      "800\n",
      "family.txt\n",
      "0\n",
      "100\n",
      "200\n",
      "300\n",
      "400\n",
      "500\n",
      "gram1-adjective-to-adverb.txt\n",
      "0\n",
      "100\n",
      "200\n",
      "300\n",
      "400\n",
      "500\n",
      "600\n",
      "700\n",
      "800\n",
      "900\n",
      "gram2-opposite.txt\n",
      "0\n",
      "100\n",
      "200\n",
      "300\n",
      "400\n",
      "500\n",
      "600\n",
      "700\n",
      "800\n",
      "gram3-comparative.txt\n",
      "0\n",
      "100\n",
      "200\n",
      "300\n",
      "400\n",
      "500\n",
      "600\n",
      "700\n",
      "800\n",
      "900\n",
      "1000\n",
      "1100\n",
      "1200\n",
      "1300\n",
      "gram4-superlative.txt\n",
      "0\n",
      "100\n",
      "200\n",
      "300\n",
      "400\n",
      "500\n",
      "600\n",
      "700\n",
      "800\n",
      "900\n",
      "1000\n",
      "1100\n",
      "gram5-present-participle.txt\n",
      "0\n",
      "100\n",
      "200\n",
      "300\n",
      "400\n",
      "500\n",
      "600\n",
      "700\n",
      "800\n",
      "900\n",
      "1000\n",
      "gram6-nationality-adjective.txt\n",
      "0\n",
      "100\n",
      "200\n",
      "300\n",
      "400\n",
      "500\n",
      "600\n",
      "700\n",
      "800\n",
      "900\n",
      "1000\n",
      "1100\n",
      "1200\n",
      "1300\n",
      "1400\n",
      "1500\n",
      "gram7-past-tense.txt\n",
      "0\n",
      "100\n",
      "200\n",
      "300\n",
      "400\n",
      "500\n",
      "600\n",
      "700\n",
      "800\n",
      "900\n",
      "1000\n",
      "1100\n",
      "1200\n",
      "1300\n",
      "1400\n",
      "1500\n",
      "gram8-plural.txt\n",
      "0\n",
      "100\n",
      "200\n",
      "300\n",
      "400\n",
      "500\n",
      "600\n",
      "700\n",
      "800\n",
      "900\n",
      "1000\n",
      "1100\n",
      "1200\n",
      "1300\n",
      "gram9-plural-verbs.txt\n",
      "0\n",
      "100\n",
      "200\n",
      "300\n",
      "400\n",
      "500\n",
      "600\n",
      "700\n",
      "800\n",
      "8869\n",
      "10675\n",
      "[0, 6112, 0]\n",
      "[0, 6121, 0]\n",
      "['europe', 'britain', 'ussr', 'arabia', 'britain', 'arabia', 'indochina', 'ussr', 'rawalpindi', 'uk', 'syria', 'cambodia', 'britain', 'syria', 'britain', 'britain', 'cambodia', 'british', 'toronto', 'iranian', 'valencia', 'ussr', 'roman', 'neuchâtel', 'haiphong', 'rawalpindi', 'syria', 'britain', 'yemen', 'britain', 'cambodia', 'uk', 'rawalpindi', 'naft', 'basra', 'rawalpindi', 'uk', 'syria', 'haiphong', 'britain', 'roman', 'britain', 'fiji', 'syria', 'lebanese', 'yugoslavia', 'slovan', 'in', 'fiji', 'maldives', 'syria', 'batanes', 'leichhardt', 'slovak', 'paris', 'sydney', 'of', 'rally', 'masirah', 'chad', 'washington', 'leichhardt', 'syria', 'islands', 'hoyas', 'fiji', 'bssr', 'islands', 'hoyas', 'barys', 'yugoslavia', 'mexico', 'westfjords', 'tokelau', 'francistown', 'michigan', 'haiphong', 'tajikistan', 'uzbekistan', 'tajikistan', 'harvard', 'oranienbaum', 'hoyas', 'belarus', 'atoll', 'francistown', 'georgia', 'bulawayo', 'lebanese', 'evrytania', 'atoll', 'francistown', 'hoyas', 'chişinău', 'masirah', 'hoyas', 'chişinău', 'pukapuka', 'hoyas', 'cambodia', 'in', 'atoll', 'hoyas', 'arabia', 'arabia', 'ermelo', 'atoll', 'bulawayo', 'lebanese', 'ghana', 'atoll', 'harvard', 'in', 'atoll', 'francistown', 'hoyas', 'indochina', 'rus', 'canada', 'dangriga', 'chişinău', 'sweden', 'møn', 'francistown', 'connecticut', 'cambodia', 'frontenacs', 'nafplio', 'hoyas', 'canada', 'guatemala', 'atoll', 'canada', 'guatemala', 'ermelo', 'atoll', 'hoyas', 'rawalpindi', 'canada', \"n'djamena\", 'dushanbe', 'hoofddorp', 'atoll', 'canada', 'bulawayo', 'canada', \"n'djamena\", 'katrineholm', 'tajikistan', 'lebanon', 'cambodia', 'canada', 'uzbekistan', 'tajikistan', 'møn', 'hoyas', 'cambodia', 'canada', 'poperinge', 'nakskov', 'hoyas', 'bulawayo', 'rawalpindi', 'canada', \"n'djamena\", 'katrineholm', 'himmerland', 'atoll', 'hoyas', 'canada', 'nakuru', 'britain', 'vordingborg', 'atoll', 'bulawayo', 'england', 'bujumbura', 'katrineholm', 'rwanda', 'harvard', 'haiphong', 'kofi', 'olimpija', 'barcelona', 'nafplio', 'atoll', 'hoyas', 'cambodia', 'canada', 'britain', 'ermelo', 'asia', 'atoll', 'usa', 'canada', 'africa', 'africa', 'psuv', 'canada', 'britain', 'hoyas', 'cambodia', 'canada', 'transnistria', 'islands', 'harvard', 'canada', 'minicoy', 'hoyas', 'canada', 'blantyre', 'hoyas', 'frontenacs', 'olimpija', 'atoll', 'francistown', 'canada', 'chlef', 'britain', 'canada', 'britain', 'kauaʻi', 'francistown', 'hoyas', 'cambodia', 'rovers', 'bujumbura', 'mzuzu', 'olimpija', 'weilburg', 'canada', 'blantyre', 'britain', 'weilburg', 'hoyas', 'canada', 'weilburg', 'hoyas', 'haiphong', 'rawalpindi', 'frontenacs', 'senegal', 'olimpija', 'barcelona', 'russian', 'dillenburg', 'omonia', 'hoyas', 'minh', 'frontenacs', 'burundi', 'olimpija', 'barcelona', 'zambia', 'dillenburg', 'suriname', 'bulawayo', 'hjk', 'rawalpindi', 'suriname', 'bujumbura', 'portoviejo', 'olimpija', 'barbados', 'suriname', 'valencia', 'suriname', 'windhoek', 'weilburg', 'limassol', 'conakry', 'rhodesia', 'canada', 'uganda', 'britain', 'saudi', 'weilburg', 'zinder', 'canada', 'olimpija', 'oranje', 'canada', 'britain', 'malé', 'dillenburg', 'canada', 'kalmykia', 'katrineholm', 'korneuburg', 'weilburg', 'canada', 'british', 'weilburg', 'toronto', 'canada', 'britain', 'dillenburg', 'canada', 'dillenburg', 'ldu', 'canada', 'olimpija', 'weilburg', 'canada', 'olimpija', 'uk', 'dillenburg', 'ldu', 'cameroon', 'rovers', 'weilburg', 'cameroon', 'peru', 'canada', 'uk', 'weilburg', 'bungoma', 'canada', 'weilburg', 'burundi', 'conakry', 'portoviejo', 'olimpija', 'barbados', 'conakry', 'barcelona', 'tobago', 'dillenburg', 'bamako', 'conakry', 'tobago', 'cuba', 'cameroon', 'olimpija', 'cameroon', 'oranje', 'cameroon', 'cameroon', 'olimpija', 'africa', 'mozambique', 'dillenburg', 'zambia', 'botswana', 'olimpija', 'britain', 'dillenburg', 'tiaret', 'britain', 'dillenburg', 'ldu', 'watonwan', 'weilburg', 'maradi', 'viken', 'armenia', 'valencia', 'ussr', 'dillenburg', 'larnaca', 'nikšić', 'ldu', 'roman', 'aroostook', 'rusiñol', 'baku', 'dillenburg', 'burundi', 'baku', 'tanzania', 'weilburg', 'tanzania', 'baku', 'freetown', 'dillenburg', 'chariton', 'dillenburg', 'belize', 'baku', 'ussr', 'weilburg', 'lebanon', 'baku', 'lebanon', 'weilburg', 'nikšić', 'niğde', 'kazakhstan', 'dillenburg', 'madagascar', 'peru', 'baku', 'weilburg', 'ldu', 'cidra', 'armenia', 'dillenburg', 'bungoma', 'china', 'baku', 'schaan', 'oranje', 'ldu', 'senegal', 'baku', 'morocco', 'dillenburg', 'zemplén', 'armenia', 'weilburg', 'buryatia', 'weilburg', 'omonia', 'toronto', 'ghardaïa', 'peru', 'baku', 'schaan', 'oranje', 'watonwan', 'armenia', 'hargeisa', 'iceland', 'nikšić', 'grenada', 'gothenburg', 'baku', 'belize', 'barbuda', 'volksoper', 'prabang', 'belize', 'uzbekistan', 'cameroon', 'baku', 'greece', 'armenia', 'lebanon', 'ldu', 'senegal', 'baku', 'baltic', 'sangamon', 'baku', 'midtjylland', 'viken', 'baku', 'nakskov', 'azerbaijan', 'guyana', 'tobago', 'tobago', 'kovil', 'guyana', 'ldu', 'aroostook', 'baku', 'prabang', 'kovil', 'leichhardt', 'ldu', 'herzegovina', 'baku', 'leichhardt', 'guyana', 'baku', 'kovil', 'sudan', 'baku', 'nigeria', 'leichhardt', 'rēzekne', 'belarus', 'prabang', 'kovil', 'nabeul', 'baku', 'naft', 'prabang', 'morocco', 'basra', 'tbilisi', 'dominican', 'tobago', 'lucia', 'copenhagen', 'baku', 'barbuda', 'barbuda', 'tobago', 'cibona', 'tobago', 'oran', 'tobago', 'istanbul', 'barbados', 'tobago', 'antigua', 'barys', 'baku', 'prabang', 'kovil', 'fiji', 'barys', 'syria', 'tbilisi', 'armenia', 'kovil', 'leichhardt', 'barys', 'syria', 'armenia', 'kovil', 'syria', 'armenia', 'prabang', 'syria', 'baku', 'lebanese', 'baku', 'iranian', 'oran', 'kovil', 'leichhardt', 'barys', 'basra', 'tbilisi', 'lebanese', 'yugoslavia', 'armenia', 'syria', 'turkmenistan', 'fiji', 'turkmenistan', 'lebanon', 'united', 'leichhardt', 'carolina', 'barys', 'texas', 'carolina', 'carolina', 'leichhardt', 'barys', 'lebanese', 'morocco', 'sri', 'fiji', 'lebanese', 'kyrgyz', 'slovak', 'prabang', 'leichhardt', 'syria', 'schaan', 'osijek', 'tbilisi', 'arabia', 'prabang', 'leichhardt', 'prabang', 'yugoslavia', 'fct', 'prabang', 'tunis', 'istanbul', 'barys', 'syria', 'tbilisi', 'cairo', 'dushanbe', 'in', 'prabang', 'barys', 'syria', 'korneuburg', 'leichhardt', 'barys', 'tbilisi', 'yugoslavia', 'slovan', 'in', 'morocco', 'chuvashia', 'leichhardt', 'syria', 'vordingborg', 'mozambique', 'mozambique', 'pcrm', 'syria', 'sophene', 'leichhardt', 'ermelo', 'ohio', 'ohio', 'kentucky', 'kentucky', 'alabama', 'ohio', 'ohio', 'ohio', 'ohio', 'ohio', 'indiana', 'salukis', 'ohio', 'otay', 'ohio', 'ohio', 'ohio', 'dakota', 'kentucky', 'zamfara', 'chicot', 'ohio', 'ohio', 'benton', 'kansas', 'kansas', 'california', 'bakersfield', 'otay', 'colorado', 'kansas', 'condors', 'sweetwater', 'kansas', 'córdoba', 'carolina', 'wisconsin', 'wisconsin', 'oregon', 'carolina', 'clarksville', 'maine', 'madera', 'colorado', 'otay', 'carolina', 'dade', 'lewisburg', 'arizona', 'kansas', 'wisconsin', 'wyoming', 'lewisburg', 'lewisburg', 'mechanicsburg', 'oahu', 'lewistown', 'johnstown', 'córdoba', 'aliquippa', 'jaguars', 'colorado', 'cleveland', 'washington', 'oregon', 'pittsburgh', 'colorado', 'colorado', 'colorado', 'colorado', 'colorado', 'colorado', 'kansas', 'colorado', 'colorado', 'cleveland', 'carolina', 'colorado', 'kansas', 'colorado', 'anderson', 'kansas', 'kansas', 'oregon', 'carolina', 'colorado', 'verde', 'carolina', 'kansas', 'kansas', 'carolina', 'sacramento', 'kansas', 'spain', 'scott', 'chicago', 'york', 'washington', 'chicago', 'washington', 'california', 'd.c.', 'texas', 'chicago', 'chicago', 'warren', 'spain', 'scott', 'illinois', 'oregon', 'montana', 'illinois', 'obispo', 'missouri', 'otay', 'illinois', 'ohio', 'illinois', 'illinois', 'dakota', 'illinois', 'obispo', 'ducks', 'ohio', 'ohio', 'harbor', 'nacogdoches', 'scott', 'virginia', 'nuevo', 'crawford', 'kansas', 'york', 'kansas', 'kansas', 'kansas', 'kansas', 'obispo', 'colorado', 'otay', 'kansas', 'kansas', 'kansas', 'condors', 'ducks', 'kansas', 'sacramento', 'kansas', 'kansas', 'kansas', 'missouri', 'oregon', 'utah', 'allegan', 'oregon', 'california', 'alabama', 'ohio', 'nebraska', 'maryland', 'fullerton', 'ohio', 'ohio', 'kalkaska', 'evans', 'nuevo', 'palmer', 'iowa', 'nebraska', 'york', 'washington', 'colorado', 'carolina', 'washington', 'kansas', 'washington', 'minnesota', 'baltimore', 'cumberland', 'evans', 'wilson', 'missouri', 'crawford', 'oregon', 'illinois', 'idaho', 'oregon', 'otay', 'illinois', 'ohio', 'illinois', 'illinois', 'illinois', 'wingnuts', 'maryland', 'condors', 'ducks', 'ohio', 'duxbury', 'nacogdoches', 'scott', 'nuevo', 'zachariah', 'illinois', 'nacogdoches', 'jeffreys', 'farmington', 'd.c.', 'chicago', 'missouri', 'missouri', 'verde', 'd.c.', 'texas', 'houston', 'detroit', 'd.c.', 'ducks', 'baltimore', 'missouri', 'warren', 'philadelphia', 'missouri', 'smith', 'wilson', 'missouri', 'jackson', 'arlington', 'carolina', 'madera', 'arizona', 'otay', 'arizona', 'texas', 'arizona', 'kansas', 'glendale', 'condors', 'ducks', 'carolina', 'arizona', 'arizona', 'córdoba', 'scott', 'nuevo', 'missouri', 'gammer', 'rockledge', 'obispo', 'otay', 'virginia', 'oklahoma', 'virginia', 'ojai', 'michigan', 'virginia', 'nacogdoches', 'virginia', 'nuevo', 'zachariah', 'iowa', 'nacogdoches', 'gammer', 'ojai', 'rockledge', 'tahoe', 'crans', 'minnesota', 'yobe', 'missouri', 'otay', 'alabama', 'minnesota', 'kansas', 'oklahoma', 'alabama', 'fullerton', 'minnesota', 'michigan', 'ohio', 'evans', 'oklahoma', 'caldwell', 'missouri', 'alabama', 'oklahoma', 'oklahoma', 'otay', 'tennessee', 'kansas', 'maryland', 'virginia', 'tennessee', 'evans', 'richardson', 'missouri', 'moore', 'pasadena', 'kristol', 'winema', 'tulare', 'otay', 'alabama', 'michigan', 'wyoming', 'virginia', 'ducks', 'oconto', 'botetourt', 'scott', 'nuevo', 'taylor', 'conroe', 'gammer', 'glenwood', 'rockledge', 'kristol', 'elkhorn', 'webfoots', 'arizona', 'arizona', 'ohio', 'arizona', 'dakota', 'kentucky', 'condors', 'ducks', 'ohio', 'belton', 'scott', 'arizona', 'nuevo', 'davis', 'illinois', 'gammer', 'rockledge', 'kristol', 'montana', 'idaho', 'colorado', 'colorado', 'cleveland', 'detroit', 'maryland', 'ducks', 'baltimore', 'colorado', 'cleveland', 'michigan', 'anderson', 'michigan', 'jackson', 'russell', 'colorado', 'colorado', 'junior', 'd.c.', 'texas', 'chicago', 'texas', 'd.c.', 'chicago', 'maryland', 'philadelphia', 'francisco', 'scott', 'wilson', 'washington', 'moore', 'arlington', 'harris', 'watsonville', 'florida', 'york', 'oklahoma', 'maryland', 'york', 'maryland', 'york', 'spain', 'scott', 'nuevo', 'raymond', 'wilson', 'moore', 'inglewood', 'kristol', 'oregon', 'seattle', 'kansas', 'kansas', 'kansas', 'kansas', 'd.c.', 'fresno', 'ducks', 'baltimore', 'kansas', 'kansas', 'cleveland', 'kansas', 'anderson', 'houston', 'missouri', 'kansas', 'harris', 'kansas', 'utah', 'kansas', 'kansas', 'kansas', 'spokane', 'florida', 'kansas', 'valdosta', 'virginia', 'fullerton', 'ducks', 'valdosta', 'cumberland', 'tennessee', 'armenia', 'snellville', 'scott', 'americus', 'calhoun', 'calhoun', 'braselton', \"o'keeffe\", 'snellville', 'braselton', 'valdosta', 'kristol', 'valdosta', 'arditti', 'valdosta', 'turlock', 'valdosta', 'quitman', 'attilio', 'michigan', 'kansas', 'kansas', 'alabama', 'ducks', 'michigan', 'kansas', 'michigan', 'michigan', 'scott', 'harris', 'missouri', 'jackson', 'allen', 'winema', 'oregon', 'luverne', 'oregon', 'victorville', 'd.j.', 'kansas', 'texas', 'kansas', 'lexington', 'ducks', 'baltimore', 'carolina', 'burlington', 'tennessee', 'carolina', 'scott', 'richardson', 'missouri', 'arlington', 'kristol', 'winema', 'tallahassee', 'turlock', 'tallahassee', 'victorville', 'attilio', 'texas', 'minnesota', 'kansas', 'tennessee', 'ducks', 'minnesota', 'montana', 'minnesota', 'harris', 'nuevo', 'harris', 'missouri', 'moore', 'kristol', 'nevada', 'montana', 'obispo', 'oregon', 'victorville', 'lucio', 'kansas', 'lubbock', 'arizona', 'texas', 'oklahoma', 'virginia', 'oregon', 'mexico', 'scott', 'mexico', 'linda', 'missouri', 'moore', 'inglewood', 'calabasas', 'kristol', 'oregon', 'oregon', 'lubbock', 'illinois', 'missouri', 'kentucky', 'illinois', 'delaware', 'miamisburg', 'virginia', 'virginia', 'nuevo', 'illinois', 'missouri', 'lampasas', 'monroe', 'grove', 'rockledge', 'watsonville', 'kristol', 'winema', 'illinois', 'chillicothe', 'oregon', 'victorville', 'd.j.', 'lubbock', 'grove', 'gainesville', 'condors', 'ducks', 'cleveland', 'colorado', 'scott', 'crawford', 'missouri', 'crawford', 'kristol', 'wyoming', 'utah', 'colorado', 'turlock', 'oregon', 'moorpark', 'attilio', 'arizona', 'vermont', 'd.c.', 'baltimore', 'angeles', 'baltimore', 'adams', 'cleveland', 'francisco', 'scott', 'houston', 'harris', 'missouri', 'jackson', 'harris', 'missouri', 'baltimore', 'miller', 'cleveland', 'arizona', 'birmingham', 'detroit', 'condors', 'ducks', 'cleveland', 'kansas', 'kansas', 'kansas', 'mexico', 'scott', 'houston', 'richardson', 'missouri', 'kansas', 'kansas', 'obispo', 'sacramento', 'rocklin', 'lucio', 'kansas', 'arizona', 'essex', 'kansas', 'chicago', 'maryland', 'chicago', 'francisco', 'scott', 'harris', 'washington', 'moore', 'harris', 'seattle', 'oxford', 'washington', 'york', 'spain', 'scott', 'california', 'missouri', 'california', 'kristol', 'nevada', 'oregon', 'california', 'moorpark', 'd.j.', 'texas', 'york', 'california', 'chicago', 'francisco', 'scott', 'wilson', 'missouri', 'allen', 'oregon', 'oregon', 'york', 'york', 'cleveland', 'carolina', 'sacramento', 'cleveland', 'francisco', 'scott', 'wilson', 'missouri', 'moore', 'kristol', 'winema', 'sacramento', 'junior', 'spokane', 'victorville', 'lucio', 'cleveland', 'arizona', 'vermont', 'detroit', 'washington', 'lewistown', 'seville', 'bastrop', 'evans', 'nuevo', 'crawford', 'missouri', 'bastrop', 'gammer', 'glenwood', 'rockledge', 'bridgeville', 'kristol', 'elkhorn', 'lewistown', 'connellsville', 'allentown', 'moorpark', 'lucio', 'coatesville', 'hallettsville', 'glenwood', 'clarksville', 'lewisburg', 'framingham', 'york', 'california', 'ohio', 'evans', 'miami', 'nuevo', 'davis', 'ohio', 'jackson', 'montana', 'allen', 'montana', 'stewart', 'oregon', 'montana', 'oregon', 'watsonville', 'd.j.', 'lubbock', 'arizona', 'ohio', 'dallas', 'ohio', 'oklahoma', 'alabama', 'angeles', 'hawaii', 'francisco', 'harris', 'mexico', 'monica', 'florida', 'beverly', 'encino', 'kristol', 'oregon', 'seattle', 'arizona', 'york', 'angeles', 'angeles', 'york', 'angeles', 'angeles', 'michigan', 'angeles', 'scott', 'nuevo', 'edwards', 'illinois', 'buchanan', 'glenwood', 'rockledge', 'kristol', 'winema', 'illinois', 'otero', 'oregon', 'moorpark', 'd.j.', 'glenwood', 'california', 'illinois', 'alabama', 'arizona', 'scott', 'arizona', 'taylor', 'missouri', 'berry', 'kristol', 'winema', 'colorado', 'spokane', 'lucio', 'cleveland', 'arizona', 'vermont', 'detroit', 'pittsburgh', 'jaguars', 'atlanta', 'cleveland', 'york', 'harris', 'virginia', 'harris', 'missouri', 'jackson', 'grove', 'illinois', 'allen', 'missouri', 'illinois', 'illinois', 'mississippi', 'moorpark', 'd.j.', 'grove', 'washington', 'connecticut', 'tennessee', 'tennessee', 'tennessee', 'illinois', 'scott', 'wilson', 'missouri', 'kansas', 'kansas', 'seattle', 'kansas', 'arizona', 'alabama', 'detroit', 'pittsburgh', 'kansas', 'chicago', 'york', 'vegas', 'tamaulipas', 'elko', 'wyoming', 'gardnerville', 'utah', 'tucson', 'ocala', 'utah', 'elko', 'sacramento', 'gardnerville', 'gardnerville', 'spokane', 'milpitas', 'elko', 'utah', 'elko', 'tucson', 'elko', 'gardnerville', 'vermont', 'colorado', 'arizona', 'denver', 'utah', 'arizona', 'utah', 'denver', 'denver', 'oregon', 'utah', 'arizona', 'california', 'missouri', 'mississippi', 'pasadena', 'kristol', 'elkhorn', 'missouri', 'palatka', 'tallahassee', 'moorpark', 'hialeah', 'michigan', 'pasadena', 'michigan', 'maryland', 'california', 'oklahoma', 'michigan', 'michigan', 'wilson', 'missouri', 'kansas', 'baltimore', 'florida', 'cleveland', 'arizona', 'washington', 'chicago', 'kansas', 'chicago', 'chicago', 'kansas', 'washington', 'colorado', 'colorado', 'colorado', 'colorado', 'colorado', 'sacramento', 'sacramento', 'spokane', 'nogales', 'colorado', 'kansas', 'tucson', 'colorado', 'colorado', 'colorado', 'milwaukee', 'kansas', 'pittsburgh', 'atlanta', 'chicago', 'chicago', 'sacramento', 'pittsburgh', 'atlanta', 'kansas', 'chicago', 'conroe', 'gammer', 'mequon', 'bighorns', 'kristol', 'elkhorn', 'tacoma', 'turlock', 'bossier', 'spokane', 'lompoc', 'lucio', 'evansville', 'lubbock', 'arizona', 'mequon', 'oconto', 'framingham', 'milwaukee', 'kansas', 'pittsburgh', 'arizona', 'jaguars', 'milwaukee', 'milwaukee', 'chicago', 'tacoma', 'milwaukee', 'maine', 'washington', 'san', 'baltimore', 'san', 'cleveland', 'arizona', 'carolina', 'detroit', 'chicago', 'detroit', 'chicago', 'chicago', 'washington', 'atlanta', 'chicago', 'washington', 'kansas', 'sacramento', 'sacramento', 'sacramento', 'arizona', 'kansas', 'arizona', 'kansas', 'kansas', 'pittsburgh', 'kansas', 'cleveland', 'chicago', 'kansas', 'pittsburgh', 'atlanta', 'kansas', 'washington', 'sacramento', 'allen', 'colorado', 'colorado', 'colorado', 'seattle', 'domenico', 'cleveland', 'carolina', 'alabama', 'pittsburgh', 'pittsburgh', 'denver', 'jaguars', 'atlanta', 'chicago', 'york', 'denver', 'pittsburgh', 'chicago', 'montana', 'colorado', 'allen', 'washington', 'seattle', 'miller', 'cleveland', 'arizona', 'carolina', 'virginia', 'washington', 'washington', 'houston', 'atlanta', 'chicago', 'york', 'washington', 'tennessee', 'chicago', 'washington', 'colorado', 'pichel', 'winema', 'sacramento', 'portland', 'lucio', 'cleveland', 'arizona', 'vermont', 'washington', 'washington', 'arizona', 'cleveland', 'york', 'portland', 'utah', 'washington', 'arizona', 'arizona', 'allen', 'colorado', 'sacramento', 'sacramento', 'baltimore', 'colorado', 'cleveland', 'colorado', 'carolina', 'detroit', 'pittsburgh', 'houston', 'detroit', 'chicago', 'chicago', 'pittsburgh', 'atlanta', 'chicago', 'washington', 'colorado', 'chicago', 'kansas', 'arizona', 'sacramento', 'sacramento', 'spokane', 'moorpark', 'arizona', 'kansas', 'arizona', 'kansas', 'kansas', 'kansas', 'kansas', 'kansas', 'kansas', 'kansas', 'kansas', 'kansas', 'kansas', 'kansas', 'kansas', 'arizona', 'arizona', 'kansas', 'sacramento', 'seattle', 'angeles', 'angeles', 'angeles', 'york', 'angeles', 'angeles', 'chicago', 'chicago', 'york', 'angeles', 'angeles', 'chicago', 'angeles', 'chicago', 'angeles', 'angeles', 'oklahoma', 'sacramento', 'seattle', 'cleveland', 'york', 'chicago', 'york', 'angeles', 'detroit', 'chicago', 'york', 'angeles', 'chicago', 'd.c.', 'chicago', 'washington', 'd.c.', 'york', 'moore', 'cleveland', 'hollywood', 'york', 'york', 'harris', 'york', 'york', 'houston', 'atlanta', 'smith', 'chicago', 'york', 'york', 'york', 'chicago', 'york', 'san', 'california', 'd.c.', 'york', 'houston', 'york', 'chicago', 'texas', 'seattle', 'washington', 'washington', 'york', 'michigan', 'chicago', 'york', 'angeles', 'arizona', 'washington', 'chicago', 'washington', 'texas', 'chicago', 'angeles', 'seattle', 'lucio', 'york', 'york', 'california', 'oklahoma', 'chicago', 'york', 'portland', 'minnesota', 'california', 'tennessee', 'chicago', 'oklahoma', 'taylor', 'kansas', 'arlington', 'lincoln', 'york', 'york', 'york', 'houston', 'kansas', 'smith', 'chicago', 'york', 'kansas', 'york', 'chicago', 'york', 'texas', 'verde', 'd.c.', 'kansas', 'houston', 'chicago', 'd.c.', 'cleveland', 'york', 'york', 'york', 'houston', 'chicago', 'chicago', 'york', 'oregon', 'washington', 'atlanta', 'chicago', 'chicago', 'chicago', 'washington', 'washington', 'rhode', 'angeles', 'york', 'angeles', 'angeles', 'chicago', 'chicago', 'york', 'angeles', 'angeles', 'washington', 'maryland', 'chicago', 'angeles', 'chicago', 'angeles', 'maryland', 'illinois', 'york', 'california', 'virginia', 'tennessee', 'illinois', 'oregon', 'illinois', 'illinois', 'california', 'tennessee', 'illinois', 'missouri', 'virginia', 'arizona', 'carolina', 'hampshire', 'washington', 'washington', 'kansas', 'chicago', 'washington', 'kansas', 'washington', 'chicago', 'washington', 'kansas', 'houston', 'kansas', 'washington', 'kansas', 'york', 'york', 'san', 'michigan', 'chicago', 'york', 'francisco', 'francisco', 'york', 'chicago', 'san', 'francisco', 'chicago', 'texas', 'maryland', 'philadelphia', 'england', 'york', 'york', 'california', 'houston', 'detroit', 'chicago', 'york', 'portland', 'arizona', 'washington', 'chicago', 'washington', 'california', 'houston', 'san', 'detroit', 'ducks', 'chicago', 'tennessee', 'michigan', 'tennessee', 'oklahoma', 'michigan', 'york', 'oklahoma', 'washington', 'michigan', 'california', 'tennessee', 'kansas', 'oklahoma', 'tennessee', 'michigan', 'tennessee', 'tennessee', 'washington', 'washington', 'washington', 'california', 'houston', 'scott', 'chicago', 'oregon', 'oregon', 'columbia', 'chicago', 'oregon', 'california', 'd.c.', 'illinois', 'washington', 'chicago', 'maryland', 'baltimore', 'adams', 'peso', 'ruble', 'peso', 'bulgarian', 'cambodian', 'canadian', 'croatian', 'kroner', '1990s', 'hungarian', 'khamenei', 'japanese', 'korean', 'daugavpils', None, 'malaysian', 'rupee', 'ruble', 'ruble', 'swedish', 'rupee', 'vietnamese', 'neuquén', 'nikol', 'parana', 'silistra', 'laos', 'ottawa', 'slavonia', 'holbæk', 'scandinavia', 'szeged', 'goi', 'khodro', 'shizuoka', 'cattrall', 'rēzekne', 'gediminas', None, 'singapore', 'guanajuato', 'anambra', 'wroclaw', 'tulcea', 'arkhangelsk', 'karlstad', 'surin', 'vinnytsia', 'skanska', 'trang', 'ouargla', 'ruble', 'pesos', 'ruble', 'rupee', 'rupee', 'dinar', 'guilder', 'currency', 'rupee', 'rupee', 'ruble', None, 'rupee', 'złoty', 'ruble', 'guilder', 'rupee', 'rupee', 'rupee', 'escudo', 'chips', 'chips', 'chips', 'chips', 'osijek', 'chips', 'chips', 'sdram', 'chips', 'microprocessor', 'japanese', 'sdram', 'sdram', 'sram', None, 'chips', 'chips', 'igbo', 'chips', 'chips', 'chip', 'chips', 'chips', 'memory', 'chips', 'chips', 'chips', 'chips', 'chips', 'bulgarian', 'cambodian', 'canadian', 'zagreb', 'if', 'even', 'actual', 'indian', 'iranian', 'japanese', 'korean', 'riga', 'vilnius', None, 'malaysian', 'actually', 'business', 'warsaw', 'romanian', 'russian', 'swedish', 'thai', 'ukrainian', '2005', 'actual', 'jaén', 'mccoys', 'mccoys', 'armenian', 'leviev', 'canadian', 'leviev', 'leviev', 'leviev', 'leviev', 'leviev', 'leviev', 'leviev', 'leviev', 'leviev', 'leviev', None, 'malaysian', 'leviev', 'leviev', 'leviev', 'leviev', 'nikolai', 'leviev', 'leviev', 'leviev', 'leviev', 'leviev', 'leviev', 'leviev', 'leviev', 'leviev', 'leviev', 'manitoba', 'osijek', 'copenhagen', 'louis', 'hungarian', '1857', 'khamenei', 'tokyo', 'louis', 'daugavpils', 'hetman', None, 'malaysian', 'mexican', 'kano', 'warsaw', 'antonescu', 'tsar', 'swedish', 'louis', 'lviv', 'louis', 'louis', 'buchalter', 'lefèbvre', 'josé', 'nikol', 'janeiro', 'sofia', 'multibillion', 'multibillion', 'multibillion', 'multibillion', 'multibillion', 'multibillion', 'multibillion', 'multibillion', 'multibillion', 'multibillion', None, 'multibillion', 'multibillion', 'multibillion', 'multimillion', 'multibillion', 'multibillion', 'multibillion', 'multibillion', 'multibillion', 'multibillion', 'multibillion', 'multibillion', 'multibillion', 'multibillion', 'multibillion', 'multibillion', 'multibillion', 'guilder', 'millions', 'indian', 'rials', 'korean', None, 'sonora', 'złoty', 'lats', 'roubles', 'swedish', 'vatu', 'vietnamese', 'mauritania', 'luanda', 'ushuaia', 'manat', 'naira', 'lats', 'cambodian', 'canadian', 'circus', 'karnataka', 'bakhtiari', 'dprk', None, 'pesos', 'złoty', 'romanian', 'russian', 'nok', 'circus', 'saigon', 'lira', 'mpla', 'argentine', 'yerevan', 'brazilian', 'liras', 'khmer', 'kroner', 'nok', 'béla', 'hyderabad', 'bakhtiari', 'jinsen', 'estonia', 'latvia', None, 'brunei', 'honduras', 'abuja', 'wroclaw', 'moldova', 'buryatia', 'denmark', 'belarus', 'qualifier', 'ncap', 'arzew', 'luanda', 'uruguay', 'yerevan', 'horizonte', 'macedonia', 'laos', 'alberta', 'osijek', 'sweden', 'rials', 'rupiah', None, 'rupiah', 'rupiah', 'złoty', 'hryvnia', 'kroner', 'skanska', 'rupiah', 'dirham', 'luanda', 'manat', 'peso', 'hryvnia', 'rupiah', 'alberta', 'lats', 'guilder', 'l-1011', 'dirham', 'peso', 'ruble', 'hryvnia', None, 'shilling', 'ruble', 'hryvnia', 'guilder', 'peso', 'peso', 'peso', 'dirham', 'peso', 'ruble', 'peso', 'ruble', 'peso', 'peso', 'osijek', 'guilder', 'ruble', 'miura', 'hwan', 'rēzekne', None, 'reyes', 'osun', 'jacek', 'dumitru', 'västervik', 'monica', 'trang', 'noemí', 'escudo', 'colón', 'nikol', 'catarina', 'plovdiv', 'noemí', 'canadian', 'osijek', 'odense', 'escudos', 'tibor', 'chang', 'daugavpils', 'vilnius', None, 'pesos', 'lublin', 'lei', 'rubles', 'kroner', 'rubles', 'sterling', 'baht', 'lira', 'luanda', 'pesos', 'manat', 'pesos', 'lira', 'baht', 'c$', 'kroner', 'euros', 'rubles', 'rupees', 'rials', 'riga', 'vilnius', None, 'winning', 'winning', 'ghana', 'winning', 'winning', 'win', 'winning', 'win', 'winning', 'winning', 'win', 'winning', 'luanda', 'winning', 'winning', 'winning', 'sofia', 'win', 'winning', 'zagreb', 'win', 'winning', 'win', 'winning', 'winning', 'win', None, 'bhd', 'sonora', 'yoruba', 'forint', 'roubles', 'kronor', 'titans', 'vietnamese', 'abdelaziz', 'angolan', 'argentinean', 'manat', 'brazilian', 'markka', 'laos', 'c$', 'dkk', 'million', 'indian', 'rials', 'osaka', 'dprk', None, 'cedi', 'złoty', 'hryvnia', 'roubles', 'lats', 'skanska', 'vietnamese', 'p5', 'angolan', 'argentinean', 'manat', 'brazilian', 'lats', 'cambodian', 'c$', 'rigsdaler', 'worldwide', 'indian', 'rials', 'japanese', 'korean', None, None, None, None, None, None, None, None, None, None, None, None, None, None, None, None, None, None, None, None, None, None, None, None, None, None, None, None, None, 'mexican', 'hryvnia', 'bolshevist', 'swedish', 'zloty', 'vietnamese', 'tunisian', 'angolan', 'argentinian', 'ruble', 'brazilian', 'bulgarian', 'cambodian', 'canadian', 'croatian', 'kroner', 'currency', 'rials', 'japanese', 'kroner', 'daugavpils', None, 'złoty', 'ruble', 'dinar', 'ruble', 'ruble', 'luanda', 'ruble', 'pengő', 'dinar', 'baht', 'banknote', 'dinar', 'guilder', 'currency', 'rials', 'ruble', 'litas', None, 'rupiah', 'złoty', 'hryvnia', 'roubles', 'kroner', 'roubles', 'vietnamese', 'rials', 'rials', 'pesos', 'roubles', 'pesos', 'roubles', 'rials', 'canadian', 'kroner', 'kroner', 'roubles', 'roubles', 'rials', 'japanese', 'korean', 'hryvnia', None, 'pesos', 'zlotys', 'roubles', 'zlotys', 'zlotys', 'vietnamese', 'algerian', 'luanda', 'argentinian', 'zlotys', 'naira', 'zlotys', 'cambodian', 'c$', 'zlotys', 'dkk', 'zlotys', 'forints', 'rupees', 'rials', 'yomiuri', 'naira', None, 'pesos', 'russian', 'swedish', 'thai', 'transcarpathian', 'asp', 'vietnamese', 'algerian', 'luanda', 'patagonia', 'glu', 'bahia', 'asp', 'cambodian', 'canadian', 'glu', 'copenhagen', 'asp', 'trobar', 'bengal', 'gilan', 'tokyo', 'dprk', 'daugavpils', 'trobar', None, 'malaysian', 'sonora', 'osun', 'poznan', 'franc', 'rupee', 'franc', 'rupee', 'franc', 'franc', 'manat', 'franc', 'drachma', 'franc', 'franc', 'franc', 'guilder', 'franc', 'manat', 'rupee', 'franc', None, 'rupiah', 'rupee', 'złoty', 'drachma', 'artc', 'vietnamese', 'algerian', 'luanda', 'argentinian', 'manat', 'brazilian', 'bulgarian', 'cambodian', 'c$', 'litas', 'kroner', 'terran', 'rupees', 'rials', 'japanese', 'rupiah', 'litas', None, 'malaysian', 'sonora', 'kano', 'złoty', 'romanian', 'russian', 'rubles', 'euros', 'rmb', 'francs', 'pesetas', 'pesos', 'rubles', 'euros', 'rubles', 'pesos', 'c$', 'rubles', 'dkk', 'euros', 'rubles', 'rupees', 'rials', 'rubles', 'rubles', 'rubles', None, 'pesos', 'rubles', 'rubles', 'rubles', 'kroner', '6.99', 'vietnamese', 'dirham', 'luanda', 'manat', 'cruzeiro', 'lats', 'kyat', 'c$', 'litas', 'dkk', 'forint', 'rials', 'kyat', None, 'złoty', 'forint', 'kroner', 'multibillion', 'multibillion', 'multibillion', 'multibillion', 'multibillion', 'multibillion', 'multibillion', 'multibillion', 'multibillion', 'multibillion', 'multibillion', 'multibillion', 'multibillion', 'multibillion', 'multibillion', 'multibillion', 'multibillion', 'multibillion', None, 'multibillion', 'multibillion', 'multibillion', 'currency', 'multibillion', 'multibillion', 'multibillion', 'multibillion', 'tunisia', 'myeong', 'aires', 'yerevan', 'janeiro', 'sofia', \"p'ohang\", 'neighbourhood', 'zagreb', 'copenhagen', 'north', 'budapest', 'kolkata', 'mahmoud', 'tokyo', 'hyun', 'estonia', 'vilnius', None, 'penang', 'vicente', 'kano', 'kraków', 'bucharest', 'moscow', 'umeå', 'gu', 'kyiv', 'kim', 'daughter', 'mum', 'mother', 'mum', 'mother', 'mother', 'widowed', 'brother', 'policemen', 'father', 'mother', 'cousin', 'son', 'grandmother', 'daughter', 'mum', 'policemen', 'mother', 'aunt', 'mother', 'mum', 'brother', 'policemen', 'father', 'mother', 'cousin', 'son', 'mum', 'stepdaughter', 'niece', 'mum', 'his', 'he', 'cousin', 'police', 'father', 'mother', 'cousin', 'son', 'mum', 'uncle', 'girlfriend', 'mother', 'mum', 'mother', 'mother', 'daughter', 'mum', 'mother', 'prince', 'brother', 'policemen', 'brother', 'eldest', 'mother', 'cousin', 'son', 'mum', 'son', 'grandson', 'his', 'he', 'cousin', 'grandmother', 'cousin', 'mum', 'mother', 'daughter', 'mum', 'stepdaughter', 'daughter', 'mum', 'stepbrother', 'cousin', 'avett', 'mum', 'granddaughter', 'longneck', 'bridegroom', 'mid-30s', 'daughter', 'mum', 'stepdaughter', 'mum', 'remarried', 'daughter', 'mum', 'father', 'mum', 'own', 'cousin', 'policemen', 'father', 'nephew', 'mum', 'but', 'own', 'evil', 'cousin', 'policemen', 'brother', 'father', 'mum', 'policemen', 'mother', 'mum', 'grandmother', 'evidently', 'remarkably', 'talkative', 'remarkably', 'inefficient', 'interestingly', 'soilers', 'enraged', 'surprisingly', 'remarkably', 'uncontroversial', 'goldstar', 'remarkably', 'curiously', 'infrequent', 'sufficiently', 'accurate', 'amateur', 'remarkably', 'calm', 'astonishingly', 'exceedingly', 'hesitant', 'reasonably', 'sufficiently', 'fast', 'abrupt', 'remarkably', 'fairly', 'admittedly', 'fairly', 'quiet', 'happy', 'almost', 'inefficient', 'evidently', 'but', 'angry', 'everyone', 'happy', 'though', 'seems', 'exact', 'turned', 'fast', 'calm', 'stopped', 'uncommon', 'unwilling', 'supposedly', 'though', 'fast', 'supposedly', 'similar', 'supposedly', 'instead', 'wonderful', 'walked', 'cheerfully', 'soilers', 'angrily', 'realising', 'cheerfully', 'goldstar', 'that', 'realising', 'forays', 'possibility', 'specifying', 'career', 'nervously', 'silently', 'industrialisation', 'uncommon', 'hesitant', 'silently', 'realising', 'slowing', 'angrily', 'silently', 'example', 'sadly', 'silently', 'dreamcoat', 'realising', 'entire', 'humbled', 'soilers', 'angrily', 'goldstar', 'that', 'realising', 'might', 'exact', 'gleefully', 'industrialisation', 'uncommon', 'unwilling', 'problems', 'plodding', 'consequent', 'gulliver', 'that', 'misfortunes', 'that', 'incredible', 'realising', 'inefficient', 'totally', 'totally', 'enraged', 'totally', 'totally', 'totally', 'goldstar', 'totally', 'totally', 'entirely', 'unclear', 'totally', 'totally', 'totally', 'uncommon', 'unwilling', 'totally', 'totally', 'fast', 'entirely', 'largely', 'totally', 'totally', 'totally', 'totally', 'quiet', 'bubbly', 'skilfully', 'enraged', 'remember', 'millinder', 'other', 'clearly', 'could', 'able', 'calm', 'uncommon', 'unwilling', 'dealt', 'fast', 'unexpected', 'circumstance', 'normally', 'incredible', 'inability', 'demeanor', 'cheery', 'properly', 'however', 'confronts', 'unfortunately', 'despite', 'interruptions', 'however', 'unfortunately', 'however', 'exact', 'amateur', 'unfortunately', 'calm', 'urbanization', 'uncommon', 'ensure', 'injuries', 'fast', 'caused', 'unfortunately', 'unlike', 'unlike', 'incredible', 'however', 'demeanor', 'cheery', 'entire', 'efficiency', 'enraged', 'environs', 'millinder', 'widely', 'evident', 'could', 'exact', 'fast', 'calm', 'uncommon', 'unwilling', 'flaws', 'slower', 'unexpected', 'gulliver', 'circumstance', 'normally', 'incredible', 'seeming', 'demeanour', 'cheery', 'assemble', 'creatively', 'contented', 'environs', 'goldstar', 'other', 'evident', 'possibility', 'witted', 'unassuming', 'industrialisation', 'uncommon', 'hesitant', 'safer', 'problems', 'slowing', 'abrupt', 'gulliver', 'snicket', 'typical', 'dreamcoat', 'perceived', 'demeanour', 'cheery', 'completed', 'efficiency', 'thankful', 'soilers', 'environs', 'goldstar', 'other', 'realising', 'possibility', 'exact', 'witted', 'urbanisation', 'uncommon', 'severe', 'lorises', 'consequent', 'gulliver', 'circumstance', 'begrudgingly', 'incredible', 'heir', 'unflappable', 'completed', 'efficiency', 'unhappily', 'soilers', 'enraged', 'get', 'once', 'so', 'so', 'then', 'quickly', 'uncommon', 'hesitant', 'once', 'soon', 'fast', 'usually', 'happened', 'instead', 'incredible', 'soon', 'quiet', 'cheery', 'then', 'so', 'then', 'enraged', 'just', 'goldstar', 'seen', 'seldom', 'could', 'fast', 'calm', 'hesitant', 'rarely', 'fast', 'gulliver', 'coincidentally', 'seldom', 'incredible', 'seen', 'demeanor', 'cheery', 'never', 'seldom', 'only', 'never', 'fortunately', 'fortunately', 'fortunately', 'fortunately', 'fortunately', 'fortunately', 'fortunately', 'fortunately', 'fortunately', 'fortunately', 'unwilling', 'fortunately', 'fortunately', 'fortunately', 'fortunately', 'fortunately', 'fortunately', 'fortunately', 'fortunately', 'fortunately', 'fortunately', 'fortunately', 'fortunately', 'fortunately', 'fortunately', 'fortunately', 'fortunately', 'fortunately', 'fortunately', 'fortunately', 'largely', 'either', 'exact', 'mainly', 'slow', 'calm', 'mainly', 'uncommon', 'hesitant', 'largely', 'mainly', 'fast', 'abrupt', 'mainly', 'mainly', 'lemony', 'mainly', 'incredible', 'largely', 'quiet', 'cheery', 'consisting', 'efficiency', 'impoverished', 'mainly', 'angry', 'unhappy', 'largely', 'occasional', 'millinder', 'actually', 'really', 'calm', 'industrialisation', 'uncommon', 'hesitant', 'sure', 'fast', 'shocked', 'gulliver', 'fortunate', 'always', 'incredible', 'actually', 'quiet', 'cheery', 'so', 'inefficient', 'glad', 'so', 'enraged', 'really', 'certainly', 'understandably', 'goldstar', 'so', 'might', 'exact', 'sometimes', 'always', 'sometimes', 'uncommon', 'unwilling', 'they', 'often', 'fast', 'referred', 'tragic', 'sometimes', 'incredible', 'seen', 'always', 'cheery', 'once', 'utilized', 'so', 'either', 'angry', 'always', 'goldstar', 'both', 'always', 'probably', 'probably', 'calm', 'urbanization', 'uncommon', 'unwilling', 'presumably', 'probably', 'fast', 'probably', 'probably', 'presumably', 'probably', 'incredible', 'presumably', 'demeanor', 'cheery', 'probably', 'inefficient', 'probably', 'presumably', 'angry', 'apparently', 'presumably', 'occasional', 'millinder', 'probably', 'perhaps', 'let', 'calm', 'experienced', 'uncommon', 'unwilling', 'if', 'problems', 'fast', 'which', 'happened', 'similarly', 'incredible', 'perceived', 'quiet', 'cheery', 'entire', 'obviously', 'only', 'enraged', 'want', 'loser', 'one', 'clearly', 'if', 'fast', 'calm', 'industrialisation', 'uncommon', 'hesitant', 'safer', 'fast', 'abrupt', 'gulliver', 'resembles', 'circumstance', 'always', 'dreamcoat', 'obvious', 'quiet', 'cheery', 'completed', 'thankful', 'soilers', 'loves', 'goldstar', 'well', 'evident', 'might', 'soon', 'uncommon', 'eventually', 'eventually', 'eventually', 'soon', 'soon', 'once', 'soon', 'soon', 'incredible', 'soon', 'eventually', 'soon', 'eventually', 'already', 'eventually', 'soon', 'soon', 'soon', 'soon', 'already', 'soon', 'eventually', 'exact', 'eventually', 'uncommon', 'unwilling', 'severe', 'slowing', 'similar', 'regretted', 'instead', 'incredible', 'obvious', 'silently', 'finally', 'glad', 'leaving', 'enraged', 'goldstar', 'other', 'glaringly', 'could', 'unclear', 'retired', 'uncommon', 'persuaded', 'quickly', 'quickly', 'quickly', 'situation', 'gradually', 'incredible', 'quickly', 'demeanor', 'cheery', 'quickly', 'enough', 'quickly', 'enraged', 'quickly', 'quickly', 'dwindled', 'goldstar', 'quickly', 'evident', 'quickly', 'exact', 'turned', 'calm', 'unwilling', 'seldom', 'seldom', 'slower', 'seldom', 'seldom', 'seldom', 'seldom', 'incredible', 'seldom', 'demeanor', 'seldom', 'never', 'efficiency', 'seldom', 'allowed', 'disgusted', 'always', 'millinder', 'seldom', 'seldom', 'even', 'seldom', 'seldom', 'quick', 'everyone', 'severe', 'fast', 'abrupt', 'gulliver', 'resembles', 'snicket', 'same', 'incredible', 'disappears', 'quiet', 'cheery', 'entire', 'efficiency', 'luckily', 'soilers', 'confronts', 'sporadic', 'loser', 'all', 'makes', 'if', 'exact', 'joined', 'gives', 'unassuming', 'accelerated', 'uncommon', 'injuries', 'slower', 'abrupt', 'misfortune', 'rest', 'incredible', 'inability', 'demeanour', 'cheery', 'completed', 'able', 'enraged', 'goldstar', 'other', 'noticeable', 'could', 'career', 'able', 'calm', 'uncommon', 'unwilling', 'fast', 'gulliver', 'resembles', 'gravely', 'instead', 'incredible', 'severely', 'gravely', 'cheery', 'entire', 'inefficient', 'humbled', 'soilers', 'enraged', 'loved', 'gravely', 'goldstar', 'so', 'might', 'exact', 'fast', 'calm', 'accelerated', 'uncommon', 'unwilling', 'safer', 'gradually', 'gradually', 'happened', 'gradually', 'incredible', 'gradually', 'gradually', 'cheery', 'finally', 'gradually', 'gotten', 'eventually', 'enraged', 'everyone', 'gradually', 'goldstar', 'once', 'evident', 'gradually', 'eventually', 'exact', 'gradually', 'gradually', 'uncommon', 'convinced', 'gradually', 'gradually', 'soon', 'looks', 'mysteriously', 'instead', 'fantastic', 'quiet', 'charming', 'finally', 'thankful', 'then', 'enraged', 'everyone', 'goldstar', 'once', 'actually', 'uncommon', 'unwilling', 'everyone', 'accordingly', 'circumstances', 'accordingly', 'incredible', 'quickly', 'calmed', 'cheery', 'finally', 'speedily', 'quickly', 'enraged', 'promptly', 'sporadic', 'millinder', 'quickly', 'quickly', 'quickly', 'quickly', 'uncommon', 'unwilling', 'quickly', 'quickly', 'fortunate', 'incredible', 'therefore', 'quiet', 'cheery', 'required', 'deserving', 'either', 'enraged', 'always', 'goldstar', 'more', 'reason', 'either', 'exact', 'fast', 'calm', 'quick', 'uncommon', 'unwilling', 'ensure', 'severe', 'fast', 'unexpected', 'gulliver', 'but', 'incredible', 'however', 'quiet', 'cheery', 'completed', 'efficiency', 'however', 'meanwhile', \"n't\", 'nevertheless', 'although', 'get', 'although', 'nevertheless', 'however', 'exact', 'amateur', 'but', 'but', 'however', 'uncommon', 'unwilling', 'keep', 'nevertheless', 'fast', 'but', 'unlike', 'incredible', 'often', 'quiet', 'talkative', 'typically', 'typically', 'very', 'can', 'angry', 'very', 'typically', 'unlucky', 'often', 'often', 'can', 'typically', 'professionals', 'typically', 'normally', 'typically', 'uncommon', 'unwilling', 'normally', 'severe', 'typically', 'occur', 'typically', 'fortunate', 'particular', 'clearly', 'competition', 'scapegoat', 'asked', 'dilemmas', 'sincere', 'stunning', 'enlightening', 'warned', 'called', 'possibly', 'positivists', 'might', 'probably', 'agriculturally', 'overseeing', 'absolutely', 'beguiling', 'some', 'apparently', 'comfortably', 'competition', 'lodgings', 'chose', 'dilemmas', 'unflinchingly', 'superb', 'enlightening', 'apparently', 'referred', 'presumably', 'positivists', 'skulduggery', 'unknown', 'presumably', 'agriculturally', 'fideism', 'foreseeability', 'overseeing', 'everything', 'understated', 'roomy', 'unclear', 'unclear', 'plausible', 'preferable', 'chose', 'reliable', 'intuitionism', 'unsurprisingly', 'unflinchingly', 'enlightening', 'unclear', 'unclear', 'unclear', 'positivists', 'skulduggery', 'unclear', 'probably', 'fruitful', 'plausible', 'certainty', 'unclear', 'understated', 'unclear', 'uncertain', 'uncertain', 'uncertain', 'plausible', 'preferable', 'chose', 'dilemmas', 'uncertain', 'unflinchingly', 'remarkable', 'uncertain', 'uncertain', 'uncertain', 'positivists', 'uncertain', 'uncertain', 'uncertain', 'uncertain', 'uncertain', 'involved', 'charmingly', 'uncertain', 'impractical', 'asked', 'dilemmas', 'unflinchingly', 'remarkable', 'educative', 'aware', 'referred', 'possibly', 'positivists', 'because', 'perhaps', 'problematic', 'doubt', 'involved', 'know', 'disconcerting', 'worried', 'particular', 'obvious', 'scapegoat', 'persuaded', 'dilemmas', 'impotent', 'unflinchingly', 'enlightening', 'briefed', 'infamously', 'presumably', 'positivists', 'skulduggery', 'unlikely', 'presumably', 'agriculturally', 'irrationality', 'foreseeability', 'overseeing', 'okay', 'unadventurous', 'particular', 'obvious', 'confusing', 'refused', 'dilemmas', 'enlightening', 'consulted', 'referred', 'possibly', 'positivists', 'might', 'presumably', 'agriculturally', 'involved', 'obviously', 'charmingly', 'worried', 'instance', 'confusing', 'unfair', 'uninteresting', 'chose', 'dilemmas', 'unlucky', 'unflinchingly', 'enlightening', 'misinformed', 'referred', 'possibly', 'positivists', 'insipid', 'instance', 'probably', 'agriculturally', 'unjustified', 'overseeing', 'okay', 'unimaginative', 'e.g.', 'but', 'uninteresting', 'chose', 'moral', 'truth', 'unbelievable', 'enlightening', 'truth', 'also', 'possibly', 'truth', 'truth', 'likely', 'agriculturally', 'falsity', 'overseeing', 'truth', 'vacuous', 'truth', 'truth', 'truth', 'competition', 'reliable', 'intuitionism', 'unlucky', 'unflinchingly', 'impressively', 'enlightening', 'debatable', 'unclear', 'positivists', 'skulduggery', 'unproven', 'uncertain', 'agriculturally', 'irrationality', 'foreseeability', 'unaccounted', 'charmingly', 'unsure', 'debatable', 'unambiguous', 'roomy', 'imperfectly', 'equivocal', 'equivocal', 'preferable', 'dilemmas', 'unlucky', 'unflinchingly', 'enlightening', 'advised', 'referred', 'possibly', 'positivists', 'because', 'presumably', 'agriculturally', 'blamed', 'obviously', 'unimaginative', 'worried', 'because', 'too', 'impractical', 'chose', 'unlucky', 'enlightening', 'advised', 'as', 'possibly', 'positivists', 'unlikely', 'probably', 'profitable', 'illegal', 'n’t', 'unprofessional', 'otherwise', 'illegal', 'disreputable', 'unfair', 'preferable', 'persuaded', 'unflinchingly', 'remarkable', 'entertaining', 'regarding', 'referred', 'possibly', 'reasoning', 'result', 'presumably', 'result', 'contrary', 'involved', 'happen', 'understated', 'instance', 'fact', 'competition', 'scapegoat', 'decision', 'dilemmas', 'remarkable', 'instructive', 'advised', 'referred', 'possibly', 'positivists', 'skulduggery', 'instance', 'likely', 'agriculturally', 'foreseeability', 'involved', 'obviously', 'kitschy', 'worried', 'instance', 'clearly', 'disreputable', 'monopolistic', 'preferable', 'would', 'unexciting', 'unaware', 'referred', 'presumably', 'positivists', 'inoffensive', 'possibility', 'presumably', 'agriculturally', 'foreseeability', 'overseeing', 'uninterested', 'unexciting', 'otherwise', 'unambiguous', 'uninterested', 'uninterested', 'preferable', 'persuaded', 'dilemmas', 'unlucky', 'unflinchingly', 'prior', 'prior', 'probably', 'positivists', 'skulduggery', 'prior', 'probably', 'foreseeability', 'overseeing', 'footedness', 'characterless', 'prior', 'prior', 'comfortably', 'prior', 'prior', 'misnomer', 'misnomer', 'chose', 'intuitionism', 'misnomer', 'unflinchingly', 'colloquially', 'possibly', 'positivists', 'skulduggery', 'preferable', 'probably', 'agriculturally', 'foreseeability', 'administrating', 'ignorant', 'undramatic', 'ignorant', 'kinds', 'unambiguous', 'roomy', 'preferable', 'eschew', 'subjectivism', 'gullible', 'unflinchingly', 'enlightening', 'unclear', 'positivists', 'skulduggery', 'unclear', 'presumably', 'remain', 'circumstances', 'unclear', 'know', 'understated', 'circumstances', 'seemed', 'competitors', 'unclear', 'plausible', 'exact', 'chose', 'reliable', 'moral', 'unflinchingly', 'remarkable', 'instructive', 'unaware', 'connectives', 'delightful', 'possibility', 'seems', 'fruitful', 'foreseeability', 'tasked', 'really', 'classy', 'seemed', 'nevertheless', 'seemed', 'roomy', 'exciting', 'remarkably', 'compelling', 'inexpensive', 'agreed', 'dilemmas', 'thankful', 'unflinchingly', 'remarkable', 'entertaining', 'aware', 'as', 'skulduggery', 'implausible', 'presumably', 'agriculturally', 'unjustified', 'n’t', 'amusingly', 'afraid', 'otherwise', 'but', 'unhelpful', 'persuaded', 'dilemmas', 'amusingly', 'unflinchingly', 'breathtaking', 'enlightening', 'briefed', 'also', 'possibly', 'might', 'likely', 'agriculturally', 'foreseeability', 'involved', 'anything', 'disagreeable', 'instance', 'obvious', 'competitors', 'preferable', 'wanted', 'dilemmas', 'unflinchingly', 'remarkable', 'enlightening', 'aware', 'referred', 'might', 'implication', 'apparently', 'agriculturally', 'foreseeability', 'incapable', 'n’t', 'marvelously', 'otherwise', 'quite', 'utterly', 'impractical', 'unable', 'intuitionism', 'terribly', 'unflinchingly', 'remarkable', 'enlightening', 'convinced', 'also', 'seems', 'positivists', 'skulduggery', 'astonishingly', 'absurdly', 'ridiculously', 'ridiculously', 'unbelievably', 'unbelievably', 'absurdly', 'absurdly', 'absurdly', 'absurdly', 'roomy', 'unbelievably', 'astonishingly', 'absurdly', 'ridiculously', 'absurdly', 'astonishingly', 'dilemmas', 'unbelievably', 'unbelievably', 'astonishingly', 'absurdly', 'unbelievably', 'absurdly', 'unacceptably', 'absurdly', 'skulduggery', 'absurdly', 'fideism', 'foreseeability', 'overseeing', 'n’t', 'languid', 'any', 'indication', 'competitions', 'chose', 'dilemmas', 'unflinchingly', 'amusingly', 'instructed', 'referred', 'presumably', 'connectives', 'skulduggery', 'any', 'presumably', 'unjustified', 'overseeing', 'afraid', 'disquieting', 'worried', 'these', 'because', 'games', 'impractical', 'would', 'dilemmas', 'unlucky', 'unflinchingly', 'remarkable', 'enlightening', 'aware', 'also', 'possibly', 'might', 'probably', 'agriculturally', 'overseeing', 'n’t', 'alluring', 'worried', 'instance', 'clearly', 'comfortably', 'competition', 'capricious', 'chose', 'dilemmas', 'impactful', 'unflinchingly', 'stunning', 'enlightening', 'aware', 'called', 'possibly', 'positivists', 'skulduggery', 'because', 'probably', 'agriculturally', 'stupid', 'petulant', 'hypocritical', 'outrageous', 'hypocritical', 'hypocritical', 'arrogant', 'hypocritical', 'abandon', 'presumptuous', 'gutsy', 'opinionated', 'disrespectful', 'hypocritical', 'hypocritical', 'downright', 'hypocritical', 'hypocritical', 'imprudent', 'charmingly', 'sceptical', 'whether', 'competition', 'sceptical', 'preferable', 'chose', 'dilemmas', 'unlucky', 'unflinchingly', 'enlightening', 'sceptical', 'referred', 'uncertain', 'positivists', 'skulduggery', 'uncertain', 'uncertain', 'agriculturally', 'foreseeability', 'initially', 'worried', 'instance', 'might', 'competitors', 'problematic', 'prove', 'problematic', 'tried', 'potentially', 'moral', 'unlucky', 'unpalatable', 'remarkable', 'unpalatable', 'aware', 'referred', 'possibly', 'positivists', 'might', 'likely', 'potentially', 'doubt', 'involved', 'know', 'much', 'higher', 'much', 'aleck', 'much', 'higher', 'larger', 'larger', 'aleck', 'much', 'shorter', 'higher', 'bigger', 'aleck', 'much', 'higher', 'aleck', 'cooler', 'much', 'shorter', 'higher', 'much', 'narrower', 'much', 'colder', 'shorter', 'higher', 'larger', 'aleck', 'much', 'rodding', 'higher', 'orleanians', 'aleck', 'much', 'higher', 'aleck', 'much', 'shorter', 'higher', 'aleck', 'much', 'rodders', 'higher', 'faster', 'aleck', 'cooler', 'soft', 'temperatures', 'noise', 'higher', 'increased', 'rapid', 'decrease', 'aleck', 'height', 'adults', 'aussee', 'larger', 'temperatures', 'temperatures', 'rodders', 'shorter', 'higher', 'melones', 'aleck', 'much', 'shorter', 'higher', 'aleck', 'much', 'chart', 'same', 'faster', 'aleck', 'much', 'shorter', 'higher', 'bolder', 'narrower', 'much', 'higher', 'faster', 'aleck', 'much', 'rodders', 'higher', 'still', 'faster', 'devices', 'even', 'warm', 'much', 'rodding', 'higher', 'much', 'cooler', 'much', 'shorter', 'upper', 'upper', 'upper', 'upper', 'upper', 'upper', 'aleck', 'upper', 'upper', 'upper', 'upper', 'upper', 'aussee', 'upper', 'upper', 'upper', 'warm', 'slow', 'much', 'upper', 'upper', 'upper', 'upper', 'upper', 'upper', 'faster', 'x68000', 'aleck', 'weak', 'lacing', 'hard', 'cooler', 'older', 'salzuflen', 'inexpensive', 'much', 'low', 'rodding', 'smaller', 'shrill', 'higher', 'faster', 'shinned', 'aleck', 'cool', 'inexpensive', 'warm', 'warm', 'much', 'rodders', 'higher', 'much', 'shorter', 'higher', 'safer', 'aleck', 'salzuflen', 'much', 'rodding', 'shorter', 'higher', 'narrower', 'salzuflen', 'much', 'higher', 'orleanians', 'wiser', 'aleck', 'narrower', 'much', 'higher', 'aleck', 'much', 'rodders', 'shorter', 'significantly', 'aleck', 'much', 'shorter', 'higher', 'aleck', 'much', 'rodders', 'shorter', 'higher', 'faster', 'narrower', 'much', 'shorter', 'higher', 'livelier', 'wiser', 'much', 'shorter', 'higher', 'cooler', 'much', 'higher', 'larger', 'fabians', 'salzuflen', 'much', 'rodding', 'higher', 'stricter', 'aleck', 'harsher', 'much', 'rodders', 'shorter', 'higher', 'stricter', 'aleck', 'colder', 'much', 'colder', 'shorter', 'higher', 'much', 'easier', 'aleck', 'much', 'shorter', 'higher', 'aleck', 'salzuflen', 'much', 'rodding', 'higher', 'much', 'larger', 'aleck', 'warm', 'grandson', 'rodding', 'higher', 'long', 'aleck', 'cooler', 'ever', 'temperatures', 'temperatures', 'darker', 'easier', 'slow', 'higher', 'rodders', 'higher', 'goldstar', 'years', 'rapid', 'shinned', 'long', 'fast', 'large', 'aleck', 'bizarre', 'dessert', 'height', None, 'temperatures', 'strongest', 'terrifying', 'ever', 'warm', 'warm', 'darker', 'easier', 'slow', 'excellent', 'charting', 'higher', 'goldstar', 'rapid', 'examples', 'long', 'fast', 'largest', 'aleck', 'bizarre', 'potatoes', 'height', None, 'temperate', 'strong', 'yankovic', 'largest', 'youth', 'kissingen', 'chillin', 'hottest', 'slowest', 'rodders', 'high', 'goldstar', 'carthusians', 'qsr', 'circuiting', 'fast', 'largest', 'kūmara', None, 'unseasonably', 'equivalences', 'strangest', 'aspiring', 'aussee', 'coolest', 'coolest', 'coolest', 'coolest', 'warmest', 'warmest', 'warmest', 'warmest', 'coolest', 'coolest', 'coolest', 'coolest', 'coolest', 'coolest', 'coolest', 'coolest', 'coolest', 'warmest', 'warmest', None, 'hypercharge', 'coolest', 'coolest', 'coolest', 'coolest', 'coolest', 'haunter', 'easier', 'dullest', 'ever', 'higher', 'millinder', 'year-', 'dullest', 'month', 'lorises', 'smaller', 'aleck', 'bizarre', 'dullest', None, 'equivalences', 'salzuflen', 'spenders', 'dullest', 'slowest', 'happiest', 'ercall', 'rodders', 'hour', 'happiest', 'goldstar', 'happiest', 'turnarounds', 'hour', 'lorises', 'aleck', 'happiest', 'thorkell', None, 'unseasonably', 'strangest', 'impressionable', 'aussee', 'toughest', 'happiest', 'chillin', 'happiest', 'quickest', 'cheapest', 'grandnephew', 'ercall', 'rodders', 'mynd', 'higher', 'goldstar', 'carthusians', 'cleverest', 'shinned', 'long', 'slower', 'smaller', 'aleck', 'savory', 'thorkell', None, 'humid', 'hypercharge', 'strangest', 'fabians', 'kissingen', 'lebowski', 'chillin', 'humid', 'haunter', 'rodders', 'loser', 'dohme', 'third', 'largest', 'aleck', 'mysterious', 'semifinal', None, 'humid', 'strongest', 'yankovic', 'meters', 'kissingen', 'yellow', 'heat', 'humid', 'spots', 'billboard', 'short', 'high', 'goldstar', 'years', 'fast', 'jagged', 'feature', 'long', 'fast', 'large', 'aleck', 'bizarre', 'finalist', 'height', None, 'cold', 'strong', 'yankovic', 'ranging', 'award', 'blue', 'hot', 'hot', 'brown', 'easier', 'slow', 'billboard', 'high', 'goldstar', 'one', 'fast', 'straightforward', 'best', 'fast', 'tiny', 'aleck', 'bizarre', 'spicy', 'height', None, 'cool', 'strongest', 'yankovic', 'width', 'best', 'salzuflen', 'hot', 'hottest', 'darker', 'straightforward', 'slow', 'chart', 'loser', 'last', 'witted', 'dohme', 'lowest', 'third', 'slower', 'smaller', 'aleck', 'mysterious', 'dessert', 'height', None, 'cool', 'strongest', 'yankovic', 'salzuflen', 'colour', 'chillin', 'warm', 'darker', 'slow', 'mynd', 'coolest', 'goldstar', 'saybrook', 'coolest', 'dohme', 'deceptively', 'long', 'lorises', 'smaller', 'coolest', 'goings', 'coolest', 'height', None, 'strongest', 'coolest', 'sargasso', 'nubile', 'salzuflen', 'coolest', 'coolest', 'haunter', 'coolest', 'coolest', 'coolest', 'ercall', 'highest', 'goldstar', 'rapid', 'dohme', 'kind', 'longest', 'fast', 'aleck', 'bizarre', 'savoury', None, 'cool', 'strongest', 'yankovic', 'kissingen', 'chillin', 'warm', 'darker', 'biggest', 'biggest', 'rodders', 'goldstar', 'turnarounds', 'shinned', 'fast', 'largest', 'aleck', 'bizarre', 'confection', None, 'unseasonably', 'hypercharge', 'craziest', 'salzuflen', 'chillin', 'runnings', 'streaks', 'easier', 'paced', 'ever', 'rodders', 'loser', 'witted', 'fourth', 'slower', 'aleck', 'bizarre', 'caress', None, 'strongest', 'yankovic', 'kissingen', 'pink', 'chillin', 'warm', 'darker', 'highest', 'rodders', 'decrepit', 'handsomest', 'long', 'lorises', 'large', 'handsomest', 'handsomest', 'natured', 'thorkell', None, 'unseasonably', 'equivalences', 'stupidest', 'swath', 'fabians', 'kissingen', 'handsomest', 'shone', 'frigid', 'haunter', 'pickings', 'handsomest', 'handsomest', 'handsomest', 'hueytown', 'oppressively', 'thăng', 'high', 'fast', 'shinned', 'examples', 'longest', 'fast', 'largest', 'integrated', 'bizarre', 'confection', None, 'temperatures', 'strongest', 'yankovic', 'largest', 'kissingen', 'yellow', 'warm', 'warm', 'darker', 'easier', 'slow', 'excellent', 'largest', 'rodders', 'higher', 'goldstar', 'kenseth', 'fastest', 'cheapest', 'mysterious', 'fastest', None, 'humid', 'hypercharge', 'yankovic', 'jimmie', 'nauheim', 'fastest', 'chillin', 'warm', 'darker', 'fastest', 'time', 'rodders', 'shortest', 'goldstar', 'etonians', 'lengthiest', 'smoothest', 'loveliest', 'thorkell', None, 'sunniest', 'punx', 'salzuflen', 'spenders', 'storages', 'noisiest', 'haunter', 'smoothest', 'smoothest', 'unquestionably', 'hueytown', 'rodders', 'grandest', 'gestating', 'nucleophilicity', 'goldstar', 'year-', 'boldest', 'slower', 'cheapest', 'bedfellows', 'afton', None, 'warmer', 'hypercharge', 'strangest', 'fabians', 'kissingen', 'lebowski', 'chillin', 'runnings', 'haunter', 'faster', 'excellent', 'arguably', 'hueytown', 'rodders', 'higher', 'goldstar', 'sturbridge', 'easiest', 'slower', 'aleck', 'delicious', \"5'7\", None, 'warmer', 'strongest', 'kreuznach', 'brighter', 'chillin', 'easiest', 'slowest', 'easiest', 'hueytown', 'rodders', 'smallest', 'goldstar', 'etonian', 'easiest', 'easiest', 'happenings', 'loveliest', None, 'weaker', 'strangest', 'kissingen', 'brighter', 'chillin', 'runnings', 'artifices', 'grandchild', 'rodders', 'e.t', 'goldstar', 'youngest', 'alena', 'aleck', 'bizarre', None, 'strongest', 'salzuflen', 'brighter', 'chillin', 'humid', 'darker', 'easier', 'faster', 'thing', 'lowest', 'rodders', 'goldstar', 'turnaround', 'longest', 'slower', 'loveliest', 'nastiest', None, 'unseasonably', 'strongest', 'weirdest', 'cleverest', 'ischl', 'weirdest', 'chillin', 'weirdest', 'haunter', 'weirdest', 'wisest', 'ablest', 'rodders', 'weirdest', 'millinder', 'carthusians', 'cleverest', 'funniest', 'loveliest', None, 'humid', 'cleverest', 'salzuflen', 'liveliest', 'chillin', 'runnings', 'smoothest', 'arguably', 'arguably', 'rodding', 'cherished', 'goldstar', 'grandest', 'turnarounds', 'lengthiest', 'smoothest', 'largest', None, 'cool', 'strangest', 'younger', 'salzuflen', 'chillin', 'slowest', 'thing', 'rodders', 'goldstar', 'smoothest', 'slower', 'smaller', 'thorkell', None, 'saddest', 'hypercharge', 'craziest', 'sargasso', 'impressionable', 'salzuflen', 'spenders', 'prettiest', 'chillin', 'shadows', 'craziest', 'nicest', 'magnificence', 'ercall', 'saddest', 'smallest', 'shortest', 'goldstar', 'saddest', 'cleverest', 'circuiting', 'lorises', None, 'temperatures', 'strongest', 'kissingen', 'chillin', 'hottest', 'shadows', 'easier', 'ever', 'rodders', 'higher', 'goldstar', 'rapid', 'shinned', 'longest', 'slower', 'largest', 'newest', 'bizarre', 'dessert', None, None, None, None, None, None, None, None, None, None, None, None, None, None, None, None, None, None, None, None, None, None, None, None, None, None, None, None, None, None, None, None, None, 'hypercharge', 'coolest', 'coolest', 'salzuflen', 'coolest', 'coolest', 'easier', 'coolest', 'coolest', 'ercall', 'mynd', 'coldest', 'millinder', 'coolest', 'turnaround', 'long', 'coolest', 'coolest', 'coolest', 'rainiest', None, 'strangest', 'fabians', 'kissingen', 'chillin', 'slowest', 'one', 'school', 'rodders', 'one', 'goldstar', 'one', 'turnaround', 'one', 'smaller', 'aleck', 'savoury', None, 'cool', 'smartest', 'chillin', 'haunter', 'smoothest', 'wisest', 'rodders', 'goldstar', 'boldest', 'longest', 'fast', 'largest', None, 'strongest', 'impressionable', 'salzuflen', 'clifty', 'brighter', 'chillin', 'runnings', 'haunter', 'paced', 'naturedly', 'bardfield', 'ercall', 'rodding', 'goldstar', 'edwardians', 'bleakest', 'circuiting', 'lorises', 'aleck', 'bizarre', 'syrupy', \"5'7\", None, 'hypercharge', 'yankovic', 'kissingen', 'brighter', 'chillin', 'runnings', 'grey', 'easier', 'slowest', 'ever', 'grandson', 'chart', 'highest', 'goldstar', 'slowest', 'sharper', 'longest', 'slower', 'smaller', 'aleck', 'occurrences', 'manis', None, 'unseasonably', 'weaker', 'yankovic', 'longest', 'bootcamps', 'decreases', 'characterize', 'realize', 'enhances', 'syrphid', 'generated', 'strategies', 'decrease', 'conceptualize', 'jumps', 'listened', 'ran', 'n’t', 'bootcamps', 'come', 'fast', 'loons', 'n’t', 'disappear', 'perp', 'compose', 'increase', 'discovers', 'improve', 'flies', 'decrease', 'jumps', 'hear', 'know', 'crying', 'riffle', 'fast', 'bladders', 'really', 'vanishes', 'read', 'codes', 'increase', 'flies', 'implementation', 'increased', 'jumps', 'know', 'shout', 'because', 'fast', 'really', 'vanishes', 'codes', 'flies', 'jumps', 'write', 'know', 'blacula', 'here', 'reshuffled', 'fast', 'swims', 'really', 'vanishes', 'codes', 'discovers', 'flies', 'generated', 'increased', 'jumps', 'commenting', 'looks', 'wrote', 'ran', 'blacula', 'saying', 'commenting', 'fast', 'saying', 'vanishes', 'codes', 'increase', 'flies', 'increased', 'jumps', 'listened', 'writing', 'know', 'blacula', 'this', 'fast', 'really', 'vanishes', 'codes', 'increases', 'flies', 'jumps', 'listened', 'write', 'know', 'blacula', 'colijn', 'sang', 'fast', 'really', 'vanishes', 'codes', 'implementation', 'increased', 'jumps', 'ran', 'we', 'blacula', 'hudsons', 'fast', 'really', 'vanishes', 'read', 'codes', 'increase', 'improve', 'increased', 'jumps', 'ran', 'know', 'blacula', 'here', 'fast', 'really', 'vanishes', 'codes', 'flies', 'implemented', 'jumps', 'write', 'know', 'blacula', 'what', 'fast', 'really', 'vanishes', 'read', 'codes', 'increase', 'improve', 'flies', 'generated', 'jumps', 'know', 'seen', 'really', 'vanishes', 'codes', 'flies', 'jumps', 'write', 'know', 'blacula', 'so', 'fast', 'really', 'vanishes', 'codes', 'flies', 'generated', 'jumps', 'remembered', 'know', 'blacula', 'seen', 'popularizing', 'fast', 'know', 'vanishes', 'codes', 'increases', 'flies', 'runs', 'know', 'seen', 'riffle', 'fast', 'really', 'vanishes', 'codes', 'decreased', 'flies', 'increased', 'know', 'blacula', 'seen', 'riffle', 'fast', 'really', 'vanishes', 'codes', 'increase', 'refers', 'improve', 'implemented', 'increased', 'ran', 'know', 'screams', 'riffle', 'fast', 'swims', 'really', 'vanishes', 'codes', 'increase', 'improve', 'flies', 'increased', 'jumps', 'ran', 'we', 'screams', 'here', 'riffle', 'fast', 'really', 'vanishes', 'codes', 'flies', 'increased', 'jumps', 'runs', 'know', 'screams', 'seen', 'fast', 'really', 'vanishes', 'codes', 'increase', 'improve', 'flies', 'generated', 'increased', 'jumps', 'ran', 'blacula', 'seen', 'fast', 'saying', 'vanishes', 'codes', 'increase', 'flies', 'increased', 'jumps', 'runs', 'believe', 'curdling', 'seen', 'fast', 'really', 'vanishes', 'codes', 'increase', 'refers', 'improve', 'flies', 'increased', 'jumps', 'know', 'blacula', 'seen', 'fast', 'really', 'vanishes', 'read', 'codes', 'increase', 'improve', 'flies', 'generated', 'increased', 'jumps', 'screams', 'stating', 'reshuffled', 'fast', 'stating', 'vanishes', 'codes', 'increase', 'discovers', 'improve', 'flies', 'generated', 'implemented', 'increased', 'jumps', 'stating', 'looks', 'stating', 'ran', 'come', 'fast', 'really', 'vanishes', 'read', 'codes', 'decreased', 'referring', 'discovers', 'improve', 'flies', 'generated', 'increased', 'jumps', 'know', 'fast', 'swam', 'really', 'vanishes', 'codes', 'increase', 'discovers', 'flies', 'jumps', 'recalls', 'think', 'screams', 'idly', 'fast', 'swims', 'really', 'vanishes', 'read', 'codes', 'increase', 'improve', 'flies', 'generates', 'increased', 'jumps', 'listens', 'know', 'screams', 'so', 'fast', 'really', 'vanishes', 'codes', 'increase', 'describes', 'improve', 'flies', 'generated', 'increased', 'jumps', 'writing', 'says', 'seen', 'riffle', 'fast', 'thing', 'vanishes', 'codes', 'increase', 'discovers', 'improve', 'flies', 'generated', 'increased', 'ran', 'know', 'screams', 'seen', 'swims', 'anybody', 'vanishes', 'perp', 'read', 'codes', 'relate', 'tsetse', 'generates', 'decrease', 'jumps', 'listened', 'looks', 'pushing', 'voraciously', 'ran', 'anybody', 'blacula', 'primatial', 'reshuffled', 'alongs', 'idly', 'really', 'vanishes', 'codes', 'increase', 'describes', 'improve', 'implementation', 'increased', 'indoor', 'says', 'blacula', 'example', 'riffle', 'fast', 'vanishes', 'codes', 'increase', 'concepts', 'discovers', 'improve', 'flies', 'goes', 'increased', 'jumps', 'moves', 'runs', 'know', 'blacula', 'sees', 'fast', 'codes', 'increase', 'describes', 'improve', 'flies', 'implemented', 'increased', 'jumps', 'book', 'ran', 'you', 'primal', 'this', 'riffle', 'sat', 'fast', 'really', 'codes', 'increase', 'improve', 'flies', 'decrease', 'jumps', 'says', 'screams', 'seen', 'fast', 'really', 'vanishes', 'codes', 'increase', 'flies', 'generated', 'increased', 'looks', 'runs', 'screams', 'seen', 'fast', 'really', 'vanishes', 'argentine', 'belarusian', 'swedish', 'slovak', 'klagenfurt', 'belarusian', 'argentinian', 'randers', 'an', 'metz', 'thessaloniki', 'valletta', 'chişinău', 'slovak', 'málaga', 'schaffhausen', 'kharkiv', 'belarusian', 'slovak', 'belarusian', 'bulgarian', 'slovak', 'argentine', 'laos', 'indochina', 'peru', 'yugoslav', 'reykjavik', 'thrace', 'gozo', 'chişinău', 'nordland', 'andes', 'lisbon', 'soviet', 'piešťany', 'zurich', 'laos', 'kharkov', 'hoxha', 'chile', 'slovak', 'argentine', 'slovak', 'argentine', 'belarusian', 'peruvian', 'thessaloniki', 'bulgarian', 'gibraltar', 'slovak', 'argentine', 'belarusian', 'slovak', 'argentine', 'belarusian', 'valletta', 'slovak', 'argentinian', 'belarusian', 'thessaloniki', 'gibraltar', 'slovak', 'argentinian', 'belarusian', 'bulgarian', 'slovak', 'argentine', 'belarusian', 'slovak', 'argentine', 'belarusian', 'slovak', 'argentinian', 'belarusian', 'peruvian', 'hindi', 'bulgarian', 'slovak', 'german', 'spanish', 'belarusian', 'slovak', 'argentine', 'belarusian', 'peru', 'bulgarian', 'slovak', 'argentinian', 'belarusian', 'bolivia', 'slovak', 'argentine', 'belarusian', 'laos', 'slovak', 'argentinian', 'belarusian', 'chişinău', 'slovak', 'argentine', 'belarusian', 'slovak', 'argentine', 'belarusian', 'bulgarian', 'valletta', 'slovak', 'argentine', 'belarusian', 'slovak', 'argentine', 'belarusian', 'slovak', 'argentine', 'belarusian', 'bulgarian', 'slovak', 'argentine', 'belarusian', 'slovak', 'argentine', 'belarusian', 'slovak', 'argentine', 'belarusian', 'slovak', 'argentine', 'ukrainian', 'bulgarian', 'chilean', 'slovak', 'argentine', 'belarusian', 'slovak', 'argentine', 'belarusian', 'slovak', 'argentine', 'belarusian', 'bulgarian', 'slovak', 'argentinian', 'belarusian', 'thessaloniki', 'bulgarian', 'gibraltar', 'slovak', 'argentine', 'belarusian', 'slovak', 'spanish', 'belarusian', 'peruvian', 'bulgarian', 'dutch', 'chişinău', 'slovak', 'argentine', 'belarusian', 'argentinian', 'belarusian', 'reykjavík', 'argentine', 'belarusian', 'argentine', 'belarusian', 'slovak', 'argentine', 'belarusian', 'slovak', 'argentine', 'belarusian', 'slovak', 'argentine', 'belarusian', 'slovak', 'decreases', 'quoted', 'improving', 'feed', 'generates', 'go', 'bungee', 'predict', 'stating', 'knowing', 'slows', 'wishful', 'oneohtrix', 'describes', 'enhance', 'feed', 'generate', 'go', 'implementation', 'eventing', 'know', 'listen', 'predict', 'stating', 'screams', 'sing', 'sleep', 'pool', 'point', 'walk', 'dance', 'enhance', 'feed', 'generate', 'hide', 'salticidae', 'knows', 'screams', 'sit', 'pool', 'pterolophia', 'walk', 'dance', 'increasing', 'feed', 'go', 'escape', 'jumps', 'know', 'listen', 'look', 'move', 'predict', 'stating', 'screams', 'see', 'copies', 'rapidly', 'version', 'sit', 'budget', 'pool', 'take', 'point', 'walk', 'dance', 'increases', 'describes', 'feed', 'megawatts', 'escaped', 'implement', 'ski', 'prediction', 'stating', 'soon', 'stood', 'pool', 'point', 'walk', 'dance', 'increasing', 'describes', 'improving', 'mw', 'jump', 'knows', 'prediction', 'stating', 'yelling', 'told', 'pool', 'think', 'caven', 'walk', 'dance', 'increasing', 'describes', 'improving', 'megawatts', 'go', 'implement', 'predict', 'stating', 'told', 'pool', 'ideas', 'hitchhiker', 'dancers', 'increasing', 'noting', 'enhance', 'feed', 'go', 'hide', 'jumps', 'knows', 'listen', 'look', 'move', 'predict', 'stating', 'screams', 'sees', 'songs', 'standing', 'pool', 'take', 'vanish', 'walk', 'dance', 'increasing', 'describes', 'enhance', 'feed', 'implement', 'eventing', 'father', 'prediction', 'stating', 'soon', 'pool', 'ideas', 'caven', 'walk', 'dance', 'increasing', 'wrote', 'enhance', 'feed', 'batting', 'implement', 'dressage', 'realizing', 'predict', 'stating', 'when', 'seated', 'wishful', 'vanish', 'walk', 'dancers', 'decreases', 'describe', 'enhance', 'feed', 'generate', 'implementation', 'jump', 'know', 'listen', 'look', 'predict', 'stating', 'crying', 'come', 'songs', 'standing', 'pool', 'take', 'vanishes', 'walk', 'dance', 'increasing', 'wrote', 'enhance', 'feed', 'go', 'hide', 'jumps', 'never', 'listen', 'look', 'move', 'predict', 'stating', 'screams', 'never', 'sing', 'sit', 'pool', 'point', 'walk', 'dance', 'decrease', 'similarly', 'enhance', 'feed', 'go', 'hide', 'jumps', 'knows', 'listen', 'look', 'predict', 'stating', 'screams', 'actually', 'sing', 'sit', 'pool', 'hitchhiker', 'walk', 'dance', 'describes', 'enhance', 'feed', 'generate', 'go', 'stating', 'looked', 'sales', 'stood', 'pool', 'think', 'vanish', 'dancers', 'increasing', 'commented', 'enhance', 'feed', 'mw', 'implement', 'told', 'standing', 'pool', 'hitchhiker', 'walk', 'dancers', 'increasing', 'wrote', 'improving', 'feed', 'generate', 'jump', 'stating', 'talked', 'vanish', 'dancers', 'decrease', 'quoted', 'enhance', 'feed', 'mw', 'formulating', 'jumps', 'predict', 'stating', 'pool', 'caven', 'walk', 'dance', 'increasing', 'noting', 'improving', 'feed', 'generate', 'jump', 'predict', 'stating', 'screams', 'soon', 'pool', 'caven', 'walk', 'dance', 'wrote', 'enhance', 'feed', 'hydroelectric', 'dressage', 'predict', 'stating', 'what', 'standing', 'pool', 'vanishes', 'walk', 'dance', 'decrease', 'describes', 'enhance', 'feeds', 'hidden', 'jumps', 'predict', 'stating', 'screams', 'sees', 'pool', 'vanishes', 'walk', 'dance', 'decrease', 'describes', 'enhance', 'feed', 'generate', 'implementation', 'jumps', 'knows', 'stating', 'screams', 'actually', 'sales', 'sing', 'sit', 'pool', 'take', 'point', 'walk', 'dance', 'decrease', 'enhance', 'feed', 'generate', 'go', 'escape', 'jump', 'listen', 'look', 'move', 'stating', 'yelling', 'what', 'sell', 'sing', 'sit', 'swim', 'take', 'think', 'vanishes', 'walk', 'dance', 'increasing', 'describes', 'enhance', 'feed', 'generate', 'go', 'hide', 'implement', 'jumps', 'knows', 'listen', 'look', 'move', 'predict', 'stating', 'pool', 'caven', 'dance', 'increasing', 'describes', 'enhance', 'feed', 'generate', 'implement', 'knows', 'predict', 'when', 'pool', 'woodman', 'walk', 'dance', 'increasing', 'describes', 'enhance', 'feed', 'generate', 'jump', 'predict', 'knowing', 'stood', 'pool', 'caven', 'dancers', 'decreases', 'noting', 'enhance', 'feed', 'generate', 'go', 'implement', 'jumps', 'predict', 'stating', 'sales', 'vocal', 'stood', 'accommodation', 'strike', 'pool', 'ideas', 'point', 'walk', 'dance', 'increasing', 'enhance', 'feed', 'generate', 'came', 'jump', 'did', '1990s', 'beginning', 'stating', 'pool', 'vanishes', 'walk', 'dance', 'enhance', 'feed', 'generate', 'escaped', 'jumps', 'knows', 'listen', 'predict', 'stating', 'screams', 'when', 'sing', 'canoeing', 'vanishes', 'horseback', 'dance', 'commenting', 'enhances', 'feed', 'generate', 'go', 'implement', 'bungee', 'know', 'listen', 'predict', 'stating', 'soon', 'championships', 'think', 'vanishes', 'walk', 'decreases', 'describes', 'improving', 'feed', 'generate', 'go', 'hide', 'jumps', 'knows', 'predict', 'stating', 'athletics', 'ideas', 'gavins', 'walk', 'dance', 'increasing', 'wrote', 'enhance', 'feed', 'generate', 'implement', 'jumps', 'knows', 'prediction', 'math', 'stating', 'when', 'think', 'vanishes', 'dance', 'steadily', 'commenting', 'improving', 'feed', 'generate', 'jumps', 'predict', 'stating', 'knew', 'sell', 'steadily', 'sing', 'pool', 'point', 'walk', 'dance', 'noting', 'enhance', 'feed', 'go', 'hide', 'jumps', 'never', 'listen', 'stating', 'screams', 'soon', 'vocal', 'standing', 'pool', 'point', 'walk', 'dance', 'increasing', 'describes', 'improving', 'feed', 'generate', 'designing', 'jumps', 'predict', 'yelling', 'when', 'rapidly', 'pool', 'think', 'vanishes', 'walk', 'dance', 'increasing', 'describes', 'improving', 'feed', 'generate', 'escaped', 'realizing', 'predict', 'stating', 'screams', 'meanwhile', 'wishful', 'caven', 'decreases', 'describes', 'improving', 'feeds', 'megawatts', 'formulating', 'knows', 'predict', 'stating', 'screams', 'remembers', 'copies', 'shrinks', 'caven', 'walk', 'dance', 'describes', 'enhance', 'feed', 'mw', 'implement', 'dressage', 'predict', 'stating', 'pool', 'point', 'seen', 'dance', 'decrease', 'enhance', 'feed', 'generate', 'escaped', 'jump', 'actually', 'screams', 'actually', 'standing', 'believed', 'pool', 'disappeared', 'dancers', 'noting', 'improving', 'disappeared', 'disappeared', 'gone', 'disappeared', 'disappeared', 'unaware', 'disappeared', 'disappeared', 'disappeared', 'predict', 'stating', 'screams', 'disappeared', 'disappeared', 'disappeared', 'disappeared', 'swim', 'disappeared', 'dancers', 'increasing', 'saying', 'boosting', 'feed', 'generate', 'predict', 'stating', 'told', 'sales', 'wishful', 'vanish', 'dance', 'increasing', 'describes', 'enhance', 'feed', 'generate', 'go', 'hide', 'jumps', 'knows', 'listen', 'move', 'predict', 'stating', 'screams', 'says', 'standing', 'pool', 'vanishes', 'walk', 'colour', 'multibillion', 'konga', 'harpy', 'sheep', 'androcles', 'woman', 'patas', 'peppa', 'man', 'colour', 'multibillion', 'konga', 'sheep', 'jackfruit', 'cantaloupe', 'garlic', 'prickly', 'guava', 'colour', 'konga', 'verreaux', \"bull's\", 'sheep', 'whelp', 'guava', 'person', 'cantaloupe', 'garlic', 'prickly', 'peppa', 'guava', 'colour', 'multibillion', 'konga', 'harpy', \"bull's\", 'sheep', 'whelp', 'guava', 'woman', 'cantaloupe', 'garlic', 'prickly', 'peppa', 'guava', 'girl', 'mango', 'colour', 'konga', 'harpy', 'sheep', 'whelp', 'guava', 'cantaloupe', 'garlic', 'prickly', 'peppa', 'guava', 'colour', 'multimillion', 'konga', 'jackfruit', 'cantaloupe', 'garlic', 'prickly', 'mango', 'passionfruit', 'colour', 'konga', 'harpy', 'sheep', 'whelp', 'pineapple', 'watermelon', 'garlic', 'plum', 'peppa', 'banana', 'pineapple', 'colour', 'multibillion', 'konga', 'harpy', 'sheep', 'androcles', 'guava', 'woman', 'cantaloupe', 'garlic', 'prickly', 'peppa', 'guava', 'man', 'goat', 'multibillion', 'konga', 'harpy', 'sheep', 'whelp', 'jackfruit', 'woman', 'cantaloupe', 'microcebus', 'garlic', 'prickly', 'peppa', 'mango', 'girl', 'passionfruit', 'multibillion', 'konga', 'harpy', \"bull's\", 'sheep', 'whelp', 'guava', 'woman', 'cantaloupe', 'garlic', 'prickly', 'peppa', 'guava', 'girl', 'colour', 'harpy', 'guava', 'cantaloupe', 'prickly', 'mango', 'passionfruit', 'colour', 'guava', 'cantaloupe', 'garlic', 'prickly', 'guava', 'colour', 'konga', 'verreaux', 'sheep', 'whelp', 'guava', 'having', 'cantaloupe', 'garlic', 'prickly', 'peppa', 'guava', 'girl', 'colour', 'harpy', \"bull's\", 'guava', 'cantaloupe', 'prickly', 'guava', 'passionfruit', 'colour', 'multimillion', 'harpy', 'whelp', 'guava', 'woman', 'watermelon', 'patas', 'garlic', 'prickly', 'peppa', 'banana', 'girl', 'pineapple', 'dog', 'colour', 'multibillion', 'konga', 'thumb', 'put', 'guava', 'cantaloupe', 'garlic', 'prickly', 'peppa', 'mango', 'lane', 'colour', 'multimillion', 'konga', 'jackfruit', 'cantaloupe', 'garlic', 'prickly', 'mango', 'passionfruit', 'colour', 'harpy', 'cow', 'androcles', 'pineapple', 'woman', 'watermelon', 'rat', 'garlic', 'prickly', 'peppa', 'mango', 'highway', 'girl', 'pineapple', 'mother', 'colour', 'multibillion', 'konga', 'verreaux', 'sheep', 'androcles', 'jackfruit', 'woman', 'watermelon', 'patas', 'rat', 'garlic', 'prickly', 'peppa', 'mango', 'man', 'coconut', 'colour', 'goat', 'multibillion', 'konga', 'verreaux', 'guava', 'cantaloupe', 'prickly', 'guava', 'colour', 'whelp', 'guava', 'woman', 'cantaloupe', 'garlic', 'prickly', 'peppa', 'guava', 'highway', 'girl', 'pineapple', 'colour', 'goat', 'multibillion', 'konga', 'harpy', 'sheep', 'jackfruit', 'cantaloupe', 'prickly', 'papaya', 'colour', 'harpy', 'jackfruit', 'squad', 'dolphins', 'prickly', 'mango', 'oort', 'colour', 'multimillion', 'braying', \"bull's\", 'thumb', 'put', 'guava', 'woman', 'cantaloupe', 'garlic', 'prickly', 'peppa', 'guava', 'highway', 'mango', 'colour', 'konga', 'harpy', 'beholder', 'sheep', 'whelp', 'person', 'howler', 'peppa', 'highway', 'man', 'fanciers', 'colour', 'multibillion', 'konga', 'verreaux', 'sheep', 'androcles', 'cantaloupe', 'garlic', 'prickly', 'peppa', 'banana', 'route', 'pineapple', 'women', 'konga', \"bull's\", 'sheep', 'women', 'pineapple', 'watermelons', 'watermelons', 'watermelons', 'peppa', 'watermelons', 'watermelons', 'colour', 'multibillion', 'watermelons', 'harpy', 'watermelons', 'watermelons', 'sheep', 'androcles', 'him', 'garlic', 'prickly', 'guava', 'colour', 'multimillion', 'guava', 'young', 'cantaloupe', 'garlic', 'prickly', 'papaya', 'pineapple', 'colour', 'multimillion', 'konga', 'harpy', 'cows', 'jackfruit', 'cantaloupe', 'peppa', 'mother', 'colour', 'multibillion', 'konga', 'harpy', 'thumb', 'sheep', 'whelp', 'guava', 'woman', 'patas', 'peppa', 'mother', 'pet', 'colour', 'multibillion', 'konga', 'harpy', 'sheep', 'whelp', 'woman', 'mango', 'mango', 'colour', 'harpy', 'guava', 'cantaloupe', 'garlic', 'prickly', 'girl', 'oort', 'colour', 'multibillion', 'konga', 'verreaux', \"bull's\", 'sheep', 'whelp', 'woman', 'vervet', 'peppa', 'colour', 'multimillion', 'konga', 'harpy', 'guava', 'cantaloupe', 'garlic', 'prickly', 'guava', 'man', 'colour', 'konga', 'harpy', \"bull's\", 'sheep', 'whelp', 'guava', 'woman', 'cantaloupe', 'garlic', 'prickly', 'peppa', 'guava', 'colour', 'multimillion', 'konga', 'guava', 'young', 'watermelon', 'prickly', 'papaya', 'pineapple', 'colour', 'konga', \"bull's\", 'thumb', 'sheep', 'these', 'pineapple', 'cantaloupe', 'garlic', 'prickly', 'peppa', 'banana', 'describing', 'implementation', 'listening', 'playing', 'predicting', 'providing', 'know', 'blacula', 'searching', 'so', 'riffle', 'sitting', 'fast', 'talking', 'really', 'perp', 'read', 'implementation', 'increased', 'says', 'playing', 'predicting', 'blacula', 'searching', 'says', 'ipod', 'singing', 'sitting', 'fast', 'swimming', 'says', 'says', 'walking', 'wrote', 'increase', 'implementing', 'played', 'predicting', 'providing', 'knows', 'blacula', 'fast', 'syndicated', 'writing', 'describing', 'implementing', 'this', 'decimates', 'sitting', 'slower', 'talking', 'really', 'perp', 'this', 'characterizes', 'ate', 'generated', 'going', 'implemented', 'increased', 'listened', 'playing', 'predicting', 'providing', 'know', 'blacula', 'searching', 'does', 'shuffling', 'sang', 'sitting', 'fast', 'speaking', 'swimming', 'show', 'really', 'disappear', 'walking', 'writing', 'increase', 'describing', 'eating', 'improve', 'increased', 'playing', 'predicting', 'shuffling', 'sitting', 'fast', 'tells', 'written', 'decreased', 'implementing', 'playing', 'blacula', 'searching', 'says', 'shuffling', 'sitting', 'fast', 'airs', 'thing', 'writing', 'implementation', 'searching', 'comes', 'gilbreath', 'fast', 'asks', 'listening', 'playing', 'predicting', 'provided', 'know', 'searching', 'here', 'ipod', 'sitting', 'fast', 'bladders', 'shows', 'really', 'writing', 'describing', 'ate', 'hear', 'playing', 'predicting', 'providing', 'know', 'blacula', 'searching', 'so', 'riffle', 'sitting', 'fast', 'talking', 'really', 'walking', 'read', 'describing', 'implementing', 'played', 'predicting', 'providing', 'blacula', 'reshuffling', 'silently', 'fast', 'syndicated', 'increases', 'characterize', 'implemented', 'decrease', 'predicting', 'providing', 'know', 'seen', 'abbasi', 'sitting', 'fast', 'radio', 'really', 'walking', 'writing', 'increase', 'describing', 'implementing', 'decrease', 'blacula', 'searching', 'says', 'shuffling', 'sat', 'fast', 'says', 'says', 'wrote', 'implementation', 'increased', 'says', 'playing', 'blacula', 'searching', 'does', 'ipod', 'sitting', 'fast', 'swimming', 'radio', 'thing', 'walking', 'read', 'increases', 'implementation', 'listening', 'playing', 'predicting', 'searching', 'explains', 'shuffling', 'singing', 'sitting', 'fast', 'explains', 'believes', 'increase', 'improve', 'implemented', 'increased', 'listening', 'playing', 'shuffling', 'sang', 'sitting', 'fast', 'asks', 'really', 'working', 'read', 'increase', 'describing', 'eaten', 'improve', 'generated', 'implementing', 'increased', 'hear', 'playing', 'predicting', 'providing', 'know', 'does', 'ipod', 'sitting', 'fast', 'talking', 'really', 'read', 'increase', 'characterize', 'going', 'implemented', 'decrease', 'playing', 'predicting', 'provided', 'know', 'shuffling', 'sitting', 'fast', 'asks', 'working', 'identifies', 'implementing', 'playing', 'predicting', 'providing', 'thinks', 'searching', 'alongs', 'sat', 'fast', 'dealer', 'know', 'increases', 'descriptions', 'improve', 'implemented', 'decrease', 'playing', 'predicting', 'providing', 'know', 'searching', 'so', 'sitting', 'fast', 'talking', 'really', 'implementation', 'decrease', 'predicting', 'searching', 'ipod', 'fast', 'news', 'believes', 'stands', 'increase', 'refers', 'enhancing', 'implementing', 'predicting', 'searching', 'comes', 'occupies', 'tedx', 'perp', 'read', 'relates', 'formulates', 'attentively', 'exclaims', 'blacula', 'happens', 'tumbles', 'alongs', 'kneel', 'radio', 'really', 'enhancing', 'implementing', 'increased', 'predicting', 'blacula', 'searching', 'ipod', 'sitting', 'fast', 'puts', 'implementation', 'predicting', 'providing', 'searching', 'silently', 'fast', 'negotiations', 'walking', 'negotiations', 'increase', 'describing', 'eaten', 'strengthen', 'finding', 'generated', 'going', 'implementation', 'increased', 'negotiations', 'negotiations', 'predicting', 'providing', 'negotiations', 'blacula', 'negotiations', 'reshuffling', 'sang', 'negotiations', 'slowed', 'swimming', 'tells', 'explains', 'insists', 'provided', 'knows', 'riffle', 'sitting', 'fast', 'asks', 'walking', 'read', 'increases', 'improve', 'implemented', 'increased', 'listening', 'playing', 'predicting', 'providing', 'searching', 'this', 'riffle', 'singing', 'sitting', 'fast', 'morning', 'really', 'writing', 'increase', 'describing', 'enhancing', 'implementing', 'increased', 'playing', 'predicting', 'providing', 'singing', 'sitting', 'fast', 'talking', 'written', 'increase', 'refers', 'improve', 'going', 'implemented', 'decrease', 'listened', 'predicting', 'provided', 'know', 'shout', 'does', 'ipod', 'sang', 'stand', 'fast', 'swimming', 'airs', 'really', 'walking', 'decreased', 'implemented', 'increased', 'observes', 'played', 'searching', 'describes', 'fast', 'says', 'believes', 'walking']\n"
     ]
    }
   ],
   "source": [
    "count_sem_questions =  0\n",
    "count_syn_questions =  0\n",
    "\n",
    "count_sem_sucess      = [0,0,0]\n",
    "count_syn_sucess      = [0,0,0]\n",
    "\n",
    "errors = []\n",
    "\n",
    "\n",
    "files = os.listdir('.\\\\datasets\\\\question-data')\n",
    "for idx,file_name in enumerate(files):\n",
    "    print(file_name)\n",
    "    with open('.\\\\datasets\\\\question-data\\\\'+file_name,'r') as file:\n",
    "        lines = file.readlines()\n",
    "        for line_id,line in enumerate(lines):\n",
    "            if (line_id % 100 == 0):\n",
    "                print(line_id)\n",
    "            a,a_star,b,b_star = line.split(\" \")\n",
    "            b_star = b_star.strip()\n",
    "            #predicted_3cos_add      = three_cos_predict_np(a,a_star,b,b_star)\n",
    "            predicted_3cos_add_norm = three_cos_predict_np_norm(a,a_star,b,b_star)\n",
    "            #predicted_3cos_mult     = predict_three_cos_mult(a,a_star,b,b_star)\n",
    "            #print(a,a_star,b,b_star)\n",
    "            #print(predicted_3cos_add,predicted_3cos_add_norm,predicted_3cos_mult)\n",
    "            if(idx < 5):#first 5 are sem\n",
    "                count_sem_questions += 1\n",
    "                \n",
    "                #if predicted_3cos_add      == b_star:\n",
    "                #    count_sem_sucess[0] += 1\n",
    "                if predicted_3cos_add_norm == b_star:\n",
    "                    count_sem_sucess[1] += 1\n",
    "                else:\n",
    "                    errors.append(predicted_3cos_add_norm)\n",
    "                #if  predicted_3cos_mult    == b_star:\n",
    "                #    count_sem_sucess[2] += 1\n",
    "            else:\n",
    "                count_syn_questions += 1\n",
    "                \n",
    "                #if predicted_3cos_add      == b_star:\n",
    "                #    count_syn_sucess[0] += 1\n",
    "                if predicted_3cos_add_norm == b_star:\n",
    "                    count_syn_sucess[1] += 1\n",
    "                else:\n",
    "                    errors.append(predicted_3cos_add_norm)\n",
    "                #if  predicted_3cos_mult    == b_star:\n",
    "                #    count_syn_sucess[2] += 1\n",
    "    \n",
    "print(count_sem_questions)\n",
    "print(count_syn_questions)\n",
    "print(count_sem_sucess)\n",
    "print(count_syn_sucess)\n",
    "print(errors)"
   ]
  },
  {
   "cell_type": "code",
   "execution_count": 13,
   "id": "1c15546d",
   "metadata": {},
   "outputs": [],
   "source": [
    "import winsound\n",
    "winsound.Beep(440, 500)"
   ]
  },
  {
   "cell_type": "code",
   "execution_count": 15,
   "id": "bfdcefd4",
   "metadata": {},
   "outputs": [
    {
     "name": "stdout",
     "output_type": "stream",
     "text": [
      "[(None, 124), ('kansas', 98), ('fast', 93), ('chicago', 70), ('multibillion', 66), ('york', 60), ('washington', 49), ('aleck', 45), ('jumps', 44), ('colorado', 43), ('arizona', 43), ('goldstar', 42), ('higher', 42), ('vanishes', 41), ('slovak', 40), ('really', 40), ('much', 40), ('stating', 39), ('coolest', 38), ('belarusian', 38), ('know', 37), ('colour', 36), ('feed', 36), ('missouri', 35), ('guava', 35), ('increased', 34), ('codes', 32), ('canada', 31), ('increase', 31), ('oregon', 30), ('illinois', 30), ('argentine', 30), ('prickly', 30), ('fortunately', 29), ('pool', 29), ('dance', 29), ('ohio', 28), ('angeles', 28), ('uncommon', 28), ('flies', 28), ('predict', 28), ('walk', 28), ('rodders', 27), ('blacula', 27), ('konga', 27), ('enhance', 26), ('cleveland', 25), ('leviev', 25), ('screams', 25), ('cantaloupe', 25), ('garlic', 25), ('scott', 24), ('incredible', 24), ('baku', 23), ('improve', 23), ('generate', 23), ('peppa', 23), ('predicting', 22), ('hoyas', 21), ('michigan', 21), ('carolina', 21), ('california', 21), ('mum', 21), ('unflinchingly', 21), ('chillin', 21), ('describes', 21), ('harpy', 21), ('sheep', 21), ('britain', 20), ('sacramento', 20), ('cheery', 20), ('soon', 20), ('positivists', 20), ('upper', 20), ('quickly', 19), ('increasing', 19), ('sitting', 19), ('weilburg', 18), ('tennessee', 18), ('kristol', 18), ('ruble', 18), ('chips', 18), ('mother', 18), ('unwilling', 18), ('probably', 18), ('presumably', 18), ('dilemmas', 18), ('shorter', 18), ('searching', 18), ('syria', 17), ('dillenburg', 17), ('seen', 17), ('enlightening', 17), ('agriculturally', 17), ('uncertain', 17), ('decrease', 17), ('salzuflen', 17), ('ducks', 16), ('enraged', 16), ('totally', 16)]\n"
     ]
    }
   ],
   "source": [
    "import operator\n",
    "dict = {}\n",
    "for error in errors:\n",
    "    if error in dict:\n",
    "        dict[error]+=1\n",
    "    else:\n",
    "        dict[error]= 1\n",
    "sorted_d = sorted(dict.items(), key=operator.itemgetter(1),reverse=True)\n",
    "print(sorted_d[0:100])"
   ]
  },
  {
   "cell_type": "code",
   "execution_count": 3,
   "id": "f30854e9",
   "metadata": {},
   "outputs": [
    {
     "data": {
      "text/plain": [
       "0.3836471551371265"
      ]
     },
     "execution_count": 3,
     "metadata": {},
     "output_type": "execute_result"
    }
   ],
   "source": [
    "(4537 + 2961) / (8869 + 10675)"
   ]
  },
  {
   "cell_type": "code",
   "execution_count": 4,
   "id": "a19487b0",
   "metadata": {},
   "outputs": [
    {
     "data": {
      "text/plain": [
       "0.39592713876381497"
      ]
     },
     "execution_count": 4,
     "metadata": {},
     "output_type": "execute_result"
    }
   ],
   "source": [
    "(4594 + 3144) / (8869 + 10675)"
   ]
  },
  {
   "cell_type": "code",
   "execution_count": 12,
   "id": "ec295e89",
   "metadata": {},
   "outputs": [
    {
     "data": {
      "text/plain": [
       "0.5003069995906673"
      ]
     },
     "execution_count": 12,
     "metadata": {},
     "output_type": "execute_result"
    }
   ],
   "source": [
    "(4526 + 5252) / (8869 + 10675)"
   ]
  },
  {
   "cell_type": "code",
   "execution_count": 11,
   "id": "4c13a56e",
   "metadata": {},
   "outputs": [
    {
     "data": {
      "text/plain": [
       "0.46873720835038885"
      ]
     },
     "execution_count": 11,
     "metadata": {},
     "output_type": "execute_result"
    }
   ],
   "source": [
    "(3943 + 5218) / (8869 + 10675)"
   ]
  },
  {
   "cell_type": "code",
   "execution_count": 13,
   "id": "89ee26fb",
   "metadata": {},
   "outputs": [
    {
     "data": {
      "text/plain": [
       "0.5183688088415882"
      ]
     },
     "execution_count": 13,
     "metadata": {},
     "output_type": "execute_result"
    }
   ],
   "source": [
    "(4686 + 5445) / (8869 + 10675)"
   ]
  },
  {
   "cell_type": "code",
   "execution_count": 17,
   "id": "a86ef86f",
   "metadata": {},
   "outputs": [
    {
     "data": {
      "text/plain": [
       "0.6259209987720017"
      ]
     },
     "execution_count": 17,
     "metadata": {},
     "output_type": "execute_result"
    }
   ],
   "source": [
    "(6112 + 6121) / (8869 + 10675)"
   ]
  },
  {
   "cell_type": "code",
   "execution_count": 16,
   "id": "84129e62",
   "metadata": {},
   "outputs": [
    {
     "data": {
      "text/plain": [
       "0.6300143266475645"
      ]
     },
     "execution_count": 16,
     "metadata": {},
     "output_type": "execute_result"
    }
   ],
   "source": [
    "(6112 + 6121 + 80) / (8869 + 10675)"
   ]
  },
  {
   "cell_type": "code",
   "execution_count": null,
   "id": "3ecee05e",
   "metadata": {},
   "outputs": [],
   "source": []
  }
 ],
 "metadata": {
  "kernelspec": {
   "display_name": "Python 3 (ipykernel)",
   "language": "python",
   "name": "python3"
  },
  "language_info": {
   "codemirror_mode": {
    "name": "ipython",
    "version": 3
   },
   "file_extension": ".py",
   "mimetype": "text/x-python",
   "name": "python",
   "nbconvert_exporter": "python",
   "pygments_lexer": "ipython3",
   "version": "3.8.11"
  }
 },
 "nbformat": 4,
 "nbformat_minor": 5
}
