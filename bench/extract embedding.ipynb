{
 "cells": [
  {
   "cell_type": "code",
   "execution_count": 1,
   "id": "56ca3929",
   "metadata": {},
   "outputs": [],
   "source": [
    "import h5py\n",
    "import os\n",
    "os.environ['TF_CPP_MIN_LOG_LEVEL'] = '0'\n",
    "os.environ[\"CUDA_VISIBLE_DEVICES\"] = \"-1\"    \n",
    "import tensorflow as tf\n",
    "import sys\n",
    "sys.path.append(\"..\")\n",
    "from Vocabulary import *\n",
    "import math\n",
    "import numpy as np"
   ]
  },
  {
   "cell_type": "code",
   "execution_count": 3,
   "id": "85748970",
   "metadata": {},
   "outputs": [],
   "source": [
    "vocab = Vocabulary()\n",
    "vocab.load(r'..\\vocabs\\baseline')\n",
    "\n",
    "\n",
    "#hdf_file = h5py.File('testRunCleanSplitted300.hdf5', 'r')\n",
    "hdf_file = h5py.File('S:\\\\baseline_100.hdf5','r')\n",
    "weights = hdf_file.get('weights')\n",
    "weights = weights[:]\n",
    "context_weights = hdf_file.get('context-weights')\n",
    "context_weights = context_weights[:]"
   ]
  },
  {
   "cell_type": "code",
   "execution_count": 4,
   "id": "c01f31c3",
   "metadata": {},
   "outputs": [
    {
     "name": "stdout",
     "output_type": "stream",
     "text": [
      "(100, 148733)\n"
     ]
    }
   ],
   "source": [
    "list_of_words = vocab.id2Word\n",
    "print(weights.shape)\n",
    "matrix = weights + np.transpose(context_weights)\n",
    "with open('..//embeddings//'+'base_emb100d','w+',encoding='utf8') as file:\n",
    "    for index,word in enumerate(vocab.id2Word):\n",
    "        file.write(word)\n",
    "        vector = matrix[:,index]\n",
    "        for coord in vector:\n",
    "            file.write(' '+str(coord))\n",
    "        file.write('\\n')"
   ]
  },
  {
   "cell_type": "code",
   "execution_count": 5,
   "id": "b59b13e7",
   "metadata": {},
   "outputs": [
    {
     "name": "stdout",
     "output_type": "stream",
     "text": [
      "done\n"
     ]
    }
   ],
   "source": [
    "print('done')\n"
   ]
  },
  {
   "cell_type": "code",
   "execution_count": 6,
   "id": "c5410baa",
   "metadata": {},
   "outputs": [],
   "source": [
    "import winsound\n",
    "  \n",
    "freq = 200\n",
    "dur = 60\n",
    "  \n",
    "# loop iterates 5 times i.e, 5 beeps will be produced.\n",
    "for i in range(0, 5):    \n",
    "    winsound.Beep(freq, dur)    \n",
    "    freq+= 100\n",
    "    dur+= 50\n",
    "    "
   ]
  },
  {
   "cell_type": "code",
   "execution_count": null,
   "id": "46f381e2",
   "metadata": {},
   "outputs": [],
   "source": []
  },
  {
   "cell_type": "code",
   "execution_count": null,
   "id": "00a3c2a9",
   "metadata": {},
   "outputs": [],
   "source": []
  }
 ],
 "metadata": {
  "kernelspec": {
   "display_name": "Python 3",
   "language": "python",
   "name": "python3"
  },
  "language_info": {
   "codemirror_mode": {
    "name": "ipython",
    "version": 3
   },
   "file_extension": ".py",
   "mimetype": "text/x-python",
   "name": "python",
   "nbconvert_exporter": "python",
   "pygments_lexer": "ipython3",
   "version": "3.8.10"
  }
 },
 "nbformat": 4,
 "nbformat_minor": 5
}
