{
 "cells": [
  {
   "cell_type": "code",
   "execution_count": 1,
   "id": "789a7c7e",
   "metadata": {},
   "outputs": [],
   "source": [
    "import os\n",
    "os.environ['TF_CPP_MIN_LOG_LEVEL'] = '0'\n",
    "#os.environ[\"CUDA_VISIBLE_DEVICES\"] = \"-1\"\n",
    "import numpy as np\n",
    "import tensorflow as tf\n",
    "path = \"../../embeddings-data/embeddings/mixed/\"\n",
    "id_dict = {}\n",
    "word_dict = {}"
   ]
  },
  {
   "cell_type": "markdown",
   "id": "47d7c36d",
   "metadata": {},
   "source": []
  },
  {
   "cell_type": "code",
   "execution_count": 2,
   "id": "7a57cc2b",
   "metadata": {},
   "outputs": [
    {
     "name": "stdout",
     "output_type": "stream",
     "text": [
      "dimensions 500\n",
      "260377\n"
     ]
    }
   ],
   "source": [
    "path = \"D://gauntBaseline//\"\n",
    "#AutoDetect dims\n",
    "#test with base2021_300\n",
    "with open(path + \"cleanDeleteDynDict_150w\", 'r' , encoding=\"utf-8\")  as file:\n",
    "    line0 = file.readline()\n",
    "    dimensions = len(line0.split())-1\n",
    "print(\"dimensions \"+str(dimensions))\n",
    "\n",
    "matrix = []\n",
    "path = \"D://gauntBaseline//\"\n",
    "with open(path + \"cleanDeleteDynDict_150w\", 'r' , encoding=\"utf-8\")  as f:\n",
    "    lines = f.readlines()\n",
    "    vocab_size = len(lines)\n",
    "    \n",
    "    matrix = np.zeros((vocab_size,dimensions),dtype=float)\n",
    "    for line in lines:\n",
    "        entry = line.split()\n",
    "        word = entry[0].strip()\n",
    "        values = entry[1:]\n",
    "        id = len(id_dict)\n",
    "        id_dict[word]=id\n",
    "        word_dict[id] = word\n",
    "        vector = np.asarray(values, \"double\")\n",
    "        matrix[id_dict[word],:] = vector\n",
    "print(len(id_dict))\n",
    "matrix_normalized = tf.nn.l2_normalize(matrix,axis = 1)# only use normalised version !!!\n",
    "matrix = []"
   ]
  },
  {
   "cell_type": "code",
   "execution_count": 22,
   "id": "d27fc2e0",
   "metadata": {},
   "outputs": [],
   "source": [
    "def sim_words(word1,word2):\n",
    "    vector1 = matrix_normalized[id_dict[word1],:]\n",
    "    vector2 = matrix_normalized[id_dict[word2],:]\n",
    "    return tf.tensordot(vector1,vector2,axes=1).numpy()#nicer output"
   ]
  },
  {
   "cell_type": "markdown",
   "id": "32168293",
   "metadata": {},
   "source": [
    "# More candidates and choose in the end, for best light on things.\n",
    "---------------------\n",
    "crouch <= duck => see |\n",
    "jump   <= duck => water"
   ]
  },
  {
   "cell_type": "code",
   "execution_count": 25,
   "id": "b1c56ec6",
   "metadata": {},
   "outputs": [
    {
     "name": "stdout",
     "output_type": "stream",
     "text": [
      "0.9391641922613749 0.9697409377255373\n"
     ]
    }
   ],
   "source": [
    "print(sim_words(\"crouch\",\"see\"),sim_words(\"jump\",\"water\"))"
   ]
  },
  {
   "cell_type": "markdown",
   "id": "1b75e49e",
   "metadata": {},
   "source": [
    "camel <= desert => coffee"
   ]
  },
  {
   "cell_type": "code",
   "execution_count": 26,
   "id": "30806bb7",
   "metadata": {},
   "outputs": [
    {
     "data": {
      "text/plain": [
       "0.9351851010139083"
      ]
     },
     "execution_count": 26,
     "metadata": {},
     "output_type": "execute_result"
    }
   ],
   "source": [
    "sim_words(\"camel\",\"coffee\")"
   ]
  },
  {
   "cell_type": "markdown",
   "id": "390f3e89",
   "metadata": {},
   "source": [
    "intel      <= apple => peach |\n",
    "smartphone <= apple => fruit"
   ]
  },
  {
   "cell_type": "code",
   "execution_count": 27,
   "id": "02b83431",
   "metadata": {},
   "outputs": [
    {
     "name": "stdout",
     "output_type": "stream",
     "text": [
      "0.8916547682568037 0.8509681915026119\n"
     ]
    }
   ],
   "source": [
    "print(sim_words(\"intel\",\"peach\"),sim_words(\"smartphone\",\"fruit\"))"
   ]
  },
  {
   "cell_type": "markdown",
   "id": "5f2f884f",
   "metadata": {},
   "source": [
    "right <= left => car"
   ]
  },
  {
   "cell_type": "code",
   "execution_count": 28,
   "id": "5c18fa1f",
   "metadata": {},
   "outputs": [
    {
     "data": {
      "text/plain": [
       "0.9844002386625954"
      ]
     },
     "execution_count": 28,
     "metadata": {},
     "output_type": "execute_result"
    }
   ],
   "source": [
    "sim_words(\"right\",\"car\")"
   ]
  },
  {
   "cell_type": "markdown",
   "id": "f6ef6667",
   "metadata": {},
   "source": [
    "banking <= bank => river"
   ]
  },
  {
   "cell_type": "code",
   "execution_count": 29,
   "id": "01abc100",
   "metadata": {},
   "outputs": [
    {
     "data": {
      "text/plain": [
       "0.950723786096227"
      ]
     },
     "execution_count": 29,
     "metadata": {},
     "output_type": "execute_result"
    }
   ],
   "source": [
    "sim_words(\"banking\",\"river\")"
   ]
  },
  {
   "cell_type": "code",
   "execution_count": null,
   "id": "edf2f151",
   "metadata": {},
   "outputs": [],
   "source": []
  }
 ],
 "metadata": {
  "kernelspec": {
   "display_name": "Python 3 (ipykernel)",
   "language": "python",
   "name": "python3"
  },
  "language_info": {
   "codemirror_mode": {
    "name": "ipython",
    "version": 3
   },
   "file_extension": ".py",
   "mimetype": "text/x-python",
   "name": "python",
   "nbconvert_exporter": "python",
   "pygments_lexer": "ipython3",
   "version": "3.8.11"
  }
 },
 "nbformat": 4,
 "nbformat_minor": 5
}
