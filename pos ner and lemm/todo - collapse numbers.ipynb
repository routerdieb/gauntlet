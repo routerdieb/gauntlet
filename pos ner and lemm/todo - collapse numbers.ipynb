{
 "cells": [
  {
   "cell_type": "code",
   "execution_count": null,
   "id": "1589e3b7",
   "metadata": {},
   "outputs": [],
   "source": [
    "from word2number import w2n\n",
    "import sys\n",
    "sys.path.append(\"..\")\n",
    "from Vocabulary import *\n",
    "\n",
    "vocab = Vocabulary()\n",
    "vocab.load('..//vocabs//unfilteredbaseline')\n",
    "\n",
    "print(vocab.get_size())\n",
    "print(w2n.word_to_num('thirty'))"
   ]
  },
  {
   "cell_type": "code",
   "execution_count": 3,
   "id": "7d21cd2e",
   "metadata": {},
   "outputs": [
    {
     "name": "stdout",
     "output_type": "stream",
     "text": [
      "5002194\n"
     ]
    }
   ],
   "source": [
    "new_vocab = Vocabulary()\n",
    "#first pass reduce number words\n",
    "for oldword in vocab.word_frequency:\n",
    "    if oldword.endswith('s'):\n",
    "        length = len(oldword)\n",
    "        word_shortened = oldword[0:length-1]\n",
    "        try:\n",
    "            new_word = w2n.word_to_num(word_shortened)\n",
    "            new_word += 's'\n",
    "            if new_word in new_vocab.word_frequency:\n",
    "                new_vocab.word_frequency[new_word] += vocab.word_frequency[oldword]\n",
    "            else:\n",
    "                new_vocab.word_frequency[new_word] = vocab.word_frequency[oldword]\n",
    "        except:\n",
    "            new_vocab.word_frequency[oldword] = vocab.word_frequency[oldword]\n",
    "    elif oldword.endswith('th'):\n",
    "        length = len(oldword)\n",
    "        word_shortened = oldword[0:length-2]\n",
    "        try:\n",
    "            new_word = w2n.word_to_num(word_shortened)\n",
    "            new_word += 'th'\n",
    "            if new_word in new_vocab.word_frequency:\n",
    "                new_vocab.word_frequency[new_word] += vocab.word_frequency[oldword]\n",
    "            else:\n",
    "                new_vocab.word_frequency[new_word] = vocab.word_frequency[oldword]\n",
    "            \n",
    "        except:\n",
    "            new_vocab.word_frequency[oldword] = vocab.word_frequency[oldword]\n",
    "    else:\n",
    "        try:\n",
    "            new_word = w2n.word_to_num(oldword)\n",
    "            new_word = str(new_word)\n",
    "            if new_word in new_vocab.word_frequency:\n",
    "                new_vocab.word_frequency[new_word] += vocab.word_frequency[oldword]\n",
    "            else:\n",
    "                new_vocab.word_frequency[new_word] = vocab.word_frequency[oldword]\n",
    "            \n",
    "        except:\n",
    "            new_vocab.word_frequency[oldword] = vocab.word_frequency[oldword]\n",
    "print(new_vocab.get_size())"
   ]
  },
  {
   "cell_type": "code",
   "execution_count": 4,
   "id": "bde1e28f",
   "metadata": {},
   "outputs": [
    {
     "name": "stdout",
     "output_type": "stream",
     "text": [
      "4277328\n",
      "929151\n"
     ]
    }
   ],
   "source": [
    "import re\n",
    "new_vocab2 = Vocabulary()\n",
    "#first pass reduce number words\n",
    "count = 0\n",
    "for oldword in new_vocab.word_frequency:\n",
    "    new_word = re.sub(r'[0-9]',r'N',oldword)\n",
    "    if(new_word != oldword):\n",
    "        count += 1\n",
    "    if new_word in new_vocab2.word_frequency:\n",
    "        new_vocab2.word_frequency[new_word] += new_vocab.word_frequency[oldword]\n",
    "    else:\n",
    "        new_vocab2.word_frequency[new_word] = new_vocab.word_frequency[oldword]\n",
    "print(new_vocab2.get_size()) \n",
    "print(count)"
   ]
  },
  {
   "cell_type": "code",
   "execution_count": 6,
   "id": "4279492f",
   "metadata": {},
   "outputs": [
    {
     "name": "stdout",
     "output_type": "stream",
     "text": [
      "None\n",
      "3988308\n",
      "3988308\n"
     ]
    }
   ],
   "source": [
    "print(new_vocab2.filter_just_symbol_tokens())   \n",
    "print(new_vocab2.get_size())   \n",
    "print(new_vocab2.get_size())   "
   ]
  },
  {
   "cell_type": "code",
   "execution_count": 8,
   "id": "99aefe88",
   "metadata": {},
   "outputs": [],
   "source": [
    "new_vocab2.word_frequency = dict(sorted(new_vocab2.word_frequency.items(),key= lambda x:x[1]))\n",
    "new_vocab2.save('..\\\\vocabs\\\\NNfilteredVocab')"
   ]
  },
  {
   "cell_type": "code",
   "execution_count": 9,
   "id": "beeb2cef",
   "metadata": {},
   "outputs": [
    {
     "name": "stdout",
     "output_type": "stream",
     "text": [
      "3966405\n"
     ]
    }
   ],
   "source": [
    "new_vocab3 = Vocabulary()\n",
    "for word in new_vocab2.word_frequency:\n",
    "    if '|' in word:\n",
    "        pass\n",
    "    else:\n",
    "        new_vocab3.word_frequency[word] = new_vocab2.word_frequency[word]\n",
    "print(new_vocab3.get_size())"
   ]
  },
  {
   "cell_type": "code",
   "execution_count": 11,
   "id": "7d86243e",
   "metadata": {},
   "outputs": [
    {
     "name": "stdout",
     "output_type": "stream",
     "text": [
      "3954580\n"
     ]
    }
   ],
   "source": [
    "removable_strings = ['<br>','br>\\\"','br>','<br','</br','<ref','ref>','</ref']\n",
    "new_vocab4 = Vocabulary()\n",
    "for word in new_vocab3.word_frequency:\n",
    "    if 'nowiki' in word:\n",
    "        continue\n",
    "    string_cur = word\n",
    "    for rem in removable_strings:\n",
    "        if(rem in string_cur):\n",
    "            string_cur = re.sub(rem,'',string_cur)\n",
    "    if string_cur in new_vocab4.word_frequency:\n",
    "        new_vocab4.word_frequency[string_cur] += new_vocab3.word_frequency[word]\n",
    "    else:\n",
    "        new_vocab4.word_frequency[string_cur] = new_vocab3.word_frequency[word]\n",
    "print(new_vocab4.get_size())\n",
    "new_vocab4.save('..\\\\vocabs\\\\NNfilteredVocab')"
   ]
  },
  {
   "cell_type": "code",
   "execution_count": null,
   "id": "463e20d0",
   "metadata": {},
   "outputs": [],
   "source": []
  },
  {
   "cell_type": "code",
   "execution_count": 14,
   "id": "45ec29ab",
   "metadata": {},
   "outputs": [
    {
     "name": "stdout",
     "output_type": "stream",
     "text": [
      "141606\n"
     ]
    }
   ],
   "source": [
    "new_vocab4.filter(101)\n",
    "print(new_vocab4.get_size())\n",
    "new_vocab4.save('..\\\\vocabs\\\\NNfilteredVocabFilter101')"
   ]
  },
  {
   "cell_type": "code",
   "execution_count": null,
   "id": "ca196cd4",
   "metadata": {},
   "outputs": [],
   "source": [
    "remove_when_contained = ['http://','https://','style=','align=','valign','bgcolor=','width=','clear=','colspan=','<','>']"
   ]
  },
  {
   "cell_type": "code",
   "execution_count": null,
   "id": "1a1c5f2a",
   "metadata": {},
   "outputs": [],
   "source": [
    "remove if at end\n",
    "- / (if only one dot .)"
   ]
  },
  {
   "cell_type": "code",
   "execution_count": null,
   "id": "7a18c112",
   "metadata": {},
   "outputs": [],
   "source": [
    "add ( and ) splitting in tokeniser "
   ]
  },
  {
   "cell_type": "code",
   "execution_count": null,
   "id": "5032f4e6",
   "metadata": {},
   "outputs": [],
   "source": [
    "doktor to doctor"
   ]
  }
 ],
 "metadata": {
  "kernelspec": {
   "display_name": "Python 3",
   "language": "python",
   "name": "python3"
  },
  "language_info": {
   "codemirror_mode": {
    "name": "ipython",
    "version": 3
   },
   "file_extension": ".py",
   "mimetype": "text/x-python",
   "name": "python",
   "nbconvert_exporter": "python",
   "pygments_lexer": "ipython3",
   "version": "3.8.10"
  }
 },
 "nbformat": 4,
 "nbformat_minor": 5
}
