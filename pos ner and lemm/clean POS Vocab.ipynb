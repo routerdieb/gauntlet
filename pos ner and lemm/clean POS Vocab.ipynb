{
 "cells": [
  {
   "cell_type": "code",
   "execution_count": 1,
   "id": "101cef70",
   "metadata": {},
   "outputs": [],
   "source": [
    "import h5py\n",
    "import sys\n",
    "sys.path.append(\"..\")\n",
    "import os\n",
    "import nltk\n",
    "from flair.models import MultiTagger\n",
    "\n",
    "import logging\n",
    "logging.getLogger(\"flair\").setLevel(logging.WARNING)\n",
    "import spacy\n",
    "\n",
    "from Vocabulary import *"
   ]
  },
  {
   "cell_type": "code",
   "execution_count": 5,
   "id": "0ffa2e4c",
   "metadata": {},
   "outputs": [],
   "source": [
    "vocab = Vocabulary()\n",
    "vocab.load('vocabs/unfilteredpos_vocabulary')"
   ]
  },
  {
   "cell_type": "code",
   "execution_count": 6,
   "id": "017a2998",
   "metadata": {},
   "outputs": [
    {
     "name": "stdout",
     "output_type": "stream",
     "text": [
      "5999672\n"
     ]
    }
   ],
   "source": [
    "print(vocab.get_size())"
   ]
  },
  {
   "cell_type": "code",
   "execution_count": 7,
   "id": "5facfa3e",
   "metadata": {},
   "outputs": [
    {
     "name": "stdout",
     "output_type": "stream",
     "text": [
      "5630720\n"
     ]
    }
   ],
   "source": [
    "vocab.filter_just_symbol_tokens()\n",
    "print(vocab.get_size())"
   ]
  },
  {
   "cell_type": "code",
   "execution_count": 8,
   "id": "0fc9062e",
   "metadata": {},
   "outputs": [],
   "source": [
    "vocab_base = Vocabulary()\n",
    "vocab_base.load('vocabs/base_vocabulary')\n",
    "vocab_new = Vocabulary()"
   ]
  },
  {
   "cell_type": "code",
   "execution_count": 14,
   "id": "ff1b68d9",
   "metadata": {},
   "outputs": [],
   "source": [
    "for word_feature in vocab.word_frequency:\n",
    "    #print(word_feature)\n",
    "    word, tag = word_feature.split(chr(4))\n",
    "    #print(word,tag)\n",
    "    if word in vocab_base.word2Id:\n",
    "        vocab_new.word_frequency[word_feature] = 1000\n",
    "vocab_new.assignIds()\n",
    "vocab_new.save('vocabs/clean_pos_vocabulary')"
   ]
  },
  {
   "cell_type": "code",
   "execution_count": 15,
   "id": "70bf98b6",
   "metadata": {},
   "outputs": [
    {
     "name": "stdout",
     "output_type": "stream",
     "text": [
      "418233\n"
     ]
    }
   ],
   "source": [
    "print(vocab_new.get_size())"
   ]
  },
  {
   "cell_type": "code",
   "execution_count": null,
   "id": "a56020a7",
   "metadata": {},
   "outputs": [],
   "source": []
  }
 ],
 "metadata": {
  "kernelspec": {
   "display_name": "Python 3",
   "language": "python",
   "name": "python3"
  },
  "language_info": {
   "codemirror_mode": {
    "name": "ipython",
    "version": 3
   },
   "file_extension": ".py",
   "mimetype": "text/x-python",
   "name": "python",
   "nbconvert_exporter": "python",
   "pygments_lexer": "ipython3",
   "version": "3.8.10"
  }
 },
 "nbformat": 4,
 "nbformat_minor": 5
}
