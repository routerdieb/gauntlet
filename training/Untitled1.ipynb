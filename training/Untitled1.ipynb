{
 "cells": [
  {
   "cell_type": "code",
   "execution_count": 22,
   "id": "587f7ac6",
   "metadata": {},
   "outputs": [],
   "source": [
    "import sys\n",
    "sys.path.append('..')\n",
    "from Vocabulary import *\n",
    "\n",
    "text = 'this is a short test sentence'.split()\n",
    "vocab = Vocabulary()\n",
    "vocab.build_from_text(text)\n",
    "vocab.assignIds()\n",
    "window_length =  3\n",
    "vocab.setBlock_parms(10000000000000000)\n"
   ]
  },
  {
   "cell_type": "code",
   "execution_count": 23,
   "id": "9c98f4d2",
   "metadata": {},
   "outputs": [],
   "source": [
    "co_occurences = {}\n",
    "def _assign_entrys(word_ids,context_ids,dist):\n",
    "        for word_id in word_ids:\n",
    "                for context_id in context_ids:\n",
    "                    tuple = (word_id,context_id)\n",
    "                    if tuple in co_occurences:\n",
    "                        print(1 / dist)\n",
    "                        co_occurences[tuple] += 1.0 / dist\n",
    "                    else:\n",
    "                        co_occurences[tuple] = 1.0 / dist\n",
    "                        print(1.0 / dist)"
   ]
  },
  {
   "cell_type": "code",
   "execution_count": 24,
   "id": "ff45f1ea",
   "metadata": {},
   "outputs": [
    {
     "name": "stdout",
     "output_type": "stream",
     "text": [
      "-------------\n",
      "this\n",
      "this this 0\n",
      "this is 1\n",
      "[0] [1] 1.0\n",
      "1.0\n",
      "this a 2\n",
      "[0] [2] 0.5\n",
      "0.5\n",
      "this short 3\n",
      "[0] [3] 0.3333333333333333\n",
      "0.3333333333333333\n",
      "-------------\n",
      "is\n",
      "is this 1\n",
      "[1] [0] 1.0\n",
      "1.0\n",
      "is is 0\n",
      "is a 1\n",
      "[1] [2] 1.0\n",
      "1.0\n",
      "is short 2\n",
      "[1] [3] 0.5\n",
      "0.5\n",
      "is test 3\n",
      "[1] [4] 0.3333333333333333\n",
      "0.3333333333333333\n",
      "-------------\n",
      "a\n",
      "a this 2\n",
      "[2] [0] 0.5\n",
      "0.5\n",
      "a is 1\n",
      "[2] [1] 1.0\n",
      "1.0\n",
      "a a 0\n",
      "a short 1\n",
      "[2] [3] 1.0\n",
      "1.0\n",
      "a test 2\n",
      "[2] [4] 0.5\n",
      "0.5\n",
      "a sentence 3\n",
      "[2] [5] 0.3333333333333333\n",
      "0.3333333333333333\n",
      "-------------\n",
      "short\n",
      "short this 3\n",
      "[3] [0] 0.3333333333333333\n",
      "0.3333333333333333\n",
      "short is 2\n",
      "[3] [1] 0.5\n",
      "0.5\n",
      "short a 1\n",
      "[3] [2] 1.0\n",
      "1.0\n",
      "short short 0\n",
      "short test 1\n",
      "[3] [4] 1.0\n",
      "1.0\n",
      "short sentence 2\n",
      "[3] [5] 0.5\n",
      "0.5\n",
      "-------------\n",
      "test\n",
      "test is 3\n",
      "[4] [1] 0.3333333333333333\n",
      "0.3333333333333333\n",
      "test a 2\n",
      "[4] [2] 0.5\n",
      "0.5\n",
      "test short 1\n",
      "[4] [3] 1.0\n",
      "1.0\n",
      "test test 0\n",
      "test sentence 1\n",
      "[4] [5] 1.0\n",
      "1.0\n",
      "-------------\n",
      "sentence\n",
      "sentence a 3\n",
      "[5] [2] 0.3333333333333333\n",
      "0.3333333333333333\n",
      "sentence short 2\n",
      "[5] [3] 0.5\n",
      "0.5\n",
      "sentence test 1\n",
      "[5] [4] 1.0\n",
      "1.0\n",
      "sentence sentence 0\n"
     ]
    }
   ],
   "source": [
    "for focus_index,focus_word in enumerate(text):\n",
    "        print('-------------')\n",
    "        print(focus_word)\n",
    "        window = text[max(0,focus_index - window_length):focus_index+window_length+1]\n",
    "                    \n",
    "        left_border_of_window = max(0,focus_index - window_length)\n",
    "\n",
    "        focus_ids = vocab.get_contrained_ids_text(focus_word,0)\n",
    "        for c_index_window, context_word in enumerate(window):\n",
    "            c_index_text = c_index_window + left_border_of_window\n",
    "            dist = abs(c_index_text - focus_index)#Keine Ahnung ob das so richtig ist\n",
    "            print(focus_word,context_word,dist)\n",
    "            \n",
    "            context_ids = vocab.get_contrained_ids_text(context_word,0)\n",
    "            if (focus_index != c_index_text):\n",
    "                print(focus_ids,context_ids,1 / dist)\n",
    "                _assign_entrys(focus_ids,context_ids,dist)   "
   ]
  },
  {
   "cell_type": "code",
   "execution_count": 25,
   "id": "bce68d5f",
   "metadata": {},
   "outputs": [
    {
     "name": "stdout",
     "output_type": "stream",
     "text": [
      "{(0, 1): 1.0, (0, 2): 0.5, (0, 3): 0.3333333333333333, (1, 0): 1.0, (1, 2): 1.0, (1, 3): 0.5, (1, 4): 0.3333333333333333, (2, 0): 0.5, (2, 1): 1.0, (2, 3): 1.0, (2, 4): 0.5, (2, 5): 0.3333333333333333, (3, 0): 0.3333333333333333, (3, 1): 0.5, (3, 2): 1.0, (3, 4): 1.0, (3, 5): 0.5, (4, 1): 0.3333333333333333, (4, 2): 0.5, (4, 3): 1.0, (4, 5): 1.0, (5, 2): 0.3333333333333333, (5, 3): 0.5, (5, 4): 1.0}\n",
      "24\n"
     ]
    }
   ],
   "source": [
    "print(co_occurences)\n",
    "print(len(co_occurences))"
   ]
  },
  {
   "cell_type": "code",
   "execution_count": 26,
   "id": "301e68cb",
   "metadata": {},
   "outputs": [
    {
     "name": "stdout",
     "output_type": "stream",
     "text": [
      "1.0\n",
      "0.5\n",
      "1.0\n",
      "1.0\n",
      "0.3333333333333333\n",
      "0.5\n",
      "1.0\n",
      "0.5\n",
      "0.3333333333333333\n",
      "0.5\n",
      "0.3333333333333333\n",
      "0.5\n",
      "1.0\n",
      "1.0\n",
      "0.3333333333333333\n",
      "1.0\n",
      "0.3333333333333333\n",
      "0.5\n",
      "1.0\n",
      "1.0\n",
      "0.5\n",
      "0.3333333333333333\n",
      "1.0\n",
      "0.5\n",
      "{(127, 4): 1.0, (127, 2): 0.5, (4, 127): 1.0, (4, 2): 1.0, (4, 442): 0.3333333333333333, (2, 127): 0.5, (2, 4): 1.0, (2, 442): 0.5, (442, 4): 0.3333333333333333, (442, 2): 0.5, (127, 1089): 0.3333333333333333, (4, 1089): 0.5, (2, 1089): 1.0, (442, 1089): 1.0, (2, 15604): 0.3333333333333333, (442, 15604): 1.0, (1089, 127): 0.3333333333333333, (1089, 4): 0.5, (1089, 2): 1.0, (1089, 442): 1.0, (1089, 15604): 0.5, (15604, 2): 0.3333333333333333, (15604, 442): 1.0, (15604, 1089): 0.5}\n",
      "24\n"
     ]
    }
   ],
   "source": [
    "import sys\n",
    "sys.path.append('..')\n",
    "from Vocabulary import *\n",
    "from co_occurence import *\n",
    "\n",
    "c = Co_Occurence_Capturer()\n",
    "vocab = Vocabulary()\n",
    "vocab.load('../vocabs/baseline')\n",
    "\n",
    "test = c.capture_co_occurences(text,vocab,3,1000)\n",
    "print(test)\n",
    "print(len(test))"
   ]
  },
  {
   "cell_type": "code",
   "execution_count": 27,
   "id": "f8eb3ba5",
   "metadata": {},
   "outputs": [
    {
     "name": "stdout",
     "output_type": "stream",
     "text": [
      "127\n",
      "4\n",
      "2\n",
      "1089\n",
      "442\n",
      "15604\n"
     ]
    }
   ],
   "source": [
    "for word in text:\n",
    "    print(vocab.get_ids_text(word))"
   ]
  },
  {
   "cell_type": "code",
   "execution_count": 28,
   "id": "18ab1db4",
   "metadata": {},
   "outputs": [
    {
     "name": "stdout",
     "output_type": "stream",
     "text": [
      "1.0\n",
      "1.0\n",
      "1.0\n",
      "0.5\n",
      "0.3333333333333333\n",
      "0.5\n",
      "0.5\n",
      "1.0\n",
      "0.3333333333333333\n",
      "1.0\n",
      "0.5\n",
      "0.3333333333333333\n",
      "0.3333333333333333\n",
      "0.5\n",
      "1.0\n",
      "1.0\n",
      "0.5\n",
      "1.0\n",
      "0.3333333333333333\n",
      "1.0\n",
      "0.5\n",
      "0.3333333333333333\n",
      "1.0\n",
      "0.5\n",
      "{(4, 2): 1.0, (2, 4): 1.0, (4, 127): 1.0, (2, 127): 0.5, (4, 442): 0.3333333333333333, (2, 442): 0.5, (4, 1089): 0.5, (2, 1089): 1.0, (2, 15604): 0.3333333333333333, (127, 4): 1.0, (127, 2): 0.5, (127, 1089): 0.3333333333333333, (442, 4): 0.3333333333333333, (442, 2): 0.5, (442, 1089): 1.0, (442, 15604): 1.0, (1089, 4): 0.5, (1089, 2): 1.0, (1089, 127): 0.3333333333333333, (1089, 442): 1.0, (1089, 15604): 0.5, (15604, 2): 0.3333333333333333, (15604, 442): 1.0, (15604, 1089): 0.5}\n",
      "24\n"
     ]
    }
   ],
   "source": [
    "c = Co_Occurence_Capturer()\n",
    "test = c.capture_co_occurences(text,vocab,3,100)\n",
    "print(test)\n",
    "print(len(test))"
   ]
  },
  {
   "cell_type": "code",
   "execution_count": 29,
   "id": "7fde576f",
   "metadata": {},
   "outputs": [
    {
     "name": "stdout",
     "output_type": "stream",
     "text": [
      "1.0\n",
      "0.5\n",
      "0.3333333333333333\n",
      "1.0\n",
      "1.0\n",
      "0.5\n",
      "0.3333333333333333\n",
      "0.5\n",
      "1.0\n",
      "1.0\n",
      "0.5\n",
      "0.3333333333333333\n",
      "0.3333333333333333\n",
      "0.5\n",
      "1.0\n",
      "1.0\n",
      "0.5\n",
      "0.3333333333333333\n",
      "0.5\n",
      "1.0\n",
      "1.0\n",
      "0.3333333333333333\n",
      "0.5\n",
      "1.0\n",
      "{(127, 4): 1.0, (127, 2): 0.5, (127, 1089): 0.3333333333333333, (4, 127): 1.0, (4, 2): 1.0, (4, 1089): 0.5, (4, 442): 0.3333333333333333, (2, 127): 0.5, (2, 4): 1.0, (2, 1089): 1.0, (2, 442): 0.5, (2, 15604): 0.3333333333333333, (1089, 127): 0.3333333333333333, (1089, 4): 0.5, (1089, 2): 1.0, (1089, 442): 1.0, (1089, 15604): 0.5, (442, 4): 0.3333333333333333, (442, 2): 0.5, (442, 1089): 1.0, (442, 15604): 1.0, (15604, 2): 0.3333333333333333, (15604, 1089): 0.5, (15604, 442): 1.0}\n",
      "24\n"
     ]
    }
   ],
   "source": [
    "c = Co_Occurence_Capturer()\n",
    "test = c.capture_co_occurences(text,vocab,3,100000)\n",
    "print(test)\n",
    "print(len(test))"
   ]
  },
  {
   "cell_type": "code",
   "execution_count": null,
   "id": "3f5c1d25",
   "metadata": {},
   "outputs": [],
   "source": []
  }
 ],
 "metadata": {
  "kernelspec": {
   "display_name": "Python 3",
   "language": "python",
   "name": "python3"
  },
  "language_info": {
   "codemirror_mode": {
    "name": "ipython",
    "version": 3
   },
   "file_extension": ".py",
   "mimetype": "text/x-python",
   "name": "python",
   "nbconvert_exporter": "python",
   "pygments_lexer": "ipython3",
   "version": "3.8.10"
  }
 },
 "nbformat": 4,
 "nbformat_minor": 5
}
