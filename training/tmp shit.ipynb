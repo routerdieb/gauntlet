{
 "cells": [
  {
   "cell_type": "code",
   "execution_count": 3,
   "id": "05a0aed9",
   "metadata": {},
   "outputs": [
    {
     "name": "stdout",
     "output_type": "stream",
     "text": [
      "0.0\n",
      "122.0\n",
      "[[   0.  122.  396. ...    0.    0.    0.]\n",
      " [ 122.    0. 5594. ...    0.    0.    0.]\n",
      " [ 396. 5594.    0. ...   45.   29.    7.]\n",
      " ...\n",
      " [   0.    0.   45. ...    0.    0.    0.]\n",
      " [   0.    0.   29. ...    0.    0.    0.]\n",
      " [   0.    0.    7. ...    0.    0.    0.]]\n"
     ]
    }
   ],
   "source": [
    "import h5py\n",
    "template = \"co_occurence_{i}_{j}.hdf5\".format(i=0,j=0)\n",
    "file_path = r'S:\\baseline_nodiag\\\\' + template\n",
    "tmp_hf = h5py.File(file_path, \"r+\")\n",
    "coocurrence = tmp_hf.get(\"co-ocurrence\")[:]\n",
    "print(coocurrence[0,0])\n",
    "print(coocurrence[0,1])\n",
    "print(coocurrence)"
   ]
  },
  {
   "cell_type": "code",
   "execution_count": null,
   "id": "fc0b360d",
   "metadata": {},
   "outputs": [],
   "source": []
  }
 ],
 "metadata": {
  "kernelspec": {
   "display_name": "Python 3",
   "language": "python",
   "name": "python3"
  },
  "language_info": {
   "codemirror_mode": {
    "name": "ipython",
    "version": 3
   },
   "file_extension": ".py",
   "mimetype": "text/x-python",
   "name": "python",
   "nbconvert_exporter": "python",
   "pygments_lexer": "ipython3",
   "version": "3.8.10"
  }
 },
 "nbformat": 4,
 "nbformat_minor": 5
}
