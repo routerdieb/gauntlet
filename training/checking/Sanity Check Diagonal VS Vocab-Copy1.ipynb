{
 "cells": [
  {
   "cell_type": "code",
   "execution_count": 27,
   "id": "a55a713b",
   "metadata": {},
   "outputs": [],
   "source": [
    "import sys\n",
    "sys.path.append(\"..\")\n",
    "import h5py\n",
    "from Vocabulary import *\n",
    "co_filepath = 'S:\\\\base_coocurrence_hdf'\n",
    "import cloudpickle"
   ]
  },
  {
   "cell_type": "code",
   "execution_count": 28,
   "id": "b3f6593e",
   "metadata": {},
   "outputs": [
    {
     "name": "stdout",
     "output_type": "stream",
     "text": [
      "157\n",
      "157\n"
     ]
    }
   ],
   "source": [
    "unfiltered_vocab = Vocabulary()\n",
    "unfiltered_vocab.load('..\\\\vocabs\\\\unfilteredtmp')\n",
    "print(unfiltered_vocab.get_size())\n",
    "\n",
    "vocab = Vocabulary()\n",
    "vocab.load('..\\\\vocabs\\\\tmp')\n",
    "print(vocab.get_size())"
   ]
  },
  {
   "cell_type": "code",
   "execution_count": 39,
   "id": "65fc601c",
   "metadata": {},
   "outputs": [
    {
     "name": "stdout",
     "output_type": "stream",
     "text": [
      "this is\n",
      "2 8\n",
      "1 4\n",
      "1 4\n",
      "2 8\n"
     ]
    }
   ],
   "source": [
    "print(vocab.id2Word[0],vocab.id2Word[1])\n",
    "print(unfiltered_vocab.word_frequency['this'],unfiltered_vocab.word_frequency['is'])\n",
    "\n",
    "with open('..\\\\tmp2\\\\AB.co', 'rb+') as file:\n",
    "    co_occurences = cloudpickle.load(file)\n",
    "\n",
    "print(co_occurences[(0,0)],co_occurences[(1,1)])\n",
    "\n",
    "with open('..\\\\tmp2\\\\AA.co', 'rb+') as file:\n",
    "    co_occurences = cloudpickle.load(file)\n",
    "    \n",
    "print(co_occurences[(0,0)],co_occurences[(1,1)])\n",
    "\n",
    "path = '../coocurrence_blocks2/'\n",
    "template = \"block_{i}_{j}\".format(i=0,j=0)\n",
    "\n",
    "with open(path+template, 'rb+') as file:\n",
    "    co_occurences = cloudpickle.load(file)\n",
    "print(co_occurences[(0,0)],co_occurences[(1,1)])\n",
    "\n",
    "for i in range(vocab.get_size()):\n",
    "    word = vocab.id2Word[i]\n",
    "    if not unfiltered_vocab.word_frequency[word] == co_occurences[(i,i)]:\n",
    "        print(word)"
   ]
  },
  {
   "cell_type": "code",
   "execution_count": null,
   "id": "35ea2e7c",
   "metadata": {},
   "outputs": [],
   "source": []
  }
 ],
 "metadata": {
  "kernelspec": {
   "display_name": "Python 3",
   "language": "python",
   "name": "python3"
  },
  "language_info": {
   "codemirror_mode": {
    "name": "ipython",
    "version": 3
   },
   "file_extension": ".py",
   "mimetype": "text/x-python",
   "name": "python",
   "nbconvert_exporter": "python",
   "pygments_lexer": "ipython3",
   "version": "3.8.10"
  }
 },
 "nbformat": 4,
 "nbformat_minor": 5
}
