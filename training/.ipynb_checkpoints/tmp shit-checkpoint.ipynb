{
 "cells": [
  {
   "cell_type": "code",
   "execution_count": null,
   "id": "83f2799c",
   "metadata": {},
   "outputs": [],
   "source": [
    "import h5py\n",
    "template = \"co_occurence_{i}_{j}.hdf5\".format(i=0,j=0)\n",
    "file_path = r'S:\\baseline_nodiag\\\\' + template\n",
    "tmp_hf = h5py.File(file_path, \"r+\")\n",
    "coocurrence = tmp_hf.get(\"co-ocurrence\")[:]\n",
    "print(coocurrence[0,0])"
   ]
  }
 ],
 "metadata": {
  "kernelspec": {
   "display_name": "Python 3",
   "language": "python",
   "name": "python3"
  },
  "language_info": {
   "codemirror_mode": {
    "name": "ipython",
    "version": 3
   },
   "file_extension": ".py",
   "mimetype": "text/x-python",
   "name": "python",
   "nbconvert_exporter": "python",
   "pygments_lexer": "ipython3",
   "version": "3.8.10"
  }
 },
 "nbformat": 4,
 "nbformat_minor": 5
}
