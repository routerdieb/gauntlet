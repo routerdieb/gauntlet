{
 "cells": [
  {
   "cell_type": "code",
   "execution_count": 1,
   "id": "1589e3b7",
   "metadata": {},
   "outputs": [
    {
     "name": "stdout",
     "output_type": "stream",
     "text": [
      "5006400\n",
      "30\n"
     ]
    }
   ],
   "source": [
    "from word2number import w2n\n",
    "import sys\n",
    "sys.path.append(\"..\")\n",
    "from Vocabulary import *\n",
    "\n",
    "vocab = Vocabulary()\n",
    "vocab.load('..//vocabs//unfilteredbaseline')\n",
    "\n",
    "print(vocab.get_size())\n",
    "print(w2n.word_to_num('thirty'))"
   ]
  },
  {
   "cell_type": "code",
   "execution_count": 2,
   "id": "7d21cd2e",
   "metadata": {},
   "outputs": [
    {
     "name": "stdout",
     "output_type": "stream",
     "text": [
      "5001408\n"
     ]
    }
   ],
   "source": [
    "new_vocab = Vocabulary()\n",
    "#first pass reduce number words\n",
    "for oldword in vocab.word_frequency:\n",
    "    if oldword.endswith('s'):\n",
    "        length = len(oldword)\n",
    "        word_shortened = oldword[0:length-1]\n",
    "        try:\n",
    "            new_word = w2n.word_to_num(word_shortened)\n",
    "            #new_word += 's'\n",
    "            if new_word in new_vocab.word_frequency:\n",
    "                new_vocab.word_frequency[new_word] += vocab.word_frequency[oldword]\n",
    "            else:\n",
    "                new_vocab.word_frequency[new_word] = vocab.word_frequency[oldword]\n",
    "        except:\n",
    "            new_vocab.word_frequency[oldword] = vocab.word_frequency[oldword]\n",
    "    elif oldword.endswith('th'):\n",
    "        length = len(oldword)\n",
    "        word_shortened = oldword[0:length-2]\n",
    "        try:\n",
    "            new_word = w2n.word_to_num(word_shortened)\n",
    "            #new_word += 'th'\n",
    "            if new_word in new_vocab.word_frequency:\n",
    "                new_vocab.word_frequency[new_word] += vocab.word_frequency[oldword]\n",
    "            else:\n",
    "                new_vocab.word_frequency[new_word] = vocab.word_frequency[oldword]\n",
    "            \n",
    "        except:\n",
    "            new_vocab.word_frequency[oldword] = vocab.word_frequency[oldword]\n",
    "    else:\n",
    "        try:\n",
    "            new_word = w2n.word_to_num(oldword)\n",
    "            new_word = str(new_word)\n",
    "            if new_word in new_vocab.word_frequency:\n",
    "                new_vocab.word_frequency[new_word] += vocab.word_frequency[oldword]\n",
    "            else:\n",
    "                new_vocab.word_frequency[new_word] = vocab.word_frequency[oldword]\n",
    "            \n",
    "        except:\n",
    "            new_vocab.word_frequency[oldword] = vocab.word_frequency[oldword]\n",
    "print(new_vocab.get_size())"
   ]
  },
  {
   "cell_type": "code",
   "execution_count": 3,
   "id": "7948710d",
   "metadata": {},
   "outputs": [],
   "source": [
    "array = []\n",
    "for i in range(1000):\n",
    "    array.append(0)\n",
    "\n",
    "for word in new_vocab.word_frequency:\n",
    "    try:\n",
    "        number = int(word)\n",
    "        array[number] = new_vocab.word_frequency[number]\n",
    "    except:\n",
    "        pass"
   ]
  },
  {
   "cell_type": "code",
   "execution_count": 4,
   "id": "07fa7950",
   "metadata": {},
   "outputs": [
    {
     "name": "stdout",
     "output_type": "stream",
     "text": [
      "[179305, 51687, 1278, 1046, 199308, 44352, 98702, 86796, 33305, 29964, 61106, 40819, 33258, 41101, 38656, 38952, 45641, 48045, 61328, 105854, 79027, 198, 67, 121, 9517, 13031, 8192, 7903, 7503, 7133, 12008, 55, 55, 70, 3646, 3949, 3526, 3051, 3329, 3236, 7564, 26, 104, 35, 2532, 2912, 2019, 2080, 2199, 2828, 11596, 225, 91, 16, 1757, 2012, 1848, 2116, 1631, 1806, 10359, 21, 24, 7, 1312, 1693, 1451, 1268, 1048, 1594, 11014, 11, 17, 8, 1243, 2705, 1090, 1461, 1572, 1547, 12245, 16, 4, 9, 1102, 1062, 1444, 1221, 1223, 1145, 10491, 17, 14, 13, 953, 1271, 910, 930, 804, 1043, 44237, 19, 9, 7, 920, 650, 693, 595, 735, 1086, 1312, 1106, 557, 381, 370, 482, 738, 565, 391, 397, 512, 6, 16, 34, 380, 1144, 393, 369, 330, 284, 376, 19, 14, 11, 215, 363, 202, 243, 286, 197, 302, 8, 32, 10, 278, 304, 187, 276, 236, 312, 1561, 22, 22, 20, 192, 324, 228, 215, 275, 220, 329, 1, 16, 10, 259, 175, 174, 226, 270, 156, 238, 9, 45, 1, 181, 307, 183, 160, 138, 206, 448, 1, 18, 4, 185, 185, 112, 323, 196, 121, 365, 4, 3, 1, 134, 82, 144, 104, 98, 131, 1600, 6, 14, 10, 165, 192, 279, 199, 76, 77, 125, 125, 109, 83, 94, 107, 98, 119, 96, 72, 123, 12, 18, 2, 65, 154, 57, 106, 134, 90, 128, 4, 2, 1, 75, 41, 39, 57, 71, 58, 107, 2, 5, 1, 60, 68, 60, 32, 39, 62, 510, 5, 2, 2, 95, 59, 125, 34, 67, 33, 92, 1, 52, 2, 34, 37, 25, 61, 44, 37, 64, 3, 4, 0, 30, 52, 33, 34, 60, 35, 55, 0, 6, 0, 18, 32, 41, 30, 29, 36, 58, 0, 0, 3, 10, 79, 67, 40, 32, 64, 1006, 5, 9, 20, 119, 224, 253, 183, 145, 149, 176, 96, 126, 182, 227, 175, 146, 181, 93, 212, 225, 16, 8, 20, 87, 262, 91, 146, 75, 62, 198, 1, 1, 6, 109, 112, 101, 56, 50, 83, 179, 2, 2, 0, 62, 67, 30, 160, 76, 86, 257, 10, 2, 1, 301, 205, 92, 161, 87, 96, 117, 3, 1, 4, 56, 81, 263, 75, 61, 139, 103, 4, 0, 1, 92, 77, 77, 75, 23, 84, 258, 0, 0, 1, 88, 66, 87, 55, 158, 77, 116, 1, 0, 0, 59, 61, 30, 52, 46, 29, 822, 5, 12, 2, 57, 116, 105, 75, 22, 41, 101, 63, 91, 47, 61, 62, 107, 58, 22, 79, 85, 3, 1, 0, 21, 64, 46, 54, 44, 44, 47, 1, 1, 2, 98, 111, 82, 94, 59, 53, 141, 3, 14, 2, 87, 132, 48, 61, 39, 65, 199, 7, 8, 0, 48, 56, 117, 70, 66, 65, 146, 1, 1, 1, 45, 55, 46, 27, 35, 29, 56, 0, 0, 0, 113, 78, 26, 67, 23, 112, 79, 0, 1, 5, 27, 42, 41, 40, 22, 38, 57, 0, 1, 0, 45, 18, 40, 61, 36, 31, 925, 10, 10, 7, 251, 220, 310, 197, 179, 485, 77, 91, 113, 98, 62, 46, 24, 133, 14, 39, 41, 4, 1, 0, 49, 118, 37, 78, 34, 37, 78, 1, 1, 0, 9, 21, 8, 17, 8, 7, 45, 6, 2, 0, 30, 15, 11, 19, 42, 17, 88, 1, 1, 3, 25, 122, 25, 20, 18, 65, 72, 0, 0, 0, 33, 16, 24, 15, 13, 12, 35, 0, 0, 1, 5, 15, 28, 11, 10, 16, 56, 0, 2, 0, 6, 7, 30, 9, 14, 17, 23, 1, 2, 1, 7, 18, 28, 11, 13, 10, 365, 12, 2, 2, 29, 32, 24, 28, 12, 28, 22, 27, 44, 21, 86, 20, 10, 9, 31, 10, 45, 4, 2, 2, 5, 13, 13, 5, 17, 7, 87, 6, 0, 2, 12, 12, 8, 5, 6, 8, 47, 1, 0, 0, 9, 3, 4, 6, 9, 4, 78, 3, 1, 5, 12, 6, 10, 7, 15, 9, 55, 0, 1, 0, 11, 1, 10, 6, 7, 4, 66, 2, 0, 0, 9, 9, 10, 15, 8, 5, 43, 0, 0, 1, 3, 14, 1, 1, 10, 21, 19, 1, 0, 2, 5, 2, 4, 5, 4, 3, 338, 4, 0, 0, 21, 47, 22, 198, 15, 35, 46, 37, 14, 6, 35, 54, 53, 36, 20, 21, 94, 0, 0, 0, 16, 31, 29, 130, 81, 25, 77, 1, 0, 0, 8, 7, 4, 225, 6, 2, 50, 2, 0, 0, 13, 6, 9, 236, 33, 9, 147, 0, 0, 0, 10, 28, 54, 100, 23, 12, 31, 1, 0, 1, 4, 6, 11, 76, 7, 25, 45, 1, 1, 0, 7, 11, 5, 71, 3, 6, 51, 0, 1, 1, 17, 9, 19, 52, 5, 2, 48, 0, 0, 0, 4, 9, 5, 3, 0, 3, 421, 5, 0, 3, 23, 21, 15, 12, 100, 19, 29, 4, 23, 16, 7, 12, 20, 16, 28, 45, 97, 0, 0, 0, 6, 17, 14, 4, 6, 9, 72, 2, 1, 1, 61, 11, 17, 8, 5, 10, 80, 1, 0, 0, 4, 5, 12, 7, 6, 5, 101, 0, 0, 1, 5, 6, 10, 10, 9, 17, 60, 0, 0, 0, 20, 7, 15, 7, 12, 5, 70, 0, 0, 2, 4, 6, 5, 3, 5, 0, 72, 1, 1, 1, 2, 8, 9, 8, 8, 4, 55, 0, 0, 0, 3, 2, 3, 3, 6, 7, 228, 1, 0, 0, 18, 7, 15, 5, 54, 12, 40, 99, 29, 16, 20, 7, 39, 62, 30, 27, 67, 0, 0, 0, 20, 10, 22, 29, 24, 14, 57, 0, 0, 0, 16, 8, 27, 20, 3, 35, 53, 4, 0, 0, 27, 1, 1, 11, 1, 2, 47, 1, 0, 1, 2, 3, 14, 3, 4, 15, 73, 0, 38, 0, 7, 6, 16, 1, 10, 13, 62, 0, 0, 0, 4, 4, 3, 2, 5, 4, 64, 0, 0, 0, 3, 1, 3, 6, 4, 1, 59, 0, 0, 3, 3, 2, 12, 9, 12, 35]\n"
     ]
    }
   ],
   "source": [
    "print(array)"
   ]
  },
  {
   "cell_type": "code",
   "execution_count": 32,
   "id": "d3a148ae",
   "metadata": {},
   "outputs": [
    {
     "data": {
      "image/png": "[encoded data removed]",
      "text/plain": [
       "<Figure size 432x288 with 1 Axes>"
      ]
     },
     "metadata": {
      "needs_background": "light"
     },
     "output_type": "display_data"
    }
   ],
   "source": [
    "x = [2, 1, 76, 140, 286, 267, 60, 271, 5, 13, 9, 76, 77, 6, 2, 27, 22, 1, 12, 7, 19, 81, 11, 173, 13, 7, 16, 19, 23, 197, 167, 1]\n",
    "plt.hist(x,bins=10)\n",
    "plt.show()"
   ]
  },
  {
   "cell_type": "code",
   "execution_count": 36,
   "id": "af282b7b",
   "metadata": {},
   "outputs": [
    {
     "name": "stderr",
     "output_type": "stream",
     "text": [
      "<ipython-input-36-1409407aefa6>:6: RuntimeWarning: divide by zero encountered in log\n",
      "  array2 = np.log(array)\n"
     ]
    },
    {
     "data": {
      "image/png": "[encoded data removed]",
      "text/plain": [
       "<Figure size 432x288 with 1 Axes>"
      ]
     },
     "metadata": {
      "needs_background": "light"
     },
     "output_type": "display_data"
    },
    {
     "data": {
      "text/plain": [
       "<Figure size 432x288 with 0 Axes>"
      ]
     },
     "metadata": {},
     "output_type": "display_data"
    }
   ],
   "source": [
    "import matplotlib.pyplot as plt\n",
    "import numpy as np\n",
    "from matplotlib import colors\n",
    "from matplotlib.ticker import PercentFormatter\n",
    "\n",
    "array2 = np.log(array)\n",
    "\n",
    "plt.bar(range(len(array2)), array2)\n",
    "plt.show()\n",
    "plt.savefig('logHistogramNumbers.png')"
   ]
  },
  {
   "cell_type": "code",
   "execution_count": 4,
   "id": "bde1e28f",
   "metadata": {},
   "outputs": [
    {
     "name": "stdout",
     "output_type": "stream",
     "text": [
      "4277328\n",
      "929151\n"
     ]
    }
   ],
   "source": [
    "import re\n",
    "new_vocab2 = Vocabulary()\n",
    "#first pass reduce number words\n",
    "count = 0\n",
    "for oldword in new_vocab.word_frequency:\n",
    "    new_word = re.sub(r'[0-9]',r'N',oldword)\n",
    "    if(new_word != oldword):\n",
    "        count += 1\n",
    "    if new_word in new_vocab2.word_frequency:\n",
    "        new_vocab2.word_frequency[new_word] += new_vocab.word_frequency[oldword]\n",
    "    else:\n",
    "        new_vocab2.word_frequency[new_word] = new_vocab.word_frequency[oldword]\n",
    "print(new_vocab2.get_size()) \n",
    "print(count)"
   ]
  },
  {
   "cell_type": "code",
   "execution_count": 6,
   "id": "4279492f",
   "metadata": {},
   "outputs": [
    {
     "name": "stdout",
     "output_type": "stream",
     "text": [
      "None\n",
      "3988308\n",
      "3988308\n"
     ]
    }
   ],
   "source": [
    "print(new_vocab2.filter_just_symbol_tokens())   \n",
    "print(new_vocab2.get_size())   \n",
    "print(new_vocab2.get_size())   "
   ]
  },
  {
   "cell_type": "code",
   "execution_count": 8,
   "id": "99aefe88",
   "metadata": {},
   "outputs": [],
   "source": [
    "new_vocab2.word_frequency = dict(sorted(new_vocab2.word_frequency.items(),key= lambda x:x[1]))\n",
    "new_vocab2.save('..\\\\vocabs\\\\NNfilteredVocab')"
   ]
  },
  {
   "cell_type": "code",
   "execution_count": 9,
   "id": "beeb2cef",
   "metadata": {},
   "outputs": [
    {
     "name": "stdout",
     "output_type": "stream",
     "text": [
      "3966405\n"
     ]
    }
   ],
   "source": [
    "new_vocab3 = Vocabulary()\n",
    "for word in new_vocab2.word_frequency:\n",
    "    if '|' in word:\n",
    "        pass\n",
    "    else:\n",
    "        new_vocab3.word_frequency[word] = new_vocab2.word_frequency[word]\n",
    "print(new_vocab3.get_size())"
   ]
  },
  {
   "cell_type": "code",
   "execution_count": 11,
   "id": "7d86243e",
   "metadata": {},
   "outputs": [
    {
     "name": "stdout",
     "output_type": "stream",
     "text": [
      "3954580\n"
     ]
    }
   ],
   "source": [
    "removable_strings = ['<br>','br>\\\"','br>','<br','</br','<ref','ref>','</ref']\n",
    "new_vocab4 = Vocabulary()\n",
    "for word in new_vocab3.word_frequency:\n",
    "    if 'nowiki' in word:\n",
    "        continue\n",
    "    string_cur = word\n",
    "    for rem in removable_strings:\n",
    "        if(rem in string_cur):\n",
    "            string_cur = re.sub(rem,'',string_cur)\n",
    "    if string_cur in new_vocab4.word_frequency:\n",
    "        new_vocab4.word_frequency[string_cur] += new_vocab3.word_frequency[word]\n",
    "    else:\n",
    "        new_vocab4.word_frequency[string_cur] = new_vocab3.word_frequency[word]\n",
    "print(new_vocab4.get_size())\n",
    "new_vocab4.save('..\\\\vocabs\\\\NNfilteredVocab')"
   ]
  },
  {
   "cell_type": "code",
   "execution_count": null,
   "id": "463e20d0",
   "metadata": {},
   "outputs": [],
   "source": []
  },
  {
   "cell_type": "code",
   "execution_count": 14,
   "id": "45ec29ab",
   "metadata": {},
   "outputs": [
    {
     "name": "stdout",
     "output_type": "stream",
     "text": [
      "141606\n"
     ]
    }
   ],
   "source": [
    "new_vocab4.filter(101)\n",
    "print(new_vocab4.get_size())\n",
    "new_vocab4.save('..\\\\vocabs\\\\NNfilteredVocabFilter101')"
   ]
  },
  {
   "cell_type": "code",
   "execution_count": null,
   "id": "ca196cd4",
   "metadata": {},
   "outputs": [],
   "source": [
    "remove_when_contained = ['http://','https://','style=','align=','valign','bgcolor=','width=','clear=','colspan=','<','>']"
   ]
  },
  {
   "cell_type": "code",
   "execution_count": null,
   "id": "1a1c5f2a",
   "metadata": {},
   "outputs": [],
   "source": [
    "remove if at end\n",
    "- / (if only one dot .)"
   ]
  },
  {
   "cell_type": "code",
   "execution_count": null,
   "id": "7a18c112",
   "metadata": {},
   "outputs": [],
   "source": [
    "add ( and ) splitting in tokeniser "
   ]
  },
  {
   "cell_type": "code",
   "execution_count": null,
   "id": "5032f4e6",
   "metadata": {},
   "outputs": [],
   "source": [
    "doktor to doctor"
   ]
  }
 ],
 "metadata": {
  "kernelspec": {
   "display_name": "Python 3",
   "language": "python",
   "name": "python3"
  },
  "language_info": {
   "codemirror_mode": {
    "name": "ipython",
    "version": 3
   },
   "file_extension": ".py",
   "mimetype": "text/x-python",
   "name": "python",
   "nbconvert_exporter": "python",
   "pygments_lexer": "ipython3",
   "version": "3.8.10"
  }
 },
 "nbformat": 4,
 "nbformat_minor": 5
}
