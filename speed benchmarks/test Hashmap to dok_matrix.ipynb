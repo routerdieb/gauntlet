{
 "cells": [
  {
   "cell_type": "code",
   "execution_count": 11,
   "id": "e8ef70f2",
   "metadata": {},
   "outputs": [],
   "source": [
    "import cloudpickle\n",
    "from scipy.sparse import dok_matrix\n",
    "from scipy.sparse import tril\n",
    "\n",
    "\n",
    "def load_dict(zeilen,spalten):\n",
    "    folder = \"..\\\\coocurrence_blocks\"\n",
    "    if(spalten > zeilen):\n",
    "        template = \"block_{i}_{j}\".format(i=spalten,j=zeilen)\n",
    "    else:\n",
    "        template = \"block_{i}_{j}\".format(i=zeilen,j=spalten)\n",
    "\n",
    "    file_path = folder + '\\\\' + template\n",
    "    with open(file_path, 'rb+') as file:\n",
    "        co_occurences = cloudpickle.load(file)\n",
    "    \n",
    "    return co_occurences\n",
    "\n",
    "\n",
    "def load_co_occurence(zeilen,spalten):\n",
    "    co_occurences = load_dict(zeilen,spalten)\n",
    "    coocurrence = dok_matrix((20000,20000),dtype='i')\n",
    "    \n",
    "    coocurrence._update(co_occurences) # dok_matrix updates #7673 pull request\n",
    "\n",
    "    if spalten > zeilen :\n",
    "        print('transposing')\n",
    "        coocurrence = coocurrence.transpose()\n",
    "    \n",
    "    if spalten == zeilen:\n",
    "        print('mirroring')\n",
    "        print(coocurrence.toarray())\n",
    "        coocurrence = coocurrence + tril(coocurrence,k=-1).transpose()\n",
    "    \n",
    "    return coocurrence"
   ]
  },
  {
   "cell_type": "code",
   "execution_count": 12,
   "id": "2783ccf7",
   "metadata": {},
   "outputs": [
    {
     "name": "stdout",
     "output_type": "stream",
     "text": [
      "mirroring\n",
      "[[    2570        0        0 ...        0        0        0]\n",
      " [     104    63009        0 ...        0        0        0]\n",
      " [    1027    16840 25500923 ...        0        0        0]\n",
      " ...\n",
      " [       0        0        0 ...        1        0        0]\n",
      " [       0        0        0 ...        0        1        0]\n",
      " [       0        0        2 ...        0        0        4]]\n",
      " in 68.3597 seconds\n",
      "[[    2570      104     1027 ...        0        0        0]\n",
      " [     104    63009    16840 ...        0        0        0]\n",
      " [    1027    16840 25500923 ...        0        0        2]\n",
      " ...\n",
      " [       0        0        0 ...        1        0        0]\n",
      " [       0        0        0 ...        0        1        0]\n",
      " [       0        0        2 ...        0        0        4]]\n"
     ]
    }
   ],
   "source": [
    "import time\n",
    "tic = time.perf_counter()\n",
    "coocurrence = load_co_occurence(0,0)\n",
    "numpy = coocurrence.toarray()\n",
    "toc = time.perf_counter()\n",
    "print(f\" in {toc - tic:0.4f} seconds\")\n",
    "print(numpy)"
   ]
  },
  {
   "cell_type": "code",
   "execution_count": 3,
   "id": "7e7eeb84",
   "metadata": {},
   "outputs": [
    {
     "name": "stdout",
     "output_type": "stream",
     "text": [
      " in 24.3296 seconds\n",
      "[[  0   0 770 ...   0   0   0]\n",
      " [  0   0 472 ...   0   0   0]\n",
      " [  0   0  13 ...   0   0   0]\n",
      " ...\n",
      " [  0   0  16 ...   0   0   0]\n",
      " [  0   1 143 ...   0   0   0]\n",
      " [  0   0 298 ...   0   0   0]]\n"
     ]
    }
   ],
   "source": [
    "tic = time.perf_counter()\n",
    "coocurrence = load_co_occurence(1,0)\n",
    "numpy = coocurrence.toarray()\n",
    "toc = time.perf_counter()\n",
    "print(f\" in {toc - tic:0.4f} seconds\")\n",
    "print(numpy)"
   ]
  },
  {
   "cell_type": "code",
   "execution_count": 4,
   "id": "cccde005",
   "metadata": {},
   "outputs": [
    {
     "name": "stdout",
     "output_type": "stream",
     "text": [
      "transposing\n",
      " in 40.1776 seconds\n",
      "[[  0   0   0 ...   0   0   0]\n",
      " [  0   0   0 ...   0   1   0]\n",
      " [770 472  13 ...  16 143 298]\n",
      " ...\n",
      " [  0   0   0 ...   0   0   0]\n",
      " [  0   0   0 ...   0   0   0]\n",
      " [  0   0   0 ...   0   0   0]]\n"
     ]
    }
   ],
   "source": [
    "tic = time.perf_counter()\n",
    "coocurrence = load_co_occurence(0,1)\n",
    "numpy = coocurrence.toarray()\n",
    "toc = time.perf_counter()\n",
    "print(f\" in {toc - tic:0.4f} seconds\")\n",
    "print(numpy)"
   ]
  },
  {
   "cell_type": "code",
   "execution_count": 5,
   "id": "9bd6eb0f",
   "metadata": {},
   "outputs": [],
   "source": [
    "import scipy\n",
    "coocurrence = load_co_occurence(1,0).tocoo()\n",
    "scipy.sparse.save_npz('./speed_load_test.npz',coocurrence)"
   ]
  },
  {
   "cell_type": "code",
   "execution_count": 6,
   "id": "94e25058",
   "metadata": {},
   "outputs": [
    {
     "name": "stdout",
     "output_type": "stream",
     "text": [
      " in 2.2427 seconds\n",
      "[[  0   0 770 ...   0   0   0]\n",
      " [  0   0 472 ...   0   0   0]\n",
      " [  0   0  13 ...   0   0   0]\n",
      " ...\n",
      " [  0   0  16 ...   0   0   0]\n",
      " [  0   1 143 ...   0   0   0]\n",
      " [  0   0 298 ...   0   0   0]]\n"
     ]
    }
   ],
   "source": [
    "tic = time.perf_counter()\n",
    "coocurrence = scipy.sparse.load_npz('./speed_load_test.npz')\n",
    "numpy = coocurrence.toarray()\n",
    "toc = time.perf_counter()\n",
    "print(f\" in {toc - tic:0.4f} seconds\")\n",
    "print(numpy)"
   ]
  },
  {
   "cell_type": "code",
   "execution_count": 7,
   "id": "abacbad6",
   "metadata": {},
   "outputs": [
    {
     "name": "stdout",
     "output_type": "stream",
     "text": [
      "<HDF5 dataset \"co-ocurrence\": shape (20000, 20000), type \"<f4\">\n"
     ]
    }
   ],
   "source": [
    "import h5py\n",
    "f = h5py.File('./speed_load_test.hdf5', \"w\")#plus experiment name\n",
    "HDF_matrix = f.create_dataset(\"co-ocurrence\", (20000, 20000))\n",
    "coocurrence_dict = load_dict(1,0)\n",
    "numpy = coocurrence.toarray()\n",
    "HDF_matrix[:,:] =  numpy\n",
    "print(HDF_matrix)"
   ]
  },
  {
   "cell_type": "code",
   "execution_count": 8,
   "id": "5cbb2e9c",
   "metadata": {},
   "outputs": [
    {
     "name": "stdout",
     "output_type": "stream",
     "text": [
      "[[  0.   0. 770. ...   0.   0.   0.]\n",
      " [  0.   0. 472. ...   0.   0.   0.]\n",
      " [  0.   0.  13. ...   0.   0.   0.]\n",
      " ...\n",
      " [  0.   0.  16. ...   0.   0.   0.]\n",
      " [  0.   1. 143. ...   0.   0.   0.]\n",
      " [  0.   0. 298. ...   0.   0.   0.]]\n"
     ]
    }
   ],
   "source": [
    "print(HDF_matrix[:][:])\n",
    "f.close()"
   ]
  },
  {
   "cell_type": "code",
   "execution_count": null,
   "id": "a75ed257",
   "metadata": {},
   "outputs": [],
   "source": [
    "print('speedtest hdf load')\n",
    "tic = time.perf_counter()\n",
    "f = h5py.File('./speed_load_test.hdf5', \"r+\")\n",
    "HDF_matrix = f.get(\"co-ocurrence\")\n",
    "numpy = HDF_matrix[:]\n",
    "toc = time.perf_counter()\n",
    "print(f\" in {toc - tic:0.4f} seconds\")\n",
    "print(numpy)\n",
    "print(type(numpy))"
   ]
  },
  {
   "cell_type": "code",
   "execution_count": 19,
   "id": "bba2ad8b",
   "metadata": {},
   "outputs": [
    {
     "name": "stdout",
     "output_type": "stream",
     "text": [
      " in 0.5442 seconds\n",
      "[[  0.   0.   0. ...   0.   0.   0.]\n",
      " [  0.   0.   0. ...   0.   1.   0.]\n",
      " [770. 472.  13. ...  16. 143. 298.]\n",
      " ...\n",
      " [  0.   0.   0. ...   0.   0.   0.]\n",
      " [  0.   0.   0. ...   0.   0.   0.]\n",
      " [  0.   0.   0. ...   0.   0.   0.]]\n",
      "<class 'numpy.ndarray'>\n"
     ]
    }
   ],
   "source": [
    "import numpy as np\n",
    "print('speedtest hdf + transpose')\n",
    "tic = time.perf_counter()\n",
    "f = h5py.File('./speed_load_test.hdf5', \"r+\")\n",
    "HDF_matrix = f.get(\"co-ocurrence\")\n",
    "numpy = HDF_matrix[:]\n",
    "numpy = np.transpose(numpy)\n",
    "toc = time.perf_counter()\n",
    "print(f\" in {toc - tic:0.4f} seconds\")\n",
    "print(numpy)\n",
    "print(type(numpy))"
   ]
  },
  {
   "cell_type": "code",
   "execution_count": 21,
   "id": "f18df233",
   "metadata": {},
   "outputs": [
    {
     "name": "stdout",
     "output_type": "stream",
     "text": [
      "[[  0.   0. 770. ...   0.   0.   0.]\n",
      " [  0.   0. 472. ...   0.   0.   0.]\n",
      " [  0.   0.  13. ...   0.   0.   0.]\n",
      " ...\n",
      " [  0.   0.  16. ...   0.   0.   0.]\n",
      " [  0.   1. 143. ...   0.   0.   0.]\n",
      " [  0.   0. 298. ...   0.   0.   0.]]\n",
      "speedtest hdf + mirroring\n",
      " in 4.8703 seconds\n",
      "[[  0.   0. 770. ...   0.   0.   0.]\n",
      " [  0.   0. 472. ...   0.   1.   0.]\n",
      " [  0.   0.  13. ...  16. 143. 298.]\n",
      " ...\n",
      " [  0.   0.  16. ...   0.   0.   0.]\n",
      " [  0.   1. 143. ...   0.   0.   0.]\n",
      " [  0.   0. 298. ...   0.   0.   0.]]\n",
      "<class 'numpy.matrix'>\n"
     ]
    }
   ],
   "source": [
    "f = h5py.File('./speed_load_mirrored.hdf5', \"w\")#plus experiment name\n",
    "HDF_matrix = f.create_dataset(\"co-ocurrence\", (20000, 20000))\n",
    "coocurrence_dict = load_dict(1,0)\n",
    "numpy = coocurrence.toarray()\n",
    "HDF_matrix[:,:] = numpy\n",
    "print(HDF_matrix[:][:])\n",
    "f.close()\n",
    "\n",
    "print('speedtest hdf + mirroring')\n",
    "\n",
    "tic = time.perf_counter()\n",
    "f = h5py.File('./speed_load_test.hdf5', \"r+\")\n",
    "HDF_matrix = f.get(\"co-ocurrence\")\n",
    "numpy = HDF_matrix[:]\n",
    "numpy = numpy + tril(numpy,k=-1).transpose()\n",
    "toc = time.perf_counter()\n",
    "print(f\" in {toc - tic:0.4f} seconds\")\n",
    "print(numpy)\n",
    "print(type(numpy))"
   ]
  },
  {
   "cell_type": "code",
   "execution_count": null,
   "id": "94cc0bb4",
   "metadata": {},
   "outputs": [],
   "source": []
  }
 ],
 "metadata": {
  "kernelspec": {
   "display_name": "Python 3",
   "language": "python",
   "name": "python3"
  },
  "language_info": {
   "codemirror_mode": {
    "name": "ipython",
    "version": 3
   },
   "file_extension": ".py",
   "mimetype": "text/x-python",
   "name": "python",
   "nbconvert_exporter": "python",
   "pygments_lexer": "ipython3",
   "version": "3.8.10"
  }
 },
 "nbformat": 4,
 "nbformat_minor": 5
}
