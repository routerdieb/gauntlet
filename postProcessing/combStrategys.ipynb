{
 "cells": [
  {
   "cell_type": "code",
   "execution_count": 80,
   "id": "f73fc034",
   "metadata": {},
   "outputs": [],
   "source": [
    "import h5py\n",
    "import os\n",
    "os.environ['TF_CPP_MIN_LOG_LEVEL'] = '0'\n",
    "os.environ[\"CUDA_VISIBLE_DEVICES\"] = \"-1\"    \n",
    "import tensorflow as tf\n",
    "import sys\n",
    "sys.path.append(\"..\")\n",
    "from Vocabulary import *\n",
    "import math\n",
    "import numpy as np"
   ]
  },
  {
   "cell_type": "code",
   "execution_count": 81,
   "id": "0d7d2dbc",
   "metadata": {},
   "outputs": [],
   "source": [
    "has_tag_Rep = True\n",
    "embedding_path = r'E:\\\\embeddings\\\\test200dWTags'\n",
    "embedding_name = r'pos_w_tags_100w_only200Dims'\n",
    "dimensions = 200"
   ]
  },
  {
   "cell_type": "code",
   "execution_count": 82,
   "id": "5c69bc11",
   "metadata": {},
   "outputs": [
    {
     "name": "stdout",
     "output_type": "stream",
     "text": [
      "302519\n"
     ]
    }
   ],
   "source": [
    "import numpy as np\n",
    "import tensorflow as tf\n",
    "id_dict = {}\n",
    "word_dict = {}\n",
    "\n",
    "matrix = []\n",
    "full_path = os.path.join(embedding_path,embedding_name)\n",
    "with open(full_path, 'r' , encoding=\"utf-8\")  as f:\n",
    "    lines = f.readlines()\n",
    "    vocab_size = len(lines)\n",
    "    \n",
    "    matrix = np.zeros((vocab_size,dimensions),dtype=float)\n",
    "    for line in lines:\n",
    "        values = line.split()\n",
    "        word = values[0].strip()\n",
    "        id = len(id_dict)\n",
    "        id_dict[word]=id\n",
    "        word_dict[id] = word\n",
    "        vector = np.asarray(values[1:], \"double\")\n",
    "        matrix[id_dict[word],:] = vector\n",
    "print(len(id_dict))"
   ]
  },
  {
   "cell_type": "code",
   "execution_count": 83,
   "id": "46cf62ec",
   "metadata": {},
   "outputs": [
    {
     "name": "stdout",
     "output_type": "stream",
     "text": [
      "245056\n",
      "['duck\\x04noun', 'duck\\x04propn', 'duck\\x04verb']\n",
      "['the\\x04noun', 'the\\x04det', 'the\\x04punct', 'the\\x04adv', 'the\\x04adj', 'the\\x04propn']\n",
      "['bank\\x04noun', 'bank\\x04adj', 'bank\\x04propn', 'bank\\x04verb']\n",
      "---------\n",
      "{'rubella': ['rubella\\x04noun', 'rubella\\x04propn'], 'kramer': ['kramer\\x04propn'], 'diabolical': ['\n"
     ]
    }
   ],
   "source": [
    "#find all variants of a word, without the tag rep\n",
    "def group_all_words(id_dict):\n",
    "    groups = {}\n",
    "    for word in id_dict:\n",
    "        #print(word)\n",
    "        if is_tagged_word(word):\n",
    "            #print('is tagged')\n",
    "            baseword = word.split(chr(4))[0]\n",
    "            #print(baseword)\n",
    "            if baseword in groups:\n",
    "                groups[baseword].append(word)\n",
    "            else:\n",
    "                groups[baseword] = [word]\n",
    "        elif word.startswith(chr(4)):#exclude tags\n",
    "            pass\n",
    "        else:\n",
    "            if word in groups:\n",
    "                groups[word].append(word)\n",
    "            else:\n",
    "                groups[word] = [word]\n",
    "    return groups\n",
    "\n",
    "def is_tagged_word(word):\n",
    "    return not word.startswith(chr(4)) and str(chr(4)) in word\n",
    "\n",
    "groups = group_all_words(id_dict)\n",
    "print(len(groups))\n",
    "print(groups['duck'])\n",
    "print(groups['the'])\n",
    "print(groups['bank'])\n",
    "print('---------')\n",
    "print(str(groups)[:100])"
   ]
  },
  {
   "cell_type": "code",
   "execution_count": 84,
   "id": "a262e047",
   "metadata": {},
   "outputs": [
    {
     "name": "stdout",
     "output_type": "stream",
     "text": [
      "['rubella\\x04noun', 'rubella\\x04propn']\n"
     ]
    }
   ],
   "source": [
    "print(groups['rubella'])"
   ]
  },
  {
   "cell_type": "code",
   "execution_count": 85,
   "id": "03b1ebd4",
   "metadata": {},
   "outputs": [],
   "source": [
    "unfiltered_vocab = Vocabulary()\n",
    "unfiltered_vocab.load('E:\\\\embeddings\\\\test200dWTags\\\\unfilteredpos_vocab')"
   ]
  },
  {
   "cell_type": "code",
   "execution_count": 88,
   "id": "3f6c4d80",
   "metadata": {},
   "outputs": [],
   "source": [
    "#get all the factors"
   ]
  },
  {
   "cell_type": "code",
   "execution_count": 89,
   "id": "01fd5a31",
   "metadata": {},
   "outputs": [],
   "source": [
    "def get_count(word):\n",
    "    return unfiltered_vocab.word_frequency[word]"
   ]
  },
  {
   "cell_type": "code",
   "execution_count": null,
   "id": "d3f74054",
   "metadata": {},
   "outputs": [],
   "source": [
    "class Polygon(ABC):\n",
    " \n",
    "    @abstractmethod\n",
    "    def noofsides(self):\n",
    "        pass"
   ]
  },
  {
   "cell_type": "code",
   "execution_count": 90,
   "id": "b80da522",
   "metadata": {},
   "outputs": [],
   "source": [
    "#requires tag rep\n",
    "def mult_strat_weighted(word_groups,normalise_before_mult):\n",
    "    emb = {}\n",
    "    tmp_matrix = matrix\n",
    "    if(normalise_before_mult):\n",
    "        tmp_matrix = tf.nn.l2_normalize(matrix,axis = 1)\n",
    "    for word_key in groups:\n",
    "        #print(word_key)\n",
    "        emb_sum = 0\n",
    "        \n",
    "        baseword = -1#should throw an error if not overwritten\n",
    "        base_count = 0\n",
    "        for word in word_groups[word_key]:\n",
    "            c = get_count(word)\n",
    "            base_count += c\n",
    "        \n",
    "        for word in word_groups[word_key]:\n",
    "            #print(word)\n",
    "            if chr(4) in word:\n",
    "                baseword ,tag  = word.split(chr(4))\n",
    "                id_word = id_dict[word]\n",
    "                id_tag  = id_dict[chr(4)+tag]\n",
    "                #print(word, tag)\n",
    "                emb_sum += (get_count(word)/base_count)*(tmp_matrix[id_word] * tmp_matrix[id_tag])\n",
    "            else:#only in mixed\n",
    "                emb_sum += tmp_matrix[id_dict[word]] * (get_count(word)/base_count)\n",
    "        emb[baseword] = emb_sum\n",
    "        #print(baseword,emb_sum)\n",
    "    return emb\n",
    "        \n",
    "emb = mult_strat_weighted(groups,False)\n",
    "#print(str(emb)[:100])\n",
    "#print(emb('the'))"
   ]
  },
  {
   "cell_type": "code",
   "execution_count": 91,
   "id": "6bd49a34",
   "metadata": {},
   "outputs": [
    {
     "name": "stdout",
     "output_type": "stream",
     "text": [
      "[-0.01633265  0.00186513  0.00497749 -0.00131566 -0.07106869  0.02760165\n",
      "  0.01533051  0.00023506 -0.00372713  0.00514028 -0.05852658  0.01161702\n",
      "  0.0101486   0.00505297  0.06273965  0.00585055  0.02269495 -0.06084702\n",
      "  0.009542    0.02628339 -0.00048417 -0.04856513 -0.00156393  0.0614124\n",
      " -0.00214901 -0.02973287 -0.01237914  0.00297455 -0.0080978   0.00236366\n",
      " -0.01680189 -0.02538641  0.05166951  0.02206524 -0.00996914  0.00914754\n",
      " -0.00440594 -0.03832731 -0.07844426 -0.06790831  0.04124945  0.00180786\n",
      " -0.0269876   0.02316665 -0.01693314  0.02048577 -0.00392056  0.00536526\n",
      " -0.03802988  0.02207552 -0.03386884 -0.00291344  0.01073835  0.01552975\n",
      "  0.0361063   0.03101007 -0.00180485  0.01077286 -0.01129019  0.0421184\n",
      "  0.02420453 -0.0166186  -0.01576072 -0.0150183  -0.00551208 -0.00185257\n",
      "  0.00304361 -0.03313197  0.04293452 -0.02939568 -0.04096829  0.00576442\n",
      " -0.05428303 -0.04265325 -0.01899032  0.00986378 -0.05755935 -0.05684856\n",
      "  0.00309197  0.02142445 -0.08111324  0.00109211 -0.0074671   0.03616786\n",
      " -0.03088541 -0.0090369  -0.00335596 -0.00241723 -0.00244405  0.01394412\n",
      "  0.01245991  0.00182926  0.0063157  -0.00187123 -0.02923123  0.02512928\n",
      " -0.00452615  0.01757918  0.03237826 -0.01065032  0.00780118 -0.01073201\n",
      "  0.00519521 -0.03272819 -0.02173474  0.00463044  0.00832161  0.02205473\n",
      "  0.0019282   0.00773273 -0.02024586  0.04066732  0.01715947  0.03985052\n",
      " -0.0019229   0.03833161 -0.03593546 -0.01265257 -0.00261959 -0.03746785\n",
      " -0.0284716   0.02092793  0.04781845  0.00088647 -0.07961927  0.02263464\n",
      "  0.0263751   0.00135904  0.05721428  0.0079981  -0.01091399 -0.05866731\n",
      " -0.00341669 -0.01523877  0.03025637  0.04238533  0.01249887  0.00731592\n",
      "  0.02068662 -0.02637172  0.00136919 -0.05369123 -0.00091111 -0.04446835\n",
      "  0.02017795 -0.01271566 -0.0201567  -0.01469286 -0.02103985 -0.01848607\n",
      "  0.02152462  0.00340581 -0.02633963 -0.01883858 -0.0048857   0.00086595\n",
      " -0.00522049 -0.0056194   0.01769837  0.01843615 -0.01747324 -0.02691169\n",
      " -0.00430674  0.01821819  0.06039531  0.02511617  0.00195506 -0.01889177\n",
      " -0.04328187  0.00344109 -0.00334687  0.00977684 -0.05405575 -0.0328138\n",
      " -0.00124565  0.01621694 -0.03980429 -0.02164465 -0.0036856  -0.01665616\n",
      "  0.00285397 -0.02021745  0.02209263  0.03157061 -0.00655399 -0.0308689\n",
      "  0.00977858  0.01311252 -0.04637673  0.03015613  0.00946983 -0.01760254\n",
      " -0.0036133   0.00873308 -0.02321336  0.01169571  0.00288935 -0.01077656\n",
      " -0.00047208  0.00156517]\n"
     ]
    }
   ],
   "source": [
    "print(emb['the'])"
   ]
  },
  {
   "cell_type": "code",
   "execution_count": 92,
   "id": "53c83386",
   "metadata": {},
   "outputs": [],
   "source": [
    "#requires tag rep\n",
    "def strat_noTagRep(word_groups,normalise_before_mult):\n",
    "    tmp_matrix     = matrix\n",
    "    if(normalise_before_mult):\n",
    "        tmp_matrix = tf.nn.l2_normalize(matrix,axis = 1)\n",
    "    \n",
    "    emb = {}\n",
    "    for word_key in groups:\n",
    "        \n",
    "        baseword   = -1 #should throw an error if not overwritten\n",
    "        base_count =  0\n",
    "        for word in word_groups[word_key]:\n",
    "            c = get_count(word)\n",
    "            base_count += c\n",
    "        \n",
    "        emb_sum = 0\n",
    "        for word in word_groups[word_key]:\n",
    "            #print(word)\n",
    "            if chr(4) in word:\n",
    "                baseword ,tag  = word.split(chr(4))\n",
    "                id_word = id_dict[word]\n",
    "                id_tag  = id_dict[chr(4)+tag]\n",
    "                #print(word, tag)\n",
    "                emb_sum += (get_count(word)/base_count)* tmp_matrix[id_word]\n",
    "            else:#only in mixed\n",
    "                emb_sum +=(get_count(word)/base_count) * tmp_matrix[id_dict[word]]\n",
    "        emb[baseword] = emb_sum\n",
    "        #print(baseword,emb_sum)\n",
    "    return emb\n",
    "        \n",
    "emb = mult_strat_noTagRep(groups,False)"
   ]
  },
  {
   "cell_type": "code",
   "execution_count": 93,
   "id": "0dd1f57d",
   "metadata": {},
   "outputs": [
    {
     "name": "stdout",
     "output_type": "stream",
     "text": [
      "[ 0.83655888  0.56230641  1.31466868  0.75338636  0.88259477  0.54048636\n",
      "  0.66813626  0.24701116  1.08327434  0.73842778  0.93343065  0.58456334\n",
      "  0.7408845   0.62628036  1.04259515  0.80160135  1.280772    0.67505019\n",
      "  1.02274889  0.8647537   0.2768535   0.78671927 -0.07325811  0.89054524\n",
      "  0.79636452  0.9597792   0.72155377  0.25776857  0.59434872  0.45070298\n",
      "  0.82455262  0.7198299   1.2681247   1.09165162  0.56565395  0.54518698\n",
      "  0.85127129  0.82685436  1.01986472  0.82717568  0.81580072  0.25343165\n",
      "  0.71523798  0.80283276  0.66233341  0.41603753  1.03093484  0.8292028\n",
      "  0.92813965  1.39479177  0.80875336  0.15275364  0.7153622   0.42662276\n",
      "  0.46856623  0.48922916  0.12875231  1.09962834 -0.2594594   0.74718473\n",
      "  0.55902573  0.87082431  0.79948158  0.77297602  0.08179791  0.31714618\n",
      "  1.03793356  0.79005332  0.84827023  0.79805702  0.82308105  0.77717281\n",
      "  0.73482255  0.90558642  0.36310445  0.22822998  1.20710833  0.77715428\n",
      "  0.22117303  0.68976168  1.01707578  0.20818995  0.83390926  1.14839404\n",
      "  0.75786139  0.36818001  0.81355882  0.20823368  0.30127712  0.4370267\n",
      "  0.72349431  0.39500686  0.2755185   0.7413798   0.95939015  1.25054136\n",
      "  0.06671264  0.33841499  1.20547328  0.46297685  1.04521116  1.02336765\n",
      "  0.29460884  0.73743753  1.28619814  0.28038871  0.3828543   0.54371181\n",
      "  1.00697837  0.46772524  0.95916927  0.83122578  0.83933304  0.80747584\n",
      "  0.90298118  0.92483257  0.76984168  0.93434807  0.75496871  0.67100623\n",
      "  0.77448713  0.92115926  0.70959828  0.86813102  0.87398495  0.6093909\n",
      "  0.62927491  0.4469295   0.66720665  0.55298437  0.92455161  0.7021412\n",
      "  0.48390562  0.9502672   0.93920083  0.69348371  0.77461837  0.59441288\n",
      "  0.80528844  0.68483966  0.26931793  0.75032086 -0.1763279   1.08847651\n",
      "  1.08277447  0.70079402  0.76645585  0.7526198   0.65466699  0.48890662\n",
      "  0.55847366  0.58638753  1.17234563  0.78553218  0.77393504  0.29680124\n",
      "  0.41300526  0.381254    0.76602496  0.37276984  0.8031134   0.4268353\n",
      "  0.93999371  0.87049021  0.65760658  1.151655    0.24552288  0.95256224\n",
      "  0.77381937  0.26441218  0.97038905  0.82936426  0.802598    0.64180952\n",
      "  1.0447395   0.81375093  0.93702676  0.6292966   1.02396286  0.66115243\n",
      " -0.04192669  1.0484923   0.36584213  1.06192956  0.95990987  0.54803076\n",
      "  1.07912377  0.88148936  0.67059852  1.0467118   0.20099392  0.6627934\n",
      "  0.16578382  0.14048602  0.93292458  0.70633992  0.62853867  0.80274959\n",
      "  0.12298642  0.24031311]\n"
     ]
    }
   ],
   "source": [
    "print(emb['the'])"
   ]
  },
  {
   "cell_type": "code",
   "execution_count": 94,
   "id": "39bcacff",
   "metadata": {},
   "outputs": [],
   "source": [
    "#requires tag rep\n",
    "def add_strat_TagRep(word_groups,normalise_before_mult):\n",
    "    tmp_matrix     = matrix\n",
    "    if(normalise_before_mult):\n",
    "        tmp_matrix = tf.nn.l2_normalize(matrix,axis = 1)\n",
    "    \n",
    "    emb = {}\n",
    "    for word_key in groups:\n",
    "        \n",
    "        baseword   = -1 #should throw an error if not overwritten\n",
    "        base_count =  0\n",
    "        for word in word_groups[word_key]:\n",
    "            c = get_count(word)\n",
    "            base_count += c\n",
    "        \n",
    "        emb_sum = 0\n",
    "        for word in word_groups[word_key]:\n",
    "            #print(word)\n",
    "            if chr(4) in word:\n",
    "                baseword ,tag  = word.split(chr(4))\n",
    "                id_word = id_dict[word]\n",
    "                id_tag  = id_dict[chr(4)+tag]\n",
    "                #print(word, tag)\n",
    "                emb_sum += (get_count(word)/base_count)*(tmp_matrix[id_word] + tmp_matrix[id_tag])\n",
    "            else:#only in mixed\n",
    "                emb_sum += (get_count(word)/base_count) * tmp_matrix[id_dict[word]]\n",
    "        emb[baseword] = emb_sum\n",
    "        #print(baseword,emb_sum)\n",
    "    return emb"
   ]
  },
  {
   "cell_type": "code",
   "execution_count": 95,
   "id": "6d75f7ad",
   "metadata": {},
   "outputs": [
    {
     "name": "stdout",
     "output_type": "stream",
     "text": [
      "[ 2.76229148  2.51590141 -0.0420942   3.04173901  2.64908255  1.87738493\n",
      "  1.45163523  1.19443803  0.6250927   1.69642911  1.61737342  1.52952278\n",
      "  2.29894397  2.15844273 -0.14075882  1.39544763  2.77200947  3.19888065\n",
      "  3.13699791  1.70949071  2.79992501  1.41123817  0.95375259  3.11368731\n",
      "  2.20464367  1.77384376  2.96637402  0.31623668  0.7891416   2.83012274\n",
      "  2.97160488  1.35648132  2.75739571  2.45551568  1.0200732   2.98060491\n",
      "  2.04349855  1.16320939  3.09564091  2.30113335  3.00935562  3.09190175\n",
      "  2.54307032  0.79285289  1.93104478  3.39580113  2.69059502  0.85931519\n",
      "  2.59802213  1.30132434  2.67013605  0.74340426  2.07360825  2.54885857\n",
      "  2.48511375  3.35046838  1.12360115  3.55643519 -0.87518359  2.99375467\n",
      "  1.97027142  2.84140825  1.9278737   2.09939259  1.63945015  2.47593054\n",
      "  1.59633541  2.1428813   3.37755092  2.96957291  2.53867023  2.52024722\n",
      "  2.08452366  2.93738024  1.58296975  1.72754244  4.53467243  1.60923323\n",
      "  2.46810958  1.7468284   2.7909703   1.55511231  1.39992807  1.64011721\n",
      "  2.17973748  1.49825944  2.37467779  0.31160652  2.84529263  1.71470853\n",
      "  1.4264542   1.9069939   1.52675796  2.69473437  2.10571721  1.79013422\n",
      "  1.28298638  1.85330491  1.89061458  1.83721351  2.19166315  3.15449982\n",
      "  1.58593642  0.74098827  2.89469044  1.94714188  2.32398768  2.81145401\n",
      "  3.05327582  1.27750813  4.14417982  1.29223817  1.29160725 -0.42749637\n",
      "  0.98848566  1.56709341  2.17177162  1.63461583  2.07056246  2.72945154\n",
      "  1.58317346  1.07861374  2.66344258  2.71625519  2.42949329  1.54722031\n",
      "  1.65393794  1.71152189  2.27492667  1.77773117  2.76517804  2.26717652\n",
      "  2.12758386  4.18158395  3.05644959  2.67701084  1.99641564  2.27103642\n",
      "  3.27250453  0.82145679  1.68611799  2.0186378   2.22765907  0.044537\n",
      "  3.17367428  2.71502679  2.64741033  2.87449591  1.99548445  2.47964342\n",
      "  2.27065673  2.26539745  3.07271522  3.26721536  2.60227708  1.37316168\n",
      "  1.57121243  0.43055191  1.09324312  2.45548354  0.76650274  2.51216161\n",
      "  2.79369092  2.28385993  2.59914578  1.5489211   2.71946634  2.71176691\n",
      "  1.84306809  2.24961096  2.18972778 -0.5352764   2.66407055  2.31902062\n",
      "  0.83743427  1.45677692  2.42769328  2.03149685  3.29288895  2.92193395\n",
      "  1.98275482  2.63943439  3.7547426   1.31597481  1.43462662  2.55773934\n",
      "  2.77448822  2.17321991  1.35336457  3.10339225  0.80589141  1.6121974\n",
      "  1.87471744  1.69247121  3.99372704  1.47479782  1.57629916  1.87983624\n",
      "  1.16707087  1.07076193]\n"
     ]
    }
   ],
   "source": [
    "print(emb['the'])"
   ]
  },
  {
   "cell_type": "code",
   "execution_count": null,
   "id": "afb0d28d",
   "metadata": {},
   "outputs": [],
   "source": []
  }
 ],
 "metadata": {
  "kernelspec": {
   "display_name": "Python 3 (ipykernel)",
   "language": "python",
   "name": "python3"
  },
  "language_info": {
   "codemirror_mode": {
    "name": "ipython",
    "version": 3
   },
   "file_extension": ".py",
   "mimetype": "text/x-python",
   "name": "python",
   "nbconvert_exporter": "python",
   "pygments_lexer": "ipython3",
   "version": "3.8.11"
  }
 },
 "nbformat": 4,
 "nbformat_minor": 5
}
