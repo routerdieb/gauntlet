{
 "cells": [
  {
   "cell_type": "markdown",
   "id": "27918d65",
   "metadata": {},
   "source": [
    "## Math test"
   ]
  },
  {
   "cell_type": "code",
   "execution_count": 32,
   "id": "c4c51efd",
   "metadata": {},
   "outputs": [],
   "source": [
    "import tensorflow as tf\n",
    "import numpy as np\n",
    "\n",
    "vocab_size = 4"
   ]
  },
  {
   "cell_type": "code",
   "execution_count": 33,
   "id": "235e31b1",
   "metadata": {},
   "outputs": [
    {
     "name": "stdout",
     "output_type": "stream",
     "text": [
      "[[0.51651828 0.98492998 0.41675324 0.16747722]]\n"
     ]
    }
   ],
   "source": [
    "ones_simetral = tf.ones(\n",
    "    (4,4), dtype=tf.dtypes.float32, name=None\n",
    ")\n",
    "\n",
    "bias = np.random.rand(1,4)\n",
    "print(bias)\n",
    "tf_bias = tf.convert_to_tensor(bias, np.float32)"
   ]
  },
  {
   "cell_type": "code",
   "execution_count": 34,
   "id": "dfe98048",
   "metadata": {},
   "outputs": [
    {
     "name": "stdout",
     "output_type": "stream",
     "text": [
      "tf.Tensor(\n",
      "[[0.5165183  0.98493    0.41675323 0.16747722]\n",
      " [0.5165183  0.98493    0.41675323 0.16747722]\n",
      " [0.5165183  0.98493    0.41675323 0.16747722]\n",
      " [0.5165183  0.98493    0.41675323 0.16747722]], shape=(4, 4), dtype=float32)\n"
     ]
    }
   ],
   "source": [
    "print(tf_bias * ones_simetral)\n",
    "tf_bias_matrix = tf_bias * ones_simetral"
   ]
  },
  {
   "cell_type": "code",
   "execution_count": 35,
   "id": "42edb5aa",
   "metadata": {},
   "outputs": [],
   "source": [
    "bias_tilde = np.random.rand(4,1)\n",
    "tf_bias_tilde =  tf.convert_to_tensor(bias_tilde, np.float32)\n",
    "tf.convert_to_tensor(bias_tilde, np.float32)\n",
    "tf_bias_tilde_matrix = tf_bias_tilde * ones_simetral"
   ]
  },
  {
   "cell_type": "code",
   "execution_count": 36,
   "id": "fa4ea026",
   "metadata": {},
   "outputs": [
    {
     "name": "stdout",
     "output_type": "stream",
     "text": [
      "tf.Tensor(\n",
      "[[0.30603155 0.30603155 0.30603155 0.30603155]\n",
      " [0.1455464  0.1455464  0.1455464  0.1455464 ]\n",
      " [0.5700906  0.5700906  0.5700906  0.5700906 ]\n",
      " [0.5865859  0.5865859  0.5865859  0.5865859 ]], shape=(4, 4), dtype=float32)\n"
     ]
    }
   ],
   "source": [
    "print(tf_bias_tilde_matrix)"
   ]
  },
  {
   "cell_type": "code",
   "execution_count": 37,
   "id": "1b9c4051",
   "metadata": {},
   "outputs": [
    {
     "name": "stdout",
     "output_type": "stream",
     "text": [
      "tf.Tensor(\n",
      "[[0.7885684  0.24079955 0.6829226  0.26586384]\n",
      " [0.55431426 0.48934752 0.1861488  0.17555568]\n",
      " [0.0985202  0.51888245 0.8480149  0.95098037]\n",
      " [0.339321   0.21398328 0.54924995 0.9360284 ]], shape=(4, 4), dtype=float32)\n",
      "tf.Tensor(\n",
      "[[-0.23753616 -1.4237905  -0.38137376 -1.324771  ]\n",
      " [-0.5900235  -0.7146824  -1.6812088  -1.739799  ]\n",
      " [-2.3174937  -0.6560779  -0.16485709 -0.05026186]\n",
      " [-1.0808088  -1.5418574  -0.5992017  -0.06610944]], shape=(4, 4), dtype=float32)\n"
     ]
    }
   ],
   "source": [
    "tf_X = tf.convert_to_tensor(np.random.rand(4,4),dtype=np.float32)\n",
    "print(tf_X)\n",
    "log_X = tf.math.log(tf_X)\n",
    "print(log_X)"
   ]
  },
  {
   "cell_type": "code",
   "execution_count": 38,
   "id": "b45cb271",
   "metadata": {},
   "outputs": [
    {
     "name": "stdout",
     "output_type": "stream",
     "text": [
      "tf.Tensor(\n",
      "[[0.9572906  0.32148942]\n",
      " [0.5651821  0.2890979 ]\n",
      " [0.54339063 0.18003087]\n",
      " [0.09952864 0.33400756]], shape=(4, 2), dtype=float32)\n",
      "tf.Tensor(\n",
      "[[0.21928656 0.9226896  0.76965404 0.7426393 ]\n",
      " [0.05408794 0.7736892  0.3551617  0.20436336]], shape=(2, 4), dtype=float32)\n",
      "tf.Tensor(\n",
      "[[0.22730966 1.132015   0.8509633  0.7766223 ]\n",
      " [0.13957354 0.74515957 0.53767115 0.47880745]\n",
      " [0.12889576 0.64066887 0.48216286 0.44033495]\n",
      " [0.03989107 0.3502521  0.19522932 0.14217278]], shape=(4, 4), dtype=float32)\n"
     ]
    }
   ],
   "source": [
    "dims_embedding = 2\n",
    "weights = np.random.rand(4,dims_embedding)\n",
    "tf_weights = tf.convert_to_tensor(weights, np.float32)\n",
    "\n",
    "weights_tilde = np.random.rand(dims_embedding,4)\n",
    "tf_weights_tilde = tf.convert_to_tensor(weights_tilde, np.float32)\n",
    "\n",
    "print(tf_weights)\n",
    "print(tf_weights_tilde)\n",
    "product = tf.matmul(tf_weights,tf_weights_tilde)\n",
    "print(product)"
   ]
  },
  {
   "cell_type": "code",
   "execution_count": 39,
   "id": "7bef3e50",
   "metadata": {},
   "outputs": [
    {
     "name": "stdout",
     "output_type": "stream",
     "text": [
      "tf.Tensor(\n",
      "[[1.0498595  2.4229765  1.5737481  1.2501311 ]\n",
      " [0.80163825 1.875636   1.0999708  0.79183114]\n",
      " [1.2155046  2.1956894  1.4690068  1.1779027 ]\n",
      " [1.1429952  1.921768   1.1985685  0.8962359 ]], shape=(4, 4), dtype=float32)\n",
      "tf.Tensor(\n",
      "[[-0.23753616 -1.4237905  -0.38137376 -1.324771  ]\n",
      " [-0.5900235  -0.7146824  -1.6812088  -1.739799  ]\n",
      " [-2.3174937  -0.6560779  -0.16485709 -0.05026186]\n",
      " [-1.0808088  -1.5418574  -0.5992017  -0.06610944]], shape=(4, 4), dtype=float32)\n"
     ]
    }
   ],
   "source": [
    "summed_all = product + tf_bias_matrix + tf_bias_tilde_matrix\n",
    "print(summed_all)\n",
    "print(log_X)"
   ]
  },
  {
   "cell_type": "code",
   "execution_count": 59,
   "id": "2338746a",
   "metadata": {},
   "outputs": [
    {
     "name": "stdout",
     "output_type": "stream",
     "text": [
      "tf.Tensor(\n",
      "[[1.2873957 3.846767  1.9551219 2.574902 ]\n",
      " [1.3916618 2.5903184 2.7811797 2.53163  ]\n",
      " [3.5329983 2.8517673 1.6338639 1.2281646]\n",
      " [2.223804  3.4636254 1.7977701 0.9623453]], shape=(4, 4), dtype=float32)\n"
     ]
    }
   ],
   "source": [
    "print(summed_all - log_X)\n",
    "subtracted = summed_all - log_X"
   ]
  },
  {
   "cell_type": "code",
   "execution_count": 60,
   "id": "259541f2",
   "metadata": {},
   "outputs": [
    {
     "name": "stdout",
     "output_type": "stream",
     "text": [
      "tf.Tensor(36.653313, shape=(), dtype=float32)\n"
     ]
    }
   ],
   "source": [
    "print(tf.math.reduce_sum(summed_all - log_X))"
   ]
  },
  {
   "cell_type": "code",
   "execution_count": 61,
   "id": "a559ed0d",
   "metadata": {},
   "outputs": [],
   "source": [
    "XMAX = 100\n",
    "def cut_function(value):\n",
    "    if value > XMAX:\n",
    "        return 1\n",
    "    else:\n",
    "        return tf.math.pow(tf.divide(value,XMAX),alpha)\n",
    "    \n",
    "def cut_function2(value):\n",
    "    clipped = tf.clip_by_value(value, clip_value_min = 0, clip_value_max=XMAX)\n",
    "    print(clipped)\n",
    "    return clipped / XMAX"
   ]
  },
  {
   "cell_type": "code",
   "execution_count": 67,
   "id": "66938a9a",
   "metadata": {},
   "outputs": [
    {
     "name": "stdout",
     "output_type": "stream",
     "text": [
      "tf.Tensor(\n",
      "[[120.83332    72.18738    76.18646   110.489845 ]\n",
      " [ 66.97272    85.3959    116.52585   123.14903  ]\n",
      " [ 21.214632   57.642494    1.9219834  51.093456 ]\n",
      " [  7.6039257 126.168015   55.36778    71.96442  ]], shape=(4, 4), dtype=float32)\n",
      "tf.Tensor(\n",
      "[[100.         72.18738    76.18646   100.       ]\n",
      " [ 66.97272    85.3959    100.        100.       ]\n",
      " [ 21.214632   57.642494    1.9219834  51.093456 ]\n",
      " [  7.6039257 100.         55.36778    71.96442  ]], shape=(4, 4), dtype=float32)\n",
      "tf.Tensor(\n",
      "[[1.         0.72187376 0.7618646  1.        ]\n",
      " [0.66972715 0.85395896 1.         1.        ]\n",
      " [0.21214633 0.57642496 0.01921983 0.5109346 ]\n",
      " [0.07603925 1.         0.5536778  0.7196442 ]], shape=(4, 4), dtype=float32)\n",
      "tf.Tensor(\n",
      "[[100.         72.18738    76.18646   100.       ]\n",
      " [ 66.97272    85.3959    100.        100.       ]\n",
      " [ 21.214632   57.642494    1.9219834  51.093456 ]\n",
      " [  7.6039257 100.         55.36778    71.96442  ]], shape=(4, 4), dtype=float32)\n",
      "tf.Tensor(54.422104, shape=(), dtype=float32)\n"
     ]
    }
   ],
   "source": [
    "X = tf.convert_to_tensor(np.random.rand(4,4)*130,dtype=np.float32)\n",
    "print(X)\n",
    "print(cut_function2(X))\n",
    "    \n",
    "end = tf.math.square(subtracted - cut_function2(X))\n",
    "loss = tf.math.reduce_sum(end)\n",
    "print(loss)"
   ]
  },
  {
   "cell_type": "code",
   "execution_count": 69,
   "id": "13cfb0f6",
   "metadata": {},
   "outputs": [
    {
     "data": {
      "text/plain": [
       "<tf.Tensor: shape=(2, 2), dtype=int32, numpy=\n",
       "array([[ 256,  256],\n",
       "       [6561, 6561]])>"
      ]
     },
     "execution_count": 69,
     "metadata": {},
     "output_type": "execute_result"
    }
   ],
   "source": [
    "x = tf.constant([[2, 2], [3, 3]])\n",
    "y = tf.constant([8])\n",
    "tf.pow(x, y)  # [[256, 65536], [9, 27]]"
   ]
  },
  {
   "cell_type": "code",
   "execution_count": 77,
   "id": "0367716f",
   "metadata": {},
   "outputs": [
    {
     "data": {
      "text/plain": [
       "<tf.Tensor: shape=(2, 2), dtype=float32, numpy=\n",
       "array([[1.e-04, 1.e-04],\n",
       "       [1.e-04, 1.e-04]], dtype=float32)>"
      ]
     },
     "execution_count": 77,
     "metadata": {},
     "output_type": "execute_result"
    }
   ],
   "source": [
    "import numpy as np\n",
    "tf.constant(0.0001) * tf.constant([[1.,1],[1.,1]])"
   ]
  },
  {
   "cell_type": "code",
   "execution_count": null,
   "id": "f1a8e5c3",
   "metadata": {},
   "outputs": [],
   "source": [
    "for i in range(0,1821):\n",
    "    if(i % 10 == 0):\n",
    "        print(\"10 zeilen geprüft\")\n",
    "    for j in range(0,1821):\n",
    "        if(matrix[i,j] != matrix2[i,j]):\n",
    "            print('Error')\n",
    "        else:\n",
    "            pass\n",
    "        "
   ]
  }
 ],
 "metadata": {
  "kernelspec": {
   "display_name": "Python 3",
   "language": "python",
   "name": "python3"
  },
  "language_info": {
   "codemirror_mode": {
    "name": "ipython",
    "version": 3
   },
   "file_extension": ".py",
   "mimetype": "text/x-python",
   "name": "python",
   "nbconvert_exporter": "python",
   "pygments_lexer": "ipython3",
   "version": "3.8.10"
  }
 },
 "nbformat": 4,
 "nbformat_minor": 5
}
