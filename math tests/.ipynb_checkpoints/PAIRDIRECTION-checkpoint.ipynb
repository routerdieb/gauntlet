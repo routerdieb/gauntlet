{
 "cells": [
  {
   "cell_type": "code",
   "execution_count": 2,
   "id": "aef5c5ae",
   "metadata": {},
   "outputs": [],
   "source": [
    "import h5py\n",
    "import os\n",
    "os.environ['TF_CPP_MIN_LOG_LEVEL'] = '0'\n",
    "os.environ[\"CUDA_VISIBLE_DEVICES\"] = \"-1\"    \n",
    "import tensorflow as tf\n",
    "import sys\n",
    "sys.path.append(\"..\")\n",
    "from Vocabulary import *\n",
    "import math\n",
    "import numpy as np"
   ]
  },
  {
   "cell_type": "code",
   "execution_count": 6,
   "id": "3daa1722",
   "metadata": {},
   "outputs": [
    {
     "name": "stdout",
     "output_type": "stream",
     "text": [
      "tf.Tensor(\n",
      "[[1.         0.26726124 0.06740297]\n",
      " [0.         0.5345225  0.13480593]\n",
      " [0.         0.8017837  0.9885769 ]], shape=(3, 3), dtype=float32)\n",
      "[[1.0], [3], [33]]\n",
      "tf.Tensor(\n",
      "[[1.         0.26726127 0.06740297]\n",
      " [0.         0.53452253 0.13480593]\n",
      " [0.         0.8017838  0.9885769 ]], shape=(3, 3), dtype=float32)\n"
     ]
    },
    {
     "data": {
      "text/plain": [
       "<tf.Tensor: shape=(3, 3), dtype=float32, numpy=\n",
       "array([[ 0.0000000e+00, -2.9802322e-08,  0.0000000e+00],\n",
       "       [ 0.0000000e+00, -5.9604645e-08,  0.0000000e+00],\n",
       "       [ 0.0000000e+00, -1.1920929e-07,  0.0000000e+00]], dtype=float32)>"
      ]
     },
     "execution_count": 6,
     "metadata": {},
     "output_type": "execute_result"
    }
   ],
   "source": [
    "w = [[1.0,2,3],[0,4,6],[0,6,44]]\n",
    "w = tf.nn.l2_normalize(w,axis = 0)\n",
    "print(w)\n",
    "a = [[1.0],[3],[33]]\n",
    "print(a)\n",
    "a = tf.nn.l2_normalize(w,axis = 1)\n",
    "print(a)\n",
    "w - a"
   ]
  },
  {
   "cell_type": "code",
   "execution_count": null,
   "id": "56b8e079",
   "metadata": {},
   "outputs": [],
   "source": [
    "def predict_pair_direction(vocab,a,a_star,b,weights):\n",
    "    id_a = vocab.get_ids([a])[0]\n",
    "    id_b = vocab.get_ids([b])[0]\n",
    "    id_a_star = vocab.get_ids([a_star])[0]\n",
    "    weight_a = weights_normalized[id_a]\n",
    "    weight_b = weights_normalized[id_b]\n",
    "    weight_a_star = weights_normalized[id_a_star]\n",
    "    \n",
    "    vector_direction1 = ( weight_a_star - weight_a)\n",
    "    vector_direction2 = ( weight_a_star - weight_a)\n",
    "    "
   ]
  }
 ],
 "metadata": {
  "kernelspec": {
   "display_name": "Python 3",
   "language": "python",
   "name": "python3"
  },
  "language_info": {
   "codemirror_mode": {
    "name": "ipython",
    "version": 3
   },
   "file_extension": ".py",
   "mimetype": "text/x-python",
   "name": "python",
   "nbconvert_exporter": "python",
   "pygments_lexer": "ipython3",
   "version": "3.8.10"
  }
 },
 "nbformat": 4,
 "nbformat_minor": 5
}
