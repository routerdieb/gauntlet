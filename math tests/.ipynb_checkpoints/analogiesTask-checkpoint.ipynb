{
 "cells": [
  {
   "cell_type": "code",
   "execution_count": 6,
   "id": "c33c667d",
   "metadata": {},
   "outputs": [
    {
     "name": "stdout",
     "output_type": "stream",
     "text": [
      ": capital-world\n",
      "\n",
      ": currency\n",
      "\n",
      ": city-in-state\n",
      "\n",
      ": family\n",
      "\n",
      ": gram1-adjective-to-adverb\n",
      "\n",
      ": gram2-opposite\n",
      "\n",
      ": gram3-comparative\n",
      "\n",
      ": gram6-nationality-adjective\n",
      "\n"
     ]
    }
   ],
   "source": [
    "with open(r'..\\datasets\\miklov Analogies.txt') as file:\n",
    "    for line in file:\n",
    "        if line.startswith(\":\"):\n",
    "            print(line)"
   ]
  },
  {
   "cell_type": "code",
   "execution_count": 9,
   "id": "0c728763",
   "metadata": {},
   "outputs": [
    {
     "name": "stdout",
     "output_type": "stream",
     "text": [
      "abuja nigeria accra\n"
     ]
    }
   ],
   "source": [
    "count_sucess = 0\n",
    "count_unsucessful = 0\n",
    "with open(r'..\\datasets\\miklov Analogies.txt') as file:\n",
    "    for line in file:\n",
    "        if line.startswith(\":\"):\n",
    "            pass\n",
    "        else:\n",
    "            a,a_star,b,b_star = line.split(\" \")\n",
    "            print(a,a_star,b)\n",
    "            if(predict(a,a_star,b) == b_star):\n",
    "                print(\"hurray\")\n",
    "                count_sucess += 1\n",
    "            else:\n",
    "                count_unsucessful += 1\n",
    "            break\n",
    "print(count_sucess,count_unsucessful)\n",
    "print(count_sucess/count_unsucessful * 100)"
   ]
  },
  {
   "cell_type": "code",
   "execution_count": null,
   "id": "33658189",
   "metadata": {},
   "outputs": [],
   "source": []
  }
 ],
 "metadata": {
  "kernelspec": {
   "display_name": "Python 3",
   "language": "python",
   "name": "python3"
  },
  "language_info": {
   "codemirror_mode": {
    "name": "ipython",
    "version": 3
   },
   "file_extension": ".py",
   "mimetype": "text/x-python",
   "name": "python",
   "nbconvert_exporter": "python",
   "pygments_lexer": "ipython3",
   "version": "3.8.10"
  }
 },
 "nbformat": 4,
 "nbformat_minor": 5
}
