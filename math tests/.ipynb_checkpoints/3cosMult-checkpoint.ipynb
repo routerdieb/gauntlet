{
 "cells": [
  {
   "cell_type": "markdown",
   "id": "0003903a",
   "metadata": {},
   "source": [
    "3cosMult = fast_cosine_sim(b_star,a_star) * fast_cosine_sim(b_star,a) / fast_cosine_sim(b*,b)+0.0001"
   ]
  },
  {
   "cell_type": "code",
   "execution_count": 1,
   "id": "fc60d6e7",
   "metadata": {},
   "outputs": [],
   "source": [
    "import h5py\n",
    "import os\n",
    "os.environ['TF_CPP_MIN_LOG_LEVEL'] = '0'\n",
    "os.environ[\"CUDA_VISIBLE_DEVICES\"] = \"-1\"    \n",
    "import tensorflow as tf\n",
    "import sys\n",
    "sys.path.append(\"..\")\n",
    "from Vocabulary import *\n",
    "import math\n",
    "import numpy as np"
   ]
  },
  {
   "cell_type": "code",
   "execution_count": 31,
   "id": "21883300",
   "metadata": {},
   "outputs": [],
   "source": [
    "def predict_three_cos_mult(vocab,weights,a,a_star,b):\n",
    "    id_a = vocab.get_ids([a])[0]\n",
    "    id_b = vocab.get_ids([b])[0]\n",
    "    id_a_star = vocab.get_ids([a_star])[0]\n",
    "    weight_a = weights_normalized[id_a]\n",
    "    weight_b = weights_normalized[id_b]\n",
    "    weight_a_star = weights_normalized[id_a_star]\n",
    "    \n",
    "    nominator = tf.tensordot(weights,weight_a_star,axes=1)\n",
    "    print(nominator.shape)\n",
    "    nominator = nominator * tf.tensordot(weights,weight_b,axes=1)\n",
    "    print(nominator.shape)   \n",
    "    donominator = tf.tensordot(weights,weight_a,axes=1) + 0.0001\n",
    "    print(donominator.shape)  \n",
    "    results = nominator / donominator\n",
    "    results = tf.math.l2_normalize(results)\n",
    "    index = np.argmax(results, axis=0, out=None)\n",
    "    return vocab.id2Word[index]\n",
    "    \n",
    "    \n",
    "    "
   ]
  },
  {
   "cell_type": "code",
   "execution_count": 17,
   "id": "4a7ff338",
   "metadata": {},
   "outputs": [
    {
     "name": "stdout",
     "output_type": "stream",
     "text": [
      "191\n"
     ]
    }
   ],
   "source": [
    "\n",
    "vocab = Vocabulary()\n",
    "vocab.load('../vocabs/text8_filtered100')\n",
    "\n",
    "matrix_nr = vocab.get_ids(['man'])[0]\n",
    "print(matrix_nr)\n",
    "\n",
    "#hdf_file = h5py.File('testRunCleanSplitted300.hdf5', 'r')\n",
    "hdf_file = h5py.File('S:\\\\testRunCleanSplitted300.hdf5','r')\n",
    "weights = hdf_file.get('weights')\n",
    "weights = weights[:]\n",
    "context_weights = hdf_file.get('context-weights')"
   ]
  },
  {
   "cell_type": "code",
   "execution_count": 32,
   "id": "f4f6f5c4",
   "metadata": {},
   "outputs": [
    {
     "name": "stdout",
     "output_type": "stream",
     "text": [
      "(11815,)\n",
      "(11815,)\n",
      "(11815,)\n",
      "aug\n",
      "(11815,)\n",
      "(11815,)\n",
      "(11815,)\n",
      "memoir\n",
      "(11815,)\n",
      "(11815,)\n",
      "(11815,)\n",
      "spanning\n",
      "(11815,)\n",
      "(11815,)\n",
      "(11815,)\n",
      "two\n"
     ]
    }
   ],
   "source": [
    "weights_normalized = tf.nn.l2_normalize(weights,axis = 0)\n",
    "print(predict_three_cos_mult(vocab,weights_normalized,'small','smaller','weak'))\n",
    "print(predict_three_cos_mult(vocab,weights_normalized,'big','bigger','small'))\n",
    "print(predict_three_cos_mult(vocab,weights_normalized,'germany','berlin','france'))\n",
    "print(predict_three_cos_mult(vocab,weights_normalized,'one','two','three'))"
   ]
  },
  {
   "cell_type": "code",
   "execution_count": 34,
   "id": "01a0ff41",
   "metadata": {},
   "outputs": [
    {
     "data": {
      "text/plain": [
       "<tf.Tensor: shape=(), dtype=float32, numpy=0.0027687547>"
      ]
     },
     "execution_count": 34,
     "metadata": {},
     "output_type": "execute_result"
    }
   ],
   "source": [
    "tf.tensordot(weights_normalized[ vocab.get_ids(['aug'])[0]],weights_normalized[vocab.get_ids(['weaker'])[0]],axes=1)"
   ]
  },
  {
   "cell_type": "code",
   "execution_count": 35,
   "id": "8ba2e205",
   "metadata": {},
   "outputs": [
    {
     "data": {
      "text/plain": [
       "<tf.Tensor: shape=(), dtype=float32, numpy=0.037802625>"
      ]
     },
     "execution_count": 35,
     "metadata": {},
     "output_type": "execute_result"
    }
   ],
   "source": [
    "tf.tensordot(weights_normalized[ vocab.get_ids(['two'])[0]],weights_normalized[vocab.get_ids(['four'])[0]],axes=1)"
   ]
  },
  {
   "cell_type": "code",
   "execution_count": 36,
   "id": "de2bbcad",
   "metadata": {},
   "outputs": [
    {
     "data": {
      "text/plain": [
       "<tf.Tensor: shape=(), dtype=float32, numpy=0.03646429>"
      ]
     },
     "execution_count": 36,
     "metadata": {},
     "output_type": "execute_result"
    }
   ],
   "source": [
    "tf.tensordot(weights_normalized[ vocab.get_ids(['three'])[0]],weights_normalized[vocab.get_ids(['four'])[0]],axes=1)"
   ]
  },
  {
   "cell_type": "code",
   "execution_count": 37,
   "id": "09a1c0ed",
   "metadata": {},
   "outputs": [
    {
     "data": {
      "text/plain": [
       "<tf.Tensor: shape=(), dtype=float32, numpy=0.0028322511>"
      ]
     },
     "execution_count": 37,
     "metadata": {},
     "output_type": "execute_result"
    }
   ],
   "source": [
    "tf.tensordot(weights_normalized[ vocab.get_ids(['paris'])[0]],weights_normalized[vocab.get_ids(['spanning'])[0]],axes=1)"
   ]
  },
  {
   "cell_type": "code",
   "execution_count": 38,
   "id": "f789770a",
   "metadata": {},
   "outputs": [
    {
     "data": {
      "text/plain": [
       "<tf.Tensor: shape=(), dtype=float32, numpy=0.009091675>"
      ]
     },
     "execution_count": 38,
     "metadata": {},
     "output_type": "execute_result"
    }
   ],
   "source": [
    "tf.tensordot(weights_normalized[ vocab.get_ids(['paris'])[0]],weights_normalized[vocab.get_ids(['berlin'])[0]],axes=1)"
   ]
  },
  {
   "cell_type": "code",
   "execution_count": null,
   "id": "d2776a7c",
   "metadata": {},
   "outputs": [],
   "source": []
  }
 ],
 "metadata": {
  "kernelspec": {
   "display_name": "Python 3",
   "language": "python",
   "name": "python3"
  },
  "language_info": {
   "codemirror_mode": {
    "name": "ipython",
    "version": 3
   },
   "file_extension": ".py",
   "mimetype": "text/x-python",
   "name": "python",
   "nbconvert_exporter": "python",
   "pygments_lexer": "ipython3",
   "version": "3.8.10"
  }
 },
 "nbformat": 4,
 "nbformat_minor": 5
}
