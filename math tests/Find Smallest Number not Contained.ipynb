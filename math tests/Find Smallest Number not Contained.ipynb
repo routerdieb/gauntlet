{
 "cells": [
  {
   "cell_type": "code",
   "execution_count": 1,
   "id": "29320050",
   "metadata": {},
   "outputs": [],
   "source": [
    "import gensim.downloader as api\n",
    "#dataset = api.load(\"text8\")\n",
    "import math\n",
    "import numpy as np\n",
    "import h5py\n",
    "import os\n",
    "os.environ['TF_CPP_MIN_LOG_LEVEL'] = '0'\n",
    "os.environ[\"CUDA_VISIBLE_DEVICES\"] = \"-1\"  \n",
    "import sys\n",
    "sys.path.append(\"..\")\n",
    "import tensorflow as tf\n",
    "from Vocabulary import *\n",
    "import time\n",
    "tf.keras.backend.clear_session()\n",
    "import csv\n",
    "import cloudpickle\n",
    "from csv_writer import *"
   ]
  },
  {
   "cell_type": "code",
   "execution_count": null,
   "id": "38615477",
   "metadata": {},
   "outputs": [],
   "source": [
    "pip install num2words\n"
   ]
  },
  {
   "cell_type": "code",
   "execution_count": 10,
   "id": "90d2ebd7",
   "metadata": {},
   "outputs": [
    {
     "name": "stdout",
     "output_type": "stream",
     "text": [
      "Collecting word2number\n",
      "  Downloading word2number-1.1.zip (9.7 kB)\n",
      "Building wheels for collected packages: word2number\n",
      "  Building wheel for word2number (setup.py): started\n",
      "  Building wheel for word2number (setup.py): finished with status 'done'\n",
      "  Created wheel for word2number: filename=word2number-1.1-py3-none-any.whl size=5586 sha256=0876f193534b5be77faeb018db140239660e03d25f4d49ef1b81d52a84466522\n",
      "  Stored in directory: c:\\users\\weso\\appdata\\local\\pip\\cache\\wheels\\cb\\f3\\5a\\d88198fdeb46781ddd7e7f2653061af83e7adb2a076d8886d6\n",
      "Successfully built word2number\n",
      "Installing collected packages: word2number\n",
      "Successfully installed word2number-1.1\n",
      "Note: you may need to restart the kernel to use updated packages.\n"
     ]
    }
   ],
   "source": [
    "pip install word2number"
   ]
  },
  {
   "cell_type": "code",
   "execution_count": 7,
   "id": "fa4b534f",
   "metadata": {},
   "outputs": [],
   "source": [
    "from num2words import num2words\n",
    "\n",
    "vocab = Vocabulary()\n",
    "vocab.load('..\\\\vocabs\\\\unfilteredbase_vocabulary')\n",
    "\n",
    "count = 0\n",
    "for integer in range(0,100000):\n",
    "    string = str(integer)\n",
    "    if string in vocab.word_frequency:\n",
    "        count += 1\n",
    "    string_numword = num2words(integer)\n",
    "    if string_numword in vocab.word_frequency:\n",
    "        count += 1\n",
    "    elif string_numword.replace(\"-\",\"\") in vocab.word_frequency:\n",
    "        count += 1\n",
    "    \n",
    "    \n",
    "    string_ordinal = num2words(integer, to = 'ordinal')\n",
    "    if string_ordinal in vocab.word_frequency:\n",
    "        count += 1\n",
    "    elif string_ordinal.replace(\"-\",\"\") in vocab.word_frequency:\n",
    "        count += 1\n",
    "    string_ordinal_num = num2words(integer, to = 'ordinal_num')\n",
    "     \n",
    "    if string_ordinal_num in vocab.word_frequency:\n",
    "        count += 1\n",
    "    if string + 's' in vocab.word_frequency:\n",
    "        count += 1"
   ]
  },
  {
   "cell_type": "code",
   "execution_count": 8,
   "id": "b5e21f96",
   "metadata": {},
   "outputs": [
    {
     "name": "stdout",
     "output_type": "stream",
     "text": [
      "40441\n"
     ]
    }
   ],
   "source": [
    "print(count)"
   ]
  },
  {
   "cell_type": "code",
   "execution_count": 18,
   "id": "659cf0eb",
   "metadata": {},
   "outputs": [
    {
     "name": "stdout",
     "output_type": "stream",
     "text": [
      "4589\n"
     ]
    }
   ],
   "source": [
    "vocab = Vocabulary()\n",
    "vocab.load('..\\\\vocabs\\\\base_vocabulary')\n",
    "count2 = 0\n",
    "for word in vocab.word2Id:\n",
    "    try:\n",
    "        f = float(word)\n",
    "        count2 +=1\n",
    "    except:\n",
    "        pass\n",
    "    if word.endswith('s'):\n",
    "        length = len(word)\n",
    "        word2 = word[0:length-1]\n",
    "        try:\n",
    "            f = float(word2)\n",
    "            count2 += 1\n",
    "        except:\n",
    "            pass\n",
    "    elif word.endswith('th'):\n",
    "        length = len(word)\n",
    "        word2 = word[0:length-2]\n",
    "        try:\n",
    "            f = float(word2)\n",
    "            count2 += 1\n",
    "        except:\n",
    "            pass\n",
    "print(count2)"
   ]
  },
  {
   "cell_type": "code",
   "execution_count": null,
   "id": "94db69c9",
   "metadata": {},
   "outputs": [],
   "source": []
  }
 ],
 "metadata": {
  "kernelspec": {
   "display_name": "Python 3",
   "language": "python",
   "name": "python3"
  },
  "language_info": {
   "codemirror_mode": {
    "name": "ipython",
    "version": 3
   },
   "file_extension": ".py",
   "mimetype": "text/x-python",
   "name": "python",
   "nbconvert_exporter": "python",
   "pygments_lexer": "ipython3",
   "version": "3.8.10"
  }
 },
 "nbformat": 4,
 "nbformat_minor": 5
}
