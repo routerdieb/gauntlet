{
 "cells": [
  {
   "cell_type": "markdown",
   "id": "27918d65",
   "metadata": {},
   "source": [
    "## Math test"
   ]
  },
  {
   "cell_type": "code",
   "execution_count": 1,
   "id": "c4c51efd",
   "metadata": {},
   "outputs": [],
   "source": [
    "import tensorflow as tf\n",
    "import numpy as np\n",
    "\n",
    "vocab_size = 4"
   ]
  },
  {
   "cell_type": "code",
   "execution_count": 2,
   "id": "235e31b1",
   "metadata": {},
   "outputs": [
    {
     "name": "stdout",
     "output_type": "stream",
     "text": [
      "[[0.16140465 0.17821371 0.03777957 0.94126967]]\n"
     ]
    }
   ],
   "source": [
    "ones_simetral = tf.ones(\n",
    "    (4,4), dtype=tf.dtypes.float32, name=None\n",
    ")\n",
    "\n",
    "bias = np.random.rand(1,4)\n",
    "print(bias)\n",
    "tf_bias = tf.convert_to_tensor(bias, np.float32)"
   ]
  },
  {
   "cell_type": "code",
   "execution_count": 3,
   "id": "dfe98048",
   "metadata": {},
   "outputs": [
    {
     "name": "stdout",
     "output_type": "stream",
     "text": [
      "tf.Tensor(\n",
      "[[0.16140465 0.17821372 0.03777957 0.9412697 ]\n",
      " [0.16140465 0.17821372 0.03777957 0.9412697 ]\n",
      " [0.16140465 0.17821372 0.03777957 0.9412697 ]\n",
      " [0.16140465 0.17821372 0.03777957 0.9412697 ]], shape=(4, 4), dtype=float32)\n"
     ]
    }
   ],
   "source": [
    "print(tf_bias * ones_simetral)\n",
    "tf_bias_matrix = tf_bias * ones_simetral"
   ]
  },
  {
   "cell_type": "code",
   "execution_count": 4,
   "id": "42edb5aa",
   "metadata": {},
   "outputs": [],
   "source": [
    "bias_tilde = np.random.rand(4,1)\n",
    "tf_bias_tilde =  tf.convert_to_tensor(bias_tilde, np.float32)\n",
    "tf.convert_to_tensor(bias_tilde, np.float32)\n",
    "tf_bias_tilde_matrix = tf_bias_tilde * ones_simetral"
   ]
  },
  {
   "cell_type": "code",
   "execution_count": 5,
   "id": "fa4ea026",
   "metadata": {},
   "outputs": [
    {
     "name": "stdout",
     "output_type": "stream",
     "text": [
      "tf.Tensor(\n",
      "[[0.95383364 0.95383364 0.95383364 0.95383364]\n",
      " [0.48047218 0.48047218 0.48047218 0.48047218]\n",
      " [0.42680278 0.42680278 0.42680278 0.42680278]\n",
      " [0.557357   0.557357   0.557357   0.557357  ]], shape=(4, 4), dtype=float32)\n"
     ]
    }
   ],
   "source": [
    "print(tf_bias_tilde_matrix)"
   ]
  },
  {
   "cell_type": "code",
   "execution_count": 6,
   "id": "1b9c4051",
   "metadata": {},
   "outputs": [
    {
     "name": "stdout",
     "output_type": "stream",
     "text": [
      "tf.Tensor(\n",
      "[[0.554553   0.42607072 0.92048657 0.7832533 ]\n",
      " [0.96518916 0.99702406 0.02915673 0.8013419 ]\n",
      " [0.48126677 0.13028724 0.6014964  0.84369093]\n",
      " [0.3789324  0.05614571 0.39688057 0.70687234]], shape=(4, 4), dtype=float32)\n",
      "tf.Tensor(\n",
      "[[-5.8959293e-01 -8.5314995e-01 -8.2852870e-02 -2.4429911e-01]\n",
      " [-3.5431176e-02 -2.9803775e-03 -3.5350697e+00 -2.2146760e-01]\n",
      " [-7.3133355e-01 -2.0380137e+00 -5.0833476e-01 -1.6996905e-01]\n",
      " [-9.7039747e-01 -2.8798048e+00 -9.2411989e-01 -3.4690520e-01]], shape=(4, 4), dtype=float32)\n"
     ]
    }
   ],
   "source": [
    "tf_X = tf.convert_to_tensor(np.random.rand(4,4),dtype=np.float32)\n",
    "print(tf_X)\n",
    "log_X = tf.math.log(tf_X)\n",
    "print(log_X)"
   ]
  },
  {
   "cell_type": "code",
   "execution_count": 7,
   "id": "b45cb271",
   "metadata": {},
   "outputs": [
    {
     "name": "stdout",
     "output_type": "stream",
     "text": [
      "tf.Tensor(\n",
      "[[0.4114905  0.5435223 ]\n",
      " [0.25494236 0.1496242 ]\n",
      " [0.0902926  0.26695365]\n",
      " [0.7566002  0.41746986]], shape=(4, 2), dtype=float32)\n",
      "tf.Tensor(\n",
      "[[0.8370749  0.95883226 0.7403817  0.5383628 ]\n",
      " [0.3789384  0.69558614 0.85130167 0.7580074 ]], shape=(2, 4), dtype=float32)\n",
      "tf.Tensor(\n",
      "[[0.55040985 0.7726169  0.7673615  0.63352513]\n",
      " [0.2701042  0.3485235  0.31612998 0.25066775]\n",
      " [0.17674066 0.27226472 0.29410908 0.250963  ]\n",
      " [0.7915264  1.0158389  0.9155657  0.7237706 ]], shape=(4, 4), dtype=float32)\n"
     ]
    }
   ],
   "source": [
    "dims_embedding = 2\n",
    "weights = np.random.rand(4,dims_embedding)\n",
    "tf_weights = tf.convert_to_tensor(weights, np.float32)\n",
    "\n",
    "weights_tilde = np.random.rand(dims_embedding,4)\n",
    "tf_weights_tilde = tf.convert_to_tensor(weights_tilde, np.float32)\n",
    "\n",
    "print(tf_weights)\n",
    "print(tf_weights_tilde)\n",
    "product = tf.matmul(tf_weights,tf_weights_tilde)\n",
    "print(product)"
   ]
  },
  {
   "cell_type": "code",
   "execution_count": 8,
   "id": "7bef3e50",
   "metadata": {},
   "outputs": [
    {
     "name": "stdout",
     "output_type": "stream",
     "text": [
      "tf.Tensor(\n",
      "[[1.6656482  1.9046643  1.7589748  2.5286283 ]\n",
      " [0.911981   1.0072094  0.8343817  1.6724097 ]\n",
      " [0.7649481  0.8772812  0.75869143 1.6190355 ]\n",
      " [1.510288   1.7514095  1.5107024  2.2223973 ]], shape=(4, 4), dtype=float32)\n",
      "tf.Tensor(\n",
      "[[-5.8959293e-01 -8.5314995e-01 -8.2852870e-02 -2.4429911e-01]\n",
      " [-3.5431176e-02 -2.9803775e-03 -3.5350697e+00 -2.2146760e-01]\n",
      " [-7.3133355e-01 -2.0380137e+00 -5.0833476e-01 -1.6996905e-01]\n",
      " [-9.7039747e-01 -2.8798048e+00 -9.2411989e-01 -3.4690520e-01]], shape=(4, 4), dtype=float32)\n"
     ]
    }
   ],
   "source": [
    "summed_all = product + tf_bias_matrix + tf_bias_tilde_matrix\n",
    "print(summed_all)\n",
    "print(log_X)"
   ]
  },
  {
   "cell_type": "code",
   "execution_count": 9,
   "id": "2338746a",
   "metadata": {},
   "outputs": [
    {
     "name": "stdout",
     "output_type": "stream",
     "text": [
      "tf.Tensor(\n",
      "[[2.2552412  2.7578142  1.8418276  2.7729275 ]\n",
      " [0.94741213 1.0101898  4.3694515  1.8938773 ]\n",
      " [1.4962816  2.915295   1.2670262  1.7890046 ]\n",
      " [2.4806855  4.631214   2.4348223  2.5693026 ]], shape=(4, 4), dtype=float32)\n"
     ]
    }
   ],
   "source": [
    "print(summed_all - log_X)\n",
    "subtracted = summed_all - log_X"
   ]
  },
  {
   "cell_type": "code",
   "execution_count": 10,
   "id": "259541f2",
   "metadata": {},
   "outputs": [
    {
     "name": "stdout",
     "output_type": "stream",
     "text": [
      "tf.Tensor(37.432373, shape=(), dtype=float32)\n"
     ]
    }
   ],
   "source": [
    "print(tf.math.reduce_sum(summed_all - log_X))"
   ]
  },
  {
   "cell_type": "code",
   "execution_count": 11,
   "id": "a559ed0d",
   "metadata": {},
   "outputs": [],
   "source": [
    "XMAX = 100\n",
    "def cut_function(value):\n",
    "    if value > XMAX:\n",
    "        return 1\n",
    "    else:\n",
    "        return tf.math.pow(tf.divide(value,XMAX),alpha)\n",
    "    \n",
    "def cut_function2(value):\n",
    "    clipped = tf.clip_by_value(value, clip_value_min = 0, clip_value_max=XMAX)\n",
    "    print(clipped)\n",
    "    return clipped / XMAX"
   ]
  },
  {
   "cell_type": "code",
   "execution_count": 12,
   "id": "66938a9a",
   "metadata": {},
   "outputs": [
    {
     "name": "stdout",
     "output_type": "stream",
     "text": [
      "tf.Tensor(\n",
      "[[  3.5241644   8.691732   99.906395    1.3095466]\n",
      " [ 57.588013   78.62382    30.003      88.026276 ]\n",
      " [  4.058727  126.10544   111.31458   122.39462  ]\n",
      " [ 24.374079  116.6013    129.88637     3.3176575]], shape=(4, 4), dtype=float32)\n",
      "tf.Tensor(\n",
      "[[  3.5241644   8.691732   99.906395    1.3095466]\n",
      " [ 57.588013   78.62382    30.003      88.026276 ]\n",
      " [  4.058727  100.        100.        100.       ]\n",
      " [ 24.374079  100.        100.          3.3176575]], shape=(4, 4), dtype=float32)\n",
      "tf.Tensor(\n",
      "[[0.03524164 0.08691733 0.99906397 0.01309547]\n",
      " [0.5758801  0.7862382  0.30003    0.88026273]\n",
      " [0.04058727 1.         1.         1.        ]\n",
      " [0.24374078 1.         1.         0.03317657]], shape=(4, 4), dtype=float32)\n",
      "tf.Tensor(\n",
      "[[  3.5241644   8.691732   99.906395    1.3095466]\n",
      " [ 57.588013   78.62382    30.003      88.026276 ]\n",
      " [  4.058727  100.        100.        100.       ]\n",
      " [ 24.374079  100.        100.          3.3176575]], shape=(4, 4), dtype=float32)\n",
      "tf.Tensor(71.326324, shape=(), dtype=float32)\n"
     ]
    }
   ],
   "source": [
    "X = tf.convert_to_tensor(np.random.rand(4,4)*130,dtype=np.float32)\n",
    "print(X)\n",
    "print(cut_function2(X))\n",
    "    \n",
    "end = tf.math.square(subtracted - cut_function2(X))\n",
    "loss = tf.math.reduce_sum(end)\n",
    "print(loss)"
   ]
  },
  {
   "cell_type": "code",
   "execution_count": 13,
   "id": "13cfb0f6",
   "metadata": {},
   "outputs": [
    {
     "data": {
      "text/plain": [
       "<tf.Tensor: shape=(2, 2), dtype=int32, numpy=\n",
       "array([[ 256,  256],\n",
       "       [6561, 6561]])>"
      ]
     },
     "execution_count": 13,
     "metadata": {},
     "output_type": "execute_result"
    }
   ],
   "source": [
    "x = tf.constant([[2, 2], [3, 3]])\n",
    "y = tf.constant([8])\n",
    "tf.pow(x, y)  # [[256, 65536], [9, 27]]"
   ]
  },
  {
   "cell_type": "code",
   "execution_count": 14,
   "id": "0367716f",
   "metadata": {},
   "outputs": [
    {
     "data": {
      "text/plain": [
       "<tf.Tensor: shape=(2, 2), dtype=float32, numpy=\n",
       "array([[1.e-04, 1.e-04],\n",
       "       [1.e-04, 1.e-04]], dtype=float32)>"
      ]
     },
     "execution_count": 14,
     "metadata": {},
     "output_type": "execute_result"
    }
   ],
   "source": [
    "import numpy as np\n",
    "tf.constant(0.0001) * tf.constant([[1.,1],[1.,1]])"
   ]
  },
  {
   "cell_type": "code",
   "execution_count": 17,
   "id": "f1a8e5c3",
   "metadata": {},
   "outputs": [
    {
     "data": {
      "text/plain": [
       "<tf.Tensor: shape=(1, 4), dtype=float32, numpy=array([[  4.058727, 126.10544 , 111.31458 , 122.39462 ]], dtype=float32)>"
      ]
     },
     "execution_count": 17,
     "metadata": {},
     "output_type": "execute_result"
    }
   ],
   "source": [
    "X[2:3,:]"
   ]
  },
  {
   "cell_type": "code",
   "execution_count": null,
   "id": "0db51dc6",
   "metadata": {},
   "outputs": [],
   "source": []
  }
 ],
 "metadata": {
  "kernelspec": {
   "display_name": "Python 3",
   "language": "python",
   "name": "python3"
  },
  "language_info": {
   "codemirror_mode": {
    "name": "ipython",
    "version": 3
   },
   "file_extension": ".py",
   "mimetype": "text/x-python",
   "name": "python",
   "nbconvert_exporter": "python",
   "pygments_lexer": "ipython3",
   "version": "3.8.10"
  }
 },
 "nbformat": 4,
 "nbformat_minor": 5
}
