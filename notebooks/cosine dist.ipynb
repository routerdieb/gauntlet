{
 "cells": [
  {
   "cell_type": "code",
   "execution_count": 1,
   "id": "c15717d2",
   "metadata": {},
   "outputs": [
    {
     "name": "stdout",
     "output_type": "stream",
     "text": [
      "   Sleeve  Quality\n",
      "0       1        4\n",
      "1       2        4\n",
      "2       3        2\n",
      "[[1.         0.97618706 0.73994007]\n",
      " [0.97618706 1.         0.86824314]\n",
      " [0.73994007 0.86824314 1.        ]]\n"
     ]
    }
   ],
   "source": [
    "import pandas as pd\n",
    "data = {'Sleeve': [1, 2, 3],\n",
    "        'Quality': [4, 4, 2]}\n",
    "\n",
    "df = pd.DataFrame (data, columns = ['Sleeve','Quality'])\n",
    "print(df)\n",
    "from sklearn.metrics.pairwise import cosine_similarity\n",
    "\n",
    "similarity = cosine_similarity(df)\n",
    "print(similarity)"
   ]
  },
  {
   "cell_type": "code",
   "execution_count": null,
   "id": "3b9c1a76",
   "metadata": {},
   "outputs": [],
   "source": []
  }
 ],
 "metadata": {
  "kernelspec": {
   "display_name": "Python 3",
   "language": "python",
   "name": "python3"
  },
  "language_info": {
   "codemirror_mode": {
    "name": "ipython",
    "version": 3
   },
   "file_extension": ".py",
   "mimetype": "text/x-python",
   "name": "python",
   "nbconvert_exporter": "python",
   "pygments_lexer": "ipython3",
   "version": "3.8.10"
  }
 },
 "nbformat": 4,
 "nbformat_minor": 5
}
