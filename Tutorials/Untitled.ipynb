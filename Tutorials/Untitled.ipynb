{
 "cells": [
  {
   "cell_type": "raw",
   "id": "431dbfe3",
   "metadata": {},
   "source": [
    "\\begin{tikzpicture}\n",
    " \n",
    "\\node[rectangle,\n",
    "    draw = lightgray,\n",
    "    text = white,\n",
    "    fill = blue!50!black,\n",
    "    minimum width = 2cm, \n",
    "    minimum height = 1cm](1) (r) at (0,0) {Vocab};\n",
    "    \n",
    "\n",
    "\\node[rectangle,\n",
    "    draw = lightgray,\n",
    "    text = white,\n",
    "    fill = blue!50!black,\n",
    "    minimum width = 2cm, \n",
    "    minimum height = 1cm] (r) at (3,0) {Coocurence};\n",
    "    \n",
    "\\node[rectangle,\n",
    "    draw = lightgray,\n",
    "    text = white,\n",
    "    fill = blue!50!black,\n",
    "    minimum width = 2cm, \n",
    "    minimum height = 1cm] (r) at (7.1,0) {Combined \\& Splitted};\n",
    "\n",
    "\\node[rectangle,\n",
    "    draw = lightgray,\n",
    "    text = white,\n",
    "    fill = blue!50!black,\n",
    "    minimum width = 2cm, \n",
    "    minimum height = 1cm] (r) at (11.3,0) {Dict to HDF};\n",
    " \n",
    "\\node[isosceles triangle,\n",
    "    draw,\n",
    "    fill=gray!30,\n",
    "    minimum size =0.5cm] (T)at (1.3,0){}; \n",
    "\n",
    "\\node[isosceles triangle,\n",
    "    draw,\n",
    "    fill=gray!30,\n",
    "    minimum size =0.5cm] (T)at (4.5,0){}; \n",
    "\n",
    "\\node[isosceles triangle,\n",
    "    draw,\n",
    "    fill=gray!30,\n",
    "    minimum size =0.5cm] (T)at (9.5,0){}; \n",
    " \n",
    "\\end{tikzpicture}"
   ]
  },
  {
   "cell_type": "code",
   "execution_count": null,
   "id": "f767de24",
   "metadata": {},
   "outputs": [],
   "source": []
  }
 ],
 "metadata": {
  "kernelspec": {
   "display_name": "Python 3",
   "language": "python",
   "name": "python3"
  },
  "language_info": {
   "codemirror_mode": {
    "name": "ipython",
    "version": 3
   },
   "file_extension": ".py",
   "mimetype": "text/x-python",
   "name": "python",
   "nbconvert_exporter": "python",
   "pygments_lexer": "ipython3",
   "version": "3.8.10"
  }
 },
 "nbformat": 4,
 "nbformat_minor": 5
}
