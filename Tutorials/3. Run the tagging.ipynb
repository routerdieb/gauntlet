{
 "cells": [
  {
   "cell_type": "markdown",
   "id": "d88b8751",
   "metadata": {},
   "source": [
    "\n",
    "Next Step......\n",
    "\n",
    "Create a Enviorment with a current python for example python 3.8 and just install spacy (do not install tf!!)\n",
    "\n",
    "\n",
    "python -m spacy download en_core_web_sm"
   ]
  },
  {
   "cell_type": "markdown",
   "id": "b39bcdd3",
   "metadata": {},
   "source": [
    "# navigate into capture / preprocess"
   ]
  },
  {
   "cell_type": "markdown",
   "id": "aa67d4ba",
   "metadata": {},
   "source": [
    "From now on, the programms can be run without parameters, to get a help with the parameters.\n",
    "Run either mp-tagging (Creates NER and POS and (baseline) tokenised version) or mp-taggingTreebank (Creates only Treebank) to get tagged corpora.\n",
    "e.g. python mp-tagging.py INPUT-FOLDER OUTPUT-FOLDER1 8"
   ]
  },
  {
   "cell_type": "markdown",
   "id": "1fcb5044",
   "metadata": {},
   "source": [
    "The Cardinal Corpora can only be create on basis of a already part-of-speech tagged corpora.\n",
    "(boolean flag for being universal or treebank tagset annotated)\n",
    "python cardinalCorpora.py POS-INPUT-FOLDER OUTPUT-FOLDER 8 IS_UNIVERSAL_TAGSET"
   ]
  },
  {
   "cell_type": "code",
   "execution_count": null,
   "id": "fdd15af3",
   "metadata": {},
   "outputs": [],
   "source": []
  },
  {
   "cell_type": "markdown",
   "id": "e2500e42",
   "metadata": {},
   "source": [
    "# After the code is run, and the data is prepared proceed to next tutorial"
   ]
  }
 ],
 "metadata": {
  "kernelspec": {
   "display_name": "Python 3 (ipykernel)",
   "language": "python",
   "name": "python3"
  },
  "language_info": {
   "codemirror_mode": {
    "name": "ipython",
    "version": 3
   },
   "file_extension": ".py",
   "mimetype": "text/x-python",
   "name": "python",
   "nbconvert_exporter": "python",
   "pygments_lexer": "ipython3",
   "version": "3.8.11"
  }
 },
 "nbformat": 4,
 "nbformat_minor": 5
}
