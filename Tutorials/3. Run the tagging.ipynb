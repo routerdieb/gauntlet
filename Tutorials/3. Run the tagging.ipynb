{
 "cells": [
  {
   "cell_type": "markdown",
   "id": "d88b8751",
   "metadata": {},
   "source": [
    "\n",
    "Next Step......\n",
    "\n",
    "Create a Enviorment with a current python for example python 3.8 and just install spacy (do not install tf!!)\n",
    "\n",
    "\n",
    "python -m spacy download en_core_web_sm"
   ]
  },
  {
   "cell_type": "code",
   "execution_count": null,
   "id": "fdd15af3",
   "metadata": {},
   "outputs": [],
   "source": []
  }
 ],
 "metadata": {
  "kernelspec": {
   "display_name": "Python 3 (ipykernel)",
   "language": "python",
   "name": "python3"
  },
  "language_info": {
   "codemirror_mode": {
    "name": "ipython",
    "version": 3
   },
   "file_extension": ".py",
   "mimetype": "text/x-python",
   "name": "python",
   "nbconvert_exporter": "python",
   "pygments_lexer": "ipython3",
   "version": "3.8.11"
  }
 },
 "nbformat": 4,
 "nbformat_minor": 5
}
