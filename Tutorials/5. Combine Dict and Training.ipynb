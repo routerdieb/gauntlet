{
 "cells": [
  {
   "cell_type": "markdown",
   "id": "11387f27",
   "metadata": {},
   "source": [
    "Info: Alle the runnable files tell their usage, when there is not enough parameters provided."
   ]
  },
  {
   "cell_type": "markdown",
   "id": "78e86bcd",
   "metadata": {},
   "source": [
    "# Run combine\n",
    "\n",
    "Navigate into capture folder\n",
    "run combine.py\n"
   ]
  },
  {
   "cell_type": "markdown",
   "id": "0321c539",
   "metadata": {},
   "source": [
    "# run dict 2 hdf\n",
    "\n",
    "Navigate into capture folder\n",
    "\n",
    "run dict2hdf.py\n"
   ]
  },
  {
   "cell_type": "markdown",
   "id": "9bf86d43",
   "metadata": {},
   "source": [
    "# run training\n",
    "\n",
    "Navigate into capture folder\n",
    "run dict2hdf.py"
   ]
  }
 ],
 "metadata": {
  "kernelspec": {
   "display_name": "Python 3 (ipykernel)",
   "language": "python",
   "name": "python3"
  },
  "language_info": {
   "codemirror_mode": {
    "name": "ipython",
    "version": 3
   },
   "file_extension": ".py",
   "mimetype": "text/x-python",
   "name": "python",
   "nbconvert_exporter": "python",
   "pygments_lexer": "ipython3",
   "version": "3.8.11"
  }
 },
 "nbformat": 4,
 "nbformat_minor": 5
}
