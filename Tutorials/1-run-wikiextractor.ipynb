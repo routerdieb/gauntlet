{
 "cells": [
  {
   "cell_type": "markdown",
   "id": "5a61e376",
   "metadata": {},
   "source": [
    "Create a new enviorment just for wiki extractor"
   ]
  },
  {
   "cell_type": "markdown",
   "id": "4c214352",
   "metadata": {},
   "source": [
    "conda create -n \"wikiextractor\" python=3.5"
   ]
  },
  {
   "cell_type": "markdown",
   "id": "bd76e874",
   "metadata": {},
   "source": [
    "conda activate wikiextractor"
   ]
  },
  {
   "cell_type": "markdown",
   "id": "8c0461c0",
   "metadata": {},
   "source": [
    "pip install wikiextractor"
   ]
  },
  {
   "cell_type": "markdown",
   "id": "4af51b8b",
   "metadata": {},
   "source": [
    "python -m wikiextractor.WikiExtractor -o S:/data --no_templates --processes 16 S:/enwiki-20100312-pages-articles.xml.bz2"
   ]
  },
  {
   "cell_type": "code",
   "execution_count": null,
   "id": "7572fed9",
   "metadata": {},
   "outputs": [],
   "source": []
  }
 ],
 "metadata": {
  "kernelspec": {
   "display_name": "Python 3 (ipykernel)",
   "language": "python",
   "name": "python3"
  },
  "language_info": {
   "codemirror_mode": {
    "name": "ipython",
    "version": 3
   },
   "file_extension": ".py",
   "mimetype": "text/x-python",
   "name": "python",
   "nbconvert_exporter": "python",
   "pygments_lexer": "ipython3",
   "version": "3.8.11"
  }
 },
 "nbformat": 4,
 "nbformat_minor": 5
}
