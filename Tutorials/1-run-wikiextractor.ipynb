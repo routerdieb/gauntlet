{
 "cells": [
  {
   "cell_type": "markdown",
   "id": "5a61e376",
   "metadata": {},
   "source": [
    "( The instruction are there for loose reference, how to set this up. Alternative Ways of setting up the envs is possible)"
   ]
  },
  {
   "cell_type": "markdown",
   "id": "8ec5ef53",
   "metadata": {},
   "source": [
    "# Create a new enviorment just for wiki extractor with for example python 3.5 "
   ]
  },
  {
   "cell_type": "markdown",
   "id": "4c214352",
   "metadata": {},
   "source": [
    "e.g. conda create -n \"wikiextractor\" python=3.5"
   ]
  },
  {
   "cell_type": "markdown",
   "id": "dd326c8b",
   "metadata": {},
   "source": [
    "Activate the enviourment"
   ]
  },
  {
   "cell_type": "markdown",
   "id": "bd76e874",
   "metadata": {},
   "source": [
    "e.g. conda activate wikiextractor"
   ]
  },
  {
   "cell_type": "markdown",
   "id": "a0b0bb0c",
   "metadata": {},
   "source": [
    "# Install the wikiextractor pip package"
   ]
  },
  {
   "cell_type": "markdown",
   "id": "8c0461c0",
   "metadata": {},
   "source": [
    "pip install wikiextractor"
   ]
  },
  {
   "cell_type": "markdown",
   "id": "d08dcd0f",
   "metadata": {},
   "source": [
    "# run the extraction"
   ]
  },
  {
   "cell_type": "markdown",
   "id": "808cca46",
   "metadata": {},
   "source": [
    "create a folder like S:/data for the article files to store and run a line similar to the one below. "
   ]
  },
  {
   "cell_type": "markdown",
   "id": "639fd506",
   "metadata": {},
   "source": [
    "python -m wikiextractor.WikiExtractor -o DESTINATION --no_templates --processes 16 SOURCE.xml.bz2"
   ]
  },
  {
   "cell_type": "markdown",
   "id": "4af51b8b",
   "metadata": {},
   "source": [
    "e.g. python -m wikiextractor.WikiExtractor -o S:/data --no_templates --processes 16 S:/enwiki-20100312-pages-articles.xml.bz2"
   ]
  },
  {
   "cell_type": "markdown",
   "id": "7cd4d15e",
   "metadata": {},
   "source": [
    "# Proceed to next tutorial"
   ]
  }
 ],
 "metadata": {
  "kernelspec": {
   "display_name": "Python 3 (ipykernel)",
   "language": "python",
   "name": "python3"
  },
  "language_info": {
   "codemirror_mode": {
    "name": "ipython",
    "version": 3
   },
   "file_extension": ".py",
   "mimetype": "text/x-python",
   "name": "python",
   "nbconvert_exporter": "python",
   "pygments_lexer": "ipython3",
   "version": "3.8.11"
  }
 },
 "nbformat": 4,
 "nbformat_minor": 5
}
