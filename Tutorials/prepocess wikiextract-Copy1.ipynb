{
 "cells": [
  {
   "cell_type": "code",
   "execution_count": null,
   "id": "c176e7c4",
   "metadata": {},
   "outputs": [],
   "source": [
    "python -m wikiextractor.WikiExtractor -o S:/data --no_templates --processes 16 S:/enwiki-20100312-pages-articles.xml.bz2"
   ]
  },
  {
   "cell_type": "code",
   "execution_count": 1,
   "id": "bf92b33d",
   "metadata": {},
   "outputs": [],
   "source": [
    "import h5py\n",
    "import sys\n",
    "sys.path.append(\"..\")\n",
    "import os\n",
    "import nltk\n",
    "from flair.models import MultiTagger"
   ]
  },
  {
   "cell_type": "code",
   "execution_count": 2,
   "id": "63b21980",
   "metadata": {},
   "outputs": [
    {
     "name": "stderr",
     "output_type": "stream",
     "text": [
      "[nltk_data] Downloading package punkt to\n",
      "[nltk_data]     C:\\Users\\weso\\AppData\\Roaming\\nltk_data...\n",
      "[nltk_data]   Package punkt is already up-to-date!\n"
     ]
    },
    {
     "data": {
      "text/plain": [
       "True"
      ]
     },
     "execution_count": 2,
     "metadata": {},
     "output_type": "execute_result"
    }
   ],
   "source": [
    "nltk.download('punkt')"
   ]
  },
  {
   "cell_type": "code",
   "execution_count": 5,
   "id": "8dbf5850",
   "metadata": {
    "scrolled": true
   },
   "outputs": [
    {
     "name": "stdout",
     "output_type": "stream",
     "text": [
      "AA\n",
      "_wiki_00\n"
     ]
    },
    {
     "ename": "NameError",
     "evalue": "name 'line' is not defined",
     "output_type": "error",
     "traceback": [
      "\u001b[1;31m---------------------------------------------------------------------------\u001b[0m",
      "\u001b[1;31mNameError\u001b[0m                                 Traceback (most recent call last)",
      "\u001b[1;32m<ipython-input-5-c4436cd7cd8a>\u001b[0m in \u001b[0;36m<module>\u001b[1;34m\u001b[0m\n\u001b[0;32m     14\u001b[0m         \u001b[0mfilepath_new\u001b[0m \u001b[1;33m=\u001b[0m \u001b[0mpath\u001b[0m \u001b[1;33m+\u001b[0m \u001b[1;34m\"/\"\u001b[0m \u001b[1;33m+\u001b[0m \u001b[0mdirectory_name\u001b[0m \u001b[1;33m+\u001b[0m \u001b[1;34m\"/filtered_lined\"\u001b[0m \u001b[1;33m+\u001b[0m \u001b[0mfile_name\u001b[0m\u001b[1;33m\u001b[0m\u001b[1;33m\u001b[0m\u001b[0m\n\u001b[0;32m     15\u001b[0m         \u001b[1;32mwith\u001b[0m \u001b[0mopen\u001b[0m\u001b[1;33m(\u001b[0m\u001b[0mfilepath\u001b[0m\u001b[1;33m,\u001b[0m\u001b[1;34m'r'\u001b[0m\u001b[1;33m,\u001b[0m\u001b[0mencoding\u001b[0m\u001b[1;33m=\u001b[0m\u001b[1;34m'utf8'\u001b[0m\u001b[1;33m)\u001b[0m \u001b[1;32mas\u001b[0m \u001b[0mread\u001b[0m\u001b[1;33m,\u001b[0m \u001b[0mopen\u001b[0m\u001b[1;33m(\u001b[0m\u001b[0mfilepath_new\u001b[0m\u001b[1;33m,\u001b[0m\u001b[1;34m'w'\u001b[0m\u001b[1;33m,\u001b[0m\u001b[0mencoding\u001b[0m\u001b[1;33m=\u001b[0m\u001b[1;34m'utf8'\u001b[0m\u001b[1;33m)\u001b[0m \u001b[1;32mas\u001b[0m \u001b[0mwrite\u001b[0m\u001b[1;33m:\u001b[0m\u001b[1;33m\u001b[0m\u001b[1;33m\u001b[0m\u001b[0m\n\u001b[1;32m---> 16\u001b[1;33m             \u001b[1;32mif\u001b[0m \u001b[0mline\u001b[0m\u001b[1;33m.\u001b[0m\u001b[0mstartswith\u001b[0m\u001b[1;33m(\u001b[0m\u001b[1;34m'<doc'\u001b[0m\u001b[1;33m)\u001b[0m\u001b[1;33m:\u001b[0m\u001b[1;33m\u001b[0m\u001b[1;33m\u001b[0m\u001b[0m\n\u001b[0m\u001b[0;32m     17\u001b[0m                 \u001b[0mwrite\u001b[0m\u001b[1;33m.\u001b[0m\u001b[0mwrite\u001b[0m\u001b[1;33m(\u001b[0m\u001b[0mline\u001b[0m\u001b[1;33m)\u001b[0m\u001b[1;33m\u001b[0m\u001b[1;33m\u001b[0m\u001b[0m\n\u001b[0;32m     18\u001b[0m             \u001b[1;32melif\u001b[0m \u001b[0mline\u001b[0m\u001b[1;33m.\u001b[0m\u001b[0mstartswith\u001b[0m\u001b[1;33m(\u001b[0m\u001b[1;34m'</doc'\u001b[0m\u001b[1;33m)\u001b[0m\u001b[1;33m:\u001b[0m\u001b[1;33m\u001b[0m\u001b[1;33m\u001b[0m\u001b[0m\n",
      "\u001b[1;31mNameError\u001b[0m: name 'line' is not defined"
     ]
    }
   ],
   "source": [
    "from Vocabulary import *\n",
    "from flair.tokenization import SegtokSentenceSplitter\n",
    "\n",
    "vocab = Vocabulary()\n",
    "\n",
    "path = 'S:\\data'\n",
    "dir_list = os.listdir(path)\n",
    "\n",
    "for directory_name in dir_list:\n",
    "    print(directory_name)\n",
    "    for file_name in os.listdir(path + \"/\" + directory_name):\n",
    "        print(file_name)\n",
    "        filepath = path + \"/\" + directory_name + \"/\" + file_name\n",
    "        filepath_new = path + \"/\" + directory_name + \"/_\" + file_name\n",
    "        with open(filepath,'r',encoding='utf8') as read, open(filepath_new,'w',encoding='utf8') as write:\n",
    "            text = read.readlines()\n",
    "            for line in text:\n",
    "                if line.startswith('<doc'):\n",
    "                    write.write(line)\n",
    "                elif line.startswith('</doc'):\n",
    "                    write.write(line)\n",
    "                write.write(line)"
   ]
  },
  {
   "cell_type": "code",
   "execution_count": 6,
   "id": "a449170b",
   "metadata": {},
   "outputs": [
    {
     "name": "stdout",
     "output_type": "stream",
     "text": [
      "AA\n",
      "AB\n",
      "AC\n",
      "AD\n",
      "AE\n",
      "AF\n",
      "AG\n",
      "AH\n",
      "AI\n",
      "AJ\n",
      "AK\n",
      "AL\n",
      "AM\n",
      "AN\n",
      "AO\n",
      "AP\n",
      "AQ\n",
      "AR\n",
      "AS\n",
      "AT\n",
      "AU\n",
      "AV\n",
      "AW\n",
      "AX\n",
      "AY\n",
      "AZ\n",
      "BA\n",
      "BB\n",
      "BC\n",
      "BD\n",
      "BE\n",
      "BF\n",
      "BG\n",
      "BH\n",
      "BI\n",
      "BJ\n",
      "BK\n",
      "BL\n",
      "BM\n",
      "BN\n",
      "BO\n",
      "BP\n",
      "BQ\n",
      "BR\n",
      "BS\n",
      "BT\n",
      "BU\n",
      "BV\n",
      "BW\n",
      "BX\n",
      "BY\n",
      "BZ\n",
      "CA\n",
      "CB\n",
      "CC\n",
      "CD\n",
      "CE\n",
      "CF\n",
      "CG\n",
      "CH\n",
      "CI\n",
      "CJ\n",
      "CK\n",
      "CL\n",
      "CM\n",
      "CN\n",
      "CO\n",
      "CP\n",
      "CQ\n",
      "CR\n",
      "CS\n"
     ]
    }
   ],
   "source": [
    "#remove versions with whitespaces\n",
    "path = 'S:\\data'\n",
    "dir_list = os.listdir(path)\n",
    "\n",
    "for directory_name in dir_list:\n",
    "    print(directory_name)\n",
    "    for file_name in os.listdir(path + \"/\" + directory_name):\n",
    "        filepath_old = path + \"/\" + directory_name + \"/\" + file_name\n",
    "        if file_name.startswith('_wiki'):\n",
    "            os.remove(filepath_old)\n",
    "        "
   ]
  },
  {
   "cell_type": "code",
   "execution_count": null,
   "id": "7572fed9",
   "metadata": {},
   "outputs": [],
   "source": []
  }
 ],
 "metadata": {
  "kernelspec": {
   "display_name": "Python 3",
   "language": "python",
   "name": "python3"
  },
  "language_info": {
   "codemirror_mode": {
    "name": "ipython",
    "version": 3
   },
   "file_extension": ".py",
   "mimetype": "text/x-python",
   "name": "python",
   "nbconvert_exporter": "python",
   "pygments_lexer": "ipython3",
   "version": "3.8.10"
  }
 },
 "nbformat": 4,
 "nbformat_minor": 5
}
