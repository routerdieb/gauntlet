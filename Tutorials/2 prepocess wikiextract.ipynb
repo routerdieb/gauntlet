{
 "cells": [
  {
   "cell_type": "markdown",
   "id": "bf436af0",
   "metadata": {},
   "source": [
    "# First step: Remove Uneccessary Linebreaks"
   ]
  },
  {
   "cell_type": "code",
   "execution_count": null,
   "id": "3d7d4626",
   "metadata": {},
   "outputs": [],
   "source": [
    "import os\n",
    "path = 'E:\\data2021'#path to your extracted articles"
   ]
  },
  {
   "cell_type": "code",
   "execution_count": null,
   "id": "48bc5fbb",
   "metadata": {},
   "outputs": [],
   "source": [
    "for directory_name in os.listdir(path):\n",
    "    print(directory_name)\n",
    "    for file_name in os.listdir(path + \"/\" + directory_name):\n",
    "        #print(file_name)\n",
    "        filepath = path + \"/\" + directory_name + \"/\" + file_name\n",
    "        filepath_new = path + \"/\" + directory_name + \"/_\" + file_name\n",
    "        with open(filepath,'r',encoding='utf8') as read, open(filepath_new,'w',encoding='utf8') as write:\n",
    "            text = read.readlines()\n",
    "            for line in text:\n",
    "                if line.startswith('<doc'):\n",
    "                    write.write(line)\n",
    "                elif line.startswith('</doc'):\n",
    "                    write.write('\\n' + line)\n",
    "                else:\n",
    "                    write.write(line[:-1]+\" \")#remove linebreak and add whitespace"
   ]
  },
  {
   "cell_type": "markdown",
   "id": "cbce9117",
   "metadata": {},
   "source": [
    "# Step 2 remove the old files"
   ]
  },
  {
   "cell_type": "code",
   "execution_count": null,
   "id": "68837f18",
   "metadata": {},
   "outputs": [],
   "source": [
    "#remove old versions with whitespaces\n",
    "dir_list = os.listdir(path)\n",
    "\n",
    "for directory_name in dir_list:\n",
    "    print(directory_name)\n",
    "    for file_name in os.listdir(path + \"/\" + directory_name):\n",
    "        filepath_old = path + \"/\" + directory_name + \"/\" + file_name\n",
    "        if file_name.startswith('wiki'):\n",
    "            os.remove(filepath_old)"
   ]
  },
  {
   "cell_type": "markdown",
   "id": "259b8052",
   "metadata": {},
   "source": [
    "# Step 3: Filter non public data and tokenise"
   ]
  },
  {
   "cell_type": "code",
   "execution_count": null,
   "id": "8dbf5850",
   "metadata": {
    "scrolled": true
   },
   "outputs": [],
   "source": [
    "import re\n",
    "\n",
    "\n",
    "for directory_name in os.listdir(path):\n",
    "    print(directory_name)\n",
    "    for file_name in os.listdir(path + \"/\" + directory_name):\n",
    "        filepath = path + \"/\" + directory_name + \"/\" + file_name\n",
    "        filepath_new = path + \"/\" + directory_name + \"/filtered_\" + file_name\n",
    "        with open(filepath,'r',encoding='utf8') as read, open(filepath_new,'w',encoding='utf8') as writer:\n",
    "            text = read.readlines()\n",
    "            is_skipping = False\n",
    "            for line in text:\n",
    "                if line.startswith('<doc id'):\n",
    "                    regex_title_group = re.compile('<doc .{1,100} title=\"([^\"]{1,500})\"')\n",
    "                    m = regex_title_group.match(line)\n",
    "                    title = m.group(1)\n",
    "                    #print('filtered one')\n",
    "                    if title.startswith('Wikipedia:') or title.startswith('Template:') or title.startswith('File:') or title.startswith('Article for deletion:') or title.startswith('Category:') or title.startswith('Portal:'):\n",
    "                        is_skipping = True\n",
    "                    else:\n",
    "                        writer.write(line)\n",
    "                        is_skipping = False\n",
    "                elif line.startswith('</doc>'):\n",
    "                    if not is_skipping:\n",
    "                        writer.write('\\n')\n",
    "                        writer.write(line)\n",
    "                else:\n",
    "                    if not is_skipping:\n",
    "                        #line  = line.replace(\"\\n\",\" \")\n",
    "                        writer.write(line)\n",
    "        \n",
    "    \n"
   ]
  },
  {
   "cell_type": "markdown",
   "id": "dc2cce24",
   "metadata": {},
   "source": [
    "# Remove unfiltered"
   ]
  },
  {
   "cell_type": "code",
   "execution_count": null,
   "id": "a449170b",
   "metadata": {},
   "outputs": [],
   "source": [
    "#remove unfiltered version\n",
    "\n",
    "for directory_name in os.listdir(path):\n",
    "    print(directory_name)\n",
    "    for file_name in os.listdir(path + \"/\" + directory_name):\n",
    "        filepath_old = path + \"/\" + directory_name + \"/\" + file_name\n",
    "        if file_name.startswith('_wiki'):\n",
    "            os.remove(filepath_old)\n",
    "        "
   ]
  },
  {
   "cell_type": "markdown",
   "id": "f088a79e",
   "metadata": {},
   "source": [
    "# Proceed to next tutorial"
   ]
  }
 ],
 "metadata": {
  "kernelspec": {
   "display_name": "Python 3 (ipykernel)",
   "language": "python",
   "name": "python3"
  },
  "language_info": {
   "codemirror_mode": {
    "name": "ipython",
    "version": 3
   },
   "file_extension": ".py",
   "mimetype": "text/x-python",
   "name": "python",
   "nbconvert_exporter": "python",
   "pygments_lexer": "ipython3",
   "version": "3.8.11"
  }
 },
 "nbformat": 4,
 "nbformat_minor": 5
}
