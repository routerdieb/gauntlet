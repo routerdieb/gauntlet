{
 "cells": [
  {
   "cell_type": "markdown",
   "id": "fbc79945",
   "metadata": {},
   "source": [
    "# This tutorial is about creating the dictionary and the coocurence Block-Matrix.\n"
   ]
  },
  {
   "cell_type": "markdown",
   "id": "ec5bcde3",
   "metadata": {},
   "source": [
    "Navigate into capture folder\n",
    "\n",
    "Square brackets are optional parameters.\n",
    "\n",
    "Attention it is easy, to run out of memory."
   ]
  },
  {
   "cell_type": "markdown",
   "id": "9215ddd8",
   "metadata": {},
   "source": [
    "## 1 Create Vocab \n",
    "Run mp-vocap\n",
    "\n",
    "Please provide preprocessed/tagged wikipath and filename of vocabulary and number of processes [--andTags][--andBase]\n",
    "\n",
    "e.g. mp-vocab ../data/treebank treebankT_vocabularyWTagrep 10 --andTags\n",
    "\n",
    "Attention !! The create Vocab decides what kind of gauntlet embedding is trained (pay attention to setted flags)\n",
    "\n",
    "Or run the dual Vocab version for asymetric co-occurences matrixes.\n",
    "\n",
    "\n",
    "\n"
   ]
  },
  {
   "cell_type": "markdown",
   "id": "3da08979",
   "metadata": {},
   "source": [
    "## 2 Capture co-ocurrence\n",
    "Run cooccurenceSlow.py or the experimental mp-coocurrence.py to collect the cooucurences\n",
    "\n",
    "Please provide vocab , wiki-path and window_size and number of processes and output folder and [--continue]\n",
    "\n",
    "If the process was interrupted through a server restart it can be continued later, howerther delete the last n files (n = number processes)\n",
    "\n",
    "e.g. python cooccurenceSlow.py ../vocabs/treebankT_vocabularyWTagrep 10 3 E:/ \n"
   ]
  },
  {
   "cell_type": "markdown",
   "id": "8b05d8ef",
   "metadata": {},
   "source": [
    "## Combine the co-occurrences\n",
    "run either combine2.py or combineDualVocab.py\n",
    "\n",
    "provide pathIn pathOut and vocab-path\n",
    "\n",
    "e.g. python combine2.py E:/CapturedSomething E:/CombinedSomething ../vocabs/treebankT_vocabularyWTagrep"
   ]
  },
  {
   "cell_type": "markdown",
   "id": "1f42f09f",
   "metadata": {},
   "source": [
    "## Create HDF Matrixes out of Combined-Blocks\n",
    "Run block2HDF.py\n",
    "\n",
    "Please provide path_in path_out [--splitLengthBy X] [--processes XY]\n",
    "\n",
    "e.g. python block2HDF.py E:/CombinedSomething E:/BlockSomething --processes 4\n"
   ]
  },
  {
   "cell_type": "markdown",
   "id": "b3bbe097",
   "metadata": {},
   "source": [
    "### Proceed to next tutorial"
   ]
  }
 ],
 "metadata": {
  "kernelspec": {
   "display_name": "Python 3 (ipykernel)",
   "language": "python",
   "name": "python3"
  },
  "language_info": {
   "codemirror_mode": {
    "name": "ipython",
    "version": 3
   },
   "file_extension": ".py",
   "mimetype": "text/x-python",
   "name": "python",
   "nbconvert_exporter": "python",
   "pygments_lexer": "ipython3",
   "version": "3.8.11"
  }
 },
 "nbformat": 4,
 "nbformat_minor": 5
}
