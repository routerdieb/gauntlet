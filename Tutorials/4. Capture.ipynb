{
 "cells": [
  {
   "cell_type": "markdown",
   "id": "fbc79945",
   "metadata": {},
   "source": [
    "A. Run mp-vocap\n",
    "B. Run mp-coocurence\n",
    "C. Run combine and split notebook\n",
    "D. Run dict to tensor or dict to hdf notebook"
   ]
  },
  {
   "cell_type": "code",
   "execution_count": null,
   "id": "64dcafe6",
   "metadata": {},
   "outputs": [],
   "source": []
  }
 ],
 "metadata": {
  "kernelspec": {
   "display_name": "Python 3 (ipykernel)",
   "language": "python",
   "name": "python3"
  },
  "language_info": {
   "codemirror_mode": {
    "name": "ipython",
    "version": 3
   },
   "file_extension": ".py",
   "mimetype": "text/x-python",
   "name": "python",
   "nbconvert_exporter": "python",
   "pygments_lexer": "ipython3",
   "version": "3.8.11"
  }
 },
 "nbformat": 4,
 "nbformat_minor": 5
}
