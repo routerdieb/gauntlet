{
 "cells": [
  {
   "cell_type": "markdown",
   "id": "9708b713",
   "metadata": {},
   "source": [
    "# The mirroring is quite computational expensive therefore the diagonal blocks get precomputed"
   ]
  },
  {
   "cell_type": "code",
   "execution_count": 1,
   "id": "b4a05187",
   "metadata": {},
   "outputs": [],
   "source": [
    "import cloudpickle\n",
    "from scipy.sparse import dok_matrix\n",
    "from scipy.sparse import tril\n",
    "import scipy\n",
    "import re\n",
    "import time\n",
    "\n",
    "def load_dict(path,zeilen,spalten):\n",
    "    if(zeilen >= spalten):\n",
    "        template = \"blockcounts_{i}_{j}\".format(i=zeilen,j=spalten)\n",
    "    else:\n",
    "        template = \"blockcounts_{i}_{j}\".format(i=spalten,j=zeilen)\n",
    "\n",
    "    file_path = path + '\\\\' + template\n",
    "    co_occurences = {}\n",
    "    \n",
    "    \n",
    "    with open(file_path, 'r') as file:\n",
    "        lines = file.readlines()\n",
    "        for line in lines:\n",
    "            match = re.match('\\(([0-9]{1,}), ([0-9]{1,})\\):([0-9.]{1,})',line)\n",
    "            x = int(match.group(1))\n",
    "            y = int(match.group(2))\n",
    "            count = float(match.group(3))\n",
    "            if (x,y) in co_occurences:\n",
    "                co_occurences[(x,y)] += count\n",
    "            else:\n",
    "                co_occurences[(x,y)] = count\n",
    "    \n",
    "    return co_occurences\n",
    "\n",
    "\n",
    "def load_co_occurence(path,zeilen,spalten):\n",
    "    co_occurences = load_dict(path,zeilen,spalten)\n",
    "    coocurrence = dok_matrix((20000,20000),dtype='d')\n",
    "    \n",
    "    coocurrence._update(co_occurences) # dok_matrix updates #7673 pull request\n",
    "\n",
    "    if spalten > zeilen :\n",
    "        raise Exception(\"You sha'll not get symmetrical context\")\n",
    "        #may need to fix this in the future due to other non symmetrical feature\n",
    "    \n",
    "    if spalten == zeilen:\n",
    "        print('mirroring')\n",
    "        #print(coocurrence.toarray())\n",
    "        coocurrence = coocurrence + tril(coocurrence,k=-1).transpose()\n",
    "    return coocurrence"
   ]
  },
  {
   "cell_type": "code",
   "execution_count": 2,
   "id": "21741f2b",
   "metadata": {},
   "outputs": [
    {
     "ename": "TypeError",
     "evalue": "can only concatenate str (not \"int\") to str",
     "output_type": "error",
     "traceback": [
      "\u001b[1;31m---------------------------------------------------------------------------\u001b[0m",
      "\u001b[1;31mTypeError\u001b[0m                                 Traceback (most recent call last)",
      "\u001b[1;32m~\\AppData\\Local\\Temp/ipykernel_17400/3734626719.py\u001b[0m in \u001b[0;36m<module>\u001b[1;34m\u001b[0m\n\u001b[0;32m     17\u001b[0m     \u001b[0mi\u001b[0m\u001b[1;33m,\u001b[0m\u001b[0mj\u001b[0m   \u001b[1;33m=\u001b[0m \u001b[0mmatch\u001b[0m\u001b[1;33m.\u001b[0m\u001b[0mgroup\u001b[0m\u001b[1;33m(\u001b[0m\u001b[1;36m1\u001b[0m\u001b[1;33m)\u001b[0m\u001b[1;33m,\u001b[0m \u001b[0mmatch\u001b[0m\u001b[1;33m.\u001b[0m\u001b[0mgroup\u001b[0m\u001b[1;33m(\u001b[0m\u001b[1;36m2\u001b[0m\u001b[1;33m)\u001b[0m\u001b[1;33m\u001b[0m\u001b[1;33m\u001b[0m\u001b[0m\n\u001b[0;32m     18\u001b[0m     \u001b[0mi\u001b[0m\u001b[1;33m,\u001b[0m\u001b[0mj\u001b[0m   \u001b[1;33m=\u001b[0m \u001b[0mint\u001b[0m\u001b[1;33m(\u001b[0m\u001b[0mi\u001b[0m\u001b[1;33m)\u001b[0m        \u001b[1;33m,\u001b[0m \u001b[0mint\u001b[0m\u001b[1;33m(\u001b[0m\u001b[0mj\u001b[0m\u001b[1;33m)\u001b[0m\u001b[1;33m\u001b[0m\u001b[1;33m\u001b[0m\u001b[0m\n\u001b[1;32m---> 19\u001b[1;33m     \u001b[0mprint\u001b[0m\u001b[1;33m(\u001b[0m\u001b[1;34m'output for progress '\u001b[0m \u001b[1;33m+\u001b[0m \u001b[0mi\u001b[0m\u001b[1;33m+\u001b[0m\u001b[1;34m','\u001b[0m\u001b[1;33m+\u001b[0m\u001b[0mj\u001b[0m\u001b[1;33m)\u001b[0m\u001b[1;33m\u001b[0m\u001b[1;33m\u001b[0m\u001b[0m\n\u001b[0m\u001b[0;32m     20\u001b[0m     \u001b[1;32mif\u001b[0m \u001b[0mi\u001b[0m\u001b[1;33m<\u001b[0m \u001b[0mj\u001b[0m\u001b[1;33m:\u001b[0m\u001b[1;33m\u001b[0m\u001b[1;33m\u001b[0m\u001b[0m\n\u001b[0;32m     21\u001b[0m         \u001b[1;32mcontinue\u001b[0m\u001b[1;33m\u001b[0m\u001b[1;33m\u001b[0m\u001b[0m\n",
      "\u001b[1;31mTypeError\u001b[0m: can only concatenate str (not \"int\") to str"
     ]
    }
   ],
   "source": [
    "import re\n",
    "import os\n",
    "import h5py\n",
    "import numpy as np\n",
    "import tensorflow as tf\n",
    "\n",
    "# The default block length of 20000 must be divisible by this number. \n",
    "split_length = 4 #2,4,5,10\n",
    "size = int(20000/split_length)\n",
    "\n",
    "path = 'E:\\\\tmp\\\\coocurrence_blocks'\n",
    "path_hdf = r'E:\\\\hdf_base_coocurrence_2021_'+str(size)+'\\\\'\n",
    "regex = r'blockcounts_([0-9]{1,})_([0-9]{1,})'\n",
    "\n",
    "for file_name in os.listdir(path):\n",
    "    match = re.match(regex, file_name)\n",
    "    i,j   = match.group(1), match.group(2)\n",
    "    i,j   = int(i)        , int(j)\n",
    "    print('output for progress ' + str(i)+','+str(j))\n",
    "    if i< j:\n",
    "        continue\n",
    "    \n",
    "\n",
    "    co_occurence = load_co_occurence(path,i,j)\n",
    "    co_occurence  = co_occurence.toarray()\n",
    "    if(i == j):\n",
    "        np.fill_diagonal(co_occurence,0)\n",
    "    \n",
    "    for sub_i in range(split_length):\n",
    "        for sub_j in range(split_length):\n",
    "            a,b = i*split_length+sub_i , j*split_length+sub_j\n",
    "            print(a,b)\n",
    "            filename = 'tf_cooccurence_{a}_{b}.tensor'.format(a = a,b = b)\n",
    "            tf_subcur = tf.convert_to_tensor(co_occurence[sub_i*size:(sub_i+1)*size,sub_j*size:(sub_j+1)*size],dtype=tf.float32)\n",
    "            with open(path_hdf + filename, 'wb+') as file:\n",
    "                cloudpickle.dump(tf_subcur, file)\n",
    "        \n",
    "    #print(co_occurence_hdf)"
   ]
  },
  {
   "cell_type": "code",
   "execution_count": null,
   "id": "f46ee9c0",
   "metadata": {},
   "outputs": [],
   "source": []
  }
 ],
 "metadata": {
  "kernelspec": {
   "display_name": "Python 3 (ipykernel)",
   "language": "python",
   "name": "python3"
  },
  "language_info": {
   "codemirror_mode": {
    "name": "ipython",
    "version": 3
   },
   "file_extension": ".py",
   "mimetype": "text/x-python",
   "name": "python",
   "nbconvert_exporter": "python",
   "pygments_lexer": "ipython3",
   "version": "3.8.11"
  }
 },
 "nbformat": 4,
 "nbformat_minor": 5
}
