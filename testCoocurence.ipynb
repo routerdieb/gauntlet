{
 "cells": [
  {
   "cell_type": "code",
   "execution_count": 1,
   "id": "27120d53",
   "metadata": {},
   "outputs": [],
   "source": [
    "from Vocabulary import *"
   ]
  },
  {
   "cell_type": "code",
   "execution_count": 2,
   "id": "eec40405",
   "metadata": {},
   "outputs": [],
   "source": [
    "String = r\"This is a /br test string with many co-occurences, or no \\'no-wiki' problems in berlin\"+chr(4)+\"location what so ever. And it has to be even longer for some reasons.\""
   ]
  },
  {
   "cell_type": "code",
   "execution_count": null,
   "id": "fddcd476",
   "metadata": {},
   "outputs": [],
   "source": []
  },
  {
   "cell_type": "code",
   "execution_count": 3,
   "id": "899b5404",
   "metadata": {},
   "outputs": [],
   "source": [
    "import re\n",
    "def preprocess_line(text):\n",
    "    text = re.sub(r' \\\\[^\\s]{1,}','',text)\n",
    "    text = re.sub(r' /[^\\s]{1,}','',text)\n",
    "    text = re.sub(\"[^a-zA-Z\\d\\s:\\u0004]\",\"\",text)\n",
    "    return text"
   ]
  },
  {
   "cell_type": "code",
   "execution_count": 4,
   "id": "d21cc5b6",
   "metadata": {},
   "outputs": [],
   "source": [
    "String = preprocess_line(String)\n",
    "vocab = TaggedVocabulary(wordsWithoutTags = True)\n",
    "vocab.build_from_text(String.split())\n",
    "vocab.assignIds()"
   ]
  },
  {
   "cell_type": "code",
   "execution_count": 5,
   "id": "2d7eb2c9",
   "metadata": {},
   "outputs": [],
   "source": [
    "def capture(vocab,text,window_size):\n",
    "    article_tokens = text.split()\n",
    "    article_ids = []\n",
    "    for token in article_tokens:\n",
    "        ids = vocab.get_ids_text(token)\n",
    "        if ids == []:\n",
    "            continue\n",
    "        article_ids.append(ids)\n",
    "    \n",
    "    for focus_position,focus_ids in enumerate(article_ids):\n",
    "        window_left = article_ids[max(0,focus_position-window_size):focus_position]\n",
    "        for position,context_ids in enumerate(window_left):\n",
    "            dist = abs(len(window_left) - position)\n",
    "            self._assign_entrys(focus_ids,context_ids,dist) \n",
    "        \n",
    "        window_right = article_ids[focus_position+1:focus_position+1+window_size]\n",
    "        for position,context_ids in enumerate(window_right):\n",
    "            dist = abs(1+ position)\n",
    "            self._assign_entrys(focus_ids,context_ids,dist)\n",
    "\n",
    "    return self.co_occurences"
   ]
  },
  {
   "cell_type": "code",
   "execution_count": 6,
   "id": "4c760d09",
   "metadata": {},
   "outputs": [
    {
     "name": "stdout",
     "output_type": "stream",
     "text": [
      "27\n"
     ]
    }
   ],
   "source": [
    "print(vocab.get_size())"
   ]
  },
  {
   "cell_type": "code",
   "execution_count": 7,
   "id": "7d328921",
   "metadata": {},
   "outputs": [
    {
     "name": "stdout",
     "output_type": "stream",
     "text": [
      "{'in': 0, 'reasons': 1, 'and': 2, 'ever': 3, '\\x04location': 4, 'no': 5, 'for': 6, 'so': 7, 'problems': 8, 'test': 9, 'is': 10, 'be': 11, 'many': 12, 'some': 13, 'to': 14, 'with': 15, 'berlin\\x04location': 16, 'string': 17, 'it': 18, 'this': 19, 'what': 20, 'even': 21, 'longer': 22, 'or': 23, 'a': 24, 'has': 25, 'cooccurences': 26}\n"
     ]
    }
   ],
   "source": [
    "print(vocab.word2Id)"
   ]
  },
  {
   "cell_type": "code",
   "execution_count": 8,
   "id": "2edbf2aa",
   "metadata": {},
   "outputs": [
    {
     "name": "stdout",
     "output_type": "stream",
     "text": [
      "{'this': 0, 'in': 1, 'problems': 2, 'string': 3, 'so': 4, 'ever': 5, 'reasons': 6, 'cooccurences': 7, 'has': 8, 'berlin\\x04location': 9, 'many': 10, 'to': 11, 'a': 12, 'some': 13, 'is': 14, 'with': 15, 'even': 16, '\\x04location': 17, 'and': 18, 'or': 19, 'what': 20, 'test': 21, 'longer': 22, 'it': 23, 'no': 24, 'for': 25, 'be': 26}\n"
     ]
    }
   ],
   "source": [
    "print(vocab.word2Id)"
   ]
  },
  {
   "cell_type": "code",
   "execution_count": 9,
   "id": "4201e8e8",
   "metadata": {},
   "outputs": [
    {
     "ename": "NameError",
     "evalue": "name 'self' is not defined",
     "output_type": "error",
     "traceback": [
      "\u001b[1;31m---------------------------------------------------------------------------\u001b[0m",
      "\u001b[1;31mNameError\u001b[0m                                 Traceback (most recent call last)",
      "\u001b[1;32m~\\AppData\\Local\\Temp/ipykernel_11968/1921249654.py\u001b[0m in \u001b[0;36m<module>\u001b[1;34m\u001b[0m\n\u001b[1;32m----> 1\u001b[1;33m \u001b[0mcapture\u001b[0m\u001b[1;33m(\u001b[0m\u001b[0mvocab\u001b[0m\u001b[1;33m,\u001b[0m\u001b[0mString\u001b[0m\u001b[1;33m,\u001b[0m\u001b[1;36m10\u001b[0m\u001b[1;33m)\u001b[0m\u001b[1;33m\u001b[0m\u001b[1;33m\u001b[0m\u001b[0m\n\u001b[0m",
      "\u001b[1;32m~\\AppData\\Local\\Temp/ipykernel_11968/1656086706.py\u001b[0m in \u001b[0;36mcapture\u001b[1;34m(vocab, text, window_size)\u001b[0m\n\u001b[0;32m     17\u001b[0m         \u001b[1;32mfor\u001b[0m \u001b[0mposition\u001b[0m\u001b[1;33m,\u001b[0m\u001b[0mcontext_ids\u001b[0m \u001b[1;32min\u001b[0m \u001b[0menumerate\u001b[0m\u001b[1;33m(\u001b[0m\u001b[0mwindow_right\u001b[0m\u001b[1;33m)\u001b[0m\u001b[1;33m:\u001b[0m\u001b[1;33m\u001b[0m\u001b[1;33m\u001b[0m\u001b[0m\n\u001b[0;32m     18\u001b[0m             \u001b[0mdist\u001b[0m \u001b[1;33m=\u001b[0m \u001b[0mabs\u001b[0m\u001b[1;33m(\u001b[0m\u001b[1;36m1\u001b[0m\u001b[1;33m+\u001b[0m \u001b[0mposition\u001b[0m\u001b[1;33m)\u001b[0m\u001b[1;33m\u001b[0m\u001b[1;33m\u001b[0m\u001b[0m\n\u001b[1;32m---> 19\u001b[1;33m             \u001b[0mself\u001b[0m\u001b[1;33m.\u001b[0m\u001b[0m_assign_entrys\u001b[0m\u001b[1;33m(\u001b[0m\u001b[0mfocus_ids\u001b[0m\u001b[1;33m,\u001b[0m\u001b[0mcontext_ids\u001b[0m\u001b[1;33m,\u001b[0m\u001b[0mdist\u001b[0m\u001b[1;33m)\u001b[0m\u001b[1;33m\u001b[0m\u001b[1;33m\u001b[0m\u001b[0m\n\u001b[0m\u001b[0;32m     20\u001b[0m \u001b[1;33m\u001b[0m\u001b[0m\n\u001b[0;32m     21\u001b[0m     \u001b[1;32mreturn\u001b[0m \u001b[0mself\u001b[0m\u001b[1;33m.\u001b[0m\u001b[0mco_occurences\u001b[0m\u001b[1;33m\u001b[0m\u001b[1;33m\u001b[0m\u001b[0m\n",
      "\u001b[1;31mNameError\u001b[0m: name 'self' is not defined"
     ]
    }
   ],
   "source": [
    "capture(vocab,String,10)"
   ]
  },
  {
   "cell_type": "code",
   "execution_count": null,
   "id": "712b5e28",
   "metadata": {},
   "outputs": [],
   "source": []
  }
 ],
 "metadata": {
  "kernelspec": {
   "display_name": "Python 3 (ipykernel)",
   "language": "python",
   "name": "python3"
  },
  "language_info": {
   "codemirror_mode": {
    "name": "ipython",
    "version": 3
   },
   "file_extension": ".py",
   "mimetype": "text/x-python",
   "name": "python",
   "nbconvert_exporter": "python",
   "pygments_lexer": "ipython3",
   "version": "3.8.11"
  }
 },
 "nbformat": 4,
 "nbformat_minor": 5
}
