{
 "cells": [
  {
   "cell_type": "code",
   "execution_count": 1,
   "id": "27120d53",
   "metadata": {},
   "outputs": [],
   "source": [
    "import sys\n",
    "sys.path.append(\"..\")\n",
    "from Vocabulary import *"
   ]
  },
  {
   "cell_type": "code",
   "execution_count": 9,
   "id": "eec40405",
   "metadata": {},
   "outputs": [],
   "source": [
    "String = r\"a b c d .       e, f g\""
   ]
  },
  {
   "cell_type": "code",
   "execution_count": null,
   "id": "fddcd476",
   "metadata": {},
   "outputs": [],
   "source": []
  },
  {
   "cell_type": "code",
   "execution_count": 10,
   "id": "899b5404",
   "metadata": {},
   "outputs": [],
   "source": [
    "import re\n",
    "def preprocess_line(text):\n",
    "    text = re.sub(r' \\\\[^\\s]{1,}','',text)\n",
    "    text = re.sub(r' /[^\\s]{1,}','',text)\n",
    "    text = re.sub(\"\\s?[^a-zA-Z\\d\\s:\\u0004]\",\"\",text)\n",
    "    return text"
   ]
  },
  {
   "cell_type": "code",
   "execution_count": 11,
   "id": "d21cc5b6",
   "metadata": {},
   "outputs": [],
   "source": [
    "String = preprocess_line(String)\n",
    "vocab = TaggedVocabulary(wordsWithoutTags = True)\n",
    "vocab.build_from_text(String.split())\n",
    "vocab.assignIds(shuffle=False)"
   ]
  },
  {
   "cell_type": "code",
   "execution_count": 12,
   "id": "2d7eb2c9",
   "metadata": {},
   "outputs": [],
   "source": [
    "class Co_Occurence_Capturer:\n",
    "\n",
    "    def __init__(self):\n",
    "        self.co_occurences = {}\n",
    "        \n",
    "    def _assign_entrys(self,word_ids,context_ids,dist,dynWindow):\n",
    "        if not dynWindow:\n",
    "            dist = 1.0\n",
    "        for word_id in word_ids:\n",
    "                for context_id in context_ids:\n",
    "                    tuple = (word_id,context_id)\n",
    "                    if tuple in self.co_occurences:\n",
    "                        self.co_occurences[tuple] += 1.0 / dist\n",
    "                    else:\n",
    "                        self.co_occurences[tuple] = 1.0 / dist\n",
    "\n",
    "\n",
    "    # Window lenght is one sided length\n",
    "    # The window is applied on the left and the right.\n",
    "    # A window size of 0 means, just the focus_word.\n",
    "    # Article tokens is of type list\n",
    "    def capture(self,vocab,article_tokens,window_size,dynWindow=True):\n",
    "        print(article_tokens)\n",
    "        article_ids = []\n",
    "        for token in article_tokens:\n",
    "            ids = vocab.get_ids_text(token)\n",
    "            if ids == []:\n",
    "                continue\n",
    "            article_ids.append(ids)\n",
    "    \n",
    "        for focus_position,focus_ids in enumerate(article_ids):\n",
    "            window_left = article_ids[max(0,focus_position-window_size):focus_position]\n",
    "            for position,context_ids in enumerate(window_left):\n",
    "                dist = abs(len(window_left) - position)\n",
    "                self._assign_entrys(focus_ids,context_ids,dist,dynWindow) \n",
    "        \n",
    "            window_right = article_ids[focus_position+1:focus_position+1+window_size]\n",
    "            for position,context_ids in enumerate(window_right):\n",
    "                dist = abs(1+ position)\n",
    "                self._assign_entrys(focus_ids,context_ids,dist,dynWindow)\n",
    "\n",
    "        return self.co_occurences\n",
    "    \n",
    "    def save_coocurrences(self,file_name):\n",
    "        with open(file_name, 'wb') as file:\n",
    "            cloudpickle.dump(self.co_occurences, file)\n",
    "        self.co_occurences = {}\n",
    "\n",
    "    def load_co_occurence(self,name):\n",
    "        with open(name, 'rb+') as file:\n",
    "            self.co_occurences = cloudpickle.load(file)"
   ]
  },
  {
   "cell_type": "code",
   "execution_count": 13,
   "id": "4c760d09",
   "metadata": {},
   "outputs": [
    {
     "name": "stdout",
     "output_type": "stream",
     "text": [
      "7\n"
     ]
    }
   ],
   "source": [
    "print(vocab.get_size())"
   ]
  },
  {
   "cell_type": "code",
   "execution_count": 14,
   "id": "7d328921",
   "metadata": {},
   "outputs": [
    {
     "name": "stdout",
     "output_type": "stream",
     "text": [
      "{'a': 0, 'b': 1, 'c': 2, 'd': 3, 'e': 4, 'f': 5, 'g': 6}\n"
     ]
    }
   ],
   "source": [
    "print(vocab.word2Id)"
   ]
  },
  {
   "cell_type": "code",
   "execution_count": 15,
   "id": "2edbf2aa",
   "metadata": {},
   "outputs": [
    {
     "name": "stdout",
     "output_type": "stream",
     "text": [
      "a b c d       e f g\n"
     ]
    }
   ],
   "source": [
    "#String = r\"a b c d . e, f g\"\n",
    "#print(re.sub(\"\\s?[^a-zA-Z\\d\\s:\\u0004]\",\"\",String))\n",
    "print(String)"
   ]
  },
  {
   "cell_type": "code",
   "execution_count": 16,
   "id": "4201e8e8",
   "metadata": {},
   "outputs": [
    {
     "name": "stdout",
     "output_type": "stream",
     "text": [
      "['a', 'b', 'c', 'd', 'e', 'f', 'g']\n",
      "{(0, 1): 1.0, (0, 2): 1.0, (0, 3): 1.0, (1, 0): 1.0, (1, 2): 1.0, (1, 3): 1.0, (1, 4): 1.0, (2, 0): 1.0, (2, 1): 1.0, (2, 3): 1.0, (2, 4): 1.0, (2, 5): 1.0, (3, 0): 1.0, (3, 1): 1.0, (3, 2): 1.0, (3, 4): 1.0, (3, 5): 1.0, (3, 6): 1.0, (4, 1): 1.0, (4, 2): 1.0, (4, 3): 1.0, (4, 5): 1.0, (4, 6): 1.0, (5, 2): 1.0, (5, 3): 1.0, (5, 4): 1.0, (5, 6): 1.0, (6, 3): 1.0, (6, 4): 1.0, (6, 5): 1.0}\n"
     ]
    }
   ],
   "source": [
    "co = Co_Occurence_Capturer()\n",
    "tmp = co.capture(vocab,String.split(),3,dynWindow=False)\n",
    "print(tmp)\n"
   ]
  },
  {
   "cell_type": "code",
   "execution_count": null,
   "id": "712b5e28",
   "metadata": {},
   "outputs": [],
   "source": []
  }
 ],
 "metadata": {
  "kernelspec": {
   "display_name": "Python 3 (ipykernel)",
   "language": "python",
   "name": "python3"
  },
  "language_info": {
   "codemirror_mode": {
    "name": "ipython",
    "version": 3
   },
   "file_extension": ".py",
   "mimetype": "text/x-python",
   "name": "python",
   "nbconvert_exporter": "python",
   "pygments_lexer": "ipython3",
   "version": "3.8.11"
  }
 },
 "nbformat": 4,
 "nbformat_minor": 5
}
