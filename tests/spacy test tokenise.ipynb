{
 "cells": [
  {
   "cell_type": "code",
   "execution_count": 1,
   "id": "e195d4ae",
   "metadata": {},
   "outputs": [
    {
     "name": "stdout",
     "output_type": "stream",
     "text": [
      "this is a multi-line text.... Which is in fact a test, or is it?\n",
      "this\n",
      "is\n",
      "a\n",
      "multi\n",
      "-\n",
      "line\n",
      "text\n",
      "....\n",
      "Which\n",
      "is\n",
      "in\n",
      "fact\n",
      "a\n",
      "test\n",
      ",\n",
      "or\n",
      "is\n",
      "it\n",
      "?\n"
     ]
    }
   ],
   "source": [
    "# Construction 2\n",
    "from spacy.lang.en import English\n",
    "nlp = English()\n",
    "# Create a Tokenizer with the default settings for English\n",
    "# including punctuation rules and exceptions\n",
    "tokenizer = nlp.tokenizer\n",
    "\n",
    "tokens = tokenizer('this is a multi-line text... Which is in fact a test, or is it?')\n",
    "print(tokens)\n",
    "for token in tokens:\n",
    "    print(token.text)"
   ]
  },
  {
   "cell_type": "code",
   "execution_count": null,
   "id": "622606db",
   "metadata": {},
   "outputs": [],
   "source": []
  }
 ],
 "metadata": {
  "kernelspec": {
   "display_name": "Python 3",
   "language": "python",
   "name": "python3"
  },
  "language_info": {
   "codemirror_mode": {
    "name": "ipython",
    "version": 3
   },
   "file_extension": ".py",
   "mimetype": "text/x-python",
   "name": "python",
   "nbconvert_exporter": "python",
   "pygments_lexer": "ipython3",
   "version": "3.8.10"
  }
 },
 "nbformat": 4,
 "nbformat_minor": 5
}
