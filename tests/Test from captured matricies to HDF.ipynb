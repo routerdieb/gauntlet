{
 "cells": [
  {
   "cell_type": "code",
   "execution_count": 8,
   "id": "d4255da9",
   "metadata": {},
   "outputs": [
    {
     "name": "stdout",
     "output_type": "stream",
     "text": [
      "[[11. 12. 13. 14. 15. 16. 17. 18. 19.]\n",
      " [21. 22. 23. 24. 25. 26. 27. 28. 29.]\n",
      " [31. 32. 33. 34. 35. 36. 37. 38. 39.]\n",
      " [41. 42. 43. 44. 45. 46. 47. 48. 49.]\n",
      " [51. 52. 53. 54. 55. 56. 57. 58. 59.]\n",
      " [61. 62. 63. 64. 65. 66. 67. 68. 69.]\n",
      " [71. 72. 73. 74. 75. 76. 77. 78. 79.]\n",
      " [81. 82. 83. 84. 85. 86. 87. 88. 89.]\n",
      " [91. 92. 93. 94. 95. 96. 97. 98. 99.]]\n"
     ]
    }
   ],
   "source": [
    "import numpy as np\n",
    "M = np.zeros((9,9))\n",
    "for i in range(9):\n",
    "    for j in range(9):\n",
    "        M[i,j]=(i+1) * 10+ (j+1)\n",
    "print(M)"
   ]
  },
  {
   "cell_type": "code",
   "execution_count": 9,
   "id": "5091a239",
   "metadata": {},
   "outputs": [],
   "source": [
    "def randfloat(min,max):\n",
    "    return min + np.random.random() * (max-min)\n",
    "\n",
    "blobs = 5\n",
    "coMatrices = []\n",
    "for blob_nr in range(blobs-1):\n",
    "    N = np.zeros((9,9))\n",
    "    for i in range(9):\n",
    "        for j in range(9):\n",
    "            new_entry = randfloat(0,M[i,j])\n",
    "            N[i,j] = new_entry\n",
    "            M[i,j] -= new_entry\n",
    "    coMatrices.append(N)\n",
    "#add the rest\n",
    "coMatrices.append(M)\n"
   ]
  },
  {
   "cell_type": "code",
   "execution_count": 13,
   "id": "586c6076",
   "metadata": {},
   "outputs": [
    {
     "name": "stdout",
     "output_type": "stream",
     "text": [
      "[[11. 12. 13. 14. 15. 16. 17. 18. 19.]\n",
      " [21. 22. 23. 24. 25. 26. 27. 28. 29.]\n",
      " [31. 32. 33. 34. 35. 36. 37. 38. 39.]\n",
      " [41. 42. 43. 44. 45. 46. 47. 48. 49.]\n",
      " [51. 52. 53. 54. 55. 56. 57. 58. 59.]\n",
      " [61. 62. 63. 64. 65. 66. 67. 68. 69.]\n",
      " [71. 72. 73. 74. 75. 76. 77. 78. 79.]\n",
      " [81. 82. 83. 84. 85. 86. 87. 88. 89.]\n",
      " [91. 92. 93. 94. 95. 96. 97. 98. 99.]]\n"
     ]
    }
   ],
   "source": [
    "sum_ = np.zeros((9,9))\n",
    "for matrix in coMatrices:\n",
    "    sum_ = np.add(sum_,matrix)\n",
    "print(sum_)"
   ]
  },
  {
   "cell_type": "code",
   "execution_count": null,
   "id": "b8bfdfe2",
   "metadata": {},
   "outputs": [],
   "source": []
  }
 ],
 "metadata": {
  "kernelspec": {
   "display_name": "Python 3 (ipykernel)",
   "language": "python",
   "name": "python3"
  },
  "language_info": {
   "codemirror_mode": {
    "name": "ipython",
    "version": 3
   },
   "file_extension": ".py",
   "mimetype": "text/x-python",
   "name": "python",
   "nbconvert_exporter": "python",
   "pygments_lexer": "ipython3",
   "version": "3.8.11"
  }
 },
 "nbformat": 4,
 "nbformat_minor": 5
}
