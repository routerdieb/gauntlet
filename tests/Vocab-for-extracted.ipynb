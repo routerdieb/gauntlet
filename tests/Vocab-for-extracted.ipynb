{
 "cells": [
  {
   "cell_type": "code",
   "execution_count": 2,
   "id": "bf92b33d",
   "metadata": {},
   "outputs": [],
   "source": [
    "import h5py\n",
    "import sys\n",
    "sys.path.append(\"..\")\n",
    "import os\n",
    "import nltk\n",
    "from flair.models import MultiTagger\n",
    "\n",
    "import logging\n",
    "logging.getLogger(\"flair\").setLevel(logging.WARNING)\n",
    "import spacy"
   ]
  },
  {
   "cell_type": "code",
   "execution_count": 1,
   "id": "a449170b",
   "metadata": {
    "scrolled": true
   },
   "outputs": [
    {
     "ename": "NameError",
     "evalue": "name 'os' is not defined",
     "output_type": "error",
     "traceback": [
      "\u001b[1;31m---------------------------------------------------------------------------\u001b[0m",
      "\u001b[1;31mNameError\u001b[0m                                 Traceback (most recent call last)",
      "\u001b[1;32m<ipython-input-1-8a4aaac406d8>\u001b[0m in \u001b[0;36m<module>\u001b[1;34m\u001b[0m\n\u001b[0;32m     34\u001b[0m \u001b[1;33m\u001b[0m\u001b[0m\n\u001b[0;32m     35\u001b[0m \u001b[0mpath\u001b[0m \u001b[1;33m=\u001b[0m \u001b[1;34m'S:\\data'\u001b[0m\u001b[1;33m\u001b[0m\u001b[1;33m\u001b[0m\u001b[0m\n\u001b[1;32m---> 36\u001b[1;33m \u001b[0mdir_list\u001b[0m \u001b[1;33m=\u001b[0m \u001b[0mos\u001b[0m\u001b[1;33m.\u001b[0m\u001b[0mlistdir\u001b[0m\u001b[1;33m(\u001b[0m\u001b[0mpath\u001b[0m\u001b[1;33m)\u001b[0m\u001b[1;33m\u001b[0m\u001b[1;33m\u001b[0m\u001b[0m\n\u001b[0m\u001b[0;32m     37\u001b[0m \u001b[1;33m\u001b[0m\u001b[0m\n\u001b[0;32m     38\u001b[0m \u001b[0mnumber\u001b[0m \u001b[1;33m=\u001b[0m \u001b[1;36m0\u001b[0m\u001b[1;33m\u001b[0m\u001b[1;33m\u001b[0m\u001b[0m\n",
      "\u001b[1;31mNameError\u001b[0m: name 'os' is not defined"
     ]
    }
   ],
   "source": [
    "def process(folder,file):\n",
    "    nlp = spacy.load(\"en_core_web_sm\")\n",
    "    if not os.path.exists(\"S:\\\\lem_data\\\\\"+folder):\n",
    "        os.makedirs(\"S:\\\\lem_data\\\\\"+folder)\n",
    "    if not os.path.exists(\"S:\\\\pos_data\\\\\"+folder):\n",
    "        os.makedirs('S:\\\\pos_data\\\\'+folder)\n",
    "    if not os.path.exists(\"S:\\\\ner_data\\\\\"+folder):\n",
    "        os.makedirs('S:\\\\ner_data\\\\'+folder)\n",
    "                \n",
    "    path = 'S:\\\\data\\\\'+folder+'\\\\'+file\n",
    "    pos_path = 'S:\\\\pos_data\\\\'+folder+'\\\\'+file\n",
    "    ner_path = 'S:\\\\ner_data\\\\'+folder+'\\\\'+file\n",
    "    lemmatised_path = 'S:\\\\lem_data\\\\'+folder+'\\\\'+file\n",
    "        \n",
    "    with open(path,'r',encoding='utf8') as in_file, open(pos_path,'w',encoding='utf8') as pos_file, \\\n",
    "    open(ner_path,'w',encoding='utf8') as ner_file, open(lemmatised_path,'w',encoding='utf8') as lem_file:\n",
    "        in_lines = in_file.readlines()\n",
    "        for line in in_lines:\n",
    "            if line.startswith('<doc'):\n",
    "                pos_file.write(line)\n",
    "                ner_file.write(line)\n",
    "                lem_file.write(line)\n",
    "            elif line.startswith('</doc'):\n",
    "                pos_file.write(line)\n",
    "                ner_file.write(line)\n",
    "                lem_file.write(line)\n",
    "            else:\n",
    "                doc = nlp(line)\n",
    "                for token in doc:\n",
    "                    ner_file.write(token.text + chr(4) + token.ent_type_ + \" \")\n",
    "                    pos_file.write(token.text + chr(4) + token.pos_ + \" \")\n",
    "                    lem_file.write(token.text + chr(4) + token.lemma_ + \" \")\n",
    "            \n",
    "                \n",
    "path = 'S:\\data'\n",
    "dir_list = os.listdir(path)\n",
    "\n",
    "number = 0\n",
    "for i in range(len(dir_list)):\n",
    "    if dir_list[i] == 'AP':\n",
    "        number = i\n",
    "        \n",
    "for i in range(number):\n",
    "    dir_list.pop(0)\n",
    "for directory_name in dir_list:\n",
    "    print(directory_name)\n",
    "    for file_name in os.listdir(path + \"/\" + directory_name):\n",
    "        process(directory_name,file_name)\n",
    "        "
   ]
  },
  {
   "cell_type": "code",
   "execution_count": null,
   "id": "def70ef2",
   "metadata": {},
   "outputs": [],
   "source": [
    "test"
   ]
  }
 ],
 "metadata": {
  "kernelspec": {
   "display_name": "Python 3",
   "language": "python",
   "name": "python3"
  },
  "language_info": {
   "codemirror_mode": {
    "name": "ipython",
    "version": 3
   },
   "file_extension": ".py",
   "mimetype": "text/x-python",
   "name": "python",
   "nbconvert_exporter": "python",
   "pygments_lexer": "ipython3",
   "version": "3.8.10"
  }
 },
 "nbformat": 4,
 "nbformat_minor": 5
}
