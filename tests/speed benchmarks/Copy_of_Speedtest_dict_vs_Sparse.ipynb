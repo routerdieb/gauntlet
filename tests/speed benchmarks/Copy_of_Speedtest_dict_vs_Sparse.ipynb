{
  "nbformat": 4,
  "nbformat_minor": 0,
  "metadata": {
    "colab": {
      "name": "Copy of Speedtest dict vs Sparse.ipynb",
      "provenance": [],
      "collapsed_sections": []
    },
    "kernelspec": {
      "name": "python3",
      "display_name": "Python 3"
    },
    "language_info": {
      "name": "python"
    }
  },
  "cells": [
    {
      "cell_type": "code",
      "metadata": {
        "id": "RFTH4YFKxDPq"
      },
      "source": [
        "double_dict = {}\n",
        "def double_dict_init(number):\n",
        "  for i in range(number):\n",
        "    i_dict = {}\n",
        "    double_dict[i] = i_dict\n",
        "\n",
        "def speed_test(xs,ys):\n",
        "  for x,y in zip(xs,ys):\n",
        "    if y in double_dict[x]:\n",
        "      double_dict[x][y] += 1\n",
        "    else:\n",
        "      double_dict[x][y] = 1"
      ],
      "execution_count": null,
      "outputs": []
    },
    {
      "cell_type": "code",
      "metadata": {
        "colab": {
          "base_uri": "https://localhost:8080/"
        },
        "id": "XK6P7IA2xtTg",
        "outputId": "2d0cad53-0f60-4424-b91c-4eb12f8a7687"
      },
      "source": [
        "import numpy\n",
        "xs = numpy.random.random_integers(0, high=9999, size=13000)\n",
        "ys = numpy.random.random_integers(0, high=9999, size=13000)\n",
        "double_dict_init(10000)\n",
        "print(xs)\n",
        "print(ys)"
      ],
      "execution_count": null,
      "outputs": [
        {
          "output_type": "stream",
          "name": "stdout",
          "text": [
            "[6325 2927 2599 ...  674 5684 4468]\n",
            "[2678 4668  187 ... 1098 1469 7089]\n"
          ]
        },
        {
          "output_type": "stream",
          "name": "stderr",
          "text": [
            "/usr/local/lib/python3.7/dist-packages/ipykernel_launcher.py:2: DeprecationWarning: This function is deprecated. Please call randint(0, 9999 + 1) instead\n",
            "  \n",
            "/usr/local/lib/python3.7/dist-packages/ipykernel_launcher.py:3: DeprecationWarning: This function is deprecated. Please call randint(0, 9999 + 1) instead\n",
            "  This is separate from the ipykernel package so we can avoid doing imports until\n"
          ]
        }
      ]
    },
    {
      "cell_type": "code",
      "metadata": {
        "colab": {
          "base_uri": "https://localhost:8080/"
        },
        "id": "7rvuymFjxpZj",
        "outputId": "d31d26f1-4647-482d-ab48-81aefff1176e"
      },
      "source": [
        "import time\n",
        "tic = time.perf_counter()\n",
        "speed_test(xs,ys)\n",
        "toc = time.perf_counter()\n",
        "print(f\" in {toc - tic:0.4f} seconds\")"
      ],
      "execution_count": null,
      "outputs": [
        {
          "output_type": "stream",
          "name": "stdout",
          "text": [
            " in 0.0162 seconds\n"
          ]
        }
      ]
    },
    {
      "cell_type": "code",
      "metadata": {
        "id": "eLtefYoJxnO5"
      },
      "source": [
        ""
      ],
      "execution_count": null,
      "outputs": []
    },
    {
      "cell_type": "code",
      "metadata": {
        "id": "ZosllPPyxpDH"
      },
      "source": [
        "tuples_dict = {}\n",
        "def tuple_speed_test(xs,ys):\n",
        "  for x,y in zip(xs,ys):\n",
        "    if (x,y) in tuples_dict:\n",
        "      tuples_dict[(x,y)] += 1\n",
        "    else:\n",
        "      tuples_dict[(x,y)] = 1"
      ],
      "execution_count": null,
      "outputs": []
    },
    {
      "cell_type": "code",
      "metadata": {
        "colab": {
          "base_uri": "https://localhost:8080/"
        },
        "id": "98Z9i8CB1vHY",
        "outputId": "e5484d42-b99c-47d5-e09f-dbb714f2eb5d"
      },
      "source": [
        "import time\n",
        "tic = time.perf_counter()\n",
        "tuple_speed_test(xs,ys)\n",
        "toc = time.perf_counter()\n",
        "print(f\" in {toc - tic:0.4f} seconds\")"
      ],
      "execution_count": null,
      "outputs": [
        {
          "output_type": "stream",
          "name": "stdout",
          "text": [
            " in 0.0117 seconds\n"
          ]
        }
      ]
    },
    {
      "cell_type": "code",
      "metadata": {
        "id": "xsntQ2b32lIS"
      },
      "source": [
        "from scipy.sparse import dok_matrix\n",
        "\n",
        "co_occurence = dok_matrix((10000,10000))\n",
        "def sparse_speed_test(xs,ys):\n",
        "  for x,y in zip(xs,ys):\n",
        "      co_occurence[x,y]+= 1"
      ],
      "execution_count": null,
      "outputs": []
    },
    {
      "cell_type": "code",
      "metadata": {
        "colab": {
          "base_uri": "https://localhost:8080/"
        },
        "id": "Af74MzSG3O-q",
        "outputId": "0b46ba2e-88a9-48c0-f2bc-f8884fd7c4eb"
      },
      "source": [
        "import time\n",
        "tic = time.perf_counter()\n",
        "sparse_speed_test(xs,ys)\n",
        "toc = time.perf_counter()\n",
        "print(f\" in {toc - tic:0.4f} seconds\")"
      ],
      "execution_count": null,
      "outputs": [
        {
          "output_type": "stream",
          "name": "stdout",
          "text": [
            " in 0.2536 seconds\n"
          ]
        }
      ]
    }
  ]
}