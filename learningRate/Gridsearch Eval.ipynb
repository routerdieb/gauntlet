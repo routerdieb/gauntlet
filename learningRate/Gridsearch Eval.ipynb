{
 "cells": [
  {
   "cell_type": "code",
   "execution_count": 1,
   "id": "3d7dae8f",
   "metadata": {},
   "outputs": [],
   "source": [
    "import math\n",
    "import numpy as np\n",
    "import os\n",
    "os.environ['TF_CPP_MIN_LOG_LEVEL'] = '0'\n",
    "os.environ[\"CUDA_VISIBLE_DEVICES\"] = \"-1\"    \n",
    "import tensorflow as tf\n",
    "from Vocabulary import *\n",
    "import time\n",
    "tf.keras.backend.clear_session()\n",
    "import csv"
   ]
  },
  {
   "cell_type": "code",
   "execution_count": 4,
   "id": "c8924975",
   "metadata": {},
   "outputs": [
    {
     "name": "stdout",
     "output_type": "stream",
     "text": [
      "['Adam', '0.1', '1', '6660455.0']\n"
     ]
    },
    {
     "name": "stderr",
     "output_type": "stream",
     "text": [
      "<ipython-input-4-dcc5f297f65d>:30: UserWarning: Matplotlib is currently using agg, which is a non-GUI backend, so cannot show the figure.\n",
      "  plt.show()\n"
     ]
    }
   ],
   "source": [
    "import matplotlib\n",
    "matplotlib.use('Agg')\n",
    "from matplotlib import pyplot as plt\n",
    "\n",
    "with open('GridSearch100Proper.csv','r') as gridsearch_csv:\n",
    "    csvReader = csv.reader(gridsearch_csv)\n",
    "\n",
    "    next(csvReader)\n",
    "    \n",
    "    x = []\n",
    "    y = []\n",
    "    known_optimizers = {}\n",
    "    # for every row, print the row\n",
    "    for row in csvReader:\n",
    "        name = row[0]+ ' ' + row[1]\n",
    "        if name in known_optimizers:\n",
    "            x.append(row[2])\n",
    "            y.append(row[3])\n",
    "        else:\n",
    "            if len(known_optimizers) > 0:\n",
    "                plt.plot(x,y)\n",
    "                plt.xticks(np.arange(-1,101,5))\n",
    "                \n",
    "                x = []\n",
    "                y = []\n",
    "                break\n",
    "            known_optimizers[name] = True\n",
    "            print(row)\n",
    "\n",
    "plt.show()\n",
    "plt.savefig('Gridsearch1.png')"
   ]
  },
  {
   "cell_type": "code",
   "execution_count": null,
   "id": "85418c62",
   "metadata": {},
   "outputs": [],
   "source": []
  },
  {
   "cell_type": "code",
   "execution_count": null,
   "id": "8af7b4d0",
   "metadata": {},
   "outputs": [],
   "source": []
  }
 ],
 "metadata": {
  "kernelspec": {
   "display_name": "Python 3",
   "language": "python",
   "name": "python3"
  },
  "language_info": {
   "codemirror_mode": {
    "name": "ipython",
    "version": 3
   },
   "file_extension": ".py",
   "mimetype": "text/x-python",
   "name": "python",
   "nbconvert_exporter": "python",
   "pygments_lexer": "ipython3",
   "version": "3.8.10"
  }
 },
 "nbformat": 4,
 "nbformat_minor": 5
}
